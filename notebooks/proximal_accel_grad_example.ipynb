{
 "cells": [
  {
   "cell_type": "markdown",
   "metadata": {},
   "source": [
    "# Imports / Configuration"
   ]
  },
  {
   "cell_type": "code",
   "execution_count": 29,
   "metadata": {},
   "outputs": [],
   "source": [
    "import numpy as np\n",
    "import time\n",
    "\n",
    "import sys,os\n",
    "\n",
    "data_path = os.getcwd()\n",
    "\n",
    "try:\n",
    "    import localgraphclustering as lgc\n",
    "except:\n",
    "    # when the package is not installed, import the local version instead. \n",
    "    # the notebook must be placed in the original \"notebooks/\" folder\n",
    "    sys.path.append(\"../\")\n",
    "    import localgraphclustering as lgc"
   ]
  },
  {
   "cell_type": "markdown",
   "metadata": {},
   "source": [
    "## Load dataset"
   ]
  },
  {
   "cell_type": "code",
   "execution_count": 30,
   "metadata": {},
   "outputs": [],
   "source": [
    "g = lgc.GraphLocal(os.path.join(data_path,'datasets/JohnsHopkins.graphml'),'graphml')"
   ]
  },
  {
   "cell_type": "markdown",
   "metadata": {},
   "source": [
    "## Define proximal accelerated gradient descent function"
   ]
  },
  {
   "cell_type": "code",
   "execution_count": 31,
   "metadata": {},
   "outputs": [],
   "source": [
    "def proximal_accel_gradient_descent(A, d, ref_node, rho, alpha, eps, stepsize=1.):\n",
    "    \n",
    "    # Number of nodes in the graph\n",
    "    n = d.shape[0]\n",
    "    \n",
    "    # Initialize seed vector\n",
    "    seed = np.zeros(n)\n",
    "    seed[ref_node] = 1\n",
    "    \n",
    "    # Initialized paramters\n",
    "    x = np.zeros(n)\n",
    "\n",
    "    # Initiliaze algorithm statistics\n",
    "    err = 100.\n",
    "    ite = 0\n",
    "    \n",
    "    # Another vector that we will need\n",
    "    y = x\n",
    "    \n",
    "    # Compute gradient\n",
    "    grad = ((1+alpha)/2)*(d*y)  - ((1-alpha)/2)*(A@y) - alpha * seed\n",
    "\n",
    "    # The algorithm starts here\n",
    "    while err > eps:\n",
    "        \n",
    "        # beta is a parameter for the accelerated algorithm\n",
    "        if ite == 0:\n",
    "            beta = 0\n",
    "        else:\n",
    "            beta = (1-np.sqrt(alpha)/(1+np.sqrt(alpha)))\n",
    "            \n",
    "        # Update parameters using a gradient step\n",
    "        z = y - stepsize * grad / d \n",
    "        \n",
    "        # Store old parameters\n",
    "        x_old = x\n",
    "        \n",
    "        # Update parameters using the proximal step\n",
    "        x = np.sign(z) * np.maximum(abs(z) - stepsize * rho * alpha, 0)\n",
    "                \n",
    "        # Update parameters y\n",
    "        y = x + beta*(x - x_old)\n",
    "        \n",
    "        # Compute gradient\n",
    "        grad = ((1+alpha)/2)*(d*y)  - ((1-alpha)/2)*(A@y) - alpha * seed\n",
    "    \n",
    "        # Compute termination criterion\n",
    "        err = np.linalg.norm(x_old - x, np.inf)\n",
    "        \n",
    "        # Increase iteration count\n",
    "        ite += 1\n",
    "        \n",
    "    return x"
   ]
  },
  {
   "cell_type": "markdown",
   "metadata": {},
   "source": [
    "## Run proximal accelerated gradient descent on the givne graph"
   ]
  },
  {
   "cell_type": "code",
   "execution_count": 32,
   "metadata": {},
   "outputs": [
    {
     "name": "stdout",
     "output_type": "stream",
     "text": [
      "0.051496267318725586\n"
     ]
    }
   ],
   "source": [
    "# L1-regularization parameter for the spectral problem\n",
    "rho = 8.0e-5\n",
    "# Teleportation parameter of the PageRank model\n",
    "alpha = 0.1\n",
    "# Refence node\n",
    "ref_node = 2338\n",
    "\n",
    "# Matrices and vectors that are needed by the present implementation of proximal gradient descent\n",
    "A = g.adjacency_matrix.tocsc()\n",
    "d = g.d\n",
    "\n",
    "# Stepsize for algorithm\n",
    "stepsize = 1\n",
    "# Termination tolerance\n",
    "epsilon = 1.0e-10\n",
    "\n",
    "start2 = time.time()\n",
    "x = proximal_accel_gradient_descent(A, d, ref_node, rho, alpha, epsilon, stepsize = stepsize)\n",
    "end2 = time.time()\n",
    "print(end2 - start2)"
   ]
  },
  {
   "cell_type": "markdown",
   "metadata": {},
   "source": [
    "## Print output"
   ]
  },
  {
   "cell_type": "code",
   "execution_count": 33,
   "metadata": {},
   "outputs": [
    {
     "data": {
      "text/plain": [
       "array([  65,  263,  505,  842,  857, 1139, 1320, 1380, 1412, 1516, 1756,\n",
       "       1788, 1836, 1978, 2255, 2276, 2320, 2338, 2352, 2366, 2549, 2569,\n",
       "       2846, 2932, 2981, 3084, 3326, 3392, 3428, 3583, 3641, 3891, 3929,\n",
       "       4221, 4227, 4287, 4332, 4395, 4516, 4521, 4550, 4558, 4637, 4856,\n",
       "       4866, 4879, 5004, 5031, 5032, 5127])"
      ]
     },
     "execution_count": 33,
     "metadata": {},
     "output_type": "execute_result"
    }
   ],
   "source": [
    "np.nonzero(x)[0]"
   ]
  },
  {
   "cell_type": "code",
   "execution_count": 34,
   "metadata": {},
   "outputs": [
    {
     "data": {
      "text/plain": [
       "array([1.59695610e-05, 3.41660320e-06, 6.24787392e-04, 2.35048727e-06,\n",
       "       1.47418550e-05, 2.77244067e-04, 3.71913389e-06, 9.66331410e-06,\n",
       "       3.03001487e-06, 1.19307773e-05, 4.96644110e-04, 1.56326570e-04,\n",
       "       1.06497636e-04, 3.75127530e-05, 3.53921382e-06, 1.91281042e-05,\n",
       "       2.17312065e-04, 1.04159639e-01, 4.21635591e-05, 1.90708614e-05,\n",
       "       4.26755925e-06, 1.57955281e-05, 1.97594899e-05, 4.59760906e-05,\n",
       "       2.78886037e-06, 2.80860364e-05, 3.36712595e-06, 2.04484250e-05,\n",
       "       1.27428948e-05, 1.00781713e-05, 4.13194660e-07, 3.23462303e-06,\n",
       "       1.67074871e-03, 5.63885848e-05, 3.23306566e-05, 1.17686376e-05,\n",
       "       2.77143335e-05, 2.85909339e-06, 2.96148937e-02, 2.81088954e-03,\n",
       "       4.55057868e-05, 2.63051717e-05, 3.56966266e-05, 1.76827896e-04,\n",
       "       4.72011032e-05, 5.54775131e-06, 3.39747912e-05, 4.54990569e-06,\n",
       "       6.15105050e-06, 1.37612666e-05])"
      ]
     },
     "execution_count": 34,
     "metadata": {},
     "output_type": "execute_result"
    }
   ],
   "source": [
    "x[np.nonzero(x)[0]]"
   ]
  },
  {
   "cell_type": "code",
   "execution_count": null,
   "metadata": {},
   "outputs": [],
   "source": []
  },
  {
   "cell_type": "markdown",
   "metadata": {},
   "source": [
    "## Define proximal gradient descent"
   ]
  },
  {
   "cell_type": "code",
   "execution_count": 35,
   "metadata": {},
   "outputs": [],
   "source": [
    "def proximal_gradient_descent(A, d, ref_node, rho, alpha, eps, stepsize=1.):\n",
    "    \n",
    "    # Number of nodes in the graph\n",
    "    n = d.shape[0]\n",
    "    \n",
    "    # Initialize seed vector\n",
    "    seed = np.zeros(n)\n",
    "    seed[ref_node] = 1\n",
    "    \n",
    "    # Initialized paramters\n",
    "    x = np.zeros(n)\n",
    "\n",
    "    # Initiliaze algorithm statistics\n",
    "    err = 100.\n",
    "    ite = 0\n",
    "\n",
    "    # The algorithm starts here\n",
    "    while err > eps:\n",
    "        # Store old parameters\n",
    "        x_old = x\n",
    "        # Compute gradient\n",
    "        grad = ((1+alpha)/2)*(d*x)  - ((1-alpha)/2)*(A@x) - alpha * seed\n",
    "        # Update parameters using a gradient step\n",
    "        x = x - stepsize * grad / d \n",
    "        # Update parameters using the proximal step\n",
    "        x = np.sign(x) * np.maximum(abs(x) - stepsize * rho * alpha, 0)\n",
    "        # Compute termination criterion\n",
    "        err = np.linalg.norm(x_old - x, np.inf)\n",
    "        # Increase iteration count\n",
    "        ite += 1\n",
    "        \n",
    "    return x"
   ]
  },
  {
   "cell_type": "markdown",
   "metadata": {},
   "source": [
    "## Run proximal gradient descent"
   ]
  },
  {
   "cell_type": "code",
   "execution_count": 36,
   "metadata": {},
   "outputs": [],
   "source": [
    "# L1-regularization parameter for the spectral problem\n",
    "rho = 8.0e-5\n",
    "# Teleportation parameter of the PageRank model\n",
    "alpha = 0.1\n",
    "# Refence node\n",
    "ref_node = 2338\n",
    "\n",
    "# Matrices and vectors that are needed by the present implementation of proximal gradient descent\n",
    "A = g.adjacency_matrix\n",
    "d = g.d\n",
    "\n",
    "# Stepsize for algorithm\n",
    "stepsize = 1\n",
    "# Termination tolerance\n",
    "epsilon = 1.0e-10\n",
    "\n",
    "# Call proximal gradient descent\n",
    "x = proximal_gradient_descent(A, d, ref_node, rho, alpha, epsilon, stepsize = stepsize)"
   ]
  },
  {
   "cell_type": "code",
   "execution_count": null,
   "metadata": {},
   "outputs": [],
   "source": []
  },
  {
   "cell_type": "code",
   "execution_count": 37,
   "metadata": {},
   "outputs": [
    {
     "data": {
      "text/plain": [
       "array([  65,  263,  505,  842,  857, 1139, 1320, 1380, 1412, 1516, 1756,\n",
       "       1788, 1836, 1978, 2255, 2276, 2320, 2338, 2352, 2366, 2549, 2569,\n",
       "       2846, 2932, 2981, 3084, 3326, 3392, 3428, 3583, 3641, 3891, 3929,\n",
       "       4221, 4227, 4287, 4332, 4395, 4516, 4521, 4550, 4558, 4637, 4856,\n",
       "       4866, 4879, 5004, 5031, 5032, 5127])"
      ]
     },
     "execution_count": 37,
     "metadata": {},
     "output_type": "execute_result"
    }
   ],
   "source": [
    "np.nonzero(x)[0]"
   ]
  },
  {
   "cell_type": "code",
   "execution_count": 38,
   "metadata": {},
   "outputs": [
    {
     "data": {
      "text/plain": [
       "array([1.59695609e-05, 3.41660317e-06, 6.24787394e-04, 2.35048724e-06,\n",
       "       1.47418549e-05, 2.77244067e-04, 3.71913386e-06, 9.66331406e-06,\n",
       "       3.03001484e-06, 1.19307773e-05, 4.96644114e-04, 1.56326570e-04,\n",
       "       1.06497636e-04, 3.75127529e-05, 3.53921387e-06, 1.91281042e-05,\n",
       "       2.17312065e-04, 1.04159639e-01, 4.21635590e-05, 1.90708614e-05,\n",
       "       4.26755922e-06, 1.57955281e-05, 1.97594899e-05, 4.59760905e-05,\n",
       "       2.78886035e-06, 2.80860363e-05, 3.36712593e-06, 2.04484250e-05,\n",
       "       1.27428947e-05, 1.00781713e-05, 4.13194636e-07, 3.23462294e-06,\n",
       "       1.67074871e-03, 5.63885847e-05, 3.23306565e-05, 1.17686376e-05,\n",
       "       2.77143335e-05, 2.85909337e-06, 2.96148937e-02, 2.81088954e-03,\n",
       "       4.55057867e-05, 2.63051715e-05, 3.56966265e-05, 1.76827896e-04,\n",
       "       4.72011031e-05, 5.54775128e-06, 3.39747911e-05, 4.54990567e-06,\n",
       "       6.15105047e-06, 1.37612666e-05])"
      ]
     },
     "execution_count": 38,
     "metadata": {},
     "output_type": "execute_result"
    }
   ],
   "source": [
    "x[np.nonzero(x)[0]]"
   ]
  },
  {
   "cell_type": "code",
   "execution_count": null,
   "metadata": {},
   "outputs": [],
   "source": []
  },
  {
   "cell_type": "code",
   "execution_count": null,
   "metadata": {},
   "outputs": [],
   "source": []
  },
  {
   "cell_type": "code",
   "execution_count": null,
   "metadata": {},
   "outputs": [],
   "source": []
  },
  {
   "cell_type": "code",
   "execution_count": null,
   "metadata": {},
   "outputs": [],
   "source": []
  },
  {
   "cell_type": "code",
   "execution_count": null,
   "metadata": {},
   "outputs": [],
   "source": []
  },
  {
   "cell_type": "code",
   "execution_count": null,
   "metadata": {},
   "outputs": [],
   "source": []
  },
  {
   "cell_type": "code",
   "execution_count": null,
   "metadata": {},
   "outputs": [],
   "source": []
  },
  {
   "cell_type": "code",
   "execution_count": null,
   "metadata": {},
   "outputs": [],
   "source": []
  },
  {
   "cell_type": "code",
   "execution_count": null,
   "metadata": {},
   "outputs": [],
   "source": []
  },
  {
   "cell_type": "code",
   "execution_count": null,
   "metadata": {},
   "outputs": [],
   "source": []
  },
  {
   "cell_type": "code",
   "execution_count": null,
   "metadata": {},
   "outputs": [],
   "source": []
  },
  {
   "cell_type": "code",
   "execution_count": null,
   "metadata": {},
   "outputs": [],
   "source": []
  },
  {
   "cell_type": "code",
   "execution_count": null,
   "metadata": {},
   "outputs": [],
   "source": []
  },
  {
   "cell_type": "code",
   "execution_count": null,
   "metadata": {
    "scrolled": true
   },
   "outputs": [],
   "source": []
  },
  {
   "cell_type": "code",
   "execution_count": null,
   "metadata": {},
   "outputs": [],
   "source": []
  },
  {
   "cell_type": "code",
   "execution_count": null,
   "metadata": {},
   "outputs": [],
   "source": []
  },
  {
   "cell_type": "code",
   "execution_count": null,
   "metadata": {},
   "outputs": [],
   "source": []
  },
  {
   "cell_type": "code",
   "execution_count": null,
   "metadata": {
    "scrolled": false
   },
   "outputs": [],
   "source": []
  },
  {
   "cell_type": "code",
   "execution_count": null,
   "metadata": {},
   "outputs": [],
   "source": []
  },
  {
   "cell_type": "code",
   "execution_count": null,
   "metadata": {},
   "outputs": [],
   "source": []
  },
  {
   "cell_type": "code",
   "execution_count": null,
   "metadata": {},
   "outputs": [],
   "source": []
  },
  {
   "cell_type": "code",
   "execution_count": null,
   "metadata": {},
   "outputs": [],
   "source": []
  },
  {
   "cell_type": "code",
   "execution_count": null,
   "metadata": {},
   "outputs": [],
   "source": []
  },
  {
   "cell_type": "code",
   "execution_count": null,
   "metadata": {},
   "outputs": [],
   "source": []
  },
  {
   "cell_type": "code",
   "execution_count": null,
   "metadata": {},
   "outputs": [],
   "source": []
  },
  {
   "cell_type": "code",
   "execution_count": null,
   "metadata": {},
   "outputs": [],
   "source": []
  },
  {
   "cell_type": "code",
   "execution_count": null,
   "metadata": {},
   "outputs": [],
   "source": []
  },
  {
   "cell_type": "code",
   "execution_count": null,
   "metadata": {},
   "outputs": [],
   "source": []
  },
  {
   "cell_type": "code",
   "execution_count": null,
   "metadata": {},
   "outputs": [],
   "source": []
  },
  {
   "cell_type": "code",
   "execution_count": null,
   "metadata": {},
   "outputs": [],
   "source": []
  },
  {
   "cell_type": "code",
   "execution_count": null,
   "metadata": {},
   "outputs": [],
   "source": []
  },
  {
   "cell_type": "code",
   "execution_count": null,
   "metadata": {},
   "outputs": [],
   "source": []
  },
  {
   "cell_type": "code",
   "execution_count": null,
   "metadata": {},
   "outputs": [],
   "source": []
  },
  {
   "cell_type": "code",
   "execution_count": null,
   "metadata": {},
   "outputs": [],
   "source": []
  },
  {
   "cell_type": "code",
   "execution_count": null,
   "metadata": {},
   "outputs": [],
   "source": []
  },
  {
   "cell_type": "code",
   "execution_count": null,
   "metadata": {},
   "outputs": [],
   "source": []
  },
  {
   "cell_type": "code",
   "execution_count": null,
   "metadata": {},
   "outputs": [],
   "source": []
  },
  {
   "cell_type": "code",
   "execution_count": null,
   "metadata": {},
   "outputs": [],
   "source": []
  },
  {
   "cell_type": "code",
   "execution_count": null,
   "metadata": {},
   "outputs": [],
   "source": []
  },
  {
   "cell_type": "code",
   "execution_count": null,
   "metadata": {},
   "outputs": [],
   "source": []
  },
  {
   "cell_type": "code",
   "execution_count": null,
   "metadata": {},
   "outputs": [],
   "source": []
  },
  {
   "cell_type": "code",
   "execution_count": null,
   "metadata": {},
   "outputs": [],
   "source": []
  },
  {
   "cell_type": "code",
   "execution_count": null,
   "metadata": {},
   "outputs": [],
   "source": []
  },
  {
   "cell_type": "code",
   "execution_count": null,
   "metadata": {},
   "outputs": [],
   "source": []
  },
  {
   "cell_type": "code",
   "execution_count": null,
   "metadata": {},
   "outputs": [],
   "source": []
  },
  {
   "cell_type": "code",
   "execution_count": null,
   "metadata": {},
   "outputs": [],
   "source": []
  },
  {
   "cell_type": "code",
   "execution_count": null,
   "metadata": {},
   "outputs": [],
   "source": []
  },
  {
   "cell_type": "code",
   "execution_count": null,
   "metadata": {},
   "outputs": [],
   "source": []
  },
  {
   "cell_type": "code",
   "execution_count": null,
   "metadata": {},
   "outputs": [],
   "source": []
  },
  {
   "cell_type": "code",
   "execution_count": null,
   "metadata": {},
   "outputs": [],
   "source": []
  },
  {
   "cell_type": "code",
   "execution_count": null,
   "metadata": {},
   "outputs": [],
   "source": []
  },
  {
   "cell_type": "code",
   "execution_count": null,
   "metadata": {},
   "outputs": [],
   "source": []
  },
  {
   "cell_type": "code",
   "execution_count": null,
   "metadata": {},
   "outputs": [],
   "source": []
  },
  {
   "cell_type": "code",
   "execution_count": null,
   "metadata": {},
   "outputs": [],
   "source": []
  },
  {
   "cell_type": "code",
   "execution_count": null,
   "metadata": {},
   "outputs": [],
   "source": []
  },
  {
   "cell_type": "code",
   "execution_count": null,
   "metadata": {},
   "outputs": [],
   "source": []
  },
  {
   "cell_type": "code",
   "execution_count": null,
   "metadata": {},
   "outputs": [],
   "source": []
  },
  {
   "cell_type": "code",
   "execution_count": null,
   "metadata": {},
   "outputs": [],
   "source": []
  },
  {
   "cell_type": "code",
   "execution_count": null,
   "metadata": {},
   "outputs": [],
   "source": []
  },
  {
   "cell_type": "code",
   "execution_count": null,
   "metadata": {},
   "outputs": [],
   "source": []
  },
  {
   "cell_type": "code",
   "execution_count": null,
   "metadata": {},
   "outputs": [],
   "source": []
  },
  {
   "cell_type": "code",
   "execution_count": null,
   "metadata": {},
   "outputs": [],
   "source": []
  },
  {
   "cell_type": "code",
   "execution_count": null,
   "metadata": {},
   "outputs": [],
   "source": []
  },
  {
   "cell_type": "code",
   "execution_count": null,
   "metadata": {},
   "outputs": [],
   "source": []
  },
  {
   "cell_type": "code",
   "execution_count": null,
   "metadata": {},
   "outputs": [],
   "source": []
  },
  {
   "cell_type": "code",
   "execution_count": null,
   "metadata": {},
   "outputs": [],
   "source": []
  },
  {
   "cell_type": "code",
   "execution_count": null,
   "metadata": {},
   "outputs": [],
   "source": []
  },
  {
   "cell_type": "code",
   "execution_count": null,
   "metadata": {},
   "outputs": [],
   "source": []
  },
  {
   "cell_type": "code",
   "execution_count": null,
   "metadata": {},
   "outputs": [],
   "source": []
  },
  {
   "cell_type": "code",
   "execution_count": null,
   "metadata": {},
   "outputs": [],
   "source": []
  },
  {
   "cell_type": "code",
   "execution_count": null,
   "metadata": {},
   "outputs": [],
   "source": []
  },
  {
   "cell_type": "code",
   "execution_count": null,
   "metadata": {},
   "outputs": [],
   "source": []
  },
  {
   "cell_type": "code",
   "execution_count": null,
   "metadata": {},
   "outputs": [],
   "source": []
  },
  {
   "cell_type": "code",
   "execution_count": null,
   "metadata": {},
   "outputs": [],
   "source": []
  },
  {
   "cell_type": "code",
   "execution_count": null,
   "metadata": {},
   "outputs": [],
   "source": []
  },
  {
   "cell_type": "code",
   "execution_count": null,
   "metadata": {},
   "outputs": [],
   "source": []
  },
  {
   "cell_type": "code",
   "execution_count": null,
   "metadata": {},
   "outputs": [],
   "source": []
  },
  {
   "cell_type": "code",
   "execution_count": null,
   "metadata": {},
   "outputs": [],
   "source": []
  },
  {
   "cell_type": "code",
   "execution_count": null,
   "metadata": {},
   "outputs": [],
   "source": []
  },
  {
   "cell_type": "code",
   "execution_count": null,
   "metadata": {},
   "outputs": [],
   "source": []
  },
  {
   "cell_type": "code",
   "execution_count": null,
   "metadata": {},
   "outputs": [],
   "source": []
  },
  {
   "cell_type": "code",
   "execution_count": null,
   "metadata": {},
   "outputs": [],
   "source": []
  },
  {
   "cell_type": "code",
   "execution_count": null,
   "metadata": {},
   "outputs": [],
   "source": []
  }
 ],
 "metadata": {
  "kernelspec": {
   "display_name": "Python 3",
   "language": "python",
   "name": "python3"
  },
  "language_info": {
   "codemirror_mode": {
    "name": "ipython",
    "version": 3
   },
   "file_extension": ".py",
   "mimetype": "text/x-python",
   "name": "python",
   "nbconvert_exporter": "python",
   "pygments_lexer": "ipython3",
   "version": "3.7.3"
  }
 },
 "nbformat": 4,
 "nbformat_minor": 2
}
