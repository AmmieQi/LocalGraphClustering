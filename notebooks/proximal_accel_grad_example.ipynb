{
 "cells": [
  {
   "cell_type": "markdown",
   "metadata": {},
   "source": [
    "# Imports / Configuration"
   ]
  },
  {
   "cell_type": "code",
   "execution_count": 60,
   "metadata": {},
   "outputs": [],
   "source": [
    "import numpy as np\n",
    "import time\n",
    "\n",
    "import sys,os\n",
    "\n",
    "data_path = os.getcwd()\n",
    "\n",
    "try:\n",
    "    import localgraphclustering as lgc\n",
    "except:\n",
    "    # when the package is not installed, import the local version instead. \n",
    "    # the notebook must be placed in the original \"notebooks/\" folder\n",
    "    sys.path.append(\"../\")\n",
    "    import localgraphclustering as lgc"
   ]
  },
  {
   "cell_type": "markdown",
   "metadata": {},
   "source": [
    "## Load dataset"
   ]
  },
  {
   "cell_type": "code",
   "execution_count": 70,
   "metadata": {},
   "outputs": [],
   "source": [
    "g = lgc.GraphLocal(os.path.join(data_path,'datasets/ppi_mips.graphml'),'graphml')"
   ]
  },
  {
   "cell_type": "markdown",
   "metadata": {},
   "source": [
    "## Define proximal accelerated gradient descent function"
   ]
  },
  {
   "cell_type": "code",
   "execution_count": 71,
   "metadata": {},
   "outputs": [],
   "source": [
    "def proximal_accel_gradient_descent(A, d, ref_node, rho, alpha, eps, stepsize=1.):\n",
    "    \n",
    "    # Number of nodes in the graph\n",
    "    n = d.shape[0]\n",
    "    \n",
    "    # Initialize seed vector\n",
    "    seed = np.zeros(n)\n",
    "    seed[ref_node] = 1\n",
    "    \n",
    "    # Initialized paramters\n",
    "    x = np.zeros(n)\n",
    "\n",
    "    # Initiliaze algorithm statistics\n",
    "    err = 100.\n",
    "    ite = 0\n",
    "    \n",
    "    # Another vector that we will need\n",
    "    y = x\n",
    "    \n",
    "    # Compute gradient\n",
    "    grad = ((1+alpha)/2)*(d*y)  - ((1-alpha)/2)*(A@y) - alpha * seed\n",
    "\n",
    "    # The algorithm starts here\n",
    "    while err > eps:\n",
    "        \n",
    "        # beta is a parameter for the accelerated algorithm\n",
    "        if ite == 0:\n",
    "            beta = 0\n",
    "        else:\n",
    "            beta = (1-np.sqrt(alpha)/(1+np.sqrt(alpha)))\n",
    "            \n",
    "        # Update parameters using a gradient step\n",
    "        z = y - stepsize * grad / d \n",
    "        \n",
    "        # Store old parameters\n",
    "        x_old = x\n",
    "        \n",
    "        # Update parameters using the proximal step\n",
    "        x = np.sign(z) * np.maximum(abs(z) - stepsize * rho * alpha, 0)\n",
    "                \n",
    "        # Update parameters y\n",
    "        y = x + beta*(x - x_old)\n",
    "        \n",
    "        # Compute gradient\n",
    "        grad = ((1+alpha)/2)*(d*y)  - ((1-alpha)/2)*(A@y) - alpha * seed\n",
    "    \n",
    "        # Compute termination criterion\n",
    "        err = np.linalg.norm(x_old - x, np.inf)\n",
    "        \n",
    "        # Increase iteration count\n",
    "        ite += 1\n",
    "        \n",
    "    return x"
   ]
  },
  {
   "cell_type": "markdown",
   "metadata": {},
   "source": [
    "## Run proximal accelerated gradient descent on the givne graph"
   ]
  },
  {
   "cell_type": "code",
   "execution_count": 72,
   "metadata": {},
   "outputs": [
    {
     "name": "stdout",
     "output_type": "stream",
     "text": [
      "0.0026030540466308594\n"
     ]
    }
   ],
   "source": [
    "# L1-regularization parameter for the spectral problem\n",
    "rho = 8.0e-5\n",
    "# Teleportation parameter of the PageRank model\n",
    "alpha = 0.1\n",
    "# Refence node\n",
    "ref_node = 1\n",
    "\n",
    "# Matrices and vectors that are needed by the present implementation of proximal gradient descent\n",
    "A = g.adjacency_matrix.tocsc()\n",
    "d = g.d\n",
    "\n",
    "# Stepsize for algorithm\n",
    "stepsize = 2/(1+alpha)\n",
    "# Termination tolerance\n",
    "epsilon = 1.0e-10\n",
    "\n",
    "start2 = time.time()\n",
    "x = proximal_accel_gradient_descent(A, d, ref_node, rho, alpha, epsilon, stepsize = stepsize)\n",
    "end2 = time.time()\n",
    "print(end2 - start2)"
   ]
  },
  {
   "cell_type": "markdown",
   "metadata": {},
   "source": [
    "## Print output"
   ]
  },
  {
   "cell_type": "code",
   "execution_count": 73,
   "metadata": {},
   "outputs": [
    {
     "data": {
      "text/plain": [
       "array([ 1,  7,  8,  9, 10, 11, 12, 13, 14, 15, 16, 17, 18, 19, 20, 21, 22,\n",
       "       23, 24, 25, 26, 27, 28, 29, 30, 31, 32, 33, 34, 35, 36, 37, 38, 39,\n",
       "       40, 41, 42, 43, 44, 45, 46, 47, 48, 49, 50, 51, 52, 53, 54, 55, 56,\n",
       "       57])"
      ]
     },
     "execution_count": 73,
     "metadata": {},
     "output_type": "execute_result"
    }
   ],
   "source": [
    "np.nonzero(x)[0]"
   ]
  },
  {
   "cell_type": "code",
   "execution_count": 74,
   "metadata": {},
   "outputs": [
    {
     "data": {
      "text/plain": [
       "array([1.62538022e-03, 1.50361708e-08, 1.52635292e-07, 2.92859895e-07,\n",
       "       4.35785847e-07, 5.81491968e-07, 7.30060173e-07, 8.81575627e-07,\n",
       "       1.03612691e-06, 1.19380619e-06, 1.35470939e-06, 1.51893641e-06,\n",
       "       1.68659132e-06, 1.85778257e-06, 2.03262325e-06, 2.21123131e-06,\n",
       "       2.39372985e-06, 2.58024736e-06, 2.77091811e-06, 2.96588235e-06,\n",
       "       3.16528678e-06, 3.36928482e-06, 3.57803704e-06, 3.79171161e-06,\n",
       "       4.01048471e-06, 4.23454102e-06, 4.46407426e-06, 4.69928774e-06,\n",
       "       4.94039495e-06, 5.18762022e-06, 5.44119940e-06, 5.70138065e-06,\n",
       "       5.96842519e-06, 6.24260823e-06, 6.52421986e-06, 6.81356615e-06,\n",
       "       7.11097018e-06, 7.41677329e-06, 7.73133639e-06, 8.05504135e-06,\n",
       "       8.38829256e-06, 8.73151864e-06, 9.08517424e-06, 9.44974207e-06,\n",
       "       9.82573510e-06, 1.02136990e-05, 1.06142146e-05, 1.10279011e-05,\n",
       "       1.14554191e-05, 1.18974741e-05, 1.23548202e-05, 1.28282649e-05])"
      ]
     },
     "execution_count": 74,
     "metadata": {},
     "output_type": "execute_result"
    }
   ],
   "source": [
    "x[np.nonzero(x)[0]]"
   ]
  },
  {
   "cell_type": "code",
   "execution_count": null,
   "metadata": {},
   "outputs": [],
   "source": []
  },
  {
   "cell_type": "markdown",
   "metadata": {},
   "source": [
    "## Define proximal gradient descent"
   ]
  },
  {
   "cell_type": "code",
   "execution_count": 75,
   "metadata": {},
   "outputs": [],
   "source": [
    "def proximal_gradient_descent(A, d, ref_node, rho, alpha, eps, stepsize=1.):\n",
    "    \n",
    "    # Number of nodes in the graph\n",
    "    n = d.shape[0]\n",
    "    \n",
    "    # Initialize seed vector\n",
    "    seed = np.zeros(n)\n",
    "    seed[ref_node] = 1\n",
    "    \n",
    "    # Initialized paramters\n",
    "    x = np.zeros(n)\n",
    "\n",
    "    # Initiliaze algorithm statistics\n",
    "    err = 100.\n",
    "    ite = 0\n",
    "\n",
    "    # The algorithm starts here\n",
    "    while err > eps:\n",
    "        # Store old parameters\n",
    "        x_old = x\n",
    "        # Compute gradient\n",
    "        grad = ((1+alpha)/2)*(d*x)  - ((1-alpha)/2)*(A@x) - alpha * seed\n",
    "        # Update parameters using a gradient step\n",
    "        x = x - stepsize * grad / d \n",
    "        # Update parameters using the proximal step\n",
    "        x = np.sign(x) * np.maximum(abs(x) - stepsize * rho * alpha, 0)\n",
    "        # Compute termination criterion\n",
    "        err = np.linalg.norm(x_old - x, np.inf)\n",
    "        # Increase iteration count\n",
    "        ite += 1\n",
    "        \n",
    "    return x"
   ]
  },
  {
   "cell_type": "markdown",
   "metadata": {},
   "source": [
    "## Run proximal gradient descent"
   ]
  },
  {
   "cell_type": "code",
   "execution_count": 76,
   "metadata": {},
   "outputs": [],
   "source": [
    "# L1-regularization parameter for the spectral problem\n",
    "rho = 8.0e-5\n",
    "# Teleportation parameter of the PageRank model\n",
    "alpha = 0.1\n",
    "# Refence node\n",
    "ref_node = 1\n",
    "\n",
    "# Matrices and vectors that are needed by the present implementation of proximal gradient descent\n",
    "A = g.adjacency_matrix\n",
    "d = g.d\n",
    "\n",
    "# Stepsize for algorithm\n",
    "stepsize = 2/(1+alpha)\n",
    "# Termination tolerance\n",
    "epsilon = 1.0e-10\n",
    "\n",
    "# Call proximal gradient descent\n",
    "x = proximal_gradient_descent(A, d, ref_node, rho, alpha, epsilon, stepsize = stepsize)"
   ]
  },
  {
   "cell_type": "code",
   "execution_count": null,
   "metadata": {},
   "outputs": [],
   "source": []
  },
  {
   "cell_type": "code",
   "execution_count": 77,
   "metadata": {},
   "outputs": [
    {
     "data": {
      "text/plain": [
       "array([ 1,  7,  8,  9, 10, 11, 12, 13, 14, 15, 16, 17, 18, 19, 20, 21, 22,\n",
       "       23, 24, 25, 26, 27, 28, 29, 30, 31, 32, 33, 34, 35, 36, 37, 38, 39,\n",
       "       40, 41, 42, 43, 44, 45, 46, 47, 48, 49, 50, 51, 52, 53, 54, 55, 56,\n",
       "       57])"
      ]
     },
     "execution_count": 77,
     "metadata": {},
     "output_type": "execute_result"
    }
   ],
   "source": [
    "np.nonzero(x)[0]"
   ]
  },
  {
   "cell_type": "code",
   "execution_count": 78,
   "metadata": {},
   "outputs": [
    {
     "data": {
      "text/plain": [
       "array([1.62537990e-03, 1.47025224e-08, 1.52298512e-07, 2.92519924e-07,\n",
       "       4.35442625e-07, 5.81145430e-07, 7.29710256e-07, 8.81222265e-07,\n",
       "       1.03577003e-06, 1.19344572e-06, 1.35434527e-06, 1.51856856e-06,\n",
       "       1.68621966e-06, 1.85740702e-06, 2.03224373e-06, 2.21084773e-06,\n",
       "       2.39334212e-06, 2.57985540e-06, 2.77052181e-06, 2.96548164e-06,\n",
       "       3.16488154e-06, 3.36887494e-06, 3.57762243e-06, 3.79129216e-06,\n",
       "       4.01006029e-06, 4.23411152e-06, 4.46363956e-06, 4.69884771e-06,\n",
       "       4.93994945e-06, 5.18716912e-06, 5.44074257e-06, 5.70091792e-06,\n",
       "       5.96795642e-06, 6.24213325e-06, 6.52373851e-06, 6.81307825e-06,\n",
       "       7.11047556e-06, 7.41627176e-06, 7.73082775e-06, 8.05452539e-06,\n",
       "       8.38776908e-06, 8.73098740e-06, 9.08463502e-06, 9.44919462e-06,\n",
       "       9.82517917e-06, 1.02131343e-05, 1.06136409e-05, 1.10273181e-05,\n",
       "       1.14548265e-05, 1.18968715e-05, 1.23542073e-05, 1.28276414e-05])"
      ]
     },
     "execution_count": 78,
     "metadata": {},
     "output_type": "execute_result"
    }
   ],
   "source": [
    "x[np.nonzero(x)[0]]"
   ]
  },
  {
   "cell_type": "code",
   "execution_count": null,
   "metadata": {},
   "outputs": [],
   "source": []
  },
  {
   "cell_type": "code",
   "execution_count": null,
   "metadata": {},
   "outputs": [],
   "source": []
  },
  {
   "cell_type": "code",
   "execution_count": null,
   "metadata": {},
   "outputs": [],
   "source": []
  },
  {
   "cell_type": "code",
   "execution_count": null,
   "metadata": {},
   "outputs": [],
   "source": []
  },
  {
   "cell_type": "code",
   "execution_count": null,
   "metadata": {},
   "outputs": [],
   "source": []
  },
  {
   "cell_type": "code",
   "execution_count": null,
   "metadata": {},
   "outputs": [],
   "source": []
  },
  {
   "cell_type": "code",
   "execution_count": null,
   "metadata": {},
   "outputs": [],
   "source": []
  },
  {
   "cell_type": "code",
   "execution_count": null,
   "metadata": {},
   "outputs": [],
   "source": []
  },
  {
   "cell_type": "code",
   "execution_count": null,
   "metadata": {},
   "outputs": [],
   "source": []
  },
  {
   "cell_type": "code",
   "execution_count": null,
   "metadata": {},
   "outputs": [],
   "source": []
  },
  {
   "cell_type": "code",
   "execution_count": null,
   "metadata": {},
   "outputs": [],
   "source": []
  },
  {
   "cell_type": "code",
   "execution_count": null,
   "metadata": {},
   "outputs": [],
   "source": []
  },
  {
   "cell_type": "code",
   "execution_count": null,
   "metadata": {},
   "outputs": [],
   "source": []
  },
  {
   "cell_type": "code",
   "execution_count": null,
   "metadata": {
    "scrolled": true
   },
   "outputs": [],
   "source": []
  },
  {
   "cell_type": "code",
   "execution_count": null,
   "metadata": {},
   "outputs": [],
   "source": []
  },
  {
   "cell_type": "code",
   "execution_count": null,
   "metadata": {},
   "outputs": [],
   "source": []
  },
  {
   "cell_type": "code",
   "execution_count": null,
   "metadata": {},
   "outputs": [],
   "source": []
  },
  {
   "cell_type": "code",
   "execution_count": null,
   "metadata": {
    "scrolled": false
   },
   "outputs": [],
   "source": []
  },
  {
   "cell_type": "code",
   "execution_count": null,
   "metadata": {},
   "outputs": [],
   "source": []
  },
  {
   "cell_type": "code",
   "execution_count": null,
   "metadata": {},
   "outputs": [],
   "source": []
  },
  {
   "cell_type": "code",
   "execution_count": null,
   "metadata": {},
   "outputs": [],
   "source": []
  },
  {
   "cell_type": "code",
   "execution_count": null,
   "metadata": {},
   "outputs": [],
   "source": []
  },
  {
   "cell_type": "code",
   "execution_count": null,
   "metadata": {},
   "outputs": [],
   "source": []
  },
  {
   "cell_type": "code",
   "execution_count": null,
   "metadata": {},
   "outputs": [],
   "source": []
  },
  {
   "cell_type": "code",
   "execution_count": null,
   "metadata": {},
   "outputs": [],
   "source": []
  },
  {
   "cell_type": "code",
   "execution_count": null,
   "metadata": {},
   "outputs": [],
   "source": []
  },
  {
   "cell_type": "code",
   "execution_count": null,
   "metadata": {},
   "outputs": [],
   "source": []
  },
  {
   "cell_type": "code",
   "execution_count": null,
   "metadata": {},
   "outputs": [],
   "source": []
  },
  {
   "cell_type": "code",
   "execution_count": null,
   "metadata": {},
   "outputs": [],
   "source": []
  },
  {
   "cell_type": "code",
   "execution_count": null,
   "metadata": {},
   "outputs": [],
   "source": []
  },
  {
   "cell_type": "code",
   "execution_count": null,
   "metadata": {},
   "outputs": [],
   "source": []
  },
  {
   "cell_type": "code",
   "execution_count": null,
   "metadata": {},
   "outputs": [],
   "source": []
  },
  {
   "cell_type": "code",
   "execution_count": null,
   "metadata": {},
   "outputs": [],
   "source": []
  },
  {
   "cell_type": "code",
   "execution_count": null,
   "metadata": {},
   "outputs": [],
   "source": []
  },
  {
   "cell_type": "code",
   "execution_count": null,
   "metadata": {},
   "outputs": [],
   "source": []
  },
  {
   "cell_type": "code",
   "execution_count": null,
   "metadata": {},
   "outputs": [],
   "source": []
  },
  {
   "cell_type": "code",
   "execution_count": null,
   "metadata": {},
   "outputs": [],
   "source": []
  },
  {
   "cell_type": "code",
   "execution_count": null,
   "metadata": {},
   "outputs": [],
   "source": []
  },
  {
   "cell_type": "code",
   "execution_count": null,
   "metadata": {},
   "outputs": [],
   "source": []
  },
  {
   "cell_type": "code",
   "execution_count": null,
   "metadata": {},
   "outputs": [],
   "source": []
  },
  {
   "cell_type": "code",
   "execution_count": null,
   "metadata": {},
   "outputs": [],
   "source": []
  },
  {
   "cell_type": "code",
   "execution_count": null,
   "metadata": {},
   "outputs": [],
   "source": []
  },
  {
   "cell_type": "code",
   "execution_count": null,
   "metadata": {},
   "outputs": [],
   "source": []
  },
  {
   "cell_type": "code",
   "execution_count": null,
   "metadata": {},
   "outputs": [],
   "source": []
  },
  {
   "cell_type": "code",
   "execution_count": null,
   "metadata": {},
   "outputs": [],
   "source": []
  },
  {
   "cell_type": "code",
   "execution_count": null,
   "metadata": {},
   "outputs": [],
   "source": []
  },
  {
   "cell_type": "code",
   "execution_count": null,
   "metadata": {},
   "outputs": [],
   "source": []
  },
  {
   "cell_type": "code",
   "execution_count": null,
   "metadata": {},
   "outputs": [],
   "source": []
  },
  {
   "cell_type": "code",
   "execution_count": null,
   "metadata": {},
   "outputs": [],
   "source": []
  },
  {
   "cell_type": "code",
   "execution_count": null,
   "metadata": {},
   "outputs": [],
   "source": []
  },
  {
   "cell_type": "code",
   "execution_count": null,
   "metadata": {},
   "outputs": [],
   "source": []
  },
  {
   "cell_type": "code",
   "execution_count": null,
   "metadata": {},
   "outputs": [],
   "source": []
  },
  {
   "cell_type": "code",
   "execution_count": null,
   "metadata": {},
   "outputs": [],
   "source": []
  },
  {
   "cell_type": "code",
   "execution_count": null,
   "metadata": {},
   "outputs": [],
   "source": []
  },
  {
   "cell_type": "code",
   "execution_count": null,
   "metadata": {},
   "outputs": [],
   "source": []
  },
  {
   "cell_type": "code",
   "execution_count": null,
   "metadata": {},
   "outputs": [],
   "source": []
  },
  {
   "cell_type": "code",
   "execution_count": null,
   "metadata": {},
   "outputs": [],
   "source": []
  },
  {
   "cell_type": "code",
   "execution_count": null,
   "metadata": {},
   "outputs": [],
   "source": []
  },
  {
   "cell_type": "code",
   "execution_count": null,
   "metadata": {},
   "outputs": [],
   "source": []
  },
  {
   "cell_type": "code",
   "execution_count": null,
   "metadata": {},
   "outputs": [],
   "source": []
  },
  {
   "cell_type": "code",
   "execution_count": null,
   "metadata": {},
   "outputs": [],
   "source": []
  },
  {
   "cell_type": "code",
   "execution_count": null,
   "metadata": {},
   "outputs": [],
   "source": []
  },
  {
   "cell_type": "code",
   "execution_count": null,
   "metadata": {},
   "outputs": [],
   "source": []
  },
  {
   "cell_type": "code",
   "execution_count": null,
   "metadata": {},
   "outputs": [],
   "source": []
  },
  {
   "cell_type": "code",
   "execution_count": null,
   "metadata": {},
   "outputs": [],
   "source": []
  },
  {
   "cell_type": "code",
   "execution_count": null,
   "metadata": {},
   "outputs": [],
   "source": []
  },
  {
   "cell_type": "code",
   "execution_count": null,
   "metadata": {},
   "outputs": [],
   "source": []
  },
  {
   "cell_type": "code",
   "execution_count": null,
   "metadata": {},
   "outputs": [],
   "source": []
  },
  {
   "cell_type": "code",
   "execution_count": null,
   "metadata": {},
   "outputs": [],
   "source": []
  },
  {
   "cell_type": "code",
   "execution_count": null,
   "metadata": {},
   "outputs": [],
   "source": []
  },
  {
   "cell_type": "code",
   "execution_count": null,
   "metadata": {},
   "outputs": [],
   "source": []
  },
  {
   "cell_type": "code",
   "execution_count": null,
   "metadata": {},
   "outputs": [],
   "source": []
  },
  {
   "cell_type": "code",
   "execution_count": null,
   "metadata": {},
   "outputs": [],
   "source": []
  },
  {
   "cell_type": "code",
   "execution_count": null,
   "metadata": {},
   "outputs": [],
   "source": []
  },
  {
   "cell_type": "code",
   "execution_count": null,
   "metadata": {},
   "outputs": [],
   "source": []
  },
  {
   "cell_type": "code",
   "execution_count": null,
   "metadata": {},
   "outputs": [],
   "source": []
  },
  {
   "cell_type": "code",
   "execution_count": null,
   "metadata": {},
   "outputs": [],
   "source": []
  },
  {
   "cell_type": "code",
   "execution_count": null,
   "metadata": {},
   "outputs": [],
   "source": []
  },
  {
   "cell_type": "code",
   "execution_count": null,
   "metadata": {},
   "outputs": [],
   "source": []
  },
  {
   "cell_type": "code",
   "execution_count": null,
   "metadata": {},
   "outputs": [],
   "source": []
  },
  {
   "cell_type": "code",
   "execution_count": null,
   "metadata": {},
   "outputs": [],
   "source": []
  },
  {
   "cell_type": "code",
   "execution_count": null,
   "metadata": {},
   "outputs": [],
   "source": []
  },
  {
   "cell_type": "code",
   "execution_count": null,
   "metadata": {},
   "outputs": [],
   "source": []
  }
 ],
 "metadata": {
  "kernelspec": {
   "display_name": "Python 3",
   "language": "python",
   "name": "python3"
  },
  "language_info": {
   "codemirror_mode": {
    "name": "ipython",
    "version": 3
   },
   "file_extension": ".py",
   "mimetype": "text/x-python",
   "name": "python",
   "nbconvert_exporter": "python",
   "pygments_lexer": "ipython3",
   "version": "3.7.3"
  }
 },
 "nbformat": 4,
 "nbformat_minor": 2
}
