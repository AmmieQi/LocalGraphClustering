{
 "cells": [
  {
   "cell_type": "code",
   "execution_count": 2,
   "metadata": {},
   "outputs": [],
   "source": [
    "import localgraphclustering as lgc\n",
    "\n",
    "import time\n",
    "import numpy as np\n",
    "\n",
    "# Import the graph_tool module for visualization.\n",
    "from graph_tool.all import * \n",
    "\n",
    "# Import matplotlib \n",
    "import matplotlib.pyplot as plt\n",
    "\n",
    "# Just a useful function.\n",
    "def diff(a, b):\n",
    "        b = set(b)\n",
    "        return np.asarray([aa for aa in a if aa not in b], dtype = 'int64')\n",
    "    \n",
    "import pickle\n",
    "import csv"
   ]
  },
  {
   "cell_type": "code",
   "execution_count": 2,
   "metadata": {},
   "outputs": [
    {
     "name": "stderr",
     "output_type": "stream",
     "text": [
      "/usr/local/lib/python3.7/site-packages/localgraphclustering/GraphLocal.py:217: UserWarning:\n",
      "\n",
      "Loading a graphml is not efficient, we suggest using an edgelist format for this API.\n",
      "\n"
     ]
    }
   ],
   "source": [
    "# Read graph. This also supports gml and graphml format.\n",
    "g = lgc.GraphLocal('./datasets/senate.graphml','graphml')"
   ]
  },
  {
   "cell_type": "code",
   "execution_count": null,
   "metadata": {},
   "outputs": [],
   "source": [
    "ncp_instance = lgc.NCPData(g)\n",
    "ncp_instance.approxPageRank(ratio=0.5,timeout=7200)"
   ]
  },
  {
   "cell_type": "code",
   "execution_count": null,
   "metadata": {},
   "outputs": [],
   "source": [
    "ncp_plots = lgc.NCPPlots(ncp_instance,method_name = \"acl\")\n",
    "#plot conductance vs size\n",
    "fig, ax, min_tuples = ncp_plots.cond_by_size()\n",
    "plt.savefig('figures/cond_card_senate.png', bbox_inches='tight')\n",
    "plt.show()\n",
    "#plot conductance vs volume\n",
    "fig, ax, min_tuples = ncp_plots.cond_by_vol()\n",
    "plt.savefig('figures/cond_vol_senate.png', bbox_inches='tight')\n",
    "plt.show()\n",
    "#plot isoperimetry vs size\n",
    "fig, ax, min_tuples = ncp_plots.isop_by_size()\n",
    "plt.savefig('figures/expand_card_senate.png', bbox_inches='tight')\n",
    "plt.show()\n",
    "\n",
    "pickle.dump(ncp_instance, open('results/' + \"acl\" + \"-ncp-\" + \"senate\" + '.pickle', 'wb'))"
   ]
  },
  {
   "cell_type": "code",
   "execution_count": null,
   "metadata": {},
   "outputs": [],
   "source": [
    "# Read John Hopkins graph.\n",
    "g = lgc.GraphLocal('./datasets/JohnsHopkins.graphml','graphml')"
   ]
  },
  {
   "cell_type": "code",
   "execution_count": null,
   "metadata": {},
   "outputs": [],
   "source": [
    "ncp_instance = lgc.NCPData(g)\n",
    "ncp_instance.approxPageRank(ratio=0.5,timeout=7200)\n",
    "\n",
    "ncp_plots = lgc.NCPPlots(ncp_instance,method_name = \"acl\")\n",
    "#plot conductance vs size\n",
    "fig, ax, min_tuples = ncp_plots.cond_by_size()\n",
    "plt.savefig('figures/cond_card_Johns.png', bbox_inches='tight')\n",
    "plt.show()\n",
    "#plot conductance vs volume\n",
    "fig, ax, min_tuples = ncp_plots.cond_by_vol()\n",
    "plt.savefig('figures/cond_vol_Johns.png', bbox_inches='tight')\n",
    "plt.show()\n",
    "#plot isoperimetry vs size\n",
    "fig, ax, min_tuples = ncp_plots.isop_by_size()\n",
    "plt.savefig('figures/expand_card_Johns.png', bbox_inches='tight')\n",
    "plt.show()\n",
    "\n",
    "pickle.dump(ncp_instance, open('results/' + \"acl\" + \"-ncp-\" + \"JohnsHopkins\" + '.pickle', 'wb'))"
   ]
  },
  {
   "cell_type": "code",
   "execution_count": null,
   "metadata": {},
   "outputs": [],
   "source": [
    "# Read John Hopkins graph.\n",
    "g = lgc.GraphLocal('./datasets/usroads-cc.graphml','graphml')"
   ]
  },
  {
   "cell_type": "code",
   "execution_count": null,
   "metadata": {},
   "outputs": [],
   "source": [
    "ncp_instance = lgc.NCPData(g)\n",
    "ncp_instance.approxPageRank(ratio=0.5,timeout=7200)"
   ]
  },
  {
   "cell_type": "code",
   "execution_count": null,
   "metadata": {},
   "outputs": [],
   "source": [
    "ncp_plots = lgc.NCPPlots(ncp_instance,method_name = \"acl\")\n",
    "#plot conductance vs size\n",
    "fig, ax, min_tuples = ncp_plots.cond_by_size()\n",
    "plt.savefig('figures/cond_card_usroad.png', bbox_inches='tight')\n",
    "plt.show()\n",
    "#plot conductance vs volume\n",
    "fig, ax, min_tuples = ncp_plots.cond_by_vol()\n",
    "plt.savefig('figures/cond_vol_usroad.png', bbox_inches='tight')\n",
    "plt.show()\n",
    "#plot isoperimetry vs size\n",
    "fig, ax, min_tuples = ncp_plots.isop_by_size()\n",
    "plt.savefig('figures/expand_card_usroad.png', bbox_inches='tight')\n",
    "plt.show()\n",
    "\n",
    "pickle.dump(ncp_instance, open('results/' + \"acl\" + \"-ncp-\" + \"usroads\" + '.pickle', 'wb'))"
   ]
  },
  {
   "cell_type": "code",
   "execution_count": null,
   "metadata": {
    "scrolled": false
   },
   "outputs": [],
   "source": [
    "# Read John Hopkins graph.\n",
    "g = lgc.GraphLocal('./datasets/Colgate88_reduced.graphml','graphml')"
   ]
  },
  {
   "cell_type": "code",
   "execution_count": null,
   "metadata": {},
   "outputs": [],
   "source": [
    "ncp_instance = lgc.NCPData(g)\n",
    "ncp_instance.approxPageRank(ratio=0.5,timeout=7200)\n",
    "\n",
    "ncp_plots = lgc.NCPPlots(ncp_instance,method_name = \"acl\")\n",
    "#plot conductance vs size\n",
    "fig, ax, min_tuples = ncp_plots.cond_by_size()\n",
    "plt.savefig('figures/cond_card_colgate.png', bbox_inches='tight')\n",
    "plt.show()\n",
    "#plot conductance vs volume\n",
    "fig, ax, min_tuples = ncp_plots.cond_by_vol()\n",
    "plt.savefig('figures/cond_vol_colgate.png', bbox_inches='tight')\n",
    "plt.show()\n",
    "#plot isoperimetry vs size\n",
    "fig, ax, min_tuples = ncp_plots.isop_by_size()\n",
    "plt.savefig('figures/expand_card_colgate.png', bbox_inches='tight')\n",
    "plt.show()\n",
    "\n",
    "pickle.dump(ncp_instance, open('results/' + \"acl\" + \"-ncp-\" + \"colgate\" + '.pickle', 'wb'))"
   ]
  },
  {
   "cell_type": "code",
   "execution_count": null,
   "metadata": {},
   "outputs": [],
   "source": [
    "# Read graph. This also supports gml and graphml format.\n",
    "# The MIPS Mammalian Protein-Protein Database is a database for protein-protein interactions of mammalian species. \n",
    "# We used the data set proposed in consisting of a subset of 220 protein complexes of 1562 proteins. \n",
    "# Details can be found here: https://clusteval.sdu.dk/1/datasets/685\n",
    "g = lgc.GraphLocal('./datasets/ppi_mips.graphml','graphml',' ')"
   ]
  },
  {
   "cell_type": "code",
   "execution_count": null,
   "metadata": {},
   "outputs": [],
   "source": [
    "ncp_instance = lgc.NCPData(g)\n",
    "ncp_instance.approxPageRank(ratio=0.5,timeout=7200)\n",
    "\n",
    "ncp_plots = lgc.NCPPlots(ncp_instance,method_name = \"acl\")\n",
    "#plot conductance vs size\n",
    "fig, ax, min_tuples = ncp_plots.cond_by_size()\n",
    "plt.savefig('figures/cond_card_ppimips.png', bbox_inches='tight')\n",
    "plt.show()\n",
    "#plot conductance vs volume\n",
    "fig, ax, min_tuples = ncp_plots.cond_by_vol()\n",
    "plt.savefig('figures/cond_vol_ppimips.png', bbox_inches='tight')\n",
    "plt.show()\n",
    "#plot isoperimetry vs size\n",
    "fig, ax, min_tuples = ncp_plots.isop_by_size()\n",
    "plt.savefig('figures/expand_card_ppimips.png', bbox_inches='tight')\n",
    "plt.show()\n",
    "\n",
    "pickle.dump(ncp_instance, open('results/' + \"acl\" + \"-ncp-\" + \"ppimips\" + '.pickle', 'wb'))"
   ]
  },
  {
   "cell_type": "code",
   "execution_count": null,
   "metadata": {},
   "outputs": [],
   "source": [
    "# Read graph. This also supports gml and graphml format.\n",
    "# The data set contains pairwise similarities of blasted \n",
    "# sequences of 232 proteins belonging to the amidohydrolase superfamily. \n",
    "g = lgc.GraphLocal('./datasets/sfld_brown_et_al_amidohydrolases_protein_similarities_for_beh.graphml','graphml',' ')"
   ]
  },
  {
   "cell_type": "code",
   "execution_count": null,
   "metadata": {},
   "outputs": [],
   "source": [
    "ncp_instance = lgc.NCPData(g)\n",
    "ncp_instance.approxPageRank(ratio=0.5,timeout=7200)\n",
    "\n",
    "ncp_plots = lgc.NCPPlots(ncp_instance,method_name = \"acl\")\n",
    "#plot conductance vs size\n",
    "fig, ax, min_tuples = ncp_plots.cond_by_size()\n",
    "plt.savefig('figures/cond_card_sfld.png', bbox_inches='tight')\n",
    "plt.show()\n",
    "#plot conductance vs volume\n",
    "fig, ax, min_tuples = ncp_plots.cond_by_vol()\n",
    "plt.savefig('figures/cond_vol_sfld.png', bbox_inches='tight')\n",
    "plt.show()\n",
    "#plot isoperimetry vs size\n",
    "fig, ax, min_tuples = ncp_plots.isop_by_size()\n",
    "plt.savefig('figures/expand_card_sfld.png', bbox_inches='tight')\n",
    "plt.show()\n",
    "\n",
    "pickle.dump(ncp_instance, open('results/' + \"acl\" + \"-ncp-\" + \"sfld\" + '.pickle', 'wb'))"
   ]
  },
  {
   "cell_type": "code",
   "execution_count": null,
   "metadata": {},
   "outputs": [],
   "source": [
    "mygraphs = {'email-Enron':'/u4/kfountoulakis/flowReviewPaper/LocalGraphClustering/notebooks/datasets/email-Enron.edgelist',\n",
    "            'pokec':'/u4/kfountoulakis/flowReviewPaper/LocalGraphClustering/notebooks/datasets/soc-pokec-relationships.edgelist',\n",
    "            'orkut':'/u4/kfountoulakis/flowReviewPaper/LocalGraphClustering/notebooks/datasets/com-orkut.ungraph.edgelist',\n",
    "            'livejournal':'/u4/kfountoulakis/flowReviewPaper/LocalGraphClustering/notebooks/datasets/soc-LiveJournal1.edgelist'\n",
    "           }\n",
    "\n",
    "start = time.time()\n",
    "for (gname,gfile) in mygraphs.items():\n",
    "    print(gname, gfile)\n",
    "    sep = ' '\n",
    "    if isinstance(gfile, tuple):\n",
    "        sep = gfile[1]\n",
    "        gfile = gfile[0]\n",
    "    g = lgc.GraphLocal(os.path.join(\"..\", \"data\", gfile),'edgelist', \"\t\")\n",
    "    g.discard_weights()\n",
    "\n",
    "    ncp_instance = lgc.NCPData(g)\n",
    "    ncp_instance.approxPageRank(ratio=0.5,timeout=7200)\n",
    "\n",
    "    ncp_plots = lgc.NCPPlots(ncp_instance,method_name = \"acl\")\n",
    "    #plot conductance vs size\n",
    "    fig, ax, min_tuples = ncp_plots.cond_by_size()\n",
    "    plt.savefig('figures/cond_card_' + gname + '.png', bbox_inches='tight')\n",
    "    plt.show()\n",
    "    #plot conductance vs volume\n",
    "    fig, ax, min_tuples = ncp_plots.cond_by_vol()\n",
    "    plt.savefig('figures/cond_vol_' + gname + '.png', bbox_inches='tight')\n",
    "    plt.show()\n",
    "    #plot isoperimetry vs size\n",
    "    fig, ax, min_tuples = ncp_plots.isop_by_size()\n",
    "    plt.savefig('figures/expand_card_' + gname + '.png', bbox_inches='tight')\n",
    "    plt.show()\n",
    "    \n",
    "    pickle.dump(ncp_instance, open('results/' + \"acl\" + \"-ncpNOTIMPROVE-\" + gname + '.pickle', 'wb'))"
   ]
  },
  {
   "cell_type": "code",
   "execution_count": null,
   "metadata": {},
   "outputs": [],
   "source": []
  },
  {
   "cell_type": "code",
   "execution_count": null,
   "metadata": {},
   "outputs": [],
   "source": []
  },
  {
   "cell_type": "code",
   "execution_count": null,
   "metadata": {},
   "outputs": [],
   "source": []
  },
  {
   "cell_type": "code",
   "execution_count": null,
   "metadata": {},
   "outputs": [],
   "source": []
  },
  {
   "cell_type": "code",
   "execution_count": null,
   "metadata": {},
   "outputs": [],
   "source": []
  },
  {
   "cell_type": "code",
   "execution_count": null,
   "metadata": {},
   "outputs": [],
   "source": []
  },
  {
   "cell_type": "code",
   "execution_count": null,
   "metadata": {},
   "outputs": [],
   "source": []
  },
  {
   "cell_type": "code",
   "execution_count": null,
   "metadata": {},
   "outputs": [],
   "source": []
  },
  {
   "cell_type": "code",
   "execution_count": null,
   "metadata": {},
   "outputs": [],
   "source": []
  },
  {
   "cell_type": "code",
   "execution_count": null,
   "metadata": {},
   "outputs": [],
   "source": []
  },
  {
   "cell_type": "code",
   "execution_count": null,
   "metadata": {},
   "outputs": [],
   "source": []
  },
  {
   "cell_type": "code",
   "execution_count": null,
   "metadata": {},
   "outputs": [],
   "source": []
  },
  {
   "cell_type": "code",
   "execution_count": null,
   "metadata": {},
   "outputs": [],
   "source": []
  },
  {
   "cell_type": "code",
   "execution_count": null,
   "metadata": {},
   "outputs": [],
   "source": []
  },
  {
   "cell_type": "code",
   "execution_count": null,
   "metadata": {},
   "outputs": [],
   "source": []
  },
  {
   "cell_type": "code",
   "execution_count": null,
   "metadata": {},
   "outputs": [],
   "source": []
  },
  {
   "cell_type": "code",
   "execution_count": null,
   "metadata": {},
   "outputs": [],
   "source": []
  },
  {
   "cell_type": "code",
   "execution_count": null,
   "metadata": {},
   "outputs": [],
   "source": []
  },
  {
   "cell_type": "code",
   "execution_count": null,
   "metadata": {},
   "outputs": [],
   "source": []
  },
  {
   "cell_type": "code",
   "execution_count": null,
   "metadata": {},
   "outputs": [],
   "source": []
  },
  {
   "cell_type": "code",
   "execution_count": null,
   "metadata": {},
   "outputs": [],
   "source": []
  },
  {
   "cell_type": "code",
   "execution_count": null,
   "metadata": {},
   "outputs": [],
   "source": []
  },
  {
   "cell_type": "code",
   "execution_count": null,
   "metadata": {},
   "outputs": [],
   "source": []
  },
  {
   "cell_type": "code",
   "execution_count": null,
   "metadata": {},
   "outputs": [],
   "source": []
  },
  {
   "cell_type": "code",
   "execution_count": null,
   "metadata": {},
   "outputs": [],
   "source": []
  },
  {
   "cell_type": "code",
   "execution_count": null,
   "metadata": {},
   "outputs": [],
   "source": []
  },
  {
   "cell_type": "code",
   "execution_count": null,
   "metadata": {},
   "outputs": [],
   "source": []
  },
  {
   "cell_type": "code",
   "execution_count": null,
   "metadata": {},
   "outputs": [],
   "source": []
  },
  {
   "cell_type": "code",
   "execution_count": null,
   "metadata": {},
   "outputs": [],
   "source": []
  },
  {
   "cell_type": "code",
   "execution_count": null,
   "metadata": {},
   "outputs": [],
   "source": []
  },
  {
   "cell_type": "code",
   "execution_count": null,
   "metadata": {},
   "outputs": [],
   "source": []
  },
  {
   "cell_type": "code",
   "execution_count": null,
   "metadata": {},
   "outputs": [],
   "source": []
  },
  {
   "cell_type": "code",
   "execution_count": null,
   "metadata": {},
   "outputs": [],
   "source": []
  },
  {
   "cell_type": "code",
   "execution_count": null,
   "metadata": {},
   "outputs": [],
   "source": []
  },
  {
   "cell_type": "code",
   "execution_count": null,
   "metadata": {},
   "outputs": [],
   "source": []
  },
  {
   "cell_type": "code",
   "execution_count": null,
   "metadata": {},
   "outputs": [],
   "source": []
  },
  {
   "cell_type": "code",
   "execution_count": null,
   "metadata": {},
   "outputs": [],
   "source": []
  },
  {
   "cell_type": "code",
   "execution_count": null,
   "metadata": {},
   "outputs": [],
   "source": []
  },
  {
   "cell_type": "code",
   "execution_count": null,
   "metadata": {},
   "outputs": [],
   "source": []
  },
  {
   "cell_type": "code",
   "execution_count": null,
   "metadata": {},
   "outputs": [],
   "source": []
  },
  {
   "cell_type": "code",
   "execution_count": null,
   "metadata": {},
   "outputs": [],
   "source": []
  },
  {
   "cell_type": "code",
   "execution_count": null,
   "metadata": {},
   "outputs": [],
   "source": []
  },
  {
   "cell_type": "code",
   "execution_count": null,
   "metadata": {},
   "outputs": [],
   "source": []
  },
  {
   "cell_type": "code",
   "execution_count": null,
   "metadata": {},
   "outputs": [],
   "source": []
  },
  {
   "cell_type": "code",
   "execution_count": null,
   "metadata": {},
   "outputs": [],
   "source": []
  },
  {
   "cell_type": "code",
   "execution_count": null,
   "metadata": {},
   "outputs": [],
   "source": []
  },
  {
   "cell_type": "code",
   "execution_count": null,
   "metadata": {},
   "outputs": [],
   "source": []
  },
  {
   "cell_type": "code",
   "execution_count": null,
   "metadata": {},
   "outputs": [],
   "source": []
  },
  {
   "cell_type": "code",
   "execution_count": null,
   "metadata": {},
   "outputs": [],
   "source": []
  }
 ],
 "metadata": {
  "kernelspec": {
   "display_name": "Python 3",
   "language": "python",
   "name": "python3"
  },
  "language_info": {
   "codemirror_mode": {
    "name": "ipython",
    "version": 3
   },
   "file_extension": ".py",
   "mimetype": "text/x-python",
   "name": "python",
   "nbconvert_exporter": "python",
   "pygments_lexer": "ipython3",
   "version": "3.7.1"
  }
 },
 "nbformat": 4,
 "nbformat_minor": 2
}
