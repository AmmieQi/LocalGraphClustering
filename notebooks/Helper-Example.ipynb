{
 "cells": [
  {
   "cell_type": "code",
   "execution_count": 2,
   "metadata": {
    "collapsed": true
   },
   "outputs": [],
   "source": [
    "from localgraphclustering import *\n",
    "import helper\n",
    "\n",
    "import numpy as np\n",
    "import matplotlib.pyplot as plt"
   ]
  },
  {
   "cell_type": "code",
   "execution_count": null,
   "metadata": {
    "collapsed": false
   },
   "outputs": [
    {
     "name": "stdout",
     "output_type": "stream",
     "text": [
      "There are  1  connected components in the graph\n"
     ]
    }
   ],
   "source": [
    "for graph in [\"senate\", \"JohnsHopkins\"]:\n",
    "    g = helper.lgc_data(graph)\n",
    "    ncpdata = ncp.Ncp().produce(g, \"mqi\")\n",
    "    ncpdata.plot.scatter(\"input_cond\", \"output_cond\")\n",
    "    plt.xlabel(\"input conductance\")\n",
    "    plt.ylabel(\"output conductance\")\n",
    "    plt.show()"
   ]
  }
 ],
 "metadata": {
  "kernelspec": {
   "display_name": "Python 3",
   "language": "python",
   "name": "python3"
  },
  "language_info": {
   "codemirror_mode": {
    "name": "ipython",
    "version": 3
   },
   "file_extension": ".py",
   "mimetype": "text/x-python",
   "name": "python",
   "nbconvert_exporter": "python",
   "pygments_lexer": "ipython3",
   "version": "3.5.2"
  }
 },
 "nbformat": 4,
 "nbformat_minor": 0
}
