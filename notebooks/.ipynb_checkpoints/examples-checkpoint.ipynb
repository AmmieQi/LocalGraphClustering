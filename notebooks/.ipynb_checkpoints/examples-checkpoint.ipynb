{
 "cells": [
  {
   "cell_type": "code",
   "execution_count": 1,
   "metadata": {
    "collapsed": false,
    "deletable": true,
    "editable": true
   },
   "outputs": [],
   "source": [
    "# Load local and global algorithms\n",
    "from localgraphclustering.graph import * # Loads graph class.\n",
    "from localgraphclustering.localCluster import * # Loads localCluster class\n",
    "from localgraphclustering.sweepCut import * # Loads SweepCut class.\n",
    "from localgraphclustering.multiclass_label_prediction import * # Loads the multi class label prediction primitive.\n",
    "from localgraphclustering.eig2_nL import *\n",
    "\n",
    "\n",
    "# Load standard python APIs\n",
    "import time"
   ]
  },
  {
   "cell_type": "markdown",
   "metadata": {
    "collapsed": false,
    "deletable": true,
    "editable": true
   },
   "source": [
    "# How to use the graph class and it primitives"
   ]
  },
  {
   "cell_type": "code",
   "execution_count": 2,
   "metadata": {
    "collapsed": false,
    "deletable": true,
    "editable": true,
    "scrolled": false
   },
   "outputs": [
    {
     "name": "stdout",
     "output_type": "stream",
     "text": [
      "Help on method __init__ in module localgraphclustering.graph:\n",
      "\n",
      "__init__(self) unbound localgraphclustering.graph.graph method\n",
      "    CLASS VARIABLES\n",
      "    ---------------\n",
      "    \n",
      "    1) A: sparse row format matirx\n",
      "          Adjacency matrix\n",
      "    \n",
      "    2) d: floating point numpy vector \n",
      "          Degrees vector\n",
      "    \n",
      "    3) dn: floating point numpy vector \n",
      "           Component-wise reciprocal of degrees vector\n",
      "    \n",
      "    4) d_sqrt: floating point numpy vector\n",
      "               Component-wise square root of degrees vector\n",
      "    \n",
      "    5) dn_sqrt: floating point numpy vector \n",
      "                Component-wise reciprocal of sqaure root degrees vector\n",
      "    \n",
      "    6) vol_G: floating point scalar \n",
      "              Volume of graph\n",
      "    \n",
      "    7) dangling: interger numpy array\n",
      "                 Nodes with zero edges\n",
      "    \n",
      "    8) components: list of sets \n",
      "                   Each set contains the indices of a connected component of the graph\n",
      "    \n",
      "    9) number_of_components: integer\n",
      "                             Number of connected components of the graph\n",
      "    \n",
      "    10) bicomponents: list of sets  \n",
      "                      Each set contains the indices of a biconnected component of the graph\n",
      "    \n",
      "    11) number_of_bicomponents: integer\n",
      "                                Number of connected components of the graph\n",
      "    \n",
      "    12) conductance_vs_vol: list of dictionaries\n",
      "                            The length of the list is the number of connected components of the given graph.\n",
      "                            Each element of the list is a dictionary where keys are volumes of clusters and \n",
      "                            the values are conductance. It can be used to plot the conductance vs volume NCP.\n",
      "    \n",
      "    13) conductance_vs_size: list of dictionaries\n",
      "                             The length of the list is the number of connected components of the given graph.\n",
      "                             Each element of the list is a dictionary where keys are sizes of clusters and \n",
      "                             the values are conductance. It can be used to plot the conductance vs volume NCP.    \n",
      "    \n",
      "    14) component_conductance_vs_vol: dictionary\n",
      "                                      A dictionary where keys are volumes of clusters and \n",
      "                                      the values are conductance. It can be used to plot the conductance vs volume NCP.\n",
      "    \n",
      "    15) component_conductance_vs_size: dictionary\n",
      "                                       A dictionary where keys are sizes of clusters and \n",
      "                                       the values are conductance. It can be used to plot the conductance vs volume NCP.\n",
      "    \n",
      "    16) biconnected_conductance_vs_vol: List of dictionaries\n",
      "                                        The length of the list is the number of connected components of the given graph.\n",
      "                                        Each element of the list is a dictionary where keys are volumes of clusters and \n",
      "                                        the values are conductance. It can be used to plot the conductance vs volume NCP.\n",
      "    \n",
      "    17) biconnected_conductance_vs_size: List of dictionaries\n",
      "                                         The length of the list is the number of connected components of the given graph.\n",
      "                                         Each element of the list is a dictionary where keys are sizes of clusters and \n",
      "                                         the values are conductance. It can be used to plot the conductance vs volume NCP.\n",
      "    \n",
      "    18) core_numbers: dictionary\n",
      "                      Core number for each vertex\n",
      "\n"
     ]
    }
   ],
   "source": [
    "# Check documentation for variables in the graph class\n",
    "help(graph.__init__)"
   ]
  },
  {
   "cell_type": "code",
   "execution_count": 3,
   "metadata": {
    "collapsed": false,
    "deletable": true,
    "editable": true
   },
   "outputs": [
    {
     "name": "stdout",
     "output_type": "stream",
     "text": [
      "Help on method read_graph in module localgraphclustering.graph:\n",
      "\n",
      "read_graph(self, filename, separator) unbound localgraphclustering.graph.graph method\n",
      "    DESCRIPTION\n",
      "    -----------\n",
      "    \n",
      "    Reads the graph from an edgelist and initialize the adjecancy matrix which is stored variable g.A,\n",
      "    where g is graph object.\n",
      "    \n",
      "    Call help(graph.__init__) to get the documentation for the variables of this class.\n",
      "\n"
     ]
    }
   ],
   "source": [
    "# Example on how to check documentation for a primitive in the graph class.\n",
    "help(graph.read_graph)"
   ]
  },
  {
   "cell_type": "code",
   "execution_count": 4,
   "metadata": {
    "collapsed": false,
    "deletable": true,
    "editable": true
   },
   "outputs": [
    {
     "data": {
      "text/plain": [
       "{'__doc__': None,\n",
       " '__init__': <function localgraphclustering.graph.__init__>,\n",
       " '__module__': 'localgraphclustering.graph',\n",
       " 'biconnected_components': <function localgraphclustering.graph.biconnected_components>,\n",
       " 'biconnected_ncp': <function localgraphclustering.graph.biconnected_ncp>,\n",
       " 'compute_statistics': <function localgraphclustering.graph.compute_statistics>,\n",
       " 'connected_components': <function localgraphclustering.graph.connected_components>,\n",
       " 'core_number': <function localgraphclustering.graph.core_number>,\n",
       " 'is_disconnected': <function localgraphclustering.graph.is_disconnected>,\n",
       " 'ncp': <function localgraphclustering.graph.ncp>,\n",
       " 'ncp_one_component': <function localgraphclustering.graph.ncp_one_component>,\n",
       " 'plot_biconnected_ncp': <function localgraphclustering.graph.plot_biconnected_ncp>,\n",
       " 'plot_ncp': <function localgraphclustering.graph.plot_ncp>,\n",
       " 'plot_one_component_ncp': <function localgraphclustering.graph.plot_one_component_ncp>,\n",
       " 'read_graph': <function localgraphclustering.graph.read_graph>}"
      ]
     },
     "execution_count": 4,
     "metadata": {},
     "output_type": "execute_result"
    }
   ],
   "source": [
    "# To get the names of other primitives from the graph class run\n",
    "graph.__dict__"
   ]
  },
  {
   "cell_type": "code",
   "execution_count": 5,
   "metadata": {
    "collapsed": false,
    "deletable": true,
    "editable": true
   },
   "outputs": [],
   "source": [
    "# Define graph object\n",
    "g = graph()"
   ]
  },
  {
   "cell_type": "code",
   "execution_count": 6,
   "metadata": {
    "collapsed": false,
    "deletable": true,
    "editable": true
   },
   "outputs": [
    {
     "name": "stdout",
     "output_type": "stream",
     "text": [
      "('The following nodes have no outgoing edges:', array([ 699,  976,  981, 1280, 1415, 1543, 1664, 2020, 2355, 2652, 2862,\n",
      "       2916, 3397, 3516, 3831, 3970, 4118, 4601, 4615, 4809, 4828, 4881,\n",
      "       4946]), '\\n')\n",
      "These nodes are stored in the your_graph_object.dangling.\n",
      "To avoid numerical difficulties we connect each dangling node to another randomly chosen node.\n"
     ]
    }
   ],
   "source": [
    "# Read graph from edgelist file.\n",
    "g.read_graph('JohnsHopkins.edgelist','\\t')"
   ]
  },
  {
   "cell_type": "code",
   "execution_count": 7,
   "metadata": {
    "collapsed": false,
    "deletable": true,
    "editable": true
   },
   "outputs": [
    {
     "name": "stdout",
     "output_type": "stream",
     "text": [
      "('There are ', 1, ' connected components in the graph')\n",
      "The graph is not a disconnected graph.\n"
     ]
    }
   ],
   "source": [
    "# Check if graph is disconnected.\n",
    "is_disconnected = g.is_disconnected()"
   ]
  },
  {
   "cell_type": "code",
   "execution_count": null,
   "metadata": {
    "collapsed": false,
    "deletable": true,
    "editable": true
   },
   "outputs": [
    {
     "name": "stdout",
     "output_type": "stream",
     "text": [
      "('There are ', 1, ' connected components in the graph')\n"
     ]
    }
   ],
   "source": [
    "# Find all connected components of a graph and store them\n",
    "# as a list of sets in g.components. \n",
    "# This functions calls networkx.\n",
    "g.connected_components()"
   ]
  },
  {
   "cell_type": "code",
   "execution_count": null,
   "metadata": {
    "collapsed": false,
    "deletable": true,
    "editable": true,
    "scrolled": true
   },
   "outputs": [
    {
     "ename": "KeyboardInterrupt",
     "evalue": "",
     "output_type": "error",
     "traceback": [
      "\u001b[0;31m---------------------------------------------------------------------------\u001b[0m",
      "\u001b[0;31mKeyboardInterrupt\u001b[0m                         Traceback (most recent call last)",
      "\u001b[0;32m<ipython-input-9-cdfc6fc24d31>\u001b[0m in \u001b[0;36m<module>\u001b[0;34m()\u001b[0m\n\u001b[1;32m      2\u001b[0m \u001b[0;31m# as a list of sets in g.bicomponents.\u001b[0m\u001b[0;34m\u001b[0m\u001b[0;34m\u001b[0m\u001b[0m\n\u001b[1;32m      3\u001b[0m \u001b[0;31m# This functions calls networkx.\u001b[0m\u001b[0;34m\u001b[0m\u001b[0;34m\u001b[0m\u001b[0m\n\u001b[0;32m----> 4\u001b[0;31m \u001b[0mg\u001b[0m\u001b[0;34m.\u001b[0m\u001b[0mbiconnected_components\u001b[0m\u001b[0;34m(\u001b[0m\u001b[0;34m)\u001b[0m\u001b[0;34m\u001b[0m\u001b[0m\n\u001b[0m",
      "\u001b[0;32m/usr/local/lib/python2.7/site-packages/localgraphclustering/graph.pyc\u001b[0m in \u001b[0;36mbiconnected_components\u001b[0;34m(self)\u001b[0m\n\u001b[1;32m    339\u001b[0m         \u001b[0mg_nx\u001b[0m \u001b[0;34m=\u001b[0m \u001b[0mnx\u001b[0m\u001b[0;34m.\u001b[0m\u001b[0mfrom_scipy_sparse_matrix\u001b[0m\u001b[0;34m(\u001b[0m\u001b[0mself\u001b[0m\u001b[0;34m.\u001b[0m\u001b[0mA\u001b[0m\u001b[0;34m)\u001b[0m\u001b[0;34m\u001b[0m\u001b[0m\n\u001b[1;32m    340\u001b[0m \u001b[0;34m\u001b[0m\u001b[0m\n\u001b[0;32m--> 341\u001b[0;31m         \u001b[0mself\u001b[0m\u001b[0;34m.\u001b[0m\u001b[0mbicomponents\u001b[0m \u001b[0;34m=\u001b[0m \u001b[0mlist\u001b[0m\u001b[0;34m(\u001b[0m\u001b[0mnx\u001b[0m\u001b[0;34m.\u001b[0m\u001b[0mbiconnected_components\u001b[0m\u001b[0;34m(\u001b[0m\u001b[0mg_nx\u001b[0m\u001b[0;34m)\u001b[0m\u001b[0;34m)\u001b[0m\u001b[0;34m\u001b[0m\u001b[0m\n\u001b[0m\u001b[1;32m    342\u001b[0m \u001b[0;34m\u001b[0m\u001b[0m\n\u001b[1;32m    343\u001b[0m         \u001b[0mself\u001b[0m\u001b[0;34m.\u001b[0m\u001b[0mnumber_of_bicomponents\u001b[0m \u001b[0;34m=\u001b[0m \u001b[0mlen\u001b[0m\u001b[0;34m(\u001b[0m\u001b[0mself\u001b[0m\u001b[0;34m.\u001b[0m\u001b[0mbicomponents\u001b[0m\u001b[0;34m)\u001b[0m\u001b[0;34m\u001b[0m\u001b[0m\n",
      "\u001b[0;32m/usr/local/lib/python2.7/site-packages/networkx/algorithms/components/biconnected.pyc\u001b[0m in \u001b[0;36mbiconnected_components\u001b[0;34m(G)\u001b[0m\n\u001b[1;32m    250\u001b[0m \u001b[0;34m\u001b[0m\u001b[0m\n\u001b[1;32m    251\u001b[0m     \"\"\"\n\u001b[0;32m--> 252\u001b[0;31m     \u001b[0;32mfor\u001b[0m \u001b[0mcomp\u001b[0m \u001b[0;32min\u001b[0m \u001b[0m_biconnected_dfs\u001b[0m\u001b[0;34m(\u001b[0m\u001b[0mG\u001b[0m\u001b[0;34m,\u001b[0m \u001b[0mcomponents\u001b[0m\u001b[0;34m=\u001b[0m\u001b[0mTrue\u001b[0m\u001b[0;34m)\u001b[0m\u001b[0;34m:\u001b[0m\u001b[0;34m\u001b[0m\u001b[0m\n\u001b[0m\u001b[1;32m    253\u001b[0m         \u001b[0;32myield\u001b[0m \u001b[0mset\u001b[0m\u001b[0;34m(\u001b[0m\u001b[0mchain\u001b[0m\u001b[0;34m.\u001b[0m\u001b[0mfrom_iterable\u001b[0m\u001b[0;34m(\u001b[0m\u001b[0mcomp\u001b[0m\u001b[0;34m)\u001b[0m\u001b[0;34m)\u001b[0m\u001b[0;34m\u001b[0m\u001b[0m\n\u001b[1;32m    254\u001b[0m \u001b[0;34m\u001b[0m\u001b[0m\n",
      "\u001b[0;32m/usr/local/lib/python2.7/site-packages/networkx/algorithms/components/biconnected.pyc\u001b[0m in \u001b[0;36m_biconnected_dfs\u001b[0;34m(G, components)\u001b[0m\n\u001b[1;32m    454\u001b[0m                     \u001b[0;32mif\u001b[0m \u001b[0mlow\u001b[0m\u001b[0;34m[\u001b[0m\u001b[0mparent\u001b[0m\u001b[0;34m]\u001b[0m \u001b[0;34m>=\u001b[0m \u001b[0mdiscovery\u001b[0m\u001b[0;34m[\u001b[0m\u001b[0mgrandparent\u001b[0m\u001b[0;34m]\u001b[0m\u001b[0;34m:\u001b[0m\u001b[0;34m\u001b[0m\u001b[0m\n\u001b[1;32m    455\u001b[0m                         \u001b[0;32mif\u001b[0m \u001b[0mcomponents\u001b[0m\u001b[0;34m:\u001b[0m\u001b[0;34m\u001b[0m\u001b[0m\n\u001b[0;32m--> 456\u001b[0;31m                             \u001b[0mind\u001b[0m \u001b[0;34m=\u001b[0m \u001b[0medge_stack\u001b[0m\u001b[0;34m.\u001b[0m\u001b[0mindex\u001b[0m\u001b[0;34m(\u001b[0m\u001b[0;34m(\u001b[0m\u001b[0mgrandparent\u001b[0m\u001b[0;34m,\u001b[0m\u001b[0mparent\u001b[0m\u001b[0;34m)\u001b[0m\u001b[0;34m)\u001b[0m\u001b[0;34m\u001b[0m\u001b[0m\n\u001b[0m\u001b[1;32m    457\u001b[0m                             \u001b[0;32myield\u001b[0m \u001b[0medge_stack\u001b[0m\u001b[0;34m[\u001b[0m\u001b[0mind\u001b[0m\u001b[0;34m:\u001b[0m\u001b[0;34m]\u001b[0m\u001b[0;34m\u001b[0m\u001b[0m\n\u001b[1;32m    458\u001b[0m                             \u001b[0medge_stack\u001b[0m\u001b[0;34m=\u001b[0m\u001b[0medge_stack\u001b[0m\u001b[0;34m[\u001b[0m\u001b[0;34m:\u001b[0m\u001b[0mind\u001b[0m\u001b[0;34m]\u001b[0m\u001b[0;34m\u001b[0m\u001b[0m\n",
      "\u001b[0;31mKeyboardInterrupt\u001b[0m: "
     ]
    }
   ],
   "source": [
    "# Find all biconnected components of graph and store them\n",
    "# as a list of sets in g.bicomponents.\n",
    "# This functions calls networkx.\n",
    "g.biconnected_components()"
   ]
  },
  {
   "cell_type": "code",
   "execution_count": null,
   "metadata": {
    "collapsed": false,
    "deletable": true,
    "editable": true
   },
   "outputs": [],
   "source": [
    "# Find the core number for each node and store them in a\n",
    "# a dictionary keyed by node to the core number. You can access this by g.core_numbers.\n",
    "# This functions calls networkx.\n",
    "g.core_number()"
   ]
  },
  {
   "cell_type": "markdown",
   "metadata": {
    "collapsed": false,
    "deletable": true,
    "editable": true
   },
   "source": [
    "# How to use the localCluster class and its primitives"
   ]
  },
  {
   "cell_type": "code",
   "execution_count": null,
   "metadata": {
    "collapsed": false,
    "deletable": true,
    "editable": true
   },
   "outputs": [],
   "source": [
    "# Check documentation for variables in the graph class\n",
    "help(localCluster.__init__)"
   ]
  },
  {
   "cell_type": "code",
   "execution_count": null,
   "metadata": {
    "collapsed": false,
    "deletable": true,
    "editable": true
   },
   "outputs": [],
   "source": [
    "# Example on how to check documentation for a primitive in the localCluster class.\n",
    "help(localCluster.fista)"
   ]
  },
  {
   "cell_type": "code",
   "execution_count": null,
   "metadata": {
    "collapsed": false,
    "deletable": true,
    "editable": true
   },
   "outputs": [],
   "source": [
    "# To get the names of other primitives from the localCluster class \n",
    "localCluster.__dict__"
   ]
  },
  {
   "cell_type": "code",
   "execution_count": null,
   "metadata": {
    "collapsed": false,
    "deletable": true,
    "editable": true
   },
   "outputs": [],
   "source": [
    "# Define localCluster object\n",
    "lc = localCluster()"
   ]
  },
  {
   "cell_type": "code",
   "execution_count": null,
   "metadata": {
    "collapsed": false,
    "deletable": true,
    "editable": true
   },
   "outputs": [],
   "source": [
    "# First example of local graph clustering.\n",
    "# Example for ISTA, for documentation about this function call help(localCluster.ista)\n",
    "\n",
    "# This is the reference node for local graph clustering.\n",
    "ref_nodes = 3215\n",
    "\n",
    "start = time.time()\n",
    "\n",
    "# This line calls ISTA for local graph clustering.\n",
    "# To check to documentation for the input and output of this function call \n",
    "# help(localCluster.ista)\n",
    "lc.ista(ref_nodes, g, alpha = 1.8e-1, rho = 2.0e-7, epsilon = 1.0e-2, max_iter = 10000, max_time = 10)\n",
    "\n",
    "end = time.time()\n",
    "print(\"Time:\", end - start)"
   ]
  },
  {
   "cell_type": "code",
   "execution_count": null,
   "metadata": {
    "collapsed": false,
    "deletable": true,
    "editable": true
   },
   "outputs": [],
   "source": [
    "# Second example of local graph clustering\n",
    "# Example for FISTA, for documentation about this function call help(localCluster.fista)\n",
    "# This is the fastest algorithm for local graph clustering for this API. \n",
    "# This function has been implemented in Python and C++ with Python Wrapper.\n",
    "# The C++ version requires compilation, for details see HOWTO.txt file.\n",
    "\n",
    "# This is the reference node for local graph clustering.\n",
    "ref_nodes = 3215\n",
    "\n",
    "# Do not use C++ version of FISTA.\n",
    "cpp = False\n",
    "\n",
    "start = time.time()\n",
    "\n",
    "# This line calls the Python version of FISTA for local graph clustering.\n",
    "# To check to documentation for the input and output of this function call \n",
    "# help(localCluster.fista)\n",
    "lc.fista(ref_nodes, g, alpha = 1.8e-1, rho = 2.0e-7, epsilon = 1.0e-8, max_iter = 10000, max_time = 10, cpp = cpp)\n",
    "\n",
    "end = time.time()\n",
    "print(\"Time (Python version):\", end - start)"
   ]
  },
  {
   "cell_type": "code",
   "execution_count": null,
   "metadata": {
    "collapsed": false,
    "deletable": true,
    "editable": true
   },
   "outputs": [],
   "source": [
    "# This is the reference node for local graph clustering.\n",
    "ref_nodes = 3215\n",
    "\n",
    "# Use C++ version of FISTA.\n",
    "cpp = True\n",
    "\n",
    "start = time.time()\n",
    "\n",
    "# This line calls the C++ version of FISTA for local graph clustering.\n",
    "# To check to documentation for the input and output of this function call \n",
    "# help(localCluster.fista)\n",
    "lc.fista(ref_nodes, g, alpha = 1.8e-1, rho = 2.0e-7, epsilon = 1.0e-8, max_iter = 10000, max_time = 10, cpp = cpp)  \n",
    "    \n",
    "end = time.time()\n",
    "print(\"Time (C++ version):\", end - start)"
   ]
  },
  {
   "cell_type": "code",
   "execution_count": null,
   "metadata": {
    "collapsed": false,
    "deletable": true,
    "editable": true
   },
   "outputs": [],
   "source": [
    "# Third example for local graph clustering. \n",
    "# Example for ACL, for documentation about this function call help(localCluster.acl)\n",
    "\n",
    "# This is the reference node for local graph clustering.\n",
    "ref_nodes = 3215\n",
    "\n",
    "start = time.time()\n",
    "\n",
    "# This line calls ACL for local graph clustering.\n",
    "# To check to documentation for the input and output of this function call \n",
    "# help(localCluster.acl)\n",
    "lc.acl(ref_nodes, g, alpha = 1.8e-2, rho = 2.0e-7, max_iter = 100000, max_time = 10)\n",
    "\n",
    "end = time.time()\n",
    "print(\"Time:\", end - start)"
   ]
  },
  {
   "cell_type": "code",
   "execution_count": null,
   "metadata": {
    "collapsed": false,
    "deletable": true,
    "editable": true
   },
   "outputs": [],
   "source": [
    "# Forth example for local graph clustering.\n",
    "# This method requires only the volume of the target cluster to run. \n",
    "# Therefore, if the user has knowledge of the volume of the target cluster it might be\n",
    "# best and more intuitive to use the method PageRank Nibble.\n",
    "# For documentation about this function call help(localCluster.page_rank_nibble)\n",
    "\n",
    "# This is the reference node for local graph clustering.\n",
    "ref_nodes = 3215\n",
    "\n",
    "# This is the volume of the target cluster\n",
    "vol = 10000\n",
    "\n",
    "# Do not use C++ version of PageRank Nibble.\n",
    "cpp = False\n",
    "\n",
    "start = time.time()\n",
    "\n",
    "# This line calls PageRank Nibble for local graph clustering.\n",
    "# To check to documentation for the input and output of this function call \n",
    "# help(localCluster.page_rank_nibble)\n",
    "lc.page_rank_nibble(g, ref_nodes, vol, phi = 0.5, algorithm = 'fista', epsilon = 1.0e-8, max_iter = 1000, max_time = 100, cpp = cpp)\n",
    "\n",
    "end = time.time()\n",
    "print(\"Time:\", end - start)"
   ]
  },
  {
   "cell_type": "code",
   "execution_count": null,
   "metadata": {
    "collapsed": false,
    "deletable": true,
    "editable": true
   },
   "outputs": [],
   "source": [
    "# This is the reference node for local graph clustering.\n",
    "ref_nodes = 3215\n",
    "\n",
    "# This is the volume of the target cluster\n",
    "vol = 10000\n",
    "\n",
    "# Use C++ version of PageRank Nibble.\n",
    "cpp = True\n",
    "\n",
    "start = time.time()\n",
    "\n",
    "# This line calls PageRank Nibble for local graph clustering.\n",
    "# To check to documentation for the input and output of this function call \n",
    "# help(localCluster.page_rank_nibble)\n",
    "lc.page_rank_nibble(g, ref_nodes, vol, phi = 0.5, algorithm = 'fista', epsilon = 1.0e-8, max_iter = 1000, max_time = 100, cpp = cpp)\n",
    "\n",
    "end = time.time()\n",
    "print(\"Time:\", end - start)"
   ]
  },
  {
   "cell_type": "markdown",
   "metadata": {
    "collapsed": false,
    "deletable": true,
    "editable": true
   },
   "source": [
    "# How to use the multi class label prediction primitive"
   ]
  },
  {
   "cell_type": "code",
   "execution_count": null,
   "metadata": {
    "collapsed": false,
    "deletable": true,
    "editable": true
   },
   "outputs": [],
   "source": [
    "# List of nodes around which we want to find labels\n",
    "labels = [[1,10,300],[3215],[1002,2500,540]]\n",
    "\n",
    "# Use C++ version of FISTA.\n",
    "cpp = True\n",
    "\n",
    "start = time.time()\n",
    "\n",
    "# This function predicts labels for unlabelled nodes. For details refer to:\n",
    "# D. Gleich and M. Mahoney. Variational \n",
    "# Using Local Spectral Methods to Robustify Graph-Based Learning Algorithms. SIGKDD 2015.\n",
    "# https://www.stat.berkeley.edu/~mmahoney/pubs/robustifying-kdd15.pdf\n",
    "# To check to documentation for the input and output of this function call \n",
    "# help(multiclass_label_prediction)\n",
    "classes, ranks, diffusions = multiclass_label_prediction(labels, g, alpha = 1.0e-1, rho = 1.0e-14, epsilon = 1.0e-8, max_iter = 10000, max_time = 100, cpp = cpp)\n",
    "\n",
    "end = time.time()\n",
    "print(\"Time:\", end - start)"
   ]
  },
  {
   "cell_type": "markdown",
   "metadata": {
    "collapsed": false,
    "deletable": true,
    "editable": true
   },
   "source": [
    "# How to use the Network Community Profile primitives"
   ]
  },
  {
   "cell_type": "code",
   "execution_count": null,
   "metadata": {
    "collapsed": false,
    "deletable": true,
    "editable": true
   },
   "outputs": [],
   "source": [
    "# Example for NCP for connected components. For documentation call help(graph.ncp)"
   ]
  },
  {
   "cell_type": "code",
   "execution_count": null,
   "metadata": {
    "collapsed": false,
    "deletable": true,
    "editable": true
   },
   "outputs": [],
   "source": [
    "# Ratio of nodes from each graph component that will be used for calculation of NCP.\n",
    "# In this case 0.5 times the number of nodes of each connected component will be used.\n",
    "ratio = 1\n",
    "\n",
    "# Use C++ version of PageRank Nibble.\n",
    "cpp = True\n",
    "\n",
    "start = time.time()\n",
    "\n",
    "# This line calls the NCP function for all connected components.\n",
    "# To check to documentation for the input and output of this function call \n",
    "# help(graph.ncp)\n",
    "g.ncp(ratio, algorithm = 'fista', epsilon = 1.0e-4, max_iter = 1000, max_time_ncp = 1000, max_time_algorithm = 10, cpp = cpp)\n",
    "\n",
    "end = time.time()\n",
    "print(\"Time:\", end - start)"
   ]
  },
  {
   "cell_type": "code",
   "execution_count": null,
   "metadata": {
    "collapsed": false,
    "deletable": true,
    "editable": true
   },
   "outputs": [],
   "source": [
    "# Plot NCPs"
   ]
  },
  {
   "cell_type": "code",
   "execution_count": null,
   "metadata": {
    "collapsed": false,
    "deletable": true,
    "editable": true
   },
   "outputs": [],
   "source": [
    "start = time.time()\n",
    "\n",
    "g.plot_ncp()\n",
    "\n",
    "end = time.time()\n",
    "print(\"Time:\", end - start)"
   ]
  },
  {
   "cell_type": "code",
   "execution_count": null,
   "metadata": {
    "collapsed": false,
    "deletable": true,
    "editable": true
   },
   "outputs": [],
   "source": [
    "# Example for NCP for biconnected components. For documentation call help(graph.biconnected_ncp)"
   ]
  },
  {
   "cell_type": "code",
   "execution_count": null,
   "metadata": {
    "collapsed": false,
    "deletable": true,
    "editable": true
   },
   "outputs": [],
   "source": [
    "# Ratio of nodes from each graph component that will be used for calculation of NCP.\n",
    "# In this case 0.5 times the number of nodes of each connected component will be used.\n",
    "ratio = 0.9\n",
    "\n",
    "# Use C++ version of PageRank Nibble.\n",
    "cpp = True\n",
    "\n",
    "start = time.time()\n",
    "\n",
    "# This line calls the NCP function for all biconnected components.\n",
    "# To check to documentation for the input and output of this function call \n",
    "# help(graph.biconnected_ncp)\n",
    "g.biconnected_ncp(ratio, algorithm = 'fista', epsilon = 1.0e-4, max_iter = 1000, max_time_ncp = 1000, max_time_algorithm = 10, cpp = cpp)\n",
    "\n",
    "end = time.time()\n",
    "print(\"Time:\", end - start)"
   ]
  },
  {
   "cell_type": "code",
   "execution_count": null,
   "metadata": {
    "collapsed": false,
    "deletable": true,
    "editable": true
   },
   "outputs": [],
   "source": [
    "# Plot NCPs for biconnected components"
   ]
  },
  {
   "cell_type": "code",
   "execution_count": null,
   "metadata": {
    "collapsed": false,
    "deletable": true,
    "editable": true
   },
   "outputs": [],
   "source": [
    "start = time.time()\n",
    "\n",
    "g.plot_biconnected_ncp()\n",
    "\n",
    "end = time.time()\n",
    "print(\"Time:\", end - start)"
   ]
  },
  {
   "cell_type": "code",
   "execution_count": null,
   "metadata": {
    "collapsed": false,
    "deletable": true,
    "editable": true
   },
   "outputs": [],
   "source": [
    "# Example for NCP for a given component (list of nodes). For documentation call help(graph.ncp_one_component)"
   ]
  },
  {
   "cell_type": "code",
   "execution_count": null,
   "metadata": {
    "collapsed": false,
    "deletable": true,
    "editable": true
   },
   "outputs": [],
   "source": [
    "# Ratio of nodes from each graph component that will be used for calculation of NCP.\n",
    "# In this case 0.5 times the number of nodes of each connected component will be used.\n",
    "ratio = 1\n",
    "\n",
    "# Use C++ version of PageRank Nibble.\n",
    "cpp = True\n",
    "\n",
    "start = time.time()\n",
    "\n",
    "# This line calls the NCP function for a given connected component.\n",
    "# To check to documentation for the input and output of this function call \n",
    "# help(graph.ncp_one_component)\n",
    "g.ncp_one_component(ratio, g.components[0], algorithm = 'fista', epsilon = 1.0e-4, max_iter = 1000, max_time_ncp = 1000, max_time_algorithm = 10, cpp = cpp)\n",
    "\n",
    "end = time.time()\n",
    "print(\"Time:\", end - start)"
   ]
  },
  {
   "cell_type": "code",
   "execution_count": null,
   "metadata": {
    "collapsed": false,
    "deletable": true,
    "editable": true
   },
   "outputs": [],
   "source": [
    "# Plot NCP for given connected components"
   ]
  },
  {
   "cell_type": "code",
   "execution_count": null,
   "metadata": {
    "collapsed": false,
    "deletable": true,
    "editable": true
   },
   "outputs": [],
   "source": [
    "start = time.time()\n",
    "\n",
    "g.plot_one_component_ncp()\n",
    "\n",
    "end = time.time()\n",
    "print(\"Time:\", end - start)"
   ]
  },
  {
   "cell_type": "markdown",
   "metadata": {
    "collapsed": false,
    "deletable": true,
    "editable": true
   },
   "source": [
    "# How to use the sweepCut class and its primitives "
   ]
  },
  {
   "cell_type": "code",
   "execution_count": null,
   "metadata": {
    "collapsed": false,
    "deletable": true,
    "editable": true
   },
   "outputs": [],
   "source": [
    "# Check documentation for variables in the sweepCut class\n",
    "help(sweepCut.__init__)"
   ]
  },
  {
   "cell_type": "code",
   "execution_count": null,
   "metadata": {
    "collapsed": false,
    "deletable": true,
    "editable": true
   },
   "outputs": [],
   "source": [
    "# Example on how to check documentation for a function in the sweepCut class.\n",
    "help(sweepCut.sweep_cut_cpp)"
   ]
  },
  {
   "cell_type": "code",
   "execution_count": null,
   "metadata": {
    "collapsed": false,
    "deletable": true,
    "editable": true
   },
   "outputs": [],
   "source": [
    "# To get the names of other functions from the sweepCut class run\n",
    "sweepCut.__dict__"
   ]
  },
  {
   "cell_type": "code",
   "execution_count": null,
   "metadata": {
    "collapsed": false,
    "deletable": true,
    "editable": true
   },
   "outputs": [],
   "source": [
    "# Define graph object\n",
    "sweep_object = sweepCut()"
   ]
  },
  {
   "cell_type": "code",
   "execution_count": null,
   "metadata": {
    "collapsed": false,
    "deletable": true,
    "editable": true
   },
   "outputs": [],
   "source": [
    "# First example on using the Python version of SweepCut.\n",
    "start = time.time()\n",
    "\n",
    "sweep_object.sweep_normalized(lc.node_embedding_fista,g)\n",
    "\n",
    "end = time.time()\n",
    "print(\"Time:\", end - start)"
   ]
  },
  {
   "cell_type": "code",
   "execution_count": null,
   "metadata": {
    "collapsed": false,
    "deletable": true,
    "editable": true
   },
   "outputs": [],
   "source": [
    "# Second example on using the C++ version of SweepCut\n",
    "start = time.time()\n",
    "\n",
    "sweep_object.sweep_cut_cpp(lc.node_embedding_fista,g) \n",
    "\n",
    "end = time.time()\n",
    "print(\"Time:\", end - start)"
   ]
  },
  {
   "cell_type": "code",
   "execution_count": null,
   "metadata": {
    "collapsed": false,
    "deletable": true,
    "editable": true
   },
   "outputs": [],
   "source": [
    "# Third example another Python rounding procedure from SweepCut.\n",
    "start = time.time()\n",
    "\n",
    "sweep_object.sweep_general(lc.node_embedding_fista,g)\n",
    "\n",
    "end = time.time()\n",
    "print(\"Time:\", end - start)"
   ]
  },
  {
   "cell_type": "markdown",
   "metadata": {
    "collapsed": true,
    "deletable": true,
    "editable": true
   },
   "source": [
    "# How to use global clustering method"
   ]
  },
  {
   "cell_type": "code",
   "execution_count": null,
   "metadata": {
    "collapsed": false,
    "deletable": true,
    "editable": true
   },
   "outputs": [],
   "source": [
    "node_embedding, best_cluster, best_conductance, sweep_profile = eig2_nL(g, tol_eigs = 1.0e-6)"
   ]
  },
  {
   "cell_type": "code",
   "execution_count": null,
   "metadata": {
    "collapsed": false,
    "deletable": true,
    "editable": true
   },
   "outputs": [],
   "source": []
  },
  {
   "cell_type": "code",
   "execution_count": null,
   "metadata": {
    "collapsed": false,
    "deletable": true,
    "editable": true
   },
   "outputs": [],
   "source": []
  },
  {
   "cell_type": "code",
   "execution_count": null,
   "metadata": {
    "collapsed": false,
    "deletable": true,
    "editable": true
   },
   "outputs": [],
   "source": []
  },
  {
   "cell_type": "code",
   "execution_count": null,
   "metadata": {
    "collapsed": false,
    "deletable": true,
    "editable": true
   },
   "outputs": [],
   "source": []
  },
  {
   "cell_type": "code",
   "execution_count": null,
   "metadata": {
    "collapsed": false,
    "deletable": true,
    "editable": true
   },
   "outputs": [],
   "source": []
  },
  {
   "cell_type": "code",
   "execution_count": null,
   "metadata": {
    "collapsed": false,
    "deletable": true,
    "editable": true
   },
   "outputs": [],
   "source": []
  },
  {
   "cell_type": "code",
   "execution_count": null,
   "metadata": {
    "collapsed": false,
    "deletable": true,
    "editable": true
   },
   "outputs": [],
   "source": []
  },
  {
   "cell_type": "code",
   "execution_count": null,
   "metadata": {
    "collapsed": true,
    "deletable": true,
    "editable": true
   },
   "outputs": [],
   "source": []
  }
 ],
 "metadata": {
  "kernelspec": {
   "display_name": "Python 2",
   "language": "python",
   "name": "python2"
  },
  "language_info": {
   "codemirror_mode": {
    "name": "ipython",
    "version": 2
   },
   "file_extension": ".py",
   "mimetype": "text/x-python",
   "name": "python",
   "nbconvert_exporter": "python",
   "pygments_lexer": "ipython2",
   "version": "2.7.13"
  }
 },
 "nbformat": 4,
 "nbformat_minor": 0
}
