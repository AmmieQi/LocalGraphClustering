{
 "cells": [
  {
   "cell_type": "code",
   "execution_count": 1,
   "metadata": {},
   "outputs": [],
   "source": [
    "import localgraphclustering as lgc\n",
    "\n",
    "import time\n",
    "import numpy as np"
   ]
  },
  {
   "cell_type": "markdown",
   "metadata": {},
   "source": [
    "# Memory and time efficient loading of graphs. Memory and time grows linearly w.r.t the number of edges."
   ]
  },
  {
   "cell_type": "code",
   "execution_count": 2,
   "metadata": {
    "scrolled": true
   },
   "outputs": [
    {
     "name": "stdout",
     "output_type": "stream",
     "text": [
      "running time: 472.59764194488525s\n"
     ]
    }
   ],
   "source": [
    "# Download this dataset from http://snap.stanford.edu/data/com-Orkut.html\n",
    "# This dataset has 3,072,441 nodes and 117,185,083 edges.\n",
    "# Loading this graph requires about 9GB of memory and 140 seconds on Macbook Pro 2016 with\n",
    "# 2.9 GHz Intel Core i7, 16GB 2133 MHz LPDD3.\n",
    "start = time.time()\n",
    "g = lgc.graph_class_local('/Users/kimonfountoulakis/Downloads/com-orkut.ungraph.edgelist','edgelist','\\t')\n",
    "end = time.time()\n",
    "print(\"running time:\",str(end-start)+\"s\")"
   ]
  },
  {
   "cell_type": "markdown",
   "metadata": {},
   "source": [
    "# The routines below are applicable for scalable local graph clustering analytics; low memory requirements and fast running time. The memory and running time requirements are of the order of the volume of target cluster instead of the order of the volume of the graph."
   ]
  },
  {
   "cell_type": "code",
   "execution_count": null,
   "metadata": {},
   "outputs": [],
   "source": []
  },
  {
   "cell_type": "markdown",
   "metadata": {},
   "source": [
    "# Call Approximate PageRank"
   ]
  },
  {
   "cell_type": "code",
   "execution_count": 3,
   "metadata": {},
   "outputs": [
    {
     "name": "stdout",
     "output_type": "stream",
     "text": [
      "Uses the Andersen Chung and Lang (ACL) Algorithm.\n",
      "running time: 0.7211651802062988s\n"
     ]
    }
   ],
   "source": [
    "start = time.time()\n",
    "\n",
    "reference_node = 3215\n",
    "\n",
    "# Find an approximate PageRank vector by calling a C++ code.\n",
    "output_pr_fast = lgc.approximate_PageRank(g,[reference_node],cpp = True)\n",
    "\n",
    "end = time.time()\n",
    "print(\"running time:\",str(end-start)+\"s\")"
   ]
  },
  {
   "cell_type": "markdown",
   "metadata": {
    "collapsed": true
   },
   "source": [
    "# Round the output of Approximate PageRank"
   ]
  },
  {
   "cell_type": "code",
   "execution_count": 4,
   "metadata": {},
   "outputs": [
    {
     "name": "stdout",
     "output_type": "stream",
     "text": [
      "running time: 1.3542461395263672s\n"
     ]
    }
   ],
   "source": [
    "start = time.time()\n",
    "\n",
    "# Call C++ version of sweep cut rounding on the l1-regularized PageRank solution.\n",
    "output_sc_fast = lgc.sweep_cut(g,output_pr_fast,cpp = True)\n",
    "\n",
    "end = time.time()\n",
    "print(\"running time:\",str(end-start)+\"s\")"
   ]
  },
  {
   "cell_type": "markdown",
   "metadata": {
    "collapsed": true
   },
   "source": [
    "# Memory efficient NCP"
   ]
  },
  {
   "cell_type": "code",
   "execution_count": 5,
   "metadata": {},
   "outputs": [
    {
     "name": "stdout",
     "output_type": "stream",
     "text": [
      "Uses the Andersen Chung and Lang (ACL) Algorithm.\n",
      "Uses the Andersen Chung and Lang (ACL) Algorithm.\n",
      "Uses the Andersen Chung and Lang (ACL) Algorithm.\n",
      "Uses the Andersen Chung and Lang (ACL) Algorithm.\n",
      "Uses the Andersen Chung and Lang (ACL) Algorithm.\n",
      "Uses the Andersen Chung and Lang (ACL) Algorithm.\n",
      "Uses the Andersen Chung and Lang (ACL) Algorithm.\n",
      "Uses the Andersen Chung and Lang (ACL) Algorithm.\n",
      "Uses the Andersen Chung and Lang (ACL) Algorithm.\n",
      "Uses the Andersen Chung and Lang (ACL) Algorithm.\n",
      "Uses the Andersen Chung and Lang (ACL) Algorithm.\n",
      "Uses the Andersen Chung and Lang (ACL) Algorithm.\n",
      "Uses the Andersen Chung and Lang (ACL) Algorithm.\n",
      "Uses the Andersen Chung and Lang (ACL) Algorithm.\n",
      "Uses the Andersen Chung and Lang (ACL) Algorithm.\n",
      "Uses the Andersen Chung and Lang (ACL) Algorithm.\n",
      "Uses the Andersen Chung and Lang (ACL) Algorithm.\n",
      "Uses the Andersen Chung and Lang (ACL) Algorithm.\n",
      "Uses the Andersen Chung and Lang (ACL) Algorithm.\n",
      "Uses the Andersen Chung and Lang (ACL) Algorithm.\n",
      "Uses the Andersen Chung and Lang (ACL) Algorithm.\n",
      "Uses the Andersen Chung and Lang (ACL) Algorithm.\n",
      "Uses the Andersen Chung and Lang (ACL) Algorithm.\n",
      "Uses the Andersen Chung and Lang (ACL) Algorithm.\n",
      "Uses the Andersen Chung and Lang (ACL) Algorithm.\n",
      "Uses the Andersen Chung and Lang (ACL) Algorithm.\n",
      "Uses the Andersen Chung and Lang (ACL) Algorithm.\n",
      "Uses the Andersen Chung and Lang (ACL) Algorithm.\n",
      "Uses the Andersen Chung and Lang (ACL) Algorithm.\n",
      "Uses the Andersen Chung and Lang (ACL) Algorithm.\n",
      "Uses the Andersen Chung and Lang (ACL) Algorithm.\n",
      "Uses the Andersen Chung and Lang (ACL) Algorithm.\n",
      "Uses the Andersen Chung and Lang (ACL) Algorithm.\n",
      "Uses the Andersen Chung and Lang (ACL) Algorithm.\n",
      "Uses the Andersen Chung and Lang (ACL) Algorithm.\n",
      "Uses the Andersen Chung and Lang (ACL) Algorithm.\n",
      "Uses the Andersen Chung and Lang (ACL) Algorithm.\n",
      "Uses the Andersen Chung and Lang (ACL) Algorithm.\n",
      "Uses the Andersen Chung and Lang (ACL) Algorithm.\n",
      "Uses the Andersen Chung and Lang (ACL) Algorithm.\n",
      "Uses the Andersen Chung and Lang (ACL) Algorithm.\n",
      "Uses the Andersen Chung and Lang (ACL) Algorithm.\n",
      "Uses the Andersen Chung and Lang (ACL) Algorithm.\n",
      "Uses the Andersen Chung and Lang (ACL) Algorithm.\n",
      "Uses the Andersen Chung and Lang (ACL) Algorithm.\n",
      "Uses the Andersen Chung and Lang (ACL) Algorithm.\n",
      "Uses the Andersen Chung and Lang (ACL) Algorithm.Uses the Andersen Chung and Lang (ACL) Algorithm.\n",
      "\n",
      "Uses the Andersen Chung and Lang (ACL) Algorithm.\n",
      "Uses the Andersen Chung and Lang (ACL) Algorithm.\n",
      "Uses the Andersen Chung and Lang (ACL) Algorithm.\n",
      "Uses the Andersen Chung and Lang (ACL) Algorithm.\n",
      "Uses the Andersen Chung and Lang (ACL) Algorithm.\n",
      "Uses the Andersen Chung and Lang (ACL) Algorithm.\n",
      "Uses the Andersen Chung and Lang (ACL) Algorithm.\n",
      "Uses the Andersen Chung and Lang (ACL) Algorithm.\n",
      "Uses the Andersen Chung and Lang (ACL) Algorithm.\n",
      "Uses the Andersen Chung and Lang (ACL) Algorithm.\n",
      "Uses the Andersen Chung and Lang (ACL) Algorithm.\n",
      "Uses the Andersen Chung and Lang (ACL) Algorithm.\n",
      "Uses the Andersen Chung and Lang (ACL) Algorithm.\n",
      "Uses the Andersen Chung and Lang (ACL) Algorithm.\n",
      "Uses the Andersen Chung and Lang (ACL) Algorithm.\n",
      "Uses the Andersen Chung and Lang (ACL) Algorithm.\n",
      "Uses the Andersen Chung and Lang (ACL) Algorithm.\n",
      "Uses the Andersen Chung and Lang (ACL) Algorithm.\n",
      "Uses the Andersen Chung and Lang (ACL) Algorithm.\n",
      "Uses the Andersen Chung and Lang (ACL) Algorithm.\n",
      "Uses the Andersen Chung and Lang (ACL) Algorithm.\n",
      "Uses the Andersen Chung and Lang (ACL) Algorithm.\n",
      "Uses the Andersen Chung and Lang (ACL) Algorithm.\n",
      "Uses the Andersen Chung and Lang (ACL) Algorithm.\n",
      "Uses the Andersen Chung and Lang (ACL) Algorithm.\n",
      "Uses the Andersen Chung and Lang (ACL) Algorithm.\n",
      "Uses the Andersen Chung and Lang (ACL) Algorithm.\n",
      "Uses the Andersen Chung and Lang (ACL) Algorithm.\n",
      "Uses the Andersen Chung and Lang (ACL) Algorithm.\n",
      "Uses the Andersen Chung and Lang (ACL) Algorithm.\n",
      "Uses the Andersen Chung and Lang (ACL) Algorithm.\n",
      "Uses the Andersen Chung and Lang (ACL) Algorithm.\n",
      "Uses the Andersen Chung and Lang (ACL) Algorithm.\n",
      "Uses the Andersen Chung and Lang (ACL) Algorithm.\n",
      "Uses the Andersen Chung and Lang (ACL) Algorithm.\n",
      "Uses the Andersen Chung and Lang (ACL) Algorithm.\n",
      "Uses the Andersen Chung and Lang (ACL) Algorithm.\n",
      "Uses the Andersen Chung and Lang (ACL) Algorithm.\n",
      "Uses the Andersen Chung and Lang (ACL) Algorithm.\n",
      "Uses the Andersen Chung and Lang (ACL) Algorithm.\n",
      "Uses the Andersen Chung and Lang (ACL) Algorithm.\n",
      "Uses the Andersen Chung and Lang (ACL) Algorithm.\n",
      "Uses the Andersen Chung and Lang (ACL) Algorithm.\n",
      "Uses the Andersen Chung and Lang (ACL) Algorithm.\n",
      "Uses the Andersen Chung and Lang (ACL) Algorithm.\n",
      "Uses the Andersen Chung and Lang (ACL) Algorithm.\n",
      "Uses the Andersen Chung and Lang (ACL) Algorithm.\n",
      "Uses the Andersen Chung and Lang (ACL) Algorithm.\n",
      "Uses the Andersen Chung and Lang (ACL) Algorithm.\n",
      "Uses the Andersen Chung and Lang (ACL) Algorithm.\n",
      "Uses the Andersen Chung and Lang (ACL) Algorithm.\n",
      "Uses the Andersen Chung and Lang (ACL) Algorithm.\n",
      "Uses the Andersen Chung and Lang (ACL) Algorithm.\n",
      "Uses the Andersen Chung and Lang (ACL) Algorithm.\n",
      "Uses the Andersen Chung and Lang (ACL) Algorithm.\n",
      "Uses the Andersen Chung and Lang (ACL) Algorithm.\n",
      "Uses the Andersen Chung and Lang (ACL) Algorithm.\n",
      "Uses the Andersen Chung and Lang (ACL) Algorithm.\n",
      "Uses the Andersen Chung and Lang (ACL) Algorithm.\n",
      "Uses the Andersen Chung and Lang (ACL) Algorithm.\n",
      "Uses the Andersen Chung and Lang (ACL) Algorithm.\n",
      "Uses the Andersen Chung and Lang (ACL) Algorithm.\n",
      "Uses the Andersen Chung and Lang (ACL) Algorithm.\n",
      "Uses the Andersen Chung and Lang (ACL) Algorithm.\n",
      "Uses the Andersen Chung and Lang (ACL) Algorithm.\n",
      "Uses the Andersen Chung and Lang (ACL) Algorithm.\n",
      "Uses the Andersen Chung and Lang (ACL) Algorithm.\n",
      "Uses the Andersen Chung and Lang (ACL) Algorithm.\n",
      "Uses the Andersen Chung and Lang (ACL) Algorithm.\n",
      "Uses the Andersen Chung and Lang (ACL) Algorithm.\n",
      "Uses the Andersen Chung and Lang (ACL) Algorithm.\n",
      "Uses the Andersen Chung and Lang (ACL) Algorithm.\n",
      "Uses the Andersen Chung and Lang (ACL) Algorithm.\n",
      "Uses the Andersen Chung and Lang (ACL) Algorithm.\n",
      "Uses the Andersen Chung and Lang (ACL) Algorithm.\n",
      "Uses the Andersen Chung and Lang (ACL) Algorithm.\n",
      "Uses the Andersen Chung and Lang (ACL) Algorithm.\n",
      "Uses the Andersen Chung and Lang (ACL) Algorithm.\n",
      "Uses the Andersen Chung and Lang (ACL) Algorithm.Uses the Andersen Chung and Lang (ACL) Algorithm.\n",
      "\n",
      "Uses the Andersen Chung and Lang (ACL) Algorithm.\n",
      "Uses the Andersen Chung and Lang (ACL) Algorithm.\n",
      "Uses the Andersen Chung and Lang (ACL) Algorithm.\n",
      "Uses the Andersen Chung and Lang (ACL) Algorithm.\n",
      "Uses the Andersen Chung and Lang (ACL) Algorithm.\n",
      "Uses the Andersen Chung and Lang (ACL) Algorithm.\n",
      "Uses the Andersen Chung and Lang (ACL) Algorithm.\n",
      "Uses the Andersen Chung and Lang (ACL) Algorithm.\n",
      "Uses the Andersen Chung and Lang (ACL) Algorithm.\n",
      "Uses the Andersen Chung and Lang (ACL) Algorithm.\n",
      "Uses the Andersen Chung and Lang (ACL) Algorithm.\n",
      "Uses the Andersen Chung and Lang (ACL) Algorithm.\n",
      "Uses the Andersen Chung and Lang (ACL) Algorithm.\n",
      "Uses the Andersen Chung and Lang (ACL) Algorithm.\n",
      "Uses the Andersen Chung and Lang (ACL) Algorithm.\n",
      "Uses the Andersen Chung and Lang (ACL) Algorithm.\n",
      "Uses the Andersen Chung and Lang (ACL) Algorithm.\n",
      "Uses the Andersen Chung and Lang (ACL) Algorithm.\n"
     ]
    },
    {
     "ename": "KeyboardInterrupt",
     "evalue": "",
     "output_type": "error",
     "traceback": [
      "\u001b[0;31m---------------------------------------------------------------------------\u001b[0m",
      "\u001b[0;31mKeyboardInterrupt\u001b[0m                         Traceback (most recent call last)",
      "\u001b[0;32m<ipython-input-5-daaff443510d>\u001b[0m in \u001b[0;36m<module>\u001b[0;34m()\u001b[0m\n\u001b[1;32m      2\u001b[0m \u001b[0;34m\u001b[0m\u001b[0m\n\u001b[1;32m      3\u001b[0m \u001b[0mncp_instance\u001b[0m \u001b[0;34m=\u001b[0m \u001b[0mlgc\u001b[0m\u001b[0;34m.\u001b[0m\u001b[0mNCPData\u001b[0m\u001b[0;34m(\u001b[0m\u001b[0mg\u001b[0m\u001b[0;34m,\u001b[0m\u001b[0mdo_largest_component\u001b[0m\u001b[0;34m=\u001b[0m\u001b[0;32mFalse\u001b[0m\u001b[0;34m)\u001b[0m\u001b[0;34m\u001b[0m\u001b[0m\n\u001b[0;32m----> 4\u001b[0;31m \u001b[0mdf\u001b[0m \u001b[0;34m=\u001b[0m \u001b[0mncp_instance\u001b[0m\u001b[0;34m.\u001b[0m\u001b[0mapproxPageRank\u001b[0m\u001b[0;34m(\u001b[0m\u001b[0mratio\u001b[0m\u001b[0;34m=\u001b[0m\u001b[0;36m0.5\u001b[0m\u001b[0;34m,\u001b[0m\u001b[0mtimeout\u001b[0m\u001b[0;34m=\u001b[0m\u001b[0;36m7200\u001b[0m\u001b[0;34m)\u001b[0m\u001b[0;34m\u001b[0m\u001b[0m\n\u001b[0m\u001b[1;32m      5\u001b[0m \u001b[0mncp_plots\u001b[0m \u001b[0;34m=\u001b[0m \u001b[0mncpplots\u001b[0m\u001b[0;34m.\u001b[0m\u001b[0mNCPPlots\u001b[0m\u001b[0;34m(\u001b[0m\u001b[0mdf\u001b[0m\u001b[0;34m)\u001b[0m\u001b[0;34m\u001b[0m\u001b[0m\n\u001b[1;32m      6\u001b[0m \u001b[0;31m#plot conductance vs size\u001b[0m\u001b[0;34m\u001b[0m\u001b[0;34m\u001b[0m\u001b[0m\n",
      "\u001b[0;32m/usr/local/lib/python3.6/site-packages/localgraphclustering/ncp.py\u001b[0m in \u001b[0;36mapproxPageRank\u001b[0;34m(self, gamma, rholist, ratio, nthreads, timeout)\u001b[0m\n\u001b[1;32m    233\u001b[0m                     for rho in rholist}\n\u001b[1;32m    234\u001b[0m         \u001b[0;32mfor\u001b[0m \u001b[0mfunc\u001b[0m \u001b[0;32min\u001b[0m \u001b[0mfuncs\u001b[0m\u001b[0;34m.\u001b[0m\u001b[0mkeys\u001b[0m\u001b[0;34m(\u001b[0m\u001b[0;34m)\u001b[0m\u001b[0;34m:\u001b[0m\u001b[0;34m\u001b[0m\u001b[0m\n\u001b[0;32m--> 235\u001b[0;31m             \u001b[0mself\u001b[0m\u001b[0;34m.\u001b[0m\u001b[0madd_random_node_samples\u001b[0m\u001b[0;34m(\u001b[0m\u001b[0mmethod\u001b[0m\u001b[0;34m=\u001b[0m\u001b[0mfunc\u001b[0m\u001b[0;34m,\u001b[0m\u001b[0mmethodname\u001b[0m\u001b[0;34m=\u001b[0m\u001b[0mfuncs\u001b[0m\u001b[0;34m[\u001b[0m\u001b[0mfunc\u001b[0m\u001b[0;34m]\u001b[0m\u001b[0;34m,\u001b[0m\u001b[0mratio\u001b[0m\u001b[0;34m=\u001b[0m\u001b[0mratio\u001b[0m\u001b[0;34m,\u001b[0m\u001b[0mnthreads\u001b[0m\u001b[0;34m=\u001b[0m\u001b[0mnthreads\u001b[0m\u001b[0;34m,\u001b[0m\u001b[0mtimeout\u001b[0m\u001b[0;34m=\u001b[0m\u001b[0mtimeout\u001b[0m\u001b[0;34m/\u001b[0m\u001b[0mlen\u001b[0m\u001b[0;34m(\u001b[0m\u001b[0mfuncs\u001b[0m\u001b[0;34m)\u001b[0m\u001b[0;34m)\u001b[0m\u001b[0;34m\u001b[0m\u001b[0m\n\u001b[0m\u001b[1;32m    236\u001b[0m \u001b[0;34m\u001b[0m\u001b[0m\n\u001b[1;32m    237\u001b[0m \u001b[0;34m\u001b[0m\u001b[0m\n",
      "\u001b[0;32m/usr/local/lib/python3.6/site-packages/localgraphclustering/ncp.py\u001b[0m in \u001b[0;36madd_random_node_samples\u001b[0;34m(self, ratio, timeout, nthreads, method, methodname)\u001b[0m\n\u001b[1;32m    183\u001b[0m             \u001b[0mt\u001b[0m\u001b[0;34m.\u001b[0m\u001b[0mstart\u001b[0m\u001b[0;34m(\u001b[0m\u001b[0;34m)\u001b[0m\u001b[0;34m\u001b[0m\u001b[0m\n\u001b[1;32m    184\u001b[0m         \u001b[0;32mfor\u001b[0m \u001b[0mt\u001b[0m \u001b[0;32min\u001b[0m \u001b[0mthreads\u001b[0m\u001b[0;34m:\u001b[0m\u001b[0;34m\u001b[0m\u001b[0m\n\u001b[0;32m--> 185\u001b[0;31m             \u001b[0mt\u001b[0m\u001b[0;34m.\u001b[0m\u001b[0mjoin\u001b[0m\u001b[0;34m(\u001b[0m\u001b[0;34m)\u001b[0m\u001b[0;34m\u001b[0m\u001b[0m\n\u001b[0m\u001b[1;32m    186\u001b[0m \u001b[0;34m\u001b[0m\u001b[0m\n\u001b[1;32m    187\u001b[0m     \u001b[0;32mdef\u001b[0m \u001b[0madd_random_neighborhood_samples\u001b[0m\u001b[0;34m(\u001b[0m\u001b[0mself\u001b[0m\u001b[0;34m,\u001b[0m \u001b[0mratio\u001b[0m\u001b[0;34m=\u001b[0m\u001b[0;36m0.3\u001b[0m\u001b[0;34m,\u001b[0m \u001b[0mtimeout\u001b[0m\u001b[0;34m=\u001b[0m\u001b[0;36m1000\u001b[0m\u001b[0;34m,\u001b[0m \u001b[0mnthreads\u001b[0m\u001b[0;34m=\u001b[0m\u001b[0;36m4\u001b[0m\u001b[0;34m,\u001b[0m \u001b[0mmethod\u001b[0m\u001b[0;34m=\u001b[0m\u001b[0;32mNone\u001b[0m\u001b[0;34m,\u001b[0m \u001b[0mmethodname\u001b[0m\u001b[0;34m=\u001b[0m\u001b[0;32mNone\u001b[0m\u001b[0;34m)\u001b[0m\u001b[0;34m:\u001b[0m\u001b[0;34m\u001b[0m\u001b[0m\n",
      "\u001b[0;32m/usr/local/Cellar/python/3.6.4_4/Frameworks/Python.framework/Versions/3.6/lib/python3.6/threading.py\u001b[0m in \u001b[0;36mjoin\u001b[0;34m(self, timeout)\u001b[0m\n\u001b[1;32m   1054\u001b[0m \u001b[0;34m\u001b[0m\u001b[0m\n\u001b[1;32m   1055\u001b[0m         \u001b[0;32mif\u001b[0m \u001b[0mtimeout\u001b[0m \u001b[0;32mis\u001b[0m \u001b[0;32mNone\u001b[0m\u001b[0;34m:\u001b[0m\u001b[0;34m\u001b[0m\u001b[0m\n\u001b[0;32m-> 1056\u001b[0;31m             \u001b[0mself\u001b[0m\u001b[0;34m.\u001b[0m\u001b[0m_wait_for_tstate_lock\u001b[0m\u001b[0;34m(\u001b[0m\u001b[0;34m)\u001b[0m\u001b[0;34m\u001b[0m\u001b[0m\n\u001b[0m\u001b[1;32m   1057\u001b[0m         \u001b[0;32melse\u001b[0m\u001b[0;34m:\u001b[0m\u001b[0;34m\u001b[0m\u001b[0m\n\u001b[1;32m   1058\u001b[0m             \u001b[0;31m# the behavior of a negative timeout isn't documented, but\u001b[0m\u001b[0;34m\u001b[0m\u001b[0;34m\u001b[0m\u001b[0m\n",
      "\u001b[0;32m/usr/local/Cellar/python/3.6.4_4/Frameworks/Python.framework/Versions/3.6/lib/python3.6/threading.py\u001b[0m in \u001b[0;36m_wait_for_tstate_lock\u001b[0;34m(self, block, timeout)\u001b[0m\n\u001b[1;32m   1070\u001b[0m         \u001b[0;32mif\u001b[0m \u001b[0mlock\u001b[0m \u001b[0;32mis\u001b[0m \u001b[0;32mNone\u001b[0m\u001b[0;34m:\u001b[0m  \u001b[0;31m# already determined that the C code is done\u001b[0m\u001b[0;34m\u001b[0m\u001b[0m\n\u001b[1;32m   1071\u001b[0m             \u001b[0;32massert\u001b[0m \u001b[0mself\u001b[0m\u001b[0;34m.\u001b[0m\u001b[0m_is_stopped\u001b[0m\u001b[0;34m\u001b[0m\u001b[0m\n\u001b[0;32m-> 1072\u001b[0;31m         \u001b[0;32melif\u001b[0m \u001b[0mlock\u001b[0m\u001b[0;34m.\u001b[0m\u001b[0macquire\u001b[0m\u001b[0;34m(\u001b[0m\u001b[0mblock\u001b[0m\u001b[0;34m,\u001b[0m \u001b[0mtimeout\u001b[0m\u001b[0;34m)\u001b[0m\u001b[0;34m:\u001b[0m\u001b[0;34m\u001b[0m\u001b[0m\n\u001b[0m\u001b[1;32m   1073\u001b[0m             \u001b[0mlock\u001b[0m\u001b[0;34m.\u001b[0m\u001b[0mrelease\u001b[0m\u001b[0;34m(\u001b[0m\u001b[0;34m)\u001b[0m\u001b[0;34m\u001b[0m\u001b[0m\n\u001b[1;32m   1074\u001b[0m             \u001b[0mself\u001b[0m\u001b[0;34m.\u001b[0m\u001b[0m_stop\u001b[0m\u001b[0;34m(\u001b[0m\u001b[0;34m)\u001b[0m\u001b[0;34m\u001b[0m\u001b[0m\n",
      "\u001b[0;31mKeyboardInterrupt\u001b[0m: "
     ]
    },
    {
     "name": "stdout",
     "output_type": "stream",
     "text": [
      "Uses the Andersen Chung and Lang (ACL) Algorithm.\n",
      "Uses the Andersen Chung and Lang (ACL) Algorithm.\n",
      "Uses the Andersen Chung and Lang (ACL) Algorithm.\n",
      "Uses the Andersen Chung and Lang (ACL) Algorithm.\n",
      "Uses the Andersen Chung and Lang (ACL) Algorithm.\n",
      "Uses the Andersen Chung and Lang (ACL) Algorithm.\n",
      "Uses the Andersen Chung and Lang (ACL) Algorithm.\n",
      "Uses the Andersen Chung and Lang (ACL) Algorithm.\n",
      "Uses the Andersen Chung and Lang (ACL) Algorithm.\n",
      "Uses the Andersen Chung and Lang (ACL) Algorithm.\n",
      "Uses the Andersen Chung and Lang (ACL) Algorithm.\n",
      "Uses the Andersen Chung and Lang (ACL) Algorithm.\n",
      "Uses the Andersen Chung and Lang (ACL) Algorithm.\n",
      "Uses the Andersen Chung and Lang (ACL) Algorithm.\n",
      "Uses the Andersen Chung and Lang (ACL) Algorithm.\n",
      "Uses the Andersen Chung and Lang (ACL) Algorithm.\n",
      "Uses the Andersen Chung and Lang (ACL) Algorithm.\n",
      "Uses the Andersen Chung and Lang (ACL) Algorithm.\n",
      "Uses the Andersen Chung and Lang (ACL) Algorithm.\n",
      "Uses the Andersen Chung and Lang (ACL) Algorithm.\n",
      "Uses the Andersen Chung and Lang (ACL) Algorithm.\n",
      "Uses the Andersen Chung and Lang (ACL) Algorithm.\n",
      "Uses the Andersen Chung and Lang (ACL) Algorithm.\n",
      "Uses the Andersen Chung and Lang (ACL) Algorithm.\n",
      "Uses the Andersen Chung and Lang (ACL) Algorithm.\n",
      "Uses the Andersen Chung and Lang (ACL) Algorithm.\n",
      "Uses the Andersen Chung and Lang (ACL) Algorithm.\n",
      "Uses the Andersen Chung and Lang (ACL) Algorithm.\n",
      "Uses the Andersen Chung and Lang (ACL) Algorithm.\n",
      "Uses the Andersen Chung and Lang (ACL) Algorithm.\n",
      "Uses the Andersen Chung and Lang (ACL) Algorithm.\n",
      "Uses the Andersen Chung and Lang (ACL) Algorithm.\n",
      "Uses the Andersen Chung and Lang (ACL) Algorithm.\n",
      "Uses the Andersen Chung and Lang (ACL) Algorithm.\n",
      "Uses the Andersen Chung and Lang (ACL) Algorithm.\n",
      "Uses the Andersen Chung and Lang (ACL) Algorithm.\n",
      "Uses the Andersen Chung and Lang (ACL) Algorithm.Uses the Andersen Chung and Lang (ACL) Algorithm.\n",
      "\n",
      "Uses the Andersen Chung and Lang (ACL) Algorithm.\n",
      "Uses the Andersen Chung and Lang (ACL) Algorithm.\n",
      "Uses the Andersen Chung and Lang (ACL) Algorithm.\n",
      "Uses the Andersen Chung and Lang (ACL) Algorithm.\n",
      "Uses the Andersen Chung and Lang (ACL) Algorithm.\n",
      "Uses the Andersen Chung and Lang (ACL) Algorithm.\n",
      "Uses the Andersen Chung and Lang (ACL) Algorithm.\n",
      "Uses the Andersen Chung and Lang (ACL) Algorithm.\n",
      "Uses the Andersen Chung and Lang (ACL) Algorithm.\n",
      "Uses the Andersen Chung and Lang (ACL) Algorithm.\n",
      "Uses the Andersen Chung and Lang (ACL) Algorithm.Uses the Andersen Chung and Lang (ACL) Algorithm.\n",
      "\n",
      "Uses the Andersen Chung and Lang (ACL) Algorithm.\n",
      "Uses the Andersen Chung and Lang (ACL) Algorithm.\n",
      "Uses the Andersen Chung and Lang (ACL) Algorithm.\n",
      "Uses the Andersen Chung and Lang (ACL) Algorithm.\n",
      "Uses the Andersen Chung and Lang (ACL) Algorithm.\n",
      "Uses the Andersen Chung and Lang (ACL) Algorithm.\n",
      "Uses the Andersen Chung and Lang (ACL) Algorithm.\n",
      "Uses the Andersen Chung and Lang (ACL) Algorithm.Uses the Andersen Chung and Lang (ACL) Algorithm.\n",
      "\n",
      "Uses the Andersen Chung and Lang (ACL) Algorithm.\n",
      "Uses the Andersen Chung and Lang (ACL) Algorithm.\n",
      "Uses the Andersen Chung and Lang (ACL) Algorithm.\n",
      "Uses the Andersen Chung and Lang (ACL) Algorithm.\n",
      "Uses the Andersen Chung and Lang (ACL) Algorithm.\n",
      "Uses the Andersen Chung and Lang (ACL) Algorithm.\n",
      "Uses the Andersen Chung and Lang (ACL) Algorithm.\n",
      "Uses the Andersen Chung and Lang (ACL) Algorithm.\n",
      "Uses the Andersen Chung and Lang (ACL) Algorithm.\n",
      "Uses the Andersen Chung and Lang (ACL) Algorithm.\n",
      "Uses the Andersen Chung and Lang (ACL) Algorithm.\n",
      "Uses the Andersen Chung and Lang (ACL) Algorithm.\n",
      "Uses the Andersen Chung and Lang (ACL) Algorithm.\n",
      "Uses the Andersen Chung and Lang (ACL) Algorithm.\n",
      "Uses the Andersen Chung and Lang (ACL) Algorithm.\n",
      "Uses the Andersen Chung and Lang (ACL) Algorithm.\n",
      "Uses the Andersen Chung and Lang (ACL) Algorithm.\n",
      "Uses the Andersen Chung and Lang (ACL) Algorithm.\n",
      "Uses the Andersen Chung and Lang (ACL) Algorithm.\n",
      "Uses the Andersen Chung and Lang (ACL) Algorithm.Uses the Andersen Chung and Lang (ACL) Algorithm.\n",
      "\n",
      "Uses the Andersen Chung and Lang (ACL) Algorithm.\n",
      "Uses the Andersen Chung and Lang (ACL) Algorithm.\n",
      "Uses the Andersen Chung and Lang (ACL) Algorithm.\n",
      "Uses the Andersen Chung and Lang (ACL) Algorithm.\n",
      "Uses the Andersen Chung and Lang (ACL) Algorithm.\n",
      "Uses the Andersen Chung and Lang (ACL) Algorithm.\n",
      "Uses the Andersen Chung and Lang (ACL) Algorithm.\n",
      "Uses the Andersen Chung and Lang (ACL) Algorithm.\n",
      "Uses the Andersen Chung and Lang (ACL) Algorithm.\n",
      "Uses the Andersen Chung and Lang (ACL) Algorithm.\n",
      "Uses the Andersen Chung and Lang (ACL) Algorithm.Uses the Andersen Chung and Lang (ACL) Algorithm.\n",
      "\n",
      "Uses the Andersen Chung and Lang (ACL) Algorithm.\n",
      "Uses the Andersen Chung and Lang (ACL) Algorithm.\n",
      "Uses the Andersen Chung and Lang (ACL) Algorithm.\n",
      "Uses the Andersen Chung and Lang (ACL) Algorithm.\n",
      "Uses the Andersen Chung and Lang (ACL) Algorithm.\n",
      "Uses the Andersen Chung and Lang (ACL) Algorithm.Uses the Andersen Chung and Lang (ACL) Algorithm.\n",
      "\n",
      "Uses the Andersen Chung and Lang (ACL) Algorithm.\n",
      "Uses the Andersen Chung and Lang (ACL) Algorithm.\n",
      "Uses the Andersen Chung and Lang (ACL) Algorithm.\n",
      "Uses the Andersen Chung and Lang (ACL) Algorithm.\n",
      "Uses the Andersen Chung and Lang (ACL) Algorithm.\n",
      "Uses the Andersen Chung and Lang (ACL) Algorithm.\n",
      "Uses the Andersen Chung and Lang (ACL) Algorithm.\n",
      "Uses the Andersen Chung and Lang (ACL) Algorithm.\n",
      "Uses the Andersen Chung and Lang (ACL) Algorithm.\n",
      "Uses the Andersen Chung and Lang (ACL) Algorithm.\n",
      "Uses the Andersen Chung and Lang (ACL) Algorithm.\n",
      "Uses the Andersen Chung and Lang (ACL) Algorithm.\n",
      "Uses the Andersen Chung and Lang (ACL) Algorithm.\n",
      "Uses the Andersen Chung and Lang (ACL) Algorithm.\n",
      "Uses the Andersen Chung and Lang (ACL) Algorithm.Uses the Andersen Chung and Lang (ACL) Algorithm.\n",
      "\n",
      "Uses the Andersen Chung and Lang (ACL) Algorithm.\n"
     ]
    }
   ],
   "source": [
    "start = time.time()\n",
    "\n",
    "ncp_instance = lgc.NCPData(g,do_largest_component=False)\n",
    "df = ncp_instance.approxPageRank(ratio=0.5,timeout=7200)\n",
    "ncp_plots = ncpplots.NCPPlots(df)\n",
    "#plot conductance vs size\n",
    "ncp_plots.cond_by_size()\n",
    "#plot conductance vs volume\n",
    "ncp_plots.cond_by_vol()\n",
    "#plot isoperimetry vs size\n",
    "ncp_plots.isop_by_size()\n",
    "\n",
    "end = time.time()\n",
    "print(\"running time:\",str(end-start)+\"s\")"
   ]
  },
  {
   "cell_type": "markdown",
   "metadata": {
    "collapsed": true
   },
   "source": [
    "# Compute the Network Community Profile of the largest component of the graph."
   ]
  },
  {
   "cell_type": "code",
   "execution_count": 6,
   "metadata": {},
   "outputs": [
    {
     "name": "stdout",
     "output_type": "stream",
     "text": [
      "Uses the Andersen Chung and Lang (ACL) Algorithm.\n",
      "Uses the Andersen Chung and Lang (ACL) Algorithm.\n",
      "Uses the Andersen Chung and Lang (ACL) Algorithm.\n",
      "Uses the Andersen Chung and Lang (ACL) Algorithm.\n",
      "Uses the Andersen Chung and Lang (ACL) Algorithm.\n",
      "Uses the Andersen Chung and Lang (ACL) Algorithm.\n",
      "Uses the Andersen Chung and Lang (ACL) Algorithm.\n",
      "Uses the Andersen Chung and Lang (ACL) Algorithm.\n",
      "Uses the Andersen Chung and Lang (ACL) Algorithm.\n",
      "Uses the Andersen Chung and Lang (ACL) Algorithm.\n",
      "Uses the Andersen Chung and Lang (ACL) Algorithm.\n",
      "Uses the Andersen Chung and Lang (ACL) Algorithm.\n",
      "Uses the Andersen Chung and Lang (ACL) Algorithm.\n",
      "Uses the Andersen Chung and Lang (ACL) Algorithm.\n",
      "Uses the Andersen Chung and Lang (ACL) Algorithm.\n",
      "Uses the Andersen Chung and Lang (ACL) Algorithm.\n",
      "Uses the Andersen Chung and Lang (ACL) Algorithm.\n",
      "Uses the Andersen Chung and Lang (ACL) Algorithm.\n",
      "Uses the Andersen Chung and Lang (ACL) Algorithm.\n",
      "Uses the Andersen Chung and Lang (ACL) Algorithm.\n",
      "Uses the Andersen Chung and Lang (ACL) Algorithm.\n",
      "Uses the Andersen Chung and Lang (ACL) Algorithm.\n",
      "Uses the Andersen Chung and Lang (ACL) Algorithm.\n",
      "Uses the Andersen Chung and Lang (ACL) Algorithm.\n",
      "Uses the Andersen Chung and Lang (ACL) Algorithm.\n"
     ]
    },
    {
     "ename": "KeyboardInterrupt",
     "evalue": "",
     "output_type": "error",
     "traceback": [
      "\u001b[0;31m---------------------------------------------------------------------------\u001b[0m",
      "\u001b[0;31mKeyboardInterrupt\u001b[0m                         Traceback (most recent call last)",
      "\u001b[0;32m<ipython-input-6-494902f97e65>\u001b[0m in \u001b[0;36m<module>\u001b[0;34m()\u001b[0m\n\u001b[1;32m      4\u001b[0m \u001b[0mstart\u001b[0m \u001b[0;34m=\u001b[0m \u001b[0mtime\u001b[0m\u001b[0;34m.\u001b[0m\u001b[0mtime\u001b[0m\u001b[0;34m(\u001b[0m\u001b[0;34m)\u001b[0m\u001b[0;34m\u001b[0m\u001b[0m\n\u001b[1;32m      5\u001b[0m \u001b[0;34m\u001b[0m\u001b[0m\n\u001b[0;32m----> 6\u001b[0;31m \u001b[0mncp_instance\u001b[0m \u001b[0;34m=\u001b[0m \u001b[0mlgc\u001b[0m\u001b[0;34m.\u001b[0m\u001b[0mNCPData\u001b[0m\u001b[0;34m(\u001b[0m\u001b[0mg\u001b[0m\u001b[0;34m,\u001b[0m\u001b[0mdo_largest_component\u001b[0m\u001b[0;34m=\u001b[0m\u001b[0;32mTrue\u001b[0m\u001b[0;34m)\u001b[0m\u001b[0;34m\u001b[0m\u001b[0m\n\u001b[0m\u001b[1;32m      7\u001b[0m \u001b[0mdf\u001b[0m \u001b[0;34m=\u001b[0m \u001b[0mncp_instance\u001b[0m\u001b[0;34m.\u001b[0m\u001b[0mapproxPageRank\u001b[0m\u001b[0;34m(\u001b[0m\u001b[0mratio\u001b[0m\u001b[0;34m=\u001b[0m\u001b[0;36m0.5\u001b[0m\u001b[0;34m,\u001b[0m\u001b[0mtimeout\u001b[0m\u001b[0;34m=\u001b[0m\u001b[0;36m7200\u001b[0m\u001b[0;34m)\u001b[0m\u001b[0;34m\u001b[0m\u001b[0m\n\u001b[1;32m      8\u001b[0m \u001b[0mncp_plots\u001b[0m \u001b[0;34m=\u001b[0m \u001b[0mncpplots\u001b[0m\u001b[0;34m.\u001b[0m\u001b[0mNCPPlots\u001b[0m\u001b[0;34m(\u001b[0m\u001b[0mdf\u001b[0m\u001b[0;34m)\u001b[0m\u001b[0;34m\u001b[0m\u001b[0m\n",
      "\u001b[0;32m/usr/local/lib/python3.6/site-packages/localgraphclustering/ncp.py\u001b[0m in \u001b[0;36m__init__\u001b[0;34m(self, graph, setfuncs, input_stats, do_largest_component)\u001b[0m\n\u001b[1;32m     92\u001b[0m     \u001b[0;32mdef\u001b[0m \u001b[0m__init__\u001b[0m\u001b[0;34m(\u001b[0m\u001b[0mself\u001b[0m\u001b[0;34m,\u001b[0m \u001b[0mgraph\u001b[0m\u001b[0;34m,\u001b[0m \u001b[0msetfuncs\u001b[0m\u001b[0;34m=\u001b[0m\u001b[0;34m[\u001b[0m\u001b[0;34m]\u001b[0m\u001b[0;34m,\u001b[0m \u001b[0minput_stats\u001b[0m\u001b[0;34m=\u001b[0m\u001b[0;32mTrue\u001b[0m\u001b[0;34m,\u001b[0m \u001b[0mdo_largest_component\u001b[0m\u001b[0;34m=\u001b[0m\u001b[0;32mTrue\u001b[0m\u001b[0;34m)\u001b[0m\u001b[0;34m:\u001b[0m\u001b[0;34m\u001b[0m\u001b[0m\n\u001b[1;32m     93\u001b[0m         \u001b[0;32mif\u001b[0m \u001b[0mdo_largest_component\u001b[0m\u001b[0;34m:\u001b[0m\u001b[0;34m\u001b[0m\u001b[0m\n\u001b[0;32m---> 94\u001b[0;31m             \u001b[0mself\u001b[0m\u001b[0;34m.\u001b[0m\u001b[0mgraph\u001b[0m \u001b[0;34m=\u001b[0m \u001b[0mgraph\u001b[0m\u001b[0;34m.\u001b[0m\u001b[0mlargest_component\u001b[0m\u001b[0;34m(\u001b[0m\u001b[0;34m)\u001b[0m\u001b[0;34m\u001b[0m\u001b[0m\n\u001b[0m\u001b[1;32m     95\u001b[0m         \u001b[0;32melse\u001b[0m\u001b[0;34m:\u001b[0m\u001b[0;34m\u001b[0m\u001b[0m\n\u001b[1;32m     96\u001b[0m             \u001b[0mself\u001b[0m\u001b[0;34m.\u001b[0m\u001b[0mgraph\u001b[0m \u001b[0;34m=\u001b[0m \u001b[0mgraph\u001b[0m\u001b[0;34m\u001b[0m\u001b[0m\n",
      "\u001b[0;32m/usr/local/lib/python3.6/site-packages/localgraphclustering/graph_class_local.py\u001b[0m in \u001b[0;36mlargest_component\u001b[0;34m(self)\u001b[0m\n\u001b[1;32m    344\u001b[0m \u001b[0;34m\u001b[0m\u001b[0m\n\u001b[1;32m    345\u001b[0m     \u001b[0;32mdef\u001b[0m \u001b[0mlargest_component\u001b[0m\u001b[0;34m(\u001b[0m\u001b[0mself\u001b[0m\u001b[0;34m)\u001b[0m\u001b[0;34m:\u001b[0m\u001b[0;34m\u001b[0m\u001b[0m\n\u001b[0;32m--> 346\u001b[0;31m         \u001b[0mself\u001b[0m\u001b[0;34m.\u001b[0m\u001b[0mconnected_components\u001b[0m\u001b[0;34m(\u001b[0m\u001b[0;34m)\u001b[0m\u001b[0;34m\u001b[0m\u001b[0m\n\u001b[0m\u001b[1;32m    347\u001b[0m         \u001b[0;32mif\u001b[0m \u001b[0mself\u001b[0m\u001b[0;34m.\u001b[0m\u001b[0mnumber_of_components\u001b[0m \u001b[0;34m==\u001b[0m \u001b[0;36m1\u001b[0m\u001b[0;34m:\u001b[0m\u001b[0;34m\u001b[0m\u001b[0m\n\u001b[1;32m    348\u001b[0m             \u001b[0;31m#self.compute_statistics()\u001b[0m\u001b[0;34m\u001b[0m\u001b[0;34m\u001b[0m\u001b[0m\n",
      "\u001b[0;32m/usr/local/lib/python3.6/site-packages/localgraphclustering/graph_class_local.py\u001b[0m in \u001b[0;36mconnected_components\u001b[0;34m(self)\u001b[0m\n\u001b[1;32m    219\u001b[0m         \"\"\"\n\u001b[1;32m    220\u001b[0m \u001b[0;34m\u001b[0m\u001b[0m\n\u001b[0;32m--> 221\u001b[0;31m         \u001b[0moutput\u001b[0m \u001b[0;34m=\u001b[0m \u001b[0mcsgraph\u001b[0m\u001b[0;34m.\u001b[0m\u001b[0mconnected_components\u001b[0m\u001b[0;34m(\u001b[0m\u001b[0mself\u001b[0m\u001b[0;34m.\u001b[0m\u001b[0madjacency_matrix\u001b[0m\u001b[0;34m,\u001b[0m\u001b[0mdirected\u001b[0m\u001b[0;34m=\u001b[0m\u001b[0;32mFalse\u001b[0m\u001b[0;34m)\u001b[0m\u001b[0;34m\u001b[0m\u001b[0m\n\u001b[0m\u001b[1;32m    222\u001b[0m \u001b[0;34m\u001b[0m\u001b[0m\n\u001b[1;32m    223\u001b[0m         \u001b[0mself\u001b[0m\u001b[0;34m.\u001b[0m\u001b[0mcomponents\u001b[0m \u001b[0;34m=\u001b[0m \u001b[0moutput\u001b[0m\u001b[0;34m[\u001b[0m\u001b[0;36m1\u001b[0m\u001b[0;34m]\u001b[0m\u001b[0;34m\u001b[0m\u001b[0m\n",
      "\u001b[0;32mscipy/sparse/csgraph/_traversal.pyx\u001b[0m in \u001b[0;36mscipy.sparse.csgraph._traversal.connected_components (scipy/sparse/csgraph/_traversal.c:2114)\u001b[0;34m()\u001b[0m\n",
      "\u001b[0;32m/usr/local/lib/python3.6/site-packages/scipy/sparse/csc.py\u001b[0m in \u001b[0;36mtocsr\u001b[0;34m(self, copy)\u001b[0m\n\u001b[1;32m    151\u001b[0m                   \u001b[0mindptr\u001b[0m\u001b[0;34m,\u001b[0m\u001b[0;34m\u001b[0m\u001b[0m\n\u001b[1;32m    152\u001b[0m                   \u001b[0mindices\u001b[0m\u001b[0;34m,\u001b[0m\u001b[0;34m\u001b[0m\u001b[0m\n\u001b[0;32m--> 153\u001b[0;31m                   data)\n\u001b[0m\u001b[1;32m    154\u001b[0m \u001b[0;34m\u001b[0m\u001b[0m\n\u001b[1;32m    155\u001b[0m         \u001b[0;32mfrom\u001b[0m \u001b[0;34m.\u001b[0m\u001b[0mcsr\u001b[0m \u001b[0;32mimport\u001b[0m \u001b[0mcsr_matrix\u001b[0m\u001b[0;34m\u001b[0m\u001b[0m\n",
      "\u001b[0;31mKeyboardInterrupt\u001b[0m: "
     ]
    },
    {
     "name": "stdout",
     "output_type": "stream",
     "text": [
      "Uses the Andersen Chung and Lang (ACL) Algorithm.\n",
      "Uses the Andersen Chung and Lang (ACL) Algorithm.\n",
      "Uses the Andersen Chung and Lang (ACL) Algorithm.\n",
      "Uses the Andersen Chung and Lang (ACL) Algorithm.\n",
      "Uses the Andersen Chung and Lang (ACL) Algorithm.\n",
      "Uses the Andersen Chung and Lang (ACL) Algorithm.\n",
      "Uses the Andersen Chung and Lang (ACL) Algorithm.\n",
      "Uses the Andersen Chung and Lang (ACL) Algorithm.\n",
      "Uses the Andersen Chung and Lang (ACL) Algorithm.\n",
      "Uses the Andersen Chung and Lang (ACL) Algorithm.\n",
      "Uses the Andersen Chung and Lang (ACL) Algorithm.\n",
      "Uses the Andersen Chung and Lang (ACL) Algorithm.\n",
      "Uses the Andersen Chung and Lang (ACL) Algorithm.\n",
      "Uses the Andersen Chung and Lang (ACL) Algorithm.\n",
      "Uses the Andersen Chung and Lang (ACL) Algorithm.\n",
      "Uses the Andersen Chung and Lang (ACL) Algorithm.\n",
      "Uses the Andersen Chung and Lang (ACL) Algorithm.\n",
      "Uses the Andersen Chung and Lang (ACL) Algorithm.\n",
      "Uses the Andersen Chung and Lang (ACL) Algorithm.\n",
      "Uses the Andersen Chung and Lang (ACL) Algorithm.\n",
      "Uses the Andersen Chung and Lang (ACL) Algorithm.\n",
      "Uses the Andersen Chung and Lang (ACL) Algorithm.\n",
      "Uses the Andersen Chung and Lang (ACL) Algorithm.\n",
      "Uses the Andersen Chung and Lang (ACL) Algorithm.\n",
      "Uses the Andersen Chung and Lang (ACL) Algorithm.\n",
      "Uses the Andersen Chung and Lang (ACL) Algorithm.\n",
      "Uses the Andersen Chung and Lang (ACL) Algorithm.\n",
      "Uses the Andersen Chung and Lang (ACL) Algorithm.\n",
      "Uses the Andersen Chung and Lang (ACL) Algorithm.\n"
     ]
    }
   ],
   "source": [
    "# The code below will compute the NCP for the largest connected component of the graph.\n",
    "# To compute the largest component the memory requirements are being doubled, i.e., two times\n",
    "# the size of the graph object in line 2 above.\n",
    "start = time.time()\n",
    "\n",
    "ncp_instance = lgc.NCPData(g,do_largest_component=True)\n",
    "df = ncp_instance.approxPageRank(ratio=0.5,timeout=7200)\n",
    "ncp_plots = ncpplots.NCPPlots(df)\n",
    "#plot conductance vs size\n",
    "ncp_plots.cond_by_size()\n",
    "#plot conductance vs volume\n",
    "ncp_plots.cond_by_vol()\n",
    "#plot isoperimetry vs size\n",
    "ncp_plots.isop_by_size()\n",
    "\n",
    "end = time.time()\n",
    "print(\"running time:\",str(end-start)+\"s\")"
   ]
  },
  {
   "cell_type": "markdown",
   "metadata": {
    "collapsed": true
   },
   "source": [
    "# Call L1-regularized PageRank"
   ]
  },
  {
   "cell_type": "code",
   "execution_count": 7,
   "metadata": {},
   "outputs": [
    {
     "name": "stdout",
     "output_type": "stream",
     "text": [
      "Uses the Fast Iterative Soft Thresholding Algorithm (FISTA).\n",
      "Uses the Andersen Chung and Lang (ACL) Algorithm.\n",
      "Uses the Andersen Chung and Lang (ACL) Algorithm.\n",
      "running time: 6.5954530239105225s\n"
     ]
    }
   ],
   "source": [
    "start = time.time()\n",
    "\n",
    "reference_node = 3215\n",
    "\n",
    "# Find an approximate PageRank vector by calling a C++ code.\n",
    "output_l1reg_fast = lgc.approximate_PageRank(g,[reference_node],method = \"l1reg\",cpp = True)\n",
    "\n",
    "end = time.time()\n",
    "print(\"running time:\",str(end-start)+\"s\")"
   ]
  },
  {
   "cell_type": "markdown",
   "metadata": {},
   "source": [
    "# Round the output of L1-regularizedPageRank"
   ]
  },
  {
   "cell_type": "code",
   "execution_count": 8,
   "metadata": {},
   "outputs": [
    {
     "name": "stdout",
     "output_type": "stream",
     "text": [
      "Uses the Andersen Chung and Lang (ACL) Algorithm.\n",
      "running time: 2.427741050720215s\n"
     ]
    }
   ],
   "source": [
    "start = time.time()\n",
    "\n",
    "# Call C++ version of sweep cut rounding on the l1-regularized PageRank solution.\n",
    "output_sc_fast = lgc.sweep_cut(g,output_l1reg_fast,cpp = True)\n",
    "\n",
    "end = time.time()\n",
    "print(\"running time:\",str(end-start)+\"s\")"
   ]
  },
  {
   "cell_type": "markdown",
   "metadata": {},
   "source": [
    "# Memory efficient NCP based on L1-regularized PageRank"
   ]
  },
  {
   "cell_type": "code",
   "execution_count": 9,
   "metadata": {},
   "outputs": [
    {
     "name": "stdout",
     "output_type": "stream",
     "text": [
      "Uses the Andersen Chung and Lang (ACL) Algorithm.\n",
      "Uses the Andersen Chung and Lang (ACL) Algorithm.\n",
      "Uses the Andersen Chung and Lang (ACL) Algorithm.\n",
      "Uses the Fast Iterative Soft Thresholding Algorithm (FISTA).\n",
      "Uses the Andersen Chung and Lang (ACL) Algorithm.\n",
      "Uses the Fast Iterative Soft Thresholding Algorithm (FISTA).\n",
      "Uses the Fast Iterative Soft Thresholding Algorithm (FISTA).\n",
      "Uses the Fast Iterative Soft Thresholding Algorithm (FISTA).\n",
      "Uses the Andersen Chung and Lang (ACL) Algorithm.\n"
     ]
    },
    {
     "ename": "KeyboardInterrupt",
     "evalue": "",
     "output_type": "error",
     "traceback": [
      "\u001b[0;31m---------------------------------------------------------------------------\u001b[0m",
      "\u001b[0;31mKeyboardInterrupt\u001b[0m                         Traceback (most recent call last)",
      "\u001b[0;32m<ipython-input-9-cde038c156b4>\u001b[0m in \u001b[0;36m<module>\u001b[0;34m()\u001b[0m\n\u001b[1;32m      5\u001b[0m \u001b[0;34m\u001b[0m\u001b[0m\n\u001b[1;32m      6\u001b[0m \u001b[0mncp_instance\u001b[0m \u001b[0;34m=\u001b[0m \u001b[0mlgc\u001b[0m\u001b[0;34m.\u001b[0m\u001b[0mNCPData\u001b[0m\u001b[0;34m(\u001b[0m\u001b[0mg\u001b[0m\u001b[0;34m,\u001b[0m\u001b[0mdo_largest_component\u001b[0m\u001b[0;34m=\u001b[0m\u001b[0;32mFalse\u001b[0m\u001b[0;34m)\u001b[0m\u001b[0;34m\u001b[0m\u001b[0m\n\u001b[0;32m----> 7\u001b[0;31m \u001b[0mdf\u001b[0m \u001b[0;34m=\u001b[0m \u001b[0mncp_instance\u001b[0m\u001b[0;34m.\u001b[0m\u001b[0ml1reg\u001b[0m\u001b[0;34m(\u001b[0m\u001b[0mratio\u001b[0m\u001b[0;34m=\u001b[0m\u001b[0;36m0.5\u001b[0m\u001b[0;34m,\u001b[0m\u001b[0mtimeout\u001b[0m\u001b[0;34m=\u001b[0m\u001b[0;36m7200\u001b[0m\u001b[0;34m)\u001b[0m\u001b[0;34m\u001b[0m\u001b[0m\n\u001b[0m\u001b[1;32m      8\u001b[0m \u001b[0mncp_plots\u001b[0m \u001b[0;34m=\u001b[0m \u001b[0mncpplots\u001b[0m\u001b[0;34m.\u001b[0m\u001b[0mNCPPlots\u001b[0m\u001b[0;34m(\u001b[0m\u001b[0mdf\u001b[0m\u001b[0;34m)\u001b[0m\u001b[0;34m\u001b[0m\u001b[0m\n\u001b[1;32m      9\u001b[0m \u001b[0;31m#plot conductance vs size\u001b[0m\u001b[0;34m\u001b[0m\u001b[0;34m\u001b[0m\u001b[0m\n",
      "\u001b[0;32m/usr/local/lib/python3.6/site-packages/localgraphclustering/ncp.py\u001b[0m in \u001b[0;36ml1reg\u001b[0;34m(self, gamma, rholist, ratio, nthreads, timeout)\u001b[0m\n\u001b[1;32m    247\u001b[0m                     for rho in rholist}\n\u001b[1;32m    248\u001b[0m         \u001b[0;32mfor\u001b[0m \u001b[0mfunc\u001b[0m \u001b[0;32min\u001b[0m \u001b[0mfuncs\u001b[0m\u001b[0;34m.\u001b[0m\u001b[0mkeys\u001b[0m\u001b[0;34m(\u001b[0m\u001b[0;34m)\u001b[0m\u001b[0;34m:\u001b[0m\u001b[0;34m\u001b[0m\u001b[0m\n\u001b[0;32m--> 249\u001b[0;31m             \u001b[0mself\u001b[0m\u001b[0;34m.\u001b[0m\u001b[0madd_random_node_samples\u001b[0m\u001b[0;34m(\u001b[0m\u001b[0mmethod\u001b[0m\u001b[0;34m=\u001b[0m\u001b[0mfunc\u001b[0m\u001b[0;34m,\u001b[0m\u001b[0mmethodname\u001b[0m\u001b[0;34m=\u001b[0m\u001b[0mfuncs\u001b[0m\u001b[0;34m[\u001b[0m\u001b[0mfunc\u001b[0m\u001b[0;34m]\u001b[0m\u001b[0;34m,\u001b[0m\u001b[0mratio\u001b[0m\u001b[0;34m=\u001b[0m\u001b[0mratio\u001b[0m\u001b[0;34m,\u001b[0m\u001b[0mnthreads\u001b[0m\u001b[0;34m=\u001b[0m\u001b[0mnthreads\u001b[0m\u001b[0;34m,\u001b[0m\u001b[0mtimeout\u001b[0m\u001b[0;34m=\u001b[0m\u001b[0mtimeout\u001b[0m\u001b[0;34m/\u001b[0m\u001b[0mlen\u001b[0m\u001b[0;34m(\u001b[0m\u001b[0mfuncs\u001b[0m\u001b[0;34m)\u001b[0m\u001b[0;34m)\u001b[0m\u001b[0;34m\u001b[0m\u001b[0m\n\u001b[0m\u001b[1;32m    250\u001b[0m         \u001b[0;32mreturn\u001b[0m \u001b[0mself\u001b[0m\u001b[0;34m\u001b[0m\u001b[0m\n\u001b[1;32m    251\u001b[0m \u001b[0;34m\u001b[0m\u001b[0m\n",
      "\u001b[0;32m/usr/local/lib/python3.6/site-packages/localgraphclustering/ncp.py\u001b[0m in \u001b[0;36madd_random_node_samples\u001b[0;34m(self, ratio, timeout, nthreads, method, methodname)\u001b[0m\n\u001b[1;32m    183\u001b[0m             \u001b[0mt\u001b[0m\u001b[0;34m.\u001b[0m\u001b[0mstart\u001b[0m\u001b[0;34m(\u001b[0m\u001b[0;34m)\u001b[0m\u001b[0;34m\u001b[0m\u001b[0m\n\u001b[1;32m    184\u001b[0m         \u001b[0;32mfor\u001b[0m \u001b[0mt\u001b[0m \u001b[0;32min\u001b[0m \u001b[0mthreads\u001b[0m\u001b[0;34m:\u001b[0m\u001b[0;34m\u001b[0m\u001b[0m\n\u001b[0;32m--> 185\u001b[0;31m             \u001b[0mt\u001b[0m\u001b[0;34m.\u001b[0m\u001b[0mjoin\u001b[0m\u001b[0;34m(\u001b[0m\u001b[0;34m)\u001b[0m\u001b[0;34m\u001b[0m\u001b[0m\n\u001b[0m\u001b[1;32m    186\u001b[0m \u001b[0;34m\u001b[0m\u001b[0m\n\u001b[1;32m    187\u001b[0m     \u001b[0;32mdef\u001b[0m \u001b[0madd_random_neighborhood_samples\u001b[0m\u001b[0;34m(\u001b[0m\u001b[0mself\u001b[0m\u001b[0;34m,\u001b[0m \u001b[0mratio\u001b[0m\u001b[0;34m=\u001b[0m\u001b[0;36m0.3\u001b[0m\u001b[0;34m,\u001b[0m \u001b[0mtimeout\u001b[0m\u001b[0;34m=\u001b[0m\u001b[0;36m1000\u001b[0m\u001b[0;34m,\u001b[0m \u001b[0mnthreads\u001b[0m\u001b[0;34m=\u001b[0m\u001b[0;36m4\u001b[0m\u001b[0;34m,\u001b[0m \u001b[0mmethod\u001b[0m\u001b[0;34m=\u001b[0m\u001b[0;32mNone\u001b[0m\u001b[0;34m,\u001b[0m \u001b[0mmethodname\u001b[0m\u001b[0;34m=\u001b[0m\u001b[0;32mNone\u001b[0m\u001b[0;34m)\u001b[0m\u001b[0;34m:\u001b[0m\u001b[0;34m\u001b[0m\u001b[0m\n",
      "\u001b[0;32m/usr/local/Cellar/python/3.6.4_4/Frameworks/Python.framework/Versions/3.6/lib/python3.6/threading.py\u001b[0m in \u001b[0;36mjoin\u001b[0;34m(self, timeout)\u001b[0m\n\u001b[1;32m   1054\u001b[0m \u001b[0;34m\u001b[0m\u001b[0m\n\u001b[1;32m   1055\u001b[0m         \u001b[0;32mif\u001b[0m \u001b[0mtimeout\u001b[0m \u001b[0;32mis\u001b[0m \u001b[0;32mNone\u001b[0m\u001b[0;34m:\u001b[0m\u001b[0;34m\u001b[0m\u001b[0m\n\u001b[0;32m-> 1056\u001b[0;31m             \u001b[0mself\u001b[0m\u001b[0;34m.\u001b[0m\u001b[0m_wait_for_tstate_lock\u001b[0m\u001b[0;34m(\u001b[0m\u001b[0;34m)\u001b[0m\u001b[0;34m\u001b[0m\u001b[0m\n\u001b[0m\u001b[1;32m   1057\u001b[0m         \u001b[0;32melse\u001b[0m\u001b[0;34m:\u001b[0m\u001b[0;34m\u001b[0m\u001b[0m\n\u001b[1;32m   1058\u001b[0m             \u001b[0;31m# the behavior of a negative timeout isn't documented, but\u001b[0m\u001b[0;34m\u001b[0m\u001b[0;34m\u001b[0m\u001b[0m\n",
      "\u001b[0;32m/usr/local/Cellar/python/3.6.4_4/Frameworks/Python.framework/Versions/3.6/lib/python3.6/threading.py\u001b[0m in \u001b[0;36m_wait_for_tstate_lock\u001b[0;34m(self, block, timeout)\u001b[0m\n\u001b[1;32m   1070\u001b[0m         \u001b[0;32mif\u001b[0m \u001b[0mlock\u001b[0m \u001b[0;32mis\u001b[0m \u001b[0;32mNone\u001b[0m\u001b[0;34m:\u001b[0m  \u001b[0;31m# already determined that the C code is done\u001b[0m\u001b[0;34m\u001b[0m\u001b[0m\n\u001b[1;32m   1071\u001b[0m             \u001b[0;32massert\u001b[0m \u001b[0mself\u001b[0m\u001b[0;34m.\u001b[0m\u001b[0m_is_stopped\u001b[0m\u001b[0;34m\u001b[0m\u001b[0m\n\u001b[0;32m-> 1072\u001b[0;31m         \u001b[0;32melif\u001b[0m \u001b[0mlock\u001b[0m\u001b[0;34m.\u001b[0m\u001b[0macquire\u001b[0m\u001b[0;34m(\u001b[0m\u001b[0mblock\u001b[0m\u001b[0;34m,\u001b[0m \u001b[0mtimeout\u001b[0m\u001b[0;34m)\u001b[0m\u001b[0;34m:\u001b[0m\u001b[0;34m\u001b[0m\u001b[0m\n\u001b[0m\u001b[1;32m   1073\u001b[0m             \u001b[0mlock\u001b[0m\u001b[0;34m.\u001b[0m\u001b[0mrelease\u001b[0m\u001b[0;34m(\u001b[0m\u001b[0;34m)\u001b[0m\u001b[0;34m\u001b[0m\u001b[0m\n\u001b[1;32m   1074\u001b[0m             \u001b[0mself\u001b[0m\u001b[0;34m.\u001b[0m\u001b[0m_stop\u001b[0m\u001b[0;34m(\u001b[0m\u001b[0;34m)\u001b[0m\u001b[0;34m\u001b[0m\u001b[0m\n",
      "\u001b[0;31mKeyboardInterrupt\u001b[0m: "
     ]
    }
   ],
   "source": [
    "# The code below will compute the NCP of graph and not the NCP of the largest connected component.\n",
    "# The code below does not double the memory requirements.\n",
    "\n",
    "start = time.time()\n",
    "\n",
    "ncp_instance = lgc.NCPData(g,do_largest_component=False)\n",
    "df = ncp_instance.l1reg(ratio=0.5,timeout=7200)\n",
    "ncp_plots = ncpplots.NCPPlots(df)\n",
    "#plot conductance vs size\n",
    "ncp_plots.cond_by_size()\n",
    "#plot conductance vs volume\n",
    "ncp_plots.cond_by_vol()\n",
    "#plot isoperimetry vs size\n",
    "ncp_plots.isop_by_size()\n",
    "end = time.time()\n",
    "print(\"running time:\",str(end-start)+\"s\")\n",
    "\n",
    "end = time.time()\n",
    "print(\"running time:\",str(end-start)+\"s\")"
   ]
  },
  {
   "cell_type": "markdown",
   "metadata": {},
   "source": [
    "# More to come. We will have scalable implementations for l1-regularized PageRank and Capacity Releasing Diffusion soon."
   ]
  },
  {
   "cell_type": "code",
   "execution_count": null,
   "metadata": {},
   "outputs": [],
   "source": []
  },
  {
   "cell_type": "code",
   "execution_count": null,
   "metadata": {},
   "outputs": [],
   "source": []
  },
  {
   "cell_type": "code",
   "execution_count": null,
   "metadata": {},
   "outputs": [],
   "source": []
  },
  {
   "cell_type": "code",
   "execution_count": null,
   "metadata": {},
   "outputs": [],
   "source": []
  },
  {
   "cell_type": "code",
   "execution_count": null,
   "metadata": {},
   "outputs": [],
   "source": []
  },
  {
   "cell_type": "code",
   "execution_count": null,
   "metadata": {},
   "outputs": [],
   "source": []
  },
  {
   "cell_type": "code",
   "execution_count": null,
   "metadata": {},
   "outputs": [],
   "source": []
  },
  {
   "cell_type": "code",
   "execution_count": null,
   "metadata": {},
   "outputs": [],
   "source": []
  },
  {
   "cell_type": "code",
   "execution_count": null,
   "metadata": {},
   "outputs": [],
   "source": []
  },
  {
   "cell_type": "code",
   "execution_count": null,
   "metadata": {},
   "outputs": [],
   "source": []
  },
  {
   "cell_type": "code",
   "execution_count": null,
   "metadata": {},
   "outputs": [],
   "source": []
  },
  {
   "cell_type": "code",
   "execution_count": null,
   "metadata": {},
   "outputs": [],
   "source": []
  },
  {
   "cell_type": "code",
   "execution_count": null,
   "metadata": {},
   "outputs": [],
   "source": []
  },
  {
   "cell_type": "code",
   "execution_count": null,
   "metadata": {},
   "outputs": [],
   "source": []
  },
  {
   "cell_type": "code",
   "execution_count": null,
   "metadata": {},
   "outputs": [],
   "source": []
  },
  {
   "cell_type": "code",
   "execution_count": null,
   "metadata": {},
   "outputs": [],
   "source": []
  },
  {
   "cell_type": "code",
   "execution_count": null,
   "metadata": {
    "collapsed": true
   },
   "outputs": [],
   "source": []
  },
  {
   "cell_type": "code",
   "execution_count": null,
   "metadata": {},
   "outputs": [],
   "source": []
  },
  {
   "cell_type": "code",
   "execution_count": null,
   "metadata": {
    "collapsed": true
   },
   "outputs": [],
   "source": []
  },
  {
   "cell_type": "code",
   "execution_count": null,
   "metadata": {
    "collapsed": true
   },
   "outputs": [],
   "source": []
  },
  {
   "cell_type": "code",
   "execution_count": null,
   "metadata": {
    "collapsed": true
   },
   "outputs": [],
   "source": []
  },
  {
   "cell_type": "code",
   "execution_count": null,
   "metadata": {
    "collapsed": true
   },
   "outputs": [],
   "source": []
  },
  {
   "cell_type": "code",
   "execution_count": null,
   "metadata": {
    "collapsed": true
   },
   "outputs": [],
   "source": []
  },
  {
   "cell_type": "code",
   "execution_count": null,
   "metadata": {
    "collapsed": true
   },
   "outputs": [],
   "source": []
  },
  {
   "cell_type": "code",
   "execution_count": null,
   "metadata": {
    "collapsed": true
   },
   "outputs": [],
   "source": []
  },
  {
   "cell_type": "code",
   "execution_count": null,
   "metadata": {
    "collapsed": true
   },
   "outputs": [],
   "source": []
  }
 ],
 "metadata": {
  "kernelspec": {
   "display_name": "Python 3",
   "language": "python",
   "name": "python3"
  },
  "language_info": {
   "codemirror_mode": {
    "name": "ipython",
    "version": 3
   },
   "file_extension": ".py",
   "mimetype": "text/x-python",
   "name": "python",
   "nbconvert_exporter": "python",
   "pygments_lexer": "ipython3",
   "version": "3.6.4"
  }
 },
 "nbformat": 4,
 "nbformat_minor": 1
}
