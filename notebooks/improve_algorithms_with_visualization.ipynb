{
 "cells": [
  {
   "cell_type": "code",
   "execution_count": 1,
   "metadata": {
    "collapsed": false,
    "deletable": true,
    "editable": true
   },
   "outputs": [
    {
     "ename": "ImportError",
     "evalue": "dlopen(/usr/local/lib/python3.6/site-packages/graph_tool/libgraph_tool_core.so, 9): Symbol not found: __ZNKSt3_V214error_category10_M_messageB5cxx11Ei\n  Referenced from: /usr/local/lib/python3.6/site-packages/graph_tool/libgraph_tool_core.so\n  Expected in: flat namespace\n in /usr/local/lib/python3.6/site-packages/graph_tool/libgraph_tool_core.so",
     "output_type": "error",
     "traceback": [
      "\u001b[0;31m---------------------------------------------------------------------------\u001b[0m",
      "\u001b[0;31mImportError\u001b[0m                               Traceback (most recent call last)",
      "\u001b[0;32m<ipython-input-1-b3517ccbdbcf>\u001b[0m in \u001b[0;36m<module>\u001b[0;34m()\u001b[0m\n\u001b[1;32m      5\u001b[0m \u001b[0;34m\u001b[0m\u001b[0m\n\u001b[1;32m      6\u001b[0m \u001b[0;31m# Import the graph_tool module for visualization.\u001b[0m\u001b[0;34m\u001b[0m\u001b[0;34m\u001b[0m\u001b[0m\n\u001b[0;32m----> 7\u001b[0;31m \u001b[0;32mfrom\u001b[0m \u001b[0mgraph_tool\u001b[0m\u001b[0;34m.\u001b[0m\u001b[0mall\u001b[0m \u001b[0;32mimport\u001b[0m \u001b[0;34m*\u001b[0m\u001b[0;34m\u001b[0m\u001b[0m\n\u001b[0m\u001b[1;32m      8\u001b[0m \u001b[0;34m\u001b[0m\u001b[0m\n\u001b[1;32m      9\u001b[0m \u001b[0;31m# Import matplotlib\u001b[0m\u001b[0;34m\u001b[0m\u001b[0;34m\u001b[0m\u001b[0m\n",
      "\u001b[0;32m/usr/local/lib/python3.6/site-packages/graph_tool/__init__.py\u001b[0m in \u001b[0;36m<module>\u001b[0;34m()\u001b[0m\n\u001b[1;32m    109\u001b[0m \u001b[0;34m\u001b[0m\u001b[0m\n\u001b[1;32m    110\u001b[0m \u001b[0;32mfrom\u001b[0m \u001b[0;34m.\u001b[0m\u001b[0mdl_import\u001b[0m \u001b[0;32mimport\u001b[0m \u001b[0;34m*\u001b[0m\u001b[0;34m\u001b[0m\u001b[0m\n\u001b[0;32m--> 111\u001b[0;31m \u001b[0mdl_import\u001b[0m\u001b[0;34m(\u001b[0m\u001b[0;34m\"from . import libgraph_tool_core as libcore\"\u001b[0m\u001b[0;34m)\u001b[0m\u001b[0;34m\u001b[0m\u001b[0m\n\u001b[0m\u001b[1;32m    112\u001b[0m \u001b[0m__version__\u001b[0m \u001b[0;34m=\u001b[0m \u001b[0mlibcore\u001b[0m\u001b[0;34m.\u001b[0m\u001b[0mmod_info\u001b[0m\u001b[0;34m(\u001b[0m\u001b[0;34m)\u001b[0m\u001b[0;34m.\u001b[0m\u001b[0mversion\u001b[0m\u001b[0;34m\u001b[0m\u001b[0m\n\u001b[1;32m    113\u001b[0m \u001b[0;34m\u001b[0m\u001b[0m\n",
      "\u001b[0;32m/usr/local/lib/python3.6/site-packages/graph_tool/dl_import.py\u001b[0m in \u001b[0;36mdl_import\u001b[0;34m(import_expr)\u001b[0m\n\u001b[1;32m     59\u001b[0m \u001b[0;34m\u001b[0m\u001b[0m\n\u001b[1;32m     60\u001b[0m     \u001b[0;32mtry\u001b[0m\u001b[0;34m:\u001b[0m\u001b[0;34m\u001b[0m\u001b[0m\n\u001b[0;32m---> 61\u001b[0;31m         \u001b[0mexec\u001b[0m\u001b[0;34m(\u001b[0m\u001b[0mimport_expr\u001b[0m\u001b[0;34m,\u001b[0m \u001b[0mlocal_dict\u001b[0m\u001b[0;34m,\u001b[0m \u001b[0mglobal_dict\u001b[0m\u001b[0;34m)\u001b[0m\u001b[0;34m\u001b[0m\u001b[0m\n\u001b[0m\u001b[1;32m     62\u001b[0m     \u001b[0;32mfinally\u001b[0m\u001b[0;34m:\u001b[0m\u001b[0;34m\u001b[0m\u001b[0m\n\u001b[1;32m     63\u001b[0m         \u001b[0msys\u001b[0m\u001b[0;34m.\u001b[0m\u001b[0msetdlopenflags\u001b[0m\u001b[0;34m(\u001b[0m\u001b[0morig_dlopen_flags\u001b[0m\u001b[0;34m)\u001b[0m  \u001b[0;31m# reset it to normal case to\u001b[0m\u001b[0;34m\u001b[0m\u001b[0m\n",
      "\u001b[0;32m/usr/local/lib/python3.6/site-packages/graph_tool/__init__.py\u001b[0m in \u001b[0;36m<module>\u001b[0;34m()\u001b[0m\n",
      "\u001b[0;31mImportError\u001b[0m: dlopen(/usr/local/lib/python3.6/site-packages/graph_tool/libgraph_tool_core.so, 9): Symbol not found: __ZNKSt3_V214error_category10_M_messageB5cxx11Ei\n  Referenced from: /usr/local/lib/python3.6/site-packages/graph_tool/libgraph_tool_core.so\n  Expected in: flat namespace\n in /usr/local/lib/python3.6/site-packages/graph_tool/libgraph_tool_core.so"
     ]
    }
   ],
   "source": [
    "from localgraphclustering import *\n",
    "\n",
    "import time\n",
    "import numpy as np\n",
    "\n",
    "# Import the graph_tool module for visualization.\n",
    "from graph_tool.all import * \n",
    "\n",
    "# Import matplotlib \n",
    "import matplotlib.pyplot as plt\n",
    "\n",
    "# Just a useful function.\n",
    "def diff(a, b):\n",
    "        b = set(b)\n",
    "        return np.asarray([aa for aa in a if aa not in b], dtype = 'int64')"
   ]
  },
  {
   "cell_type": "markdown",
   "metadata": {
    "collapsed": false,
    "deletable": true,
    "editable": true
   },
   "source": [
    "## Load usroads dataset, load coordinates and initialize reference nodes for Minneapolis + suburban areas"
   ]
  },
  {
   "cell_type": "code",
   "execution_count": null,
   "metadata": {
    "collapsed": false,
    "deletable": true,
    "editable": true,
    "scrolled": false
   },
   "outputs": [],
   "source": [
    "# Read John Hopkins graph.\n",
    "g = graph_class_local.GraphLocal('usroads-cc.edgelist','edgelist',' ')\n",
    "\n",
    "# Load pre-computed coordinates for nodes.\n",
    "ld_coord = np.loadtxt('usroads-cc.xy', dtype = 'Float64')\n",
    "ld_coord[:,0] = -ld_coord[:,0]\n",
    "\n",
    "temp1 = np.multiply(ld_coord[:,0] < 95,ld_coord[:,0] > 92.0)\n",
    "temp2 = np.multiply(ld_coord[:,1] > 44.0,ld_coord[:,1] < 45.9)\n",
    "temp = np.multiply(temp1,temp2)\n",
    "\n",
    "#ref_nodes = np.argwhere(ld_coord[:,0] < 79.)\n",
    "ref_nodes = np.argwhere(temp)\n",
    "ref_nodes = ref_nodes[:,0]"
   ]
  },
  {
   "cell_type": "markdown",
   "metadata": {
    "collapsed": false,
    "deletable": true,
    "editable": true
   },
   "source": [
    "## Visualize usroads and Minneapolis"
   ]
  },
  {
   "cell_type": "code",
   "execution_count": null,
   "metadata": {
    "collapsed": false,
    "deletable": true,
    "editable": true
   },
   "outputs": [],
   "source": [
    "# Add data to graphtool.\n",
    "g_gtool = Graph(directed=False)\n",
    "m = g._num_edges\n",
    "for i in range(m):\n",
    "    g_gtool.add_edge(g.edges[0][i], g.edges[1][i], add_missing=True)  \n",
    "    \n",
    "remove_self_loops(g_gtool)\n",
    "\n",
    "pos = g_gtool.new_vertex_property(\"vector<double>\")\n",
    "for i in range(g._num_vertices):\n",
    "    pos[i] = -ld_coord[i,:]\n",
    "\n",
    "temp = np.zeros(g._num_vertices) + 0.00001\n",
    "temp[ref_nodes] = 1\n",
    "\n",
    "node_size = g_gtool.new_vertex_property(\"double\",temp)\n",
    "\n",
    "temp = [\"black\" for x in range(g._num_vertices)]\n",
    "\n",
    "for i in ref_nodes:\n",
    "    temp[i] = \"green\"\n",
    "\n",
    "node_colours = g_gtool.new_vertex_property(\"string\",temp)\n",
    "\n",
    "graph_draw(g_gtool, pos, output_size=(1000, 500),\n",
    "           vertex_size=node_size, \n",
    "           vertex_fill_color=node_colours, \n",
    "           vorder=node_size,\n",
    "           edge_pen_width=0.1)"
   ]
  },
  {
   "cell_type": "markdown",
   "metadata": {
    "collapsed": false,
    "deletable": true,
    "editable": true
   },
   "source": [
    "# Zoom in Minneapolis + suburban areas"
   ]
  },
  {
   "cell_type": "code",
   "execution_count": null,
   "metadata": {
    "collapsed": false,
    "deletable": true,
    "editable": true
   },
   "outputs": [],
   "source": [
    "# Copy graph.\n",
    "keep = np.zeros(g._num_vertices, dtype=bool)\n",
    "keep[ref_nodes] = True\n",
    "keep = g_gtool.new_vertex_property(\"bool\",keep)\n",
    "\n",
    "g2 = Graph(g_gtool)\n",
    "g2.set_vertex_filter(keep)\n",
    "\n",
    "g3 = Graph(g2,prune=True)\n",
    "\n",
    "prop = g3.new_vertex_property(\"vector<double>\")\n",
    "for i in range(len(ref_nodes)):\n",
    "    prop[i] = pos[g2.vertex(ref_nodes[i])]\n",
    "    \n",
    "temp = np.ones(len(ref_nodes)) + 0.00001\n",
    "\n",
    "node_size = g3.new_vertex_property(\"double\",temp)\n",
    "\n",
    "temp = [\"black\" for x in range(len(ref_nodes))]\n",
    "\n",
    "node_colours = g3.new_vertex_property(\"string\",temp)\n",
    "\n",
    "graph_draw(g3, prop, output_size=(1000, 500),\n",
    "           vertex_size=node_size, \n",
    "           vertex_fill_color=node_colours, \n",
    "           vorder=node_size,\n",
    "           edge_pen_width=1)"
   ]
  },
  {
   "cell_type": "markdown",
   "metadata": {
    "collapsed": false,
    "deletable": true,
    "editable": true
   },
   "source": [
    "# Attempt to improve Minneapolis + suburban areas in terms of conductance of the whole graph using MQI. Note that MQI works only within the reference set of nodes."
   ]
  },
  {
   "cell_type": "code",
   "execution_count": null,
   "metadata": {
    "collapsed": false,
    "deletable": true,
    "editable": true
   },
   "outputs": [],
   "source": [
    "# Create an object for subgraph node partitioning.\n",
    "mqi_fast = MQI_fast.MQI_fast()\n",
    "\n",
    "# Conductance before improvement\n",
    "print(\"Conductance before improvement:\",g.compute_conductance(ref_nodes))\n",
    "\n",
    "# Start calling MQI\n",
    "start = time.time()\n",
    "output_MQI_fast = mqi_fast.produce([g],[ref_nodes])\n",
    "end = time.time()\n",
    "print(\"running time:\",str(end-start)+\"s\")\n",
    "\n",
    "# Conductance after improvement\n",
    "print(\"Conductance after improvement:\",g.compute_conductance(output_MQI_fast[0][0]))\n",
    "\n",
    "output_MQI = output_MQI_fast[0][0]"
   ]
  },
  {
   "cell_type": "markdown",
   "metadata": {
    "collapsed": true,
    "deletable": true,
    "editable": true
   },
   "source": [
    "# Visualize the result of MQI"
   ]
  },
  {
   "cell_type": "code",
   "execution_count": null,
   "metadata": {
    "collapsed": false,
    "deletable": true,
    "editable": true
   },
   "outputs": [],
   "source": [
    "# Plot solutions for Flow Improve\n",
    "temp = np.zeros(len(ref_nodes))\n",
    "temp = temp + 0.00001\n",
    "\n",
    "only_seed = diff(ref_nodes, output_MQI)\n",
    "# Find node indices in the sub-graph of original cluster after deletion of the complement.\n",
    "ix = np.in1d(ref_nodes.ravel(), only_seed).reshape(ref_nodes.shape)\n",
    "idx_only_seed = np.where(ix)[0]\n",
    "\n",
    "\n",
    "only_mqi = diff(output_MQI, ref_nodes)\n",
    "# Find node indices in the sub-graph of original cluster after deletion of the complement.\n",
    "ix = np.in1d(ref_nodes.ravel(), only_mqi).reshape(ref_nodes.shape)\n",
    "idx_only_mqi = np.where(ix)[0]\n",
    "\n",
    "intsect = set(ref_nodes).intersection(set(output_MQI))\n",
    "intsect = list(intsect)\n",
    "# Find node indices in the sub-graph of original cluster after deletion of the complement.\n",
    "ix = np.in1d(ref_nodes.ravel(), intsect).reshape(ref_nodes.shape)\n",
    "idx_intsect = np.where(ix)[0]\n",
    "\n",
    "temp[idx_only_seed] = 1\n",
    "temp[idx_only_mqi] = 3\n",
    "temp[idx_intsect] = 3\n",
    "\n",
    "node_size = g3.new_vertex_property(\"double\",temp)\n",
    "\n",
    "temp = [\"black\" for x in range(len(ref_nodes))]\n",
    "\n",
    "for i in idx_only_mqi:\n",
    "    temp[i] = \"red\"\n",
    "for i in idx_intsect:\n",
    "    temp[i] = \"red\"\n",
    "\n",
    "node_colours = g3.new_vertex_property(\"string\",temp)\n",
    "\n",
    "c_map = plt.get_cmap('autumn')\n",
    "\n",
    "graph_draw(g3, prop, output_size=(1000, 500),\n",
    "           vertex_size=node_size, \n",
    "           vertex_fill_color=node_colours, \n",
    "           vorder=node_size,\n",
    "           edge_pen_width=1)"
   ]
  },
  {
   "cell_type": "markdown",
   "metadata": {
    "collapsed": true,
    "deletable": true,
    "editable": true
   },
   "source": [
    "# Attempt to improve Minneapolis + suburban areas in terms of conductance of the whole graph using Simple Local. Note that Simple Local searches outside the reference set of nodes as well. Therefore, the output might note be a subset of reference set of nodes."
   ]
  },
  {
   "cell_type": "code",
   "execution_count": null,
   "metadata": {
    "collapsed": false,
    "deletable": true,
    "editable": true
   },
   "outputs": [],
   "source": [
    "# Create an object for subgraph node partitioning.\n",
    "SL_fast = SimpleLocal_fast.SimpleLocal_fast()\n",
    "\n",
    "# Conductance before improvement\n",
    "print(\"Conductance before improvement:\",g.compute_conductance(ref_nodes))\n",
    "\n",
    "# Start calling SimpleLocal\n",
    "start = time.time()\n",
    "output_SL_fast = SL_fast.produce([g],[ref_nodes])\n",
    "end = time.time()\n",
    "print(\"running time:\",str(end-start)+\"s\")\n",
    "\n",
    "# Conductance after improvement\n",
    "print(\"Conductance after improvement:\",g.compute_conductance(output_SL_fast[0][0]))\n",
    "\n",
    "output_SL = output_SL_fast[0][0]"
   ]
  },
  {
   "cell_type": "markdown",
   "metadata": {
    "collapsed": true,
    "deletable": true,
    "editable": true
   },
   "source": [
    "# Visualize the result of Simple Local"
   ]
  },
  {
   "cell_type": "code",
   "execution_count": null,
   "metadata": {
    "collapsed": false,
    "deletable": true,
    "editable": true
   },
   "outputs": [],
   "source": [
    "# Plot solutions for Flow Improve\n",
    "temp = np.zeros(len(ref_nodes))\n",
    "temp = temp + 0.00001\n",
    "\n",
    "only_seed = diff(ref_nodes, output_SL)\n",
    "# Find node indices in the sub-graph of original cluster after deletion of the complement.\n",
    "ix = np.in1d(ref_nodes.ravel(), only_seed).reshape(ref_nodes.shape)\n",
    "idx_only_seed = np.where(ix)[0]\n",
    "\n",
    "\n",
    "only_SL = diff(output_SL, ref_nodes)\n",
    "# Find node indices in the sub-graph of original cluster after deletion of the complement.\n",
    "ix = np.in1d(ref_nodes.ravel(), only_SL).reshape(ref_nodes.shape)\n",
    "idx_only_SL = np.where(ix)[0]\n",
    "\n",
    "intsect = set(ref_nodes).intersection(set(output_SL))\n",
    "intsect = list(intsect)\n",
    "# Find node indices in the sub-graph of original cluster after deletion of the complement.\n",
    "ix = np.in1d(ref_nodes.ravel(), intsect).reshape(ref_nodes.shape)\n",
    "idx_intsect = np.where(ix)[0]\n",
    "\n",
    "temp[idx_only_seed] = 1\n",
    "temp[idx_only_SL] = 3\n",
    "temp[idx_intsect] = 3\n",
    "\n",
    "node_size = g3.new_vertex_property(\"double\",temp)\n",
    "\n",
    "temp = [\"black\" for x in range(len(ref_nodes))]\n",
    "\n",
    "for i in idx_only_SL:\n",
    "    temp[i] = \"red\"\n",
    "for i in idx_intsect:\n",
    "    temp[i] = \"red\"\n",
    "\n",
    "node_colours = g3.new_vertex_property(\"string\",temp)\n",
    "\n",
    "c_map = plt.get_cmap('autumn')\n",
    "\n",
    "graph_draw(g3, prop, output_size=(1000, 500),\n",
    "           vertex_size=node_size, \n",
    "           vertex_fill_color=node_colours, \n",
    "           vorder=node_size,\n",
    "           edge_pen_width=1)"
   ]
  },
  {
   "cell_type": "markdown",
   "metadata": {
    "collapsed": true,
    "deletable": true,
    "editable": true
   },
   "source": [
    "# Visualize the result of Simple Local using the whole graph"
   ]
  },
  {
   "cell_type": "code",
   "execution_count": null,
   "metadata": {
    "collapsed": false,
    "deletable": true,
    "editable": true
   },
   "outputs": [],
   "source": [
    "temp = np.zeros(g._num_vertices) + 0.00001\n",
    "temp[output_SL] = 1\n",
    "\n",
    "node_size = g_gtool.new_vertex_property(\"double\",temp)\n",
    "\n",
    "temp = [\"black\" for x in range(g._num_vertices)]\n",
    "\n",
    "for i in output_SL:\n",
    "    temp[i] = \"red\"\n",
    "\n",
    "node_colours = g_gtool.new_vertex_property(\"string\",temp)\n",
    "\n",
    "graph_draw(g_gtool, pos, output_size=(1000, 500),\n",
    "           vertex_size=node_size, \n",
    "           vertex_fill_color=node_colours, \n",
    "           vorder=node_size,\n",
    "           edge_pen_width=0.1)"
   ]
  },
  {
   "cell_type": "markdown",
   "metadata": {
    "collapsed": false,
    "deletable": true,
    "editable": true
   },
   "source": [
    "# Get an initial partition of Senate using spectral partitioning "
   ]
  },
  {
   "cell_type": "code",
   "execution_count": null,
   "metadata": {
    "collapsed": false,
    "deletable": true,
    "editable": true
   },
   "outputs": [],
   "source": [
    "# Read graph. This also supports gml and graphml format.\n",
    "g = graph_class_local.GraphLocal('senate.edgelist','edgelist',' ')\n",
    "\n",
    "# Create an object for global spectral partitioning\n",
    "sp = spectral_partitioning.Spectral_partitioning()\n",
    "\n",
    "# Call the global spectral partitioning algorithm.\n",
    "output_sp = sp.produce([g])\n",
    "\n",
    "# Only one input graph is given, i.e., [g]. \n",
    "# Extract the array from position 0 and store it.\n",
    "eig2 = output_sp[0]\n",
    "\n",
    "# Create an object for the sweep cut rounding procedure.\n",
    "sc = sweepCut_general.SweepCut_general()\n",
    "\n",
    "# Round the eigenvector\n",
    "output_sc = sc.produce([g],p=eig2)\n",
    "\n",
    "# Extract the partition for g and store it.\n",
    "eig2_rounded = output_sc[0][0]\n",
    "\n",
    "# Add data to graphtool.\n",
    "g_gtool = Graph(directed=False)\n",
    "m = g._num_edges\n",
    "for i in range(m):\n",
    "    g_gtool.add_edge(g.edges[0][i], g.edges[1][i], add_missing=True)  \n",
    "    \n",
    "remove_self_loops(g_gtool)\n",
    "\n",
    "#prop = g.new_vertex_property(\"vector<double>\")\n",
    "#for i in range(n):\n",
    "#    prop[i] = [1 + i,1 + i]\n",
    "\n",
    "# Compute a layout for the graph.\n",
    "pos = sfdp_layout(g_gtool, gamma=10.0, mu=10.0, mu_p=10.0, verbose = False)  \n",
    "\n",
    "# Plot solutions for rounded eigenvector\n",
    "temp = np.zeros(g._num_vertices) + 0.00001\n",
    "\n",
    "eig2_rounded_c = diff(range(g._num_vertices), eig2_rounded)\n",
    "\n",
    "temp[eig2_rounded] = 6\n",
    "temp[eig2_rounded_c] = 6\n",
    "\n",
    "node_size = g_gtool.new_vertex_property(\"double\",temp)\n",
    "\n",
    "temp = [\"black\" for x in range(g._num_vertices)]\n",
    "\n",
    "for i in eig2_rounded:\n",
    "    temp[i] = \"yellow\"\n",
    "for i in eig2_rounded_c:\n",
    "    temp[i] = \"red\"\n",
    "\n",
    "node_colours = g_gtool.new_vertex_property(\"string\",temp)\n",
    "\n",
    "graph_draw(g_gtool, pos, output_size=(1000, 500),\n",
    "           vertex_size=node_size, \n",
    "           vertex_fill_color=node_colours, \n",
    "           vorder=node_size,\n",
    "           edge_pen_width=0.1)"
   ]
  },
  {
   "cell_type": "markdown",
   "metadata": {
    "collapsed": true,
    "deletable": true,
    "editable": true
   },
   "source": [
    "# Improve the initial partition using MQI"
   ]
  },
  {
   "cell_type": "code",
   "execution_count": null,
   "metadata": {
    "collapsed": false,
    "deletable": true,
    "editable": true
   },
   "outputs": [],
   "source": [
    "# Create an object for subgraph node partitioning.\n",
    "mqi_fast = MQI_fast.MQI_fast()\n",
    "\n",
    "# Conductance before improvement\n",
    "print(\"Conductance before improvement:\",g.compute_conductance(eig2_rounded))\n",
    "\n",
    "# Start calling MQI\n",
    "start = time.time()\n",
    "output_MQI_fast = mqi_fast.produce([g],[eig2_rounded])\n",
    "end = time.time()\n",
    "print(\"running time:\",str(end-start)+\"s\")\n",
    "\n",
    "# Conductance after improvement\n",
    "print(\"Conductance after improvement:\",g.compute_conductance(output_MQI_fast[0][0]))\n",
    "\n",
    "output_MQI = output_MQI_fast[0][0]"
   ]
  },
  {
   "cell_type": "markdown",
   "metadata": {
    "collapsed": true,
    "deletable": true,
    "editable": true
   },
   "source": [
    "# Visualize the output of MQI"
   ]
  },
  {
   "cell_type": "code",
   "execution_count": null,
   "metadata": {
    "collapsed": false,
    "deletable": true,
    "editable": true
   },
   "outputs": [],
   "source": [
    "# Plot solutions for rounded eigenvector\n",
    "temp = np.zeros(g._num_vertices) + 0.00001\n",
    "\n",
    "temp[output_MQI] = 6\n",
    "\n",
    "node_size = g_gtool.new_vertex_property(\"double\",temp)\n",
    "\n",
    "temp = [\"black\" for x in range(g._num_vertices)]\n",
    "\n",
    "for i in output_MQI:\n",
    "    temp[i] = \"yellow\"\n",
    "\n",
    "node_colours = g_gtool.new_vertex_property(\"string\",temp)\n",
    "\n",
    "graph_draw(g_gtool, pos, output_size=(1000, 500),\n",
    "           vertex_size=node_size, \n",
    "           vertex_fill_color=node_colours, \n",
    "           vorder=node_size,\n",
    "           edge_pen_width=0.1)"
   ]
  },
  {
   "cell_type": "markdown",
   "metadata": {
    "collapsed": false,
    "deletable": true,
    "editable": true
   },
   "source": [
    "# Improve the initial partition using Simple Local"
   ]
  },
  {
   "cell_type": "code",
   "execution_count": null,
   "metadata": {
    "collapsed": false,
    "deletable": true,
    "editable": true
   },
   "outputs": [],
   "source": [
    "# Create an object for subgraph node partitioning.\n",
    "SL_fast = SimpleLocal_fast.SimpleLocal_fast()\n",
    "\n",
    "# Conductance before improvement\n",
    "print(\"Conductance before improvement:\",g.compute_conductance(eig2_rounded))\n",
    "\n",
    "# Start calling SimpleLocal\n",
    "start = time.time()\n",
    "output_SL_fast = SL_fast.produce([g],[eig2_rounded])\n",
    "end = time.time()\n",
    "print(\"running time:\",str(end-start)+\"s\")\n",
    "\n",
    "# Conductance after improvement\n",
    "print(\"Conductance after improvement:\",g.compute_conductance(output_SL_fast[0][0]))\n",
    "\n",
    "output_SL = output_SL_fast[0][0]"
   ]
  },
  {
   "cell_type": "markdown",
   "metadata": {
    "collapsed": true,
    "deletable": true,
    "editable": true
   },
   "source": [
    "# Visualize the output of Simple Local"
   ]
  },
  {
   "cell_type": "code",
   "execution_count": null,
   "metadata": {
    "collapsed": false,
    "deletable": true,
    "editable": true
   },
   "outputs": [],
   "source": [
    "# Plot solutions for rounded eigenvector\n",
    "temp = np.zeros(g._num_vertices) + 0.00001\n",
    "\n",
    "temp[output_SL] = 6\n",
    "\n",
    "node_size = g_gtool.new_vertex_property(\"double\",temp)\n",
    "\n",
    "temp = [\"black\" for x in range(g._num_vertices)]\n",
    "\n",
    "for i in output_SL:\n",
    "    temp[i] = \"yellow\"\n",
    "\n",
    "node_colours = g_gtool.new_vertex_property(\"string\",temp)\n",
    "\n",
    "graph_draw(g_gtool, pos, output_size=(1000, 500),\n",
    "           vertex_size=node_size, \n",
    "           vertex_fill_color=node_colours, \n",
    "           vorder=node_size,\n",
    "           edge_pen_width=0.1)"
   ]
  },
  {
   "cell_type": "code",
   "execution_count": null,
   "metadata": {
    "collapsed": false,
    "deletable": true,
    "editable": true
   },
   "outputs": [],
   "source": []
  },
  {
   "cell_type": "code",
   "execution_count": null,
   "metadata": {
    "collapsed": false,
    "deletable": true,
    "editable": true
   },
   "outputs": [],
   "source": []
  },
  {
   "cell_type": "code",
   "execution_count": null,
   "metadata": {
    "collapsed": false,
    "deletable": true,
    "editable": true
   },
   "outputs": [],
   "source": []
  },
  {
   "cell_type": "code",
   "execution_count": null,
   "metadata": {
    "collapsed": false,
    "deletable": true,
    "editable": true
   },
   "outputs": [],
   "source": []
  },
  {
   "cell_type": "code",
   "execution_count": null,
   "metadata": {
    "collapsed": false,
    "deletable": true,
    "editable": true
   },
   "outputs": [],
   "source": []
  },
  {
   "cell_type": "code",
   "execution_count": null,
   "metadata": {
    "collapsed": false,
    "deletable": true,
    "editable": true
   },
   "outputs": [],
   "source": []
  },
  {
   "cell_type": "code",
   "execution_count": null,
   "metadata": {
    "collapsed": false,
    "deletable": true,
    "editable": true
   },
   "outputs": [],
   "source": []
  },
  {
   "cell_type": "code",
   "execution_count": null,
   "metadata": {
    "collapsed": false,
    "deletable": true,
    "editable": true
   },
   "outputs": [],
   "source": []
  },
  {
   "cell_type": "code",
   "execution_count": null,
   "metadata": {
    "collapsed": false,
    "deletable": true,
    "editable": true
   },
   "outputs": [],
   "source": []
  },
  {
   "cell_type": "code",
   "execution_count": null,
   "metadata": {
    "collapsed": false,
    "deletable": true,
    "editable": true
   },
   "outputs": [],
   "source": []
  },
  {
   "cell_type": "code",
   "execution_count": null,
   "metadata": {
    "collapsed": false,
    "deletable": true,
    "editable": true
   },
   "outputs": [],
   "source": []
  },
  {
   "cell_type": "code",
   "execution_count": null,
   "metadata": {
    "collapsed": false,
    "deletable": true,
    "editable": true
   },
   "outputs": [],
   "source": []
  },
  {
   "cell_type": "code",
   "execution_count": null,
   "metadata": {
    "collapsed": false,
    "deletable": true,
    "editable": true
   },
   "outputs": [],
   "source": []
  },
  {
   "cell_type": "code",
   "execution_count": null,
   "metadata": {
    "collapsed": false,
    "deletable": true,
    "editable": true
   },
   "outputs": [],
   "source": []
  },
  {
   "cell_type": "code",
   "execution_count": null,
   "metadata": {
    "collapsed": false,
    "deletable": true,
    "editable": true
   },
   "outputs": [],
   "source": []
  },
  {
   "cell_type": "code",
   "execution_count": null,
   "metadata": {
    "collapsed": false,
    "deletable": true,
    "editable": true
   },
   "outputs": [],
   "source": []
  },
  {
   "cell_type": "code",
   "execution_count": null,
   "metadata": {
    "collapsed": true,
    "deletable": true,
    "editable": true
   },
   "outputs": [],
   "source": []
  }
 ],
 "metadata": {
  "kernelspec": {
   "display_name": "Python 3",
   "language": "python",
   "name": "python3"
  },
  "language_info": {
   "codemirror_mode": {
    "name": "ipython",
    "version": 3
   },
   "file_extension": ".py",
   "mimetype": "text/x-python",
   "name": "python",
   "nbconvert_exporter": "python",
   "pygments_lexer": "ipython3",
   "version": "3.6.3"
  }
 },
 "nbformat": 4,
 "nbformat_minor": 0
}
