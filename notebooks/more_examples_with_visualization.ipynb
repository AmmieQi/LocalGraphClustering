{
 "cells": [
  {
   "cell_type": "code",
   "execution_count": 1,
   "metadata": {
    "collapsed": false,
    "deletable": true,
    "editable": true
   },
   "outputs": [],
   "source": [
    "from localgraphclustering import *\n",
    "\n",
    "import time\n",
    "import numpy as np\n",
    "\n",
    "# Import the graph_tool module for visualization.\n",
    "from graph_tool.all import * \n",
    "\n",
    "# Import matplotlib \n",
    "import matplotlib.pyplot as plt\n",
    "\n",
    "# Just a useful function.\n",
    "def diff(a, b):\n",
    "        b = set(b)\n",
    "        return np.asarray([aa for aa in a if aa not in b], dtype = 'int64')"
   ]
  },
  {
   "cell_type": "markdown",
   "metadata": {
    "collapsed": false,
    "deletable": true,
    "editable": true
   },
   "source": [
    "## Localized vector using l1-regularized PageRank"
   ]
  },
  {
   "cell_type": "code",
   "execution_count": null,
   "metadata": {
    "collapsed": false,
    "deletable": true,
    "editable": true,
    "scrolled": false
   },
   "outputs": [],
   "source": [
    "# Read John Hopkins graph; a better graph than senate to demonstrate local graph clustering properties.\n",
    "g = graph_class_local.GraphLocal('./datasets/JohnsHopkins.edgelist','edgelist','\\t')\n",
    "\n",
    "# Create an object for an accelerated L1-regularized PageRank solver.\n",
    "l1reg_fast = l1_regularized_PageRank_fast.L1_regularized_PageRank_fast()\n",
    "\n",
    "# Find the solution of L1-regularized PageRank using localized accelerated gradient descent.\n",
    "# This method is the fastest among other l1-regularized solvers and other approximate PageRank solvers.\n",
    "reference_node = 2767\n",
    "output_l1reg_fast = l1reg_fast.produce([g],[reference_node],rho=5.0e-5)\n",
    "\n",
    "# Only one input graph is given, i.e., [g]. \n",
    "# Extract the array from position 0 and store it.\n",
    "l1_reg_vector = output_l1reg_fast[0]"
   ]
  },
  {
   "cell_type": "markdown",
   "metadata": {
    "collapsed": false,
    "deletable": true,
    "editable": true
   },
   "source": [
    "## Load layout for John Hopkins graph"
   ]
  },
  {
   "cell_type": "code",
   "execution_count": null,
   "metadata": {
    "collapsed": false,
    "deletable": true,
    "editable": true
   },
   "outputs": [],
   "source": [
    "# Add data to graphtool.\n",
    "g_gtool = Graph(directed=False)\n",
    "m = g._num_edges\n",
    "for i in range(m):\n",
    "    g_gtool.add_edge(g.edges[0][i], g.edges[1][i], add_missing=True)  \n",
    "    \n",
    "remove_self_loops(g_gtool)\n",
    "\n",
    "# Load pre-computed coordinates for nodes.\n",
    "ld_coord = np.loadtxt('./datasets/JohnHopkins_coord.xy', dtype = 'Float64')\n",
    "idx = np.argsort(ld_coord[:,0])\n",
    "\n",
    "pos = g_gtool.new_vertex_property(\"vector<double>\")\n",
    "for i in range(g._num_vertices):\n",
    "    pos[i] = ld_coord[idx[i],1:3]"
   ]
  },
  {
   "cell_type": "markdown",
   "metadata": {
    "collapsed": false,
    "deletable": true,
    "editable": true
   },
   "source": [
    "## Visualize localized vector for John Hopkins and reference node 2767"
   ]
  },
  {
   "cell_type": "code",
   "execution_count": null,
   "metadata": {
    "collapsed": false,
    "deletable": true,
    "editable": true
   },
   "outputs": [],
   "source": [
    "# Some pre-processing to make visualization better.\n",
    "temp = np.copy(l1_reg_vector)\n",
    "nnz_temp = temp.nonzero()\n",
    "nnz_temp = nnz_temp[0]\n",
    "temp[nnz_temp] = -np.log(temp[nnz_temp])\n",
    "temp[nnz_temp] = 100/temp[nnz_temp]\n",
    "temp = temp + 0.0001\n",
    "max_all = max(temp)\n",
    "temp[reference_node] = max_all/2.6\n",
    "temp = temp/np.linalg.norm(temp, 2)\n",
    "\n",
    "halo = np.zeros(g._num_vertices, dtype=bool)\n",
    "halo[reference_node] = True\n",
    "node_halo   = g_gtool.new_vertex_property(\"bool\",halo)\n",
    "\n",
    "node_weights = g_gtool.new_vertex_property(\"double\",temp)\n",
    "node_size = g_gtool.new_vertex_property(\"double\",np.abs(temp)*50)\n",
    "\n",
    "c_map = plt.get_cmap('autumn')\n",
    "\n",
    "graph_draw(g_gtool, pos, output_size=(1000, 500),\n",
    "           vertex_size=node_size, vertex_fill_color=node_weights, vorder=node_size,\n",
    "           vertex_halo=node_halo,\n",
    "           vertex_halo_size = 1.9,\n",
    "           vertex_halo_color = \"blue\",\n",
    "           edge_pen_width=0.1,\n",
    "           edge_color = [0.0, 0, 0, 0.05],\n",
    "           vcmap = c_map)"
   ]
  },
  {
   "cell_type": "markdown",
   "metadata": {
    "collapsed": false,
    "deletable": true,
    "editable": true
   },
   "source": [
    "## Obtain the partition using the localized vector"
   ]
  },
  {
   "cell_type": "code",
   "execution_count": null,
   "metadata": {
    "collapsed": false,
    "deletable": true,
    "editable": true
   },
   "outputs": [],
   "source": [
    "# Create an object for a C++ version of the sweep cut rounding procedure.\n",
    "sc_fast = sweepCut_fast.SweepCut_fast()\n",
    "\n",
    "# Call C++ version of sweep cut rounding on the l1-regularized PageRank solution.\n",
    "output_sc_fast = sc_fast.produce([g],p=l1_reg_vector)\n",
    "\n",
    "# Extract the partition for g and store it.\n",
    "l1_reg_vector_rounded = output_sc_fast[0][0]"
   ]
  },
  {
   "cell_type": "markdown",
   "metadata": {
    "collapsed": false,
    "deletable": true,
    "editable": true
   },
   "source": [
    "## Visualize local partitioning of John Hopkins"
   ]
  },
  {
   "cell_type": "code",
   "execution_count": null,
   "metadata": {
    "collapsed": false,
    "deletable": true,
    "editable": true
   },
   "outputs": [],
   "source": [
    "# Plot solutions for rounded eigenvector\n",
    "temp = np.zeros(g._num_vertices) + 0.00001\n",
    "\n",
    "temp[l1_reg_vector_rounded] = 6\n",
    "\n",
    "node_size = g_gtool.new_vertex_property(\"double\",temp)\n",
    "\n",
    "temp = [\"black\" for x in range(g._num_vertices)]\n",
    "\n",
    "for i in l1_reg_vector_rounded:\n",
    "    temp[i] = \"yellow\"\n",
    "\n",
    "node_colours = g_gtool.new_vertex_property(\"string\",temp)\n",
    "\n",
    "graph_draw(g_gtool, pos, output_size=(1000, 500),\n",
    "           vertex_size=node_size, \n",
    "           vertex_fill_color=node_colours, \n",
    "           vorder=node_size,\n",
    "           edge_pen_width=0.1,\n",
    "           edge_color = [0.0, 0, 0, 0.05])"
   ]
  },
  {
   "cell_type": "markdown",
   "metadata": {
    "collapsed": false,
    "deletable": true,
    "editable": true
   },
   "source": [
    "## Localized vector using l1-regularized PageRank for another reference node"
   ]
  },
  {
   "cell_type": "code",
   "execution_count": null,
   "metadata": {
    "collapsed": false,
    "deletable": true,
    "editable": true
   },
   "outputs": [],
   "source": [
    "# Find the solution of L1-regularized PageRank using localized accelerated gradient descent.\n",
    "# This method is the fastest among other l1-regularized solvers and other approximate PageRank solvers.\n",
    "reference_node = 5000\n",
    "output_l1reg_fast = l1reg_fast.produce([g],[reference_node],rho=8.0e-6)\n",
    "\n",
    "# Only one input graph is given, i.e., [g]. \n",
    "# Extract the array from position 0 and store it.\n",
    "l1_reg_vector = output_l1reg_fast[0]"
   ]
  },
  {
   "cell_type": "markdown",
   "metadata": {
    "collapsed": false,
    "deletable": true,
    "editable": true
   },
   "source": [
    "## Visualize localized vector for John Hopkins and reference node 5000"
   ]
  },
  {
   "cell_type": "code",
   "execution_count": null,
   "metadata": {
    "collapsed": false,
    "deletable": true,
    "editable": true
   },
   "outputs": [],
   "source": [
    "# Some pre-processing to make visualization better.\n",
    "temp = np.copy(l1_reg_vector)\n",
    "nnz_temp = temp.nonzero()\n",
    "nnz_temp = nnz_temp[0]\n",
    "temp[nnz_temp] = -np.log(temp[nnz_temp])\n",
    "temp[nnz_temp] = 100/temp[nnz_temp]\n",
    "temp = temp + 0.0001\n",
    "max_all = max(temp)\n",
    "temp[reference_node] = max_all/2.6\n",
    "temp = temp/np.linalg.norm(temp, 2)\n",
    "\n",
    "halo = np.zeros(g._num_vertices, dtype=bool)\n",
    "halo[reference_node] = True\n",
    "node_halo   = g_gtool.new_vertex_property(\"bool\",halo)\n",
    "\n",
    "node_weights = g_gtool.new_vertex_property(\"double\",temp)\n",
    "node_size = g_gtool.new_vertex_property(\"double\",np.abs(temp)*100)\n",
    "\n",
    "c_map = plt.get_cmap('autumn')\n",
    "\n",
    "graph_draw(g_gtool, pos, output_size=(1000, 500),\n",
    "           vertex_size=node_size, vertex_fill_color=node_weights, vorder=node_size,\n",
    "           vertex_halo=node_halo,\n",
    "           vertex_halo_size = 1.9,\n",
    "           vertex_halo_color = \"blue\",\n",
    "           edge_pen_width=0.1,\n",
    "           edge_color = [0.0, 0, 0, 0.05],\n",
    "           vcmap = c_map)"
   ]
  },
  {
   "cell_type": "markdown",
   "metadata": {
    "collapsed": false,
    "deletable": true,
    "editable": true
   },
   "source": [
    "## Obtain the partition using the localized vector"
   ]
  },
  {
   "cell_type": "code",
   "execution_count": null,
   "metadata": {
    "collapsed": false,
    "deletable": true,
    "editable": true
   },
   "outputs": [],
   "source": [
    "# Create an object for a C++ version of the sweep cut rounding procedure.\n",
    "sc_fast = sweepCut_fast.SweepCut_fast()\n",
    "\n",
    "# Call C++ version of sweep cut rounding on the l1-regularized PageRank solution.\n",
    "output_sc_fast = sc_fast.produce([g],p=l1_reg_vector)\n",
    "\n",
    "# Extract the partition for g and store it.\n",
    "l1_reg_vector_rounded = output_sc_fast[0][0]"
   ]
  },
  {
   "cell_type": "markdown",
   "metadata": {
    "collapsed": false,
    "deletable": true,
    "editable": true
   },
   "source": [
    "## Visualize local partitioning of John Hopkins"
   ]
  },
  {
   "cell_type": "code",
   "execution_count": null,
   "metadata": {
    "collapsed": false,
    "deletable": true,
    "editable": true
   },
   "outputs": [],
   "source": [
    "# Plot solutions for rounded eigenvector\n",
    "temp = np.zeros(g._num_vertices) + 0.00001\n",
    "\n",
    "temp[l1_reg_vector_rounded] = 6\n",
    "\n",
    "node_size = g_gtool.new_vertex_property(\"double\",temp)\n",
    "\n",
    "temp = [\"black\" for x in range(g._num_vertices)]\n",
    "\n",
    "for i in l1_reg_vector_rounded:\n",
    "    temp[i] = \"yellow\"\n",
    "\n",
    "node_colours = g_gtool.new_vertex_property(\"string\",temp)\n",
    "\n",
    "graph_draw(g_gtool, pos, output_size=(1000, 500),\n",
    "           vertex_size=node_size, \n",
    "           vertex_fill_color=node_colours, \n",
    "           vorder=node_size,\n",
    "           edge_pen_width=0.1,\n",
    "           edge_color = [0.0, 0, 0, 0.05])"
   ]
  },
  {
   "cell_type": "markdown",
   "metadata": {
    "collapsed": false,
    "deletable": true,
    "editable": true
   },
   "source": [
    "## Localized vector using Approximate PageRank for reference node 5000"
   ]
  },
  {
   "cell_type": "code",
   "execution_count": null,
   "metadata": {
    "collapsed": false,
    "deletable": true,
    "editable": true
   },
   "outputs": [],
   "source": [
    "# Create an object for the C++ version of the approximate PageRank algorithm.\n",
    "pr_fast = approximate_PageRank_fast.Approximate_PageRank_fast()\n",
    "\n",
    "# Find an approximate PageRank vector.\n",
    "reference_node = 5000\n",
    "output_pr_fast = pr_fast.produce([g],[reference_node],rho=5.0e-6)\n",
    "\n",
    "# Extract the array from position 0 and store it.\n",
    "pr_vector = output_pr_fast[0][1]\n",
    "pr_vector_ids = output_pr_fast[0][0]"
   ]
  },
  {
   "cell_type": "markdown",
   "metadata": {
    "collapsed": false,
    "deletable": true,
    "editable": true,
    "scrolled": true
   },
   "source": [
    "## Visualize localized vector for John Hopkins using Approximate PageRank and reference node 5000"
   ]
  },
  {
   "cell_type": "code",
   "execution_count": null,
   "metadata": {
    "collapsed": false,
    "deletable": true,
    "editable": true
   },
   "outputs": [],
   "source": [
    "# Some pre-processing to make visualization better.\n",
    "temp = np.zeros(g._num_vertices)\n",
    "temp[pr_vector_ids] = pr_vector\n",
    "nnz_temp = pr_vector_ids\n",
    "temp[nnz_temp] = -np.log(temp[nnz_temp])\n",
    "temp[nnz_temp] = 100/temp[nnz_temp]\n",
    "temp = temp + 0.0001\n",
    "max_all = max(temp)\n",
    "temp[reference_node] = max_all/2.6\n",
    "temp = temp/np.linalg.norm(temp, 2)\n",
    "\n",
    "halo = np.zeros(g._num_vertices, dtype=bool)\n",
    "halo[reference_node] = True\n",
    "node_halo   = g_gtool.new_vertex_property(\"bool\",halo)\n",
    "\n",
    "node_weights = g_gtool.new_vertex_property(\"double\",temp)\n",
    "node_size = g_gtool.new_vertex_property(\"double\",np.abs(temp)*100)\n",
    "\n",
    "c_map = plt.get_cmap('autumn')\n",
    "\n",
    "graph_draw(g_gtool, pos, output_size=(1000, 500),\n",
    "           vertex_size=node_size, vertex_fill_color=node_weights, vorder=node_size,\n",
    "           vertex_halo=node_halo,\n",
    "           vertex_halo_size = 1.9,\n",
    "           vertex_halo_color = \"blue\",\n",
    "           edge_pen_width=0.1,\n",
    "           edge_color = [0.0, 0, 0, 0.05],\n",
    "           vcmap = c_map)"
   ]
  },
  {
   "cell_type": "markdown",
   "metadata": {
    "collapsed": true,
    "deletable": true,
    "editable": true
   },
   "source": [
    "## Visualize local partitioning of approximate PageRank"
   ]
  },
  {
   "cell_type": "code",
   "execution_count": null,
   "metadata": {
    "collapsed": false,
    "deletable": true,
    "editable": true
   },
   "outputs": [],
   "source": [
    "# Plot solutions for rounded eigenvector\n",
    "temp = np.zeros(g._num_vertices) + 0.00001\n",
    "\n",
    "temp[pr_vector_ids] = 6\n",
    "\n",
    "node_size = g_gtool.new_vertex_property(\"double\",temp)\n",
    "\n",
    "temp = [\"black\" for x in range(g._num_vertices)]\n",
    "\n",
    "for i in pr_vector_ids:\n",
    "    temp[i] = \"yellow\"\n",
    "\n",
    "node_colours = g_gtool.new_vertex_property(\"string\",temp)\n",
    "\n",
    "graph_draw(g_gtool, pos, output_size=(1000, 500),\n",
    "           vertex_size=node_size, \n",
    "           vertex_fill_color=node_colours, \n",
    "           vorder=node_size,\n",
    "           edge_pen_width=0.1,\n",
    "           edge_color = [0.0, 0, 0, 0.05])"
   ]
  },
  {
   "cell_type": "markdown",
   "metadata": {
    "collapsed": false,
    "deletable": true,
    "editable": true
   },
   "source": [
    "## Localized vector using PageRank Nibble and reference node 5000"
   ]
  },
  {
   "cell_type": "code",
   "execution_count": null,
   "metadata": {
    "collapsed": false,
    "deletable": true,
    "editable": true
   },
   "outputs": [],
   "source": [
    "# Create an object for PageRank Nibble algorithm.\n",
    "pr_nb = pageRank_nibble.PageRank_nibble()\n",
    "\n",
    "# Call the PageRank nibble algorithm.\n",
    "reference_node = 5000\n",
    "output_pr_nb = pr_nb.produce([g],[reference_node],vol=40)\n",
    "\n",
    "# Extract the array from position 0 and store it.\n",
    "output_pr_nb_vector = output_pr_nb[0]"
   ]
  },
  {
   "cell_type": "markdown",
   "metadata": {
    "collapsed": false,
    "deletable": true,
    "editable": true
   },
   "source": [
    "## Visualize localized vector for John Hopkins and reference node 5000"
   ]
  },
  {
   "cell_type": "code",
   "execution_count": null,
   "metadata": {
    "collapsed": false,
    "deletable": true,
    "editable": true
   },
   "outputs": [],
   "source": [
    "# Some pre-processing to make visualization better.\n",
    "temp = np.copy(output_pr_nb_vector)\n",
    "nnz_temp = temp.nonzero()\n",
    "nnz_temp = nnz_temp[0]\n",
    "temp[nnz_temp] = -np.log(temp[nnz_temp])\n",
    "temp[nnz_temp] = 100/temp[nnz_temp]\n",
    "temp = temp + 0.0001\n",
    "max_all = max(temp)\n",
    "temp[reference_node] = max_all/1\n",
    "temp = temp/np.linalg.norm(temp, 2)\n",
    "\n",
    "halo = np.zeros(g._num_vertices, dtype=bool)\n",
    "halo[reference_node] = True\n",
    "node_halo   = g_gtool.new_vertex_property(\"bool\",halo)\n",
    "\n",
    "node_weights = g_gtool.new_vertex_property(\"double\",temp)\n",
    "node_size = g_gtool.new_vertex_property(\"double\",np.abs(temp)*100)\n",
    "\n",
    "c_map = plt.get_cmap('autumn')\n",
    "\n",
    "graph_draw(g_gtool, pos, output_size=(1000, 500),\n",
    "           vertex_size=node_size, vertex_fill_color=node_weights, vorder=node_size,\n",
    "           vertex_halo=node_halo,\n",
    "           vertex_halo_size = 1.9,\n",
    "           vertex_halo_color = \"blue\",\n",
    "           edge_pen_width=0.1,\n",
    "           edge_color = [0.0, 0, 0, 0.05],\n",
    "           vcmap = c_map)"
   ]
  },
  {
   "cell_type": "markdown",
   "metadata": {
    "collapsed": false,
    "deletable": true,
    "editable": true
   },
   "source": [
    "## Obtain the partition using the localized vector"
   ]
  },
  {
   "cell_type": "code",
   "execution_count": null,
   "metadata": {
    "collapsed": false,
    "deletable": true,
    "editable": true
   },
   "outputs": [],
   "source": [
    "# Create an object for a C++ version of the sweep cut rounding procedure.\n",
    "sc_fast = sweepCut_fast.SweepCut_fast()\n",
    "\n",
    "# Call C++ version of sweep cut rounding on the l1-regularized PageRank solution.\n",
    "output_sc_fast = sc_fast.produce([g],p=output_pr_nb_vector)\n",
    "\n",
    "# Extract the partition for g and store it.\n",
    "output_pr_nb_vector_vector_rounded = output_sc_fast[0][0]"
   ]
  },
  {
   "cell_type": "markdown",
   "metadata": {
    "collapsed": false,
    "deletable": true,
    "editable": true
   },
   "source": [
    "## Visualize local partitioning"
   ]
  },
  {
   "cell_type": "code",
   "execution_count": null,
   "metadata": {
    "collapsed": false,
    "deletable": true,
    "editable": true
   },
   "outputs": [],
   "source": [
    "# Plot solutions for rounded eigenvector\n",
    "temp = np.zeros(g._num_vertices) + 0.00001\n",
    "\n",
    "temp[l1_reg_vector_rounded] = 6\n",
    "\n",
    "node_size = g_gtool.new_vertex_property(\"double\",temp)\n",
    "\n",
    "temp = [\"black\" for x in range(g._num_vertices)]\n",
    "\n",
    "for i in l1_reg_vector_rounded:\n",
    "    temp[i] = \"yellow\"\n",
    "\n",
    "node_colours = g_gtool.new_vertex_property(\"string\",temp)\n",
    "\n",
    "graph_draw(g_gtool, pos, output_size=(1000, 500),\n",
    "           vertex_size=node_size, \n",
    "           vertex_fill_color=node_colours, \n",
    "           vorder=node_size,\n",
    "           edge_pen_width=0.1,\n",
    "           edge_color = [0.0, 0, 0, 0.05])"
   ]
  },
  {
   "cell_type": "code",
   "execution_count": null,
   "metadata": {
    "collapsed": false,
    "deletable": true,
    "editable": true
   },
   "outputs": [],
   "source": []
  },
  {
   "cell_type": "code",
   "execution_count": null,
   "metadata": {
    "collapsed": false,
    "deletable": true,
    "editable": true
   },
   "outputs": [],
   "source": []
  },
  {
   "cell_type": "code",
   "execution_count": null,
   "metadata": {
    "collapsed": false,
    "deletable": true,
    "editable": true
   },
   "outputs": [],
   "source": []
  },
  {
   "cell_type": "code",
   "execution_count": null,
   "metadata": {
    "collapsed": false,
    "deletable": true,
    "editable": true
   },
   "outputs": [],
   "source": []
  },
  {
   "cell_type": "code",
   "execution_count": null,
   "metadata": {
    "collapsed": false,
    "deletable": true,
    "editable": true
   },
   "outputs": [],
   "source": []
  },
  {
   "cell_type": "code",
   "execution_count": null,
   "metadata": {
    "collapsed": false,
    "deletable": true,
    "editable": true
   },
   "outputs": [],
   "source": []
  },
  {
   "cell_type": "code",
   "execution_count": null,
   "metadata": {
    "collapsed": false,
    "deletable": true,
    "editable": true
   },
   "outputs": [],
   "source": []
  },
  {
   "cell_type": "code",
   "execution_count": null,
   "metadata": {
    "collapsed": false,
    "deletable": true,
    "editable": true
   },
   "outputs": [],
   "source": []
  },
  {
   "cell_type": "code",
   "execution_count": null,
   "metadata": {
    "collapsed": false,
    "deletable": true,
    "editable": true
   },
   "outputs": [],
   "source": []
  },
  {
   "cell_type": "code",
   "execution_count": null,
   "metadata": {
    "collapsed": false,
    "deletable": true,
    "editable": true
   },
   "outputs": [],
   "source": []
  },
  {
   "cell_type": "code",
   "execution_count": null,
   "metadata": {
    "collapsed": true,
    "deletable": true,
    "editable": true
   },
   "outputs": [],
   "source": []
  }
 ],
 "metadata": {
  "kernelspec": {
   "display_name": "Python 3",
   "language": "python",
   "name": "python3"
  },
  "language_info": {
   "codemirror_mode": {
    "name": "ipython",
    "version": 3
   },
   "file_extension": ".py",
   "mimetype": "text/x-python",
   "name": "python",
   "nbconvert_exporter": "python",
   "pygments_lexer": "ipython3",
   "version": "3.6.3"
  }
 },
 "nbformat": 4,
 "nbformat_minor": 0
}
