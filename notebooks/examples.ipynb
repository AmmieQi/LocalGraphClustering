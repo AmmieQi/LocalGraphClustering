{
 "cells": [
  {
   "cell_type": "code",
   "execution_count": 1,
   "metadata": {
    "collapsed": true,
    "deletable": true,
    "editable": true
   },
   "outputs": [],
   "source": [
    "from localgraphclustering import *\n",
    "\n",
    "import time\n",
    "import numpy as np"
   ]
  },
  {
   "cell_type": "markdown",
   "metadata": {
    "deletable": true,
    "editable": true
   },
   "source": [
    "# Load graph"
   ]
  },
  {
   "cell_type": "code",
   "execution_count": 2,
   "metadata": {
    "collapsed": false,
    "deletable": true,
    "editable": true,
    "scrolled": true
   },
   "outputs": [],
   "source": [
    "# Read graph. This also supports gml format.\n",
    "g = graph_class_local.GraphLocal('./datasets/JohnsHopkins.edgelist','edgelist','\\t')\n",
    "\n",
    "# To get a quick look at the list of methods and attributes for the graph object 'g' you can type 'g.' + tab\n",
    "# and scroll up or down."
   ]
  },
  {
   "cell_type": "markdown",
   "metadata": {
    "deletable": true,
    "editable": true
   },
   "source": [
    "# Spectral global graph partitioning"
   ]
  },
  {
   "cell_type": "code",
   "execution_count": 3,
   "metadata": {
    "collapsed": true,
    "deletable": true,
    "editable": true
   },
   "outputs": [],
   "source": [
    "# Create an object for global spectral partitioning\n",
    "sp = spectral_partitioning.Spectral_partitioning()\n",
    "\n",
    "# Call the global spectral partitioning algorithm.\n",
    "output_sp = sp.produce([g])"
   ]
  },
  {
   "cell_type": "markdown",
   "metadata": {
    "deletable": true,
    "editable": true
   },
   "source": [
    "# Create objects for spectral local graph partitioning methods"
   ]
  },
  {
   "cell_type": "code",
   "execution_count": 4,
   "metadata": {
    "collapsed": true,
    "deletable": true,
    "editable": true
   },
   "outputs": [],
   "source": [
    "# Create an object for approximate PageRank algorithm.\n",
    "pr = approximate_PageRank.Approximate_PageRank()\n",
    "# Create an object for the C++ version of the approximate PageRank algorithm.\n",
    "pr_fast = approximate_PageRank_fast.Approximate_PageRank_fast()\n",
    "# Create an object for a weighted approximate PageRank algorithm.\n",
    "pr_weighted_fast = approximate_PageRank_weighted_fast.Approximate_PageRank_weighted_fast()\n",
    "# Create an object for a L1-regularized PageRank solver.\n",
    "l1reg = l1_regularized_PageRank.L1_regularized_PageRank()\n",
    "# Create an object for an accelerated L1-regularized PageRank solver.\n",
    "l1reg_fast = l1_regularized_PageRank_fast.L1_regularized_PageRank_fast()\n",
    "# Create an object for PageRank Nibble algorithm.\n",
    "pr_nb = pageRank_nibble.PageRank_nibble()"
   ]
  },
  {
   "cell_type": "markdown",
   "metadata": {
    "deletable": true,
    "editable": true
   },
   "source": [
    "# Example: produce embeddings using l1-regularized PageRank"
   ]
  },
  {
   "cell_type": "code",
   "execution_count": 5,
   "metadata": {
    "collapsed": true,
    "deletable": true,
    "editable": true
   },
   "outputs": [],
   "source": [
    "# Find the solution of L1-regularized PageRank using localized accelerated gradient descent.\n",
    "# This method is the fastest among other l1-regularized solvers and other approximate PageRank solvers.\n",
    "output_l1reg_fast = l1reg_fast.produce([g],[3215])"
   ]
  },
  {
   "cell_type": "markdown",
   "metadata": {
    "deletable": true,
    "editable": true
   },
   "source": [
    "# More examples"
   ]
  },
  {
   "cell_type": "code",
   "execution_count": 6,
   "metadata": {
    "collapsed": true,
    "deletable": true,
    "editable": true
   },
   "outputs": [],
   "source": [
    "# Find an approximate PageRank vector.\n",
    "output_pr = pr.produce([g],[0])\n",
    "# Find an approximate PageRank vector by calling a C++ code.\n",
    "output_pr_fast = pr_fast.produce([g],[0])\n",
    "# Find an approximate PageRank vector.\n",
    "output_pr_weighted_fast = pr_weighted_fast.produce([g],[0])\n",
    "# Find the solution of L1-regularized PageRank.\n",
    "output_l1reg = l1reg.produce([g],[0])\n",
    "# Call the PageRank nibble algorithm.\n",
    "output_pr_nb = pr_nb.produce([g],[0])"
   ]
  },
  {
   "cell_type": "markdown",
   "metadata": {
    "deletable": true,
    "editable": true
   },
   "source": [
    "# Create objects for rounding methods"
   ]
  },
  {
   "cell_type": "code",
   "execution_count": 7,
   "metadata": {
    "collapsed": true,
    "deletable": true,
    "editable": true
   },
   "outputs": [],
   "source": [
    "# Create an object for the sweep cut rounding procedure.\n",
    "sc = sweepCut_general.SweepCut_general()\n",
    "# Create an object for a C++ version of the sweep cut rounding procedure.\n",
    "sc_fast = sweepCut_fast.SweepCut_fast()\n",
    "# Create an object for the degree normalized sweep cut rounding procedure.\n",
    "sc_normalized = sweepCut_normalized.SweepCut_normalized()"
   ]
  },
  {
   "cell_type": "markdown",
   "metadata": {
    "deletable": true,
    "editable": true
   },
   "source": [
    "# Examples for rounding algorithms"
   ]
  },
  {
   "cell_type": "code",
   "execution_count": 8,
   "metadata": {
    "collapsed": true,
    "deletable": true,
    "editable": true
   },
   "outputs": [],
   "source": [
    "# Call sweep cut rounding on the l1-regularized PageRank solution.\n",
    "output_sc = sc.produce([g],p=output_l1reg_fast[0])\n",
    "# Call C++ version of sweep cut rounding on the l1-regularized PageRank solution.\n",
    "output_sc_fast = sc_fast.produce([g],p=output_l1reg_fast[0])\n",
    "# Call degree normalized sweep cut rounding on the l1-regularized PageRank solution.\n",
    "output_sc_normalized = sc_normalized.produce([g],p=output_l1reg_fast[0])"
   ]
  },
  {
   "cell_type": "markdown",
   "metadata": {
    "deletable": true,
    "editable": true
   },
   "source": [
    "# Create objects for local spectral methods that incorporate rounding"
   ]
  },
  {
   "cell_type": "code",
   "execution_count": 9,
   "metadata": {
    "collapsed": true,
    "deletable": true,
    "editable": true
   },
   "outputs": [],
   "source": [
    "# Create an object for the approximate PageRank algorithm + Rounding (this method uses a fast C++ implementation).\n",
    "pr_clustering = approximate_PageRank_Clustering.Approximate_PageRank_Clustering()\n",
    "\n",
    "# Create an object for the l1-regularized PageRank algorithm + Rounding (this method uses a fast C++ implementation).\n",
    "l1reg_clustering = l1_regularized_PageRank_Clustering.L1_regularized_PageRank_Clustering()"
   ]
  },
  {
   "cell_type": "markdown",
   "metadata": {
    "deletable": true,
    "editable": true
   },
   "source": [
    "# Examples for local spectral methods that incorporate rounding"
   ]
  },
  {
   "cell_type": "code",
   "execution_count": null,
   "metadata": {
    "collapsed": true,
    "deletable": true,
    "editable": true
   },
   "outputs": [],
   "source": [
    "# Find a cluster using approximate PageRank.\n",
    "output_pr_clustering = pr_clustering.produce([g],[3215])\n",
    "\n",
    "# Find a cluster using approximate PageRank.\n",
    "output_l1reg_clustering = l1reg_clustering.produce([g],[3215])"
   ]
  },
  {
   "cell_type": "markdown",
   "metadata": {
    "deletable": true,
    "editable": true
   },
   "source": [
    "# Example of flow-based local graph partitioning"
   ]
  },
  {
   "cell_type": "code",
   "execution_count": null,
   "metadata": {
    "collapsed": false,
    "deletable": true,
    "editable": true
   },
   "outputs": [],
   "source": [
    "g = graph_class_local.GraphLocal('./datasets/JohnsHopkins.edgelist','edgelist','\\t')\n",
    "\n",
    "# Create an object for the C++ version of Capacity Releasing Diffusion\n",
    "crd_fast = capacity_releasing_diffusion_fast.Capacity_Releasing_Diffusion_fast()\n",
    "\n",
    "#Produce result\n",
    "output_crd_fast = crd_fast.produce([g],[3215])\n",
    "print(\"Conductance:\",g.compute_conductance(output_crd_fast[0]))"
   ]
  },
  {
   "cell_type": "markdown",
   "metadata": {
    "deletable": true,
    "editable": true
   },
   "source": [
    "# More flow-based local graph clustering methods"
   ]
  },
  {
   "cell_type": "code",
   "execution_count": null,
   "metadata": {
    "collapsed": false,
    "deletable": true,
    "editable": true
   },
   "outputs": [],
   "source": [
    "# How to use subgraph partitioning with MQI method.\n",
    "\n",
    "g = graph_class_local.GraphLocal('./datasets/minnesota.edgelist','edgelist',' ')\n",
    "\n",
    "# Create an object for subgraph node partitioning.\n",
    "mqi_fast = MQI_fast.MQI_fast()\n",
    "\n",
    "# The initial cut we want to improve\n",
    "R = [0,1,2,3,4,5,6,7,8,9,10,11,12,13,14,15,16,17,18,19,20,21,22,23,24,25,26,27,28,29,30,31,32,33,34,35,36,37,38,39,40,41,42,43,44,45,46,47,48,49,50,51,52,53,54,55,56,57,58,59,60,61,62,63,64,65,66,67,68,69,70,71,73,74,75,76,77,78,79,80,81,82,83,84,85,87,88,89,90,91,92,93,94,95,97,98,99,100,102,103,104,105,106,108,112,114,118,119,120,121,122,123,124,125,126,127,128,129,130,131,132,133,134,135,136,137,139,140,141,142,143,144,145,147,148,149,150,151,152,155,157,158,159,160,161,162,164,165,166,168,169,171,172,173,176,177,178,179,180,185,187,188,191,192,195,196,197,201,208,209,210,211,212,215,217,218,219,221,223,225,226,227,228,231,232,244,245,246,247,248,249,253,254,257,261,262,265,269,270,271,272,273,275,276,277,278,279,285,286,287,290,291,299,303,323,327]\n",
    "\n",
    "# Conductance before improvement\n",
    "print(\"Conductance before improvement:\",g.compute_conductance(R))\n",
    "\n",
    "# Start calling MQI\n",
    "start = time.time()\n",
    "output_MQI_fast = mqi_fast.produce([g],[R])\n",
    "end = time.time()\n",
    "print(\"running time:\",str(end-start)+\"s\")\n",
    "\n",
    "# Conductance after improvement\n",
    "print(\"Conductance after improvement:\",g.compute_conductance(output_MQI_fast[0][0]))"
   ]
  },
  {
   "cell_type": "code",
   "execution_count": null,
   "metadata": {
    "collapsed": false,
    "deletable": true,
    "editable": true
   },
   "outputs": [],
   "source": [
    "# How to use subgraph partitioning with SimpleLocal method.\n",
    "\n",
    "g = graph_class_local.GraphLocal('./datasets/minnesota.edgelist','edgelist',' ')\n",
    "\n",
    "# Create an object for subgraph node partitioning.\n",
    "SL_fast = SimpleLocal_fast.SimpleLocal_fast()\n",
    "\n",
    "# The initial cut we want to improve\n",
    "R = [0,1,2,3,4,5,6,7,8,9,10,11,12,13,14,15,16,17,18,19,20,21,22,23,24,25,26,27,28,29,30,31,32,33,34,35,36,37,38,39,40,41,42,43,44,45,46,47,48,49,50,51,52,53,54,55,56,57,58,59,60,61,62,63,64,65,66,67,68,69,70,71,73,74,75,76,77,78,79,80,81,82,83,84,85,87,88,89,90,91,92,93,94,95,97,98,99,100,102,103,104,105,106,108,112,114,118,119,120,121,122,123,124,125,126,127,128,129,130,131,132,133,134,135,136,137,139,140,141,142,143,144,145,147,148,149,150,151,152,155,157,158,159,160,161,162,164,165,166,168,169,171,172,173,176,177,178,179,180,185,187,188,191,192,195,196,197,201,208,209,210,211,212,215,217,218,219,221,223,225,226,227,228,231,232,244,245,246,247,248,249,253,254,257,261,262,265,269,270,271,272,273,275,276,277,278,279,285,286,287,290,291,299,303,323,327]\n",
    "\n",
    "# Conductance before improvement\n",
    "print(\"Conductance before improvement:\",g.compute_conductance(R))\n",
    "\n",
    "# Start calling SimpleLocal\n",
    "start = time.time()\n",
    "output_SL_fast = SL_fast.produce([g],[R])\n",
    "end = time.time()\n",
    "print(\"running time:\",str(end-start)+\"s\")\n",
    "\n",
    "# Conductance after improvement\n",
    "print(\"Conductance after improvement:\",g.compute_conductance(output_SL_fast[0][0]))"
   ]
  },
  {
   "cell_type": "markdown",
   "metadata": {
    "deletable": true,
    "editable": true
   },
   "source": [
    "# Create an object for multiclass label prediction."
   ]
  },
  {
   "cell_type": "code",
   "execution_count": null,
   "metadata": {
    "collapsed": true,
    "deletable": true,
    "editable": true
   },
   "outputs": [],
   "source": [
    "# Create an object for multiclass label prediction.\n",
    "mc = multiclass_label_prediction.Multiclass_label_prediction()"
   ]
  },
  {
   "cell_type": "markdown",
   "metadata": {
    "deletable": true,
    "editable": true
   },
   "source": [
    "# Example for multiclass label prediction"
   ]
  },
  {
   "cell_type": "code",
   "execution_count": null,
   "metadata": {
    "collapsed": false,
    "deletable": true,
    "editable": true
   },
   "outputs": [],
   "source": [
    "g = graph_class_local.GraphLocal('./datasets/JohnsHopkins.edgelist','edgelist','\\t')\n",
    "\n",
    "# List of nodes around which we want to find labels\n",
    "labels = [[1,10,300],[3215],[1002,2500,540]]\n",
    "\n",
    "# This function predicts labels for unlabelled nodes. For details refer to:\n",
    "# D. Gleich and M. Mahoney. Variational \n",
    "# Using Local Spectral Methods to Robustify Graph-Based Learning Algorithms. SIGKDD 2015.\n",
    "# https://www.stat.berkeley.edu/~mmahoney/pubs/robustifying-kdd15.pdf\n",
    "# To check to documentation for the input and output of this function call \n",
    "# help(multiclass_label_prediction)\n",
    "output_mc = mc.produce([g],labels=labels)"
   ]
  },
  {
   "cell_type": "markdown",
   "metadata": {
    "deletable": true,
    "editable": true
   },
   "source": [
    "# Densest subgraph "
   ]
  },
  {
   "cell_type": "code",
   "execution_count": null,
   "metadata": {
    "collapsed": false,
    "deletable": true,
    "editable": true
   },
   "outputs": [],
   "source": [
    "#How to use densest subgraph method.\n",
    "g = graph_class_local.GraphLocal('./datasets/Erdos02-cc.edgelist','edgelist',' ')\n",
    "\n",
    "# Create an object for densest subgraph.\n",
    "ds_fast = densest_subgraph_fast.densest_subgraph_fast()\n",
    "\n",
    "# Produce result\n",
    "output_ds_fast = ds_fast.produce([g])\n",
    "print(\"Maximum density we found:\",output_ds_fast[0][0])"
   ]
  },
  {
   "cell_type": "markdown",
   "metadata": {
    "deletable": true,
    "editable": true
   },
   "source": [
    "# Global partitioning for a subgraph"
   ]
  },
  {
   "cell_type": "code",
   "execution_count": null,
   "metadata": {
    "collapsed": true,
    "deletable": true,
    "editable": true
   },
   "outputs": [],
   "source": [
    "# Create an object for global spectral partitioning\n",
    "sp_subgraph = spectral_partitioning_subgraph.Spectral_partitioning_subgraph()\n",
    "\n",
    "# Call the global spectral partitioning algorithm for a subgraph.\n",
    "output_sp_subgraph = sp_subgraph.produce([g],[output_ds_fast[0][1]])"
   ]
  },
  {
   "cell_type": "markdown",
   "metadata": {
    "deletable": true,
    "editable": true
   },
   "source": [
    "# CRD Network Community Profile"
   ]
  },
  {
   "cell_type": "code",
   "execution_count": null,
   "metadata": {
    "collapsed": false,
    "deletable": true,
    "editable": true
   },
   "outputs": [],
   "source": [
    "G = graph_class_local.GraphLocal()\n",
    "G.read_graph(\"./datasets/neuro-fmri-01.edges\",\"edgelist\", \" \")\n",
    "ncp_instance = ncp.Ncp()\n",
    "df = ncp_instance.produce(G,\"crd\",w=10,U=10,h=1000)\n",
    "ncp_plots = ncpplots.NCPPlots(df)\n",
    "#plot conductance vs size\n",
    "ncp_plots.cond_by_size()\n",
    "#plot conductance vs volume\n",
    "ncp_plots.cond_by_vol()\n",
    "#plot isoperimetry vs size\n",
    "ncp_plots.isop_by_size()"
   ]
  },
  {
   "cell_type": "markdown",
   "metadata": {
    "deletable": true,
    "editable": true
   },
   "source": [
    "# MQI Network Community Profile"
   ]
  },
  {
   "cell_type": "code",
   "execution_count": null,
   "metadata": {
    "collapsed": false,
    "deletable": true,
    "editable": true
   },
   "outputs": [],
   "source": [
    "G = graph_class_local.GraphLocal()\n",
    "G.read_graph(\"./datasets/neuro-fmri-01.edges\",\"edgelist\", \" \")\n",
    "ncp_instance = ncp.Ncp()\n",
    "df = ncp_instance.produce(G,\"mqi\")\n",
    "ncp_plots = ncpplots.NCPPlots(df)\n",
    "#plot conductance vs size\n",
    "ncp_plots.cond_by_size()\n",
    "#plot conductance vs volume\n",
    "ncp_plots.cond_by_vol()\n",
    "#plot isoperimetry vs size\n",
    "ncp_plots.isop_by_size()"
   ]
  },
  {
   "cell_type": "markdown",
   "metadata": {
    "deletable": true,
    "editable": true
   },
   "source": [
    "# L1reg Network Community Profile"
   ]
  },
  {
   "cell_type": "code",
   "execution_count": null,
   "metadata": {
    "collapsed": false,
    "deletable": true,
    "editable": true
   },
   "outputs": [],
   "source": [
    "G = graph_class_local.GraphLocal()\n",
    "G.read_graph(\"./datasets/neuro-fmri-01.edges\",\"edgelist\", \" \")\n",
    "ncp_instance = ncp.Ncp()\n",
    "df = ncp_instance.produce(G,\"l1reg\")\n",
    "ncp_plots = ncpplots.NCPPlots(df)\n",
    "#plot conductance vs size\n",
    "ncp_plots.cond_by_size()\n",
    "#plot conductance vs volume\n",
    "ncp_plots.cond_by_vol()\n",
    "#plot isoperimetry vs size\n",
    "ncp_plots.isop_by_size()"
   ]
  },
  {
   "cell_type": "code",
   "execution_count": null,
   "metadata": {
    "collapsed": true,
    "deletable": true,
    "editable": true
   },
   "outputs": [],
   "source": []
  },
  {
   "cell_type": "code",
   "execution_count": null,
   "metadata": {
    "collapsed": false,
    "deletable": true,
    "editable": true
   },
   "outputs": [],
   "source": []
  },
  {
   "cell_type": "code",
   "execution_count": null,
   "metadata": {
    "collapsed": false,
    "deletable": true,
    "editable": true
   },
   "outputs": [],
   "source": []
  },
  {
   "cell_type": "code",
   "execution_count": null,
   "metadata": {
    "collapsed": false,
    "deletable": true,
    "editable": true
   },
   "outputs": [],
   "source": []
  },
  {
   "cell_type": "code",
   "execution_count": null,
   "metadata": {
    "collapsed": true,
    "deletable": true,
    "editable": true
   },
   "outputs": [],
   "source": []
  },
  {
   "cell_type": "code",
   "execution_count": null,
   "metadata": {
    "collapsed": true,
    "deletable": true,
    "editable": true
   },
   "outputs": [],
   "source": []
  },
  {
   "cell_type": "code",
   "execution_count": null,
   "metadata": {
    "collapsed": false,
    "deletable": true,
    "editable": true
   },
   "outputs": [],
   "source": []
  },
  {
   "cell_type": "code",
   "execution_count": null,
   "metadata": {
    "collapsed": true,
    "deletable": true,
    "editable": true
   },
   "outputs": [],
   "source": []
  }
 ],
 "metadata": {
  "kernelspec": {
   "display_name": "Python 3",
   "language": "python",
   "name": "python3"
  },
  "language_info": {
   "codemirror_mode": {
    "name": "ipython",
    "version": 3
   },
   "file_extension": ".py",
   "mimetype": "text/x-python",
   "name": "python",
   "nbconvert_exporter": "python",
   "pygments_lexer": "ipython3",
   "version": "3.6.3"
  }
 },
 "nbformat": 4,
 "nbformat_minor": 1
}
