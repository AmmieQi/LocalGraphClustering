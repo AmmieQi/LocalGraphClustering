{
 "cells": [
  {
   "cell_type": "code",
   "execution_count": 21,
   "metadata": {
    "collapsed": true,
    "deletable": true,
    "editable": true
   },
   "outputs": [],
   "source": [
    "from localgraphclustering import *\n",
    "\n",
    "import time\n",
    "import numpy as np"
   ]
  },
  {
   "cell_type": "markdown",
   "metadata": {
    "deletable": true,
    "editable": true
   },
   "source": [
    "# Load graph"
   ]
  },
  {
   "cell_type": "code",
   "execution_count": 22,
   "metadata": {
    "collapsed": false,
    "deletable": true,
    "editable": true,
    "scrolled": true
   },
   "outputs": [
    {
     "name": "stdout",
     "output_type": "stream",
     "text": [
      "The following nodes have no outgoing edges: [  30   33   38   44   47   83  112  115  118  119  149  194  261  267  269\n",
      "  282  285  301  323  333  351  470  473  479  488  502  506  530  533  560\n",
      "  561  570  574  588  591  604  613  639  659  699  724  725  733  742  796\n",
      "  834  838  920  940  944  952  976  981  985  986 1042 1082 1109 1160 1164\n",
      " 1183 1221 1245 1273 1280 1290 1291 1331 1347 1357 1376 1406 1408 1415 1421\n",
      " 1439 1442 1449 1493 1502 1517 1522 1528 1543 1560 1564 1565 1634 1643 1651\n",
      " 1664 1706 1715 1716 1740 1741 1743 1744 1746 1749 1781 1790 1797 1798 1893\n",
      " 1896 1903 1926 1927 1933 1967 1986 1988 1997 2004 2009 2020 2034 2035 2037\n",
      " 2071 2076 2079 2103 2113 2151 2177 2178 2240 2246 2257 2329 2338 2353 2355\n",
      " 2384 2401 2464 2466 2479 2483 2564 2580 2583 2591 2593 2601 2650 2652 2655\n",
      " 2672 2677 2678 2679 2726 2782 2784 2789 2815 2816 2819 2833 2862 2909 2916\n",
      " 2923 2924 2927 2958 2972 2976 2990 2999 3019 3051 3092 3094 3133 3155 3157\n",
      " 3159 3171 3172 3175 3179 3188 3190 3191 3192 3193 3194 3196 3197 3198 3199\n",
      " 3201 3210 3213 3214 3218 3222 3223 3234 3244 3256 3263 3266 3304 3305 3362\n",
      " 3370 3372 3376 3388 3397 3400 3420 3424 3467 3488 3490 3502 3506 3509 3516\n",
      " 3561 3567 3604 3632 3648 3699 3700 3711 3728 3824 3831 3883 3888 3908 3970\n",
      " 3972 3973 4003 4004 4008 4012 4014 4018 4066 4076 4089 4096 4110 4118 4119\n",
      " 4126 4137 4176 4183 4193 4203 4210 4224 4235 4242 4243 4244 4247 4249 4270\n",
      " 4272 4279 4392 4394 4397 4398 4414 4421 4441 4442 4444 4478 4488 4492 4499\n",
      " 4601 4604 4606 4609 4615 4630 4632 4634 4637 4641 4642 4645 4670 4719 4762\n",
      " 4800 4801 4804 4806 4807 4808 4809 4823 4828 4833 4834 4849 4856 4874 4877\n",
      " 4881 4913 4946 4962 4963 4969 5002 5024 5027 5064 5080 5093 5104 5156 5159\n",
      " 5160 5172] \n",
      "\n",
      "These nodes are stored in the your_graph_object._dangling.\n",
      "To avoid numerical difficulties we connect each dangling node to another randomly chosen node.\n"
     ]
    },
    {
     "name": "stderr",
     "output_type": "stream",
     "text": [
      "/usr/local/lib/python3.6/site-packages/scipy/sparse/compressed.py:774: SparseEfficiencyWarning: Changing the sparsity structure of a csr_matrix is expensive. lil_matrix is more efficient.\n",
      "  SparseEfficiencyWarning)\n"
     ]
    }
   ],
   "source": [
    "# Read graph. This also supports gml format.\n",
    "g = graph_class_local.GraphLocal('./datasets/JohnsHopkins.edgelist','edgelist','\\t')\n",
    "\n",
    "# To get a quick look at the list of methods and attributes for the graph object 'g' you can type 'g.' + tab\n",
    "# and scroll up or down."
   ]
  },
  {
   "cell_type": "markdown",
   "metadata": {
    "deletable": true,
    "editable": true
   },
   "source": [
    "# Spectral global graph partitioning"
   ]
  },
  {
   "cell_type": "code",
   "execution_count": 23,
   "metadata": {
    "collapsed": false,
    "deletable": true,
    "editable": true
   },
   "outputs": [],
   "source": [
    "# Create an object for global spectral partitioning\n",
    "sp = spectral_partitioning.Spectral_partitioning()\n",
    "\n",
    "# Call the global spectral partitioning algorithm.\n",
    "output_sp = sp.produce([g])"
   ]
  },
  {
   "cell_type": "markdown",
   "metadata": {
    "deletable": true,
    "editable": true
   },
   "source": [
    "# Create objects for spectral local graph partitioning methods"
   ]
  },
  {
   "cell_type": "code",
   "execution_count": 24,
   "metadata": {
    "collapsed": true,
    "deletable": true,
    "editable": true
   },
   "outputs": [],
   "source": [
    "# Create an object for approximate PageRank algorithm.\n",
    "pr = approximate_PageRank.Approximate_PageRank()\n",
    "# Create an object for the C++ version of the approximate PageRank algorithm.\n",
    "pr_fast = approximate_PageRank_fast.Approximate_PageRank_fast()\n",
    "# Create an object for a weighted approximate PageRank algorithm.\n",
    "pr_weighted_fast = approximate_PageRank_weighted_fast.Approximate_PageRank_weighted_fast()\n",
    "# Create an object for a L1-regularized PageRank solver.\n",
    "l1reg = l1_regularized_PageRank.L1_regularized_PageRank()\n",
    "# Create an object for an accelerated L1-regularized PageRank solver.\n",
    "l1reg_fast = l1_regularized_PageRank_fast.L1_regularized_PageRank_fast()\n",
    "# Create an object for PageRank Nibble algorithm.\n",
    "pr_nb = pageRank_nibble.PageRank_nibble()"
   ]
  },
  {
   "cell_type": "markdown",
   "metadata": {
    "deletable": true,
    "editable": true
   },
   "source": [
    "# Example: produce embeddings using l1-regularized PageRank"
   ]
  },
  {
   "cell_type": "code",
   "execution_count": 25,
   "metadata": {
    "collapsed": true,
    "deletable": true,
    "editable": true
   },
   "outputs": [],
   "source": [
    "# Find the solution of L1-regularized PageRank using localized accelerated gradient descent.\n",
    "# This method is the fastest among other l1-regularized solvers and other approximate PageRank solvers.\n",
    "output_l1reg_fast = l1reg_fast.produce([g],[3215])"
   ]
  },
  {
   "cell_type": "markdown",
   "metadata": {
    "deletable": true,
    "editable": true
   },
   "source": [
    "# More examples"
   ]
  },
  {
   "cell_type": "code",
   "execution_count": 26,
   "metadata": {
    "collapsed": true,
    "deletable": true,
    "editable": true
   },
   "outputs": [],
   "source": [
    "# Find an approximate PageRank vector.\n",
    "output_pr = pr.produce([g],[0])\n",
    "# Find an approximate PageRank vector by calling a C++ code.\n",
    "output_pr_fast = pr_fast.produce([g],[0])\n",
    "# Find an approximate PageRank vector.\n",
    "output_pr_weighted_fast = pr_weighted_fast.produce([g],[0])\n",
    "# Find the solution of L1-regularized PageRank.\n",
    "output_l1reg = l1reg.produce([g],[0])\n",
    "# Call the PageRank nibble algorithm.\n",
    "output_pr_nb = pr_nb.produce([g],[0])"
   ]
  },
  {
   "cell_type": "markdown",
   "metadata": {
    "deletable": true,
    "editable": true
   },
   "source": [
    "# Create objects for rounding methods"
   ]
  },
  {
   "cell_type": "code",
   "execution_count": 27,
   "metadata": {
    "collapsed": true,
    "deletable": true,
    "editable": true
   },
   "outputs": [],
   "source": [
    "# Create an object for the sweep cut rounding procedure.\n",
    "sc = sweepCut_general.SweepCut_general()\n",
    "# Create an object for a C++ version of the sweep cut rounding procedure.\n",
    "sc_fast = sweepCut_fast.SweepCut_fast()\n",
    "# Create an object for the degree normalized sweep cut rounding procedure.\n",
    "sc_normalized = sweepCut_normalized.SweepCut_normalized()"
   ]
  },
  {
   "cell_type": "markdown",
   "metadata": {
    "deletable": true,
    "editable": true
   },
   "source": [
    "# Examples for rounding algorithms"
   ]
  },
  {
   "cell_type": "code",
   "execution_count": 28,
   "metadata": {
    "collapsed": true,
    "deletable": true,
    "editable": true
   },
   "outputs": [],
   "source": [
    "# Call sweep cut rounding on the l1-regularized PageRank solution.\n",
    "output_sc = sc.produce([g],p=output_l1reg_fast[0])\n",
    "# Call C++ version of sweep cut rounding on the l1-regularized PageRank solution.\n",
    "output_sc_fast = sc_fast.produce([g],p=output_l1reg_fast[0])\n",
    "# Call degree normalized sweep cut rounding on the l1-regularized PageRank solution.\n",
    "output_sc_normalized = sc_normalized.produce([g],p=output_l1reg_fast[0])"
   ]
  },
  {
   "cell_type": "markdown",
   "metadata": {
    "deletable": true,
    "editable": true
   },
   "source": [
    "# Create objects for local spectral methods that incorporate rounding"
   ]
  },
  {
   "cell_type": "code",
   "execution_count": 29,
   "metadata": {
    "collapsed": true,
    "deletable": true,
    "editable": true
   },
   "outputs": [],
   "source": [
    "# Create an object for the approximate PageRank algorithm + Rounding (this method uses a fast C++ implementation).\n",
    "pr_clustering = approximate_PageRank_Clustering.Approximate_PageRank_Clustering()\n",
    "\n",
    "# Create an object for the l1-regularized PageRank algorithm + Rounding (this method uses a fast C++ implementation).\n",
    "l1reg_clustering = l1_regularized_PageRank_Clustering.L1_regularized_PageRank_Clustering()"
   ]
  },
  {
   "cell_type": "markdown",
   "metadata": {
    "deletable": true,
    "editable": true
   },
   "source": [
    "# Examples for local spectral methods that incorporate rounding"
   ]
  },
  {
   "cell_type": "code",
   "execution_count": 30,
   "metadata": {
    "collapsed": true,
    "deletable": true,
    "editable": true
   },
   "outputs": [],
   "source": [
    "# Find a cluster using approximate PageRank.\n",
    "output_pr_clustering = pr_clustering.produce([g],[3215])\n",
    "\n",
    "# Find a cluster using approximate PageRank.\n",
    "output_l1reg_clustering = l1reg_clustering.produce([g],[3215])"
   ]
  },
  {
   "cell_type": "markdown",
   "metadata": {
    "deletable": true,
    "editable": true
   },
   "source": [
    "# Example of flow-based local graph partitioning"
   ]
  },
  {
   "cell_type": "code",
   "execution_count": 31,
   "metadata": {
    "collapsed": false,
    "deletable": true,
    "editable": true
   },
   "outputs": [
    {
     "name": "stdout",
     "output_type": "stream",
     "text": [
      "The following nodes have no outgoing edges: [  30   33   38   44   47   83  112  115  118  119  149  194  261  267  269\n",
      "  282  285  301  323  333  351  470  473  479  488  502  506  530  533  560\n",
      "  561  570  574  588  591  604  613  639  659  699  724  725  733  742  796\n",
      "  834  838  920  940  944  952  976  981  985  986 1042 1082 1109 1160 1164\n",
      " 1183 1221 1245 1273 1280 1290 1291 1331 1347 1357 1376 1406 1408 1415 1421\n",
      " 1439 1442 1449 1493 1502 1517 1522 1528 1543 1560 1564 1565 1634 1643 1651\n",
      " 1664 1706 1715 1716 1740 1741 1743 1744 1746 1749 1781 1790 1797 1798 1893\n",
      " 1896 1903 1926 1927 1933 1967 1986 1988 1997 2004 2009 2020 2034 2035 2037\n",
      " 2071 2076 2079 2103 2113 2151 2177 2178 2240 2246 2257 2329 2338 2353 2355\n",
      " 2384 2401 2464 2466 2479 2483 2564 2580 2583 2591 2593 2601 2650 2652 2655\n",
      " 2672 2677 2678 2679 2726 2782 2784 2789 2815 2816 2819 2833 2862 2909 2916\n",
      " 2923 2924 2927 2958 2972 2976 2990 2999 3019 3051 3092 3094 3133 3155 3157\n",
      " 3159 3171 3172 3175 3179 3188 3190 3191 3192 3193 3194 3196 3197 3198 3199\n",
      " 3201 3210 3213 3214 3218 3222 3223 3234 3244 3256 3263 3266 3304 3305 3362\n",
      " 3370 3372 3376 3388 3397 3400 3420 3424 3467 3488 3490 3502 3506 3509 3516\n",
      " 3561 3567 3604 3632 3648 3699 3700 3711 3728 3824 3831 3883 3888 3908 3970\n",
      " 3972 3973 4003 4004 4008 4012 4014 4018 4066 4076 4089 4096 4110 4118 4119\n",
      " 4126 4137 4176 4183 4193 4203 4210 4224 4235 4242 4243 4244 4247 4249 4270\n",
      " 4272 4279 4392 4394 4397 4398 4414 4421 4441 4442 4444 4478 4488 4492 4499\n",
      " 4601 4604 4606 4609 4615 4630 4632 4634 4637 4641 4642 4645 4670 4719 4762\n",
      " 4800 4801 4804 4806 4807 4808 4809 4823 4828 4833 4834 4849 4856 4874 4877\n",
      " 4881 4913 4946 4962 4963 4969 5002 5024 5027 5064 5080 5093 5104 5156 5159\n",
      " 5160 5172] \n",
      "\n",
      "These nodes are stored in the your_graph_object._dangling.\n",
      "To avoid numerical difficulties we connect each dangling node to another randomly chosen node.\n"
     ]
    },
    {
     "name": "stderr",
     "output_type": "stream",
     "text": [
      "/usr/local/lib/python3.6/site-packages/scipy/sparse/compressed.py:774: SparseEfficiencyWarning: Changing the sparsity structure of a csr_matrix is expensive. lil_matrix is more efficient.\n",
      "  SparseEfficiencyWarning)\n"
     ]
    },
    {
     "name": "stdout",
     "output_type": "stream",
     "text": [
      "Conductance: 0.333333333333\n"
     ]
    }
   ],
   "source": [
    "g = graph_class_local.GraphLocal('./datasets/JohnsHopkins.edgelist','edgelist','\\t')\n",
    "\n",
    "# Create an object for the C++ version of Capacity Releasing Diffusion\n",
    "crd_fast = capacity_releasing_diffusion_fast.Capacity_Releasing_Diffusion_fast()\n",
    "\n",
    "#Produce result\n",
    "output_crd_fast = crd_fast.produce([g],[3215])\n",
    "print(\"Conductance:\",g.compute_conductance(output_crd_fast[0]))"
   ]
  },
  {
   "cell_type": "markdown",
   "metadata": {
    "deletable": true,
    "editable": true
   },
   "source": [
    "# More flow-based local graph clustering methods"
   ]
  },
  {
   "cell_type": "code",
   "execution_count": 32,
   "metadata": {
    "collapsed": false,
    "deletable": true,
    "editable": true
   },
   "outputs": [
    {
     "name": "stdout",
     "output_type": "stream",
     "text": [
      "Conductance before improvement: 0.0596745027125\n",
      "running time: 0.01613616943359375s\n",
      "Conductance after improvement: 0.0366492146597\n"
     ]
    }
   ],
   "source": [
    "# How to use subgraph partitioning with MQI method.\n",
    "\n",
    "g = graph_class_local.GraphLocal('./datasets/minnesota.edgelist','edgelist',' ')\n",
    "\n",
    "# Create an object for subgraph node partitioning.\n",
    "mqi_fast = MQI_fast.MQI_fast()\n",
    "\n",
    "# The initial cut we want to improve\n",
    "R = [0,1,2,3,4,5,6,7,8,9,10,11,12,13,14,15,16,17,18,19,20,21,22,23,24,25,26,27,28,29,30,31,32,33,34,35,36,37,38,39,40,41,42,43,44,45,46,47,48,49,50,51,52,53,54,55,56,57,58,59,60,61,62,63,64,65,66,67,68,69,70,71,73,74,75,76,77,78,79,80,81,82,83,84,85,87,88,89,90,91,92,93,94,95,97,98,99,100,102,103,104,105,106,108,112,114,118,119,120,121,122,123,124,125,126,127,128,129,130,131,132,133,134,135,136,137,139,140,141,142,143,144,145,147,148,149,150,151,152,155,157,158,159,160,161,162,164,165,166,168,169,171,172,173,176,177,178,179,180,185,187,188,191,192,195,196,197,201,208,209,210,211,212,215,217,218,219,221,223,225,226,227,228,231,232,244,245,246,247,248,249,253,254,257,261,262,265,269,270,271,272,273,275,276,277,278,279,285,286,287,290,291,299,303,323,327]\n",
    "\n",
    "# Conductance before improvement\n",
    "print(\"Conductance before improvement:\",g.compute_conductance(R))\n",
    "\n",
    "# Start calling MQI\n",
    "start = time.time()\n",
    "output_MQI_fast = mqi_fast.produce([g],[R])\n",
    "end = time.time()\n",
    "print(\"running time:\",str(end-start)+\"s\")\n",
    "\n",
    "# Conductance after improvement\n",
    "print(\"Conductance after improvement:\",g.compute_conductance(output_MQI_fast[0][0]))"
   ]
  },
  {
   "cell_type": "code",
   "execution_count": 33,
   "metadata": {
    "collapsed": false,
    "deletable": true,
    "editable": true
   },
   "outputs": [
    {
     "name": "stdout",
     "output_type": "stream",
     "text": [
      "Conductance before improvement: 0.0596745027125\n",
      "running time: 0.4030740261077881s\n",
      "Conductance after improvement: 0.0214797136038\n"
     ]
    }
   ],
   "source": [
    "# How to use subgraph partitioning with SimpleLocal method.\n",
    "\n",
    "g = graph_class_local.GraphLocal('./datasets/minnesota.edgelist','edgelist',' ')\n",
    "\n",
    "# Create an object for subgraph node partitioning.\n",
    "SL_fast = SimpleLocal_fast.SimpleLocal_fast()\n",
    "\n",
    "# The initial cut we want to improve\n",
    "R = [0,1,2,3,4,5,6,7,8,9,10,11,12,13,14,15,16,17,18,19,20,21,22,23,24,25,26,27,28,29,30,31,32,33,34,35,36,37,38,39,40,41,42,43,44,45,46,47,48,49,50,51,52,53,54,55,56,57,58,59,60,61,62,63,64,65,66,67,68,69,70,71,73,74,75,76,77,78,79,80,81,82,83,84,85,87,88,89,90,91,92,93,94,95,97,98,99,100,102,103,104,105,106,108,112,114,118,119,120,121,122,123,124,125,126,127,128,129,130,131,132,133,134,135,136,137,139,140,141,142,143,144,145,147,148,149,150,151,152,155,157,158,159,160,161,162,164,165,166,168,169,171,172,173,176,177,178,179,180,185,187,188,191,192,195,196,197,201,208,209,210,211,212,215,217,218,219,221,223,225,226,227,228,231,232,244,245,246,247,248,249,253,254,257,261,262,265,269,270,271,272,273,275,276,277,278,279,285,286,287,290,291,299,303,323,327]\n",
    "\n",
    "# Conductance before improvement\n",
    "print(\"Conductance before improvement:\",g.compute_conductance(R))\n",
    "\n",
    "# Start calling SimpleLocal\n",
    "start = time.time()\n",
    "output_SL_fast = SL_fast.produce([g],[R])\n",
    "end = time.time()\n",
    "print(\"running time:\",str(end-start)+\"s\")\n",
    "\n",
    "# Conductance after improvement\n",
    "print(\"Conductance after improvement:\",g.compute_conductance(output_SL_fast[0][0]))"
   ]
  },
  {
   "cell_type": "markdown",
   "metadata": {
    "deletable": true,
    "editable": true
   },
   "source": [
    "# Create an object for multiclass label prediction."
   ]
  },
  {
   "cell_type": "code",
   "execution_count": 34,
   "metadata": {
    "collapsed": true,
    "deletable": true,
    "editable": true
   },
   "outputs": [],
   "source": [
    "# Create an object for multiclass label prediction.\n",
    "mc = multiclass_label_prediction.Multiclass_label_prediction()"
   ]
  },
  {
   "cell_type": "markdown",
   "metadata": {
    "deletable": true,
    "editable": true
   },
   "source": [
    "# Example for multiclass label prediction"
   ]
  },
  {
   "cell_type": "code",
   "execution_count": 35,
   "metadata": {
    "collapsed": false,
    "deletable": true,
    "editable": true
   },
   "outputs": [
    {
     "name": "stdout",
     "output_type": "stream",
     "text": [
      "The following nodes have no outgoing edges: [  30   33   38   44   47   83  112  115  118  119  149  194  261  267  269\n",
      "  282  285  301  323  333  351  470  473  479  488  502  506  530  533  560\n",
      "  561  570  574  588  591  604  613  639  659  699  724  725  733  742  796\n",
      "  834  838  920  940  944  952  976  981  985  986 1042 1082 1109 1160 1164\n",
      " 1183 1221 1245 1273 1280 1290 1291 1331 1347 1357 1376 1406 1408 1415 1421\n",
      " 1439 1442 1449 1493 1502 1517 1522 1528 1543 1560 1564 1565 1634 1643 1651\n",
      " 1664 1706 1715 1716 1740 1741 1743 1744 1746 1749 1781 1790 1797 1798 1893\n",
      " 1896 1903 1926 1927 1933 1967 1986 1988 1997 2004 2009 2020 2034 2035 2037\n",
      " 2071 2076 2079 2103 2113 2151 2177 2178 2240 2246 2257 2329 2338 2353 2355\n",
      " 2384 2401 2464 2466 2479 2483 2564 2580 2583 2591 2593 2601 2650 2652 2655\n",
      " 2672 2677 2678 2679 2726 2782 2784 2789 2815 2816 2819 2833 2862 2909 2916\n",
      " 2923 2924 2927 2958 2972 2976 2990 2999 3019 3051 3092 3094 3133 3155 3157\n",
      " 3159 3171 3172 3175 3179 3188 3190 3191 3192 3193 3194 3196 3197 3198 3199\n",
      " 3201 3210 3213 3214 3218 3222 3223 3234 3244 3256 3263 3266 3304 3305 3362\n",
      " 3370 3372 3376 3388 3397 3400 3420 3424 3467 3488 3490 3502 3506 3509 3516\n",
      " 3561 3567 3604 3632 3648 3699 3700 3711 3728 3824 3831 3883 3888 3908 3970\n",
      " 3972 3973 4003 4004 4008 4012 4014 4018 4066 4076 4089 4096 4110 4118 4119\n",
      " 4126 4137 4176 4183 4193 4203 4210 4224 4235 4242 4243 4244 4247 4249 4270\n",
      " 4272 4279 4392 4394 4397 4398 4414 4421 4441 4442 4444 4478 4488 4492 4499\n",
      " 4601 4604 4606 4609 4615 4630 4632 4634 4637 4641 4642 4645 4670 4719 4762\n",
      " 4800 4801 4804 4806 4807 4808 4809 4823 4828 4833 4834 4849 4856 4874 4877\n",
      " 4881 4913 4946 4962 4963 4969 5002 5024 5027 5064 5080 5093 5104 5156 5159\n",
      " 5160 5172] \n",
      "\n",
      "These nodes are stored in the your_graph_object._dangling.\n",
      "To avoid numerical difficulties we connect each dangling node to another randomly chosen node.\n"
     ]
    },
    {
     "name": "stderr",
     "output_type": "stream",
     "text": [
      "/usr/local/lib/python3.6/site-packages/scipy/sparse/compressed.py:774: SparseEfficiencyWarning: Changing the sparsity structure of a csr_matrix is expensive. lil_matrix is more efficient.\n",
      "  SparseEfficiencyWarning)\n"
     ]
    }
   ],
   "source": [
    "g = graph_class_local.GraphLocal('./datasets/JohnsHopkins.edgelist','edgelist','\\t')\n",
    "\n",
    "# List of nodes around which we want to find labels\n",
    "labels = [[1,10,300],[3215],[1002,2500,540]]\n",
    "\n",
    "# This function predicts labels for unlabelled nodes. For details refer to:\n",
    "# D. Gleich and M. Mahoney. Variational \n",
    "# Using Local Spectral Methods to Robustify Graph-Based Learning Algorithms. SIGKDD 2015.\n",
    "# https://www.stat.berkeley.edu/~mmahoney/pubs/robustifying-kdd15.pdf\n",
    "# To check to documentation for the input and output of this function call \n",
    "# help(multiclass_label_prediction)\n",
    "output_mc = mc.produce([g],labels=labels)"
   ]
  },
  {
   "cell_type": "markdown",
   "metadata": {
    "deletable": true,
    "editable": true
   },
   "source": [
    "# Densest subgraph "
   ]
  },
  {
   "cell_type": "code",
   "execution_count": 36,
   "metadata": {
    "collapsed": false,
    "deletable": true,
    "editable": true
   },
   "outputs": [
    {
     "name": "stdout",
     "output_type": "stream",
     "text": [
      "Maximum density we found: 4.971153846153846\n"
     ]
    }
   ],
   "source": [
    "#How to use densest subgraph method.\n",
    "g = graph_class_local.GraphLocal('./datasets/Erdos02-cc.edgelist','edgelist',' ')\n",
    "\n",
    "# Create an object for densest subgraph.\n",
    "ds_fast = densest_subgraph_fast.densest_subgraph_fast()\n",
    "\n",
    "# Produce result\n",
    "output_ds_fast = ds_fast.produce([g])\n",
    "print(\"Maximum density we found:\",output_ds_fast[0][0])"
   ]
  },
  {
   "cell_type": "markdown",
   "metadata": {
    "deletable": true,
    "editable": true
   },
   "source": [
    "# Global partitioning for a subgraph"
   ]
  },
  {
   "cell_type": "code",
   "execution_count": 37,
   "metadata": {
    "collapsed": true,
    "deletable": true,
    "editable": true
   },
   "outputs": [],
   "source": [
    "# Create an object for global spectral partitioning\n",
    "sp_subgraph = spectral_partitioning_subgraph.Spectral_partitioning_subgraph()\n",
    "\n",
    "# Call the global spectral partitioning algorithm for a subgraph.\n",
    "output_sp_subgraph = sp_subgraph.produce([g],[output_ds_fast[0][1]])"
   ]
  },
  {
   "cell_type": "markdown",
   "metadata": {
    "deletable": true,
    "editable": true
   },
   "source": [
    "# CRD Network Community Profile"
   ]
  },
  {
   "cell_type": "code",
   "execution_count": 38,
   "metadata": {
    "collapsed": false,
    "deletable": true,
    "editable": true
   },
   "outputs": [
    {
     "name": "stdout",
     "output_type": "stream",
     "text": [
      "The following nodes have no outgoing edges: [   0    1    2 ..., 6401 6463 6471] \n",
      "\n",
      "These nodes are stored in the your_graph_object._dangling.\n",
      "To avoid numerical difficulties we connect each dangling node to another randomly chosen node.\n"
     ]
    },
    {
     "name": "stderr",
     "output_type": "stream",
     "text": [
      "/usr/local/lib/python3.6/site-packages/scipy/sparse/compressed.py:774: SparseEfficiencyWarning: Changing the sparsity structure of a csr_matrix is expensive. lil_matrix is more efficient.\n",
      "  SparseEfficiencyWarning)\n"
     ]
    },
    {
     "name": "stdout",
     "output_type": "stream",
     "text": [
      "There are  1  connected components in the graph\n"
     ]
    },
    {
     "data": {
      "image/png": "[encoded data removed]",
      "text/plain": [
       "<matplotlib.figure.Figure at 0x1344a22b0>"
      ]
     },
     "metadata": {},
     "output_type": "display_data"
    },
    {
     "data": {
      "image/png": "[encoded data removed]",
      "text/plain": [
       "<matplotlib.figure.Figure at 0x1343be7f0>"
      ]
     },
     "metadata": {},
     "output_type": "display_data"
    },
    {
     "data": {
      "image/png": "[encoded data removed]",
      "text/plain": [
       "<matplotlib.figure.Figure at 0x134413278>"
      ]
     },
     "metadata": {},
     "output_type": "display_data"
    }
   ],
   "source": [
    "G = graph_class_local.GraphLocal()\n",
    "G.read_graph(\"./datasets/neuro-fmri-01.edges\",\"edgelist\", \" \")\n",
    "ncp_instance = ncp.Ncp()\n",
    "df = ncp_instance.produce(G,\"crd\",w=10,U=10,h=1000)\n",
    "ncp_plots = ncpplots.NCPPlots(df)\n",
    "#plot conductance vs size\n",
    "ncp_plots.cond_by_size()\n",
    "#plot conductance vs volume\n",
    "ncp_plots.cond_by_vol()\n",
    "#plot isoperimetry vs size\n",
    "ncp_plots.isop_by_size()"
   ]
  },
  {
   "cell_type": "markdown",
   "metadata": {
    "deletable": true,
    "editable": true
   },
   "source": [
    "# MQI Network Community Profile"
   ]
  },
  {
   "cell_type": "code",
   "execution_count": 39,
   "metadata": {
    "collapsed": false,
    "deletable": true,
    "editable": true
   },
   "outputs": [
    {
     "name": "stdout",
     "output_type": "stream",
     "text": [
      "The following nodes have no outgoing edges: [   0    1    2 ..., 6401 6463 6471] \n",
      "\n",
      "These nodes are stored in the your_graph_object._dangling.\n",
      "To avoid numerical difficulties we connect each dangling node to another randomly chosen node.\n"
     ]
    },
    {
     "name": "stderr",
     "output_type": "stream",
     "text": [
      "/usr/local/lib/python3.6/site-packages/scipy/sparse/compressed.py:774: SparseEfficiencyWarning: Changing the sparsity structure of a csr_matrix is expensive. lil_matrix is more efficient.\n",
      "  SparseEfficiencyWarning)\n"
     ]
    },
    {
     "name": "stdout",
     "output_type": "stream",
     "text": [
      "There are  1  connected components in the graph\n"
     ]
    },
    {
     "name": "stderr",
     "output_type": "stream",
     "text": [
      "/usr/local/lib/python3.6/site-packages/localgraphclustering/NCPAlgo.py:35: RuntimeWarning: invalid value encountered in double_scalars\n",
      "  cond = cut / voleff\n",
      "/usr/local/lib/python3.6/site-packages/localgraphclustering/NCPAlgo.py:36: RuntimeWarning: invalid value encountered in double_scalars\n",
      "  isop = cut / sizeeff\n"
     ]
    },
    {
     "ename": "TypeError",
     "evalue": "cannot do label indexing on <class 'pandas.core.indexes.numeric.Int64Index'> with these indexers [nan] of <class 'float'>",
     "output_type": "error",
     "traceback": [
      "\u001b[0;31m---------------------------------------------------------------------------\u001b[0m",
      "\u001b[0;31mTypeError\u001b[0m                                 Traceback (most recent call last)",
      "\u001b[0;32m<ipython-input-39-4debdad9e499>\u001b[0m in \u001b[0;36m<module>\u001b[0;34m()\u001b[0m\n\u001b[1;32m      5\u001b[0m \u001b[0mncp_plots\u001b[0m \u001b[0;34m=\u001b[0m \u001b[0mncpplots\u001b[0m\u001b[0;34m.\u001b[0m\u001b[0mNCPPlots\u001b[0m\u001b[0;34m(\u001b[0m\u001b[0mdf\u001b[0m\u001b[0;34m)\u001b[0m\u001b[0;34m\u001b[0m\u001b[0m\n\u001b[1;32m      6\u001b[0m \u001b[0;31m#plot conductance vs size\u001b[0m\u001b[0;34m\u001b[0m\u001b[0;34m\u001b[0m\u001b[0m\n\u001b[0;32m----> 7\u001b[0;31m \u001b[0mncp_plots\u001b[0m\u001b[0;34m.\u001b[0m\u001b[0mcond_by_size\u001b[0m\u001b[0;34m(\u001b[0m\u001b[0;34m)\u001b[0m\u001b[0;34m\u001b[0m\u001b[0m\n\u001b[0m\u001b[1;32m      8\u001b[0m \u001b[0;31m#plot conductance vs volume\u001b[0m\u001b[0;34m\u001b[0m\u001b[0;34m\u001b[0m\u001b[0m\n\u001b[1;32m      9\u001b[0m \u001b[0mncp_plots\u001b[0m\u001b[0;34m.\u001b[0m\u001b[0mcond_by_vol\u001b[0m\u001b[0;34m(\u001b[0m\u001b[0;34m)\u001b[0m\u001b[0;34m\u001b[0m\u001b[0m\n",
      "\u001b[0;32m/usr/local/lib/python3.6/site-packages/localgraphclustering/ncpplots.py\u001b[0m in \u001b[0;36mcond_by_size\u001b[0;34m(self)\u001b[0m\n\u001b[1;32m     30\u001b[0m     \u001b[0;31m#plot conductance vs size\u001b[0m\u001b[0;34m\u001b[0m\u001b[0;34m\u001b[0m\u001b[0m\n\u001b[1;32m     31\u001b[0m     \u001b[0;32mdef\u001b[0m \u001b[0mcond_by_size\u001b[0m\u001b[0;34m(\u001b[0m\u001b[0mself\u001b[0m\u001b[0;34m)\u001b[0m\u001b[0;34m:\u001b[0m\u001b[0;34m\u001b[0m\u001b[0m\n\u001b[0;32m---> 32\u001b[0;31m         \u001b[0;32mreturn\u001b[0m \u001b[0mself\u001b[0m\u001b[0;34m.\u001b[0m\u001b[0mfeature_by_group\u001b[0m\u001b[0;34m(\u001b[0m\u001b[0;34m\"output_cond\"\u001b[0m\u001b[0;34m,\u001b[0m \u001b[0;34m\"output_sizeeff\"\u001b[0m\u001b[0;34m)\u001b[0m\u001b[0;34m\u001b[0m\u001b[0m\n\u001b[0m\u001b[1;32m     33\u001b[0m     \u001b[0;31m#plot conductance vs volume\u001b[0m\u001b[0;34m\u001b[0m\u001b[0;34m\u001b[0m\u001b[0m\n\u001b[1;32m     34\u001b[0m     \u001b[0;32mdef\u001b[0m \u001b[0mcond_by_vol\u001b[0m\u001b[0;34m(\u001b[0m\u001b[0mself\u001b[0m\u001b[0;34m)\u001b[0m\u001b[0;34m:\u001b[0m\u001b[0;34m\u001b[0m\u001b[0m\n",
      "\u001b[0;32m/usr/local/lib/python3.6/site-packages/localgraphclustering/ncpplots.py\u001b[0m in \u001b[0;36mfeature_by_group\u001b[0;34m(self, feature, group)\u001b[0m\n\u001b[1;32m     24\u001b[0m     \u001b[0;32mdef\u001b[0m \u001b[0mfeature_by_group\u001b[0m\u001b[0;34m(\u001b[0m\u001b[0mself\u001b[0m\u001b[0;34m,\u001b[0m \u001b[0mfeature\u001b[0m\u001b[0;34m,\u001b[0m \u001b[0mgroup\u001b[0m\u001b[0;34m)\u001b[0m\u001b[0;34m:\u001b[0m\u001b[0;34m\u001b[0m\u001b[0m\n\u001b[1;32m     25\u001b[0m         \u001b[0max\u001b[0m \u001b[0;34m=\u001b[0m \u001b[0mself\u001b[0m\u001b[0;34m.\u001b[0m\u001b[0mdf\u001b[0m\u001b[0;34m.\u001b[0m\u001b[0mplot\u001b[0m\u001b[0;34m.\u001b[0m\u001b[0mscatter\u001b[0m\u001b[0;34m(\u001b[0m\u001b[0mx\u001b[0m\u001b[0;34m=\u001b[0m\u001b[0mgroup\u001b[0m\u001b[0;34m,\u001b[0m \u001b[0my\u001b[0m\u001b[0;34m=\u001b[0m\u001b[0mfeature\u001b[0m\u001b[0;34m)\u001b[0m\u001b[0;34m\u001b[0m\u001b[0m\n\u001b[0;32m---> 26\u001b[0;31m         ncp_min_feature_by_group(self.df, feature, group).plot.line(\n\u001b[0m\u001b[1;32m     27\u001b[0m                 x=group, y=feature, ax=ax)\n\u001b[1;32m     28\u001b[0m         \u001b[0mplt\u001b[0m\u001b[0;34m.\u001b[0m\u001b[0mshow\u001b[0m\u001b[0;34m(\u001b[0m\u001b[0;34m)\u001b[0m\u001b[0;34m\u001b[0m\u001b[0m\n",
      "\u001b[0;32m/usr/local/lib/python3.6/site-packages/localgraphclustering/ncpplots.py\u001b[0m in \u001b[0;36mncp_min_feature_by_group\u001b[0;34m(df, feature, group)\u001b[0m\n\u001b[1;32m     16\u001b[0m \u001b[0;34m\u001b[0m\u001b[0m\n\u001b[1;32m     17\u001b[0m \u001b[0;32mdef\u001b[0m \u001b[0mncp_min_feature_by_group\u001b[0m\u001b[0;34m(\u001b[0m\u001b[0mdf\u001b[0m\u001b[0;34m,\u001b[0m \u001b[0mfeature\u001b[0m\u001b[0;34m,\u001b[0m \u001b[0mgroup\u001b[0m\u001b[0;34m)\u001b[0m\u001b[0;34m:\u001b[0m\u001b[0;34m\u001b[0m\u001b[0m\n\u001b[0;32m---> 18\u001b[0;31m     \u001b[0;32mreturn\u001b[0m \u001b[0mdf\u001b[0m\u001b[0;34m.\u001b[0m\u001b[0mgroupby\u001b[0m\u001b[0;34m(\u001b[0m\u001b[0mgroup\u001b[0m\u001b[0;34m)\u001b[0m\u001b[0;34m.\u001b[0m\u001b[0mapply\u001b[0m\u001b[0;34m(\u001b[0m\u001b[0;32mlambda\u001b[0m \u001b[0mx\u001b[0m\u001b[0;34m:\u001b[0m \u001b[0mncp_min\u001b[0m\u001b[0;34m(\u001b[0m\u001b[0mx\u001b[0m\u001b[0;34m,\u001b[0m \u001b[0mfeature\u001b[0m\u001b[0;34m)\u001b[0m\u001b[0;34m)\u001b[0m\u001b[0;34m\u001b[0m\u001b[0m\n\u001b[0m\u001b[1;32m     19\u001b[0m \u001b[0;34m\u001b[0m\u001b[0m\n\u001b[1;32m     20\u001b[0m \u001b[0;32mclass\u001b[0m \u001b[0mNCPPlots\u001b[0m\u001b[0;34m:\u001b[0m\u001b[0;34m\u001b[0m\u001b[0m\n",
      "\u001b[0;32m/usr/local/lib/python3.6/site-packages/pandas/core/groupby.py\u001b[0m in \u001b[0;36mapply\u001b[0;34m(self, func, *args, **kwargs)\u001b[0m\n\u001b[1;32m    714\u001b[0m         \u001b[0;31m# ignore SettingWithCopy here in case the user mutates\u001b[0m\u001b[0;34m\u001b[0m\u001b[0;34m\u001b[0m\u001b[0m\n\u001b[1;32m    715\u001b[0m         \u001b[0;32mwith\u001b[0m \u001b[0moption_context\u001b[0m\u001b[0;34m(\u001b[0m\u001b[0;34m'mode.chained_assignment'\u001b[0m\u001b[0;34m,\u001b[0m \u001b[0;32mNone\u001b[0m\u001b[0;34m)\u001b[0m\u001b[0;34m:\u001b[0m\u001b[0;34m\u001b[0m\u001b[0m\n\u001b[0;32m--> 716\u001b[0;31m             \u001b[0;32mreturn\u001b[0m \u001b[0mself\u001b[0m\u001b[0;34m.\u001b[0m\u001b[0m_python_apply_general\u001b[0m\u001b[0;34m(\u001b[0m\u001b[0mf\u001b[0m\u001b[0;34m)\u001b[0m\u001b[0;34m\u001b[0m\u001b[0m\n\u001b[0m\u001b[1;32m    717\u001b[0m \u001b[0;34m\u001b[0m\u001b[0m\n\u001b[1;32m    718\u001b[0m     \u001b[0;32mdef\u001b[0m \u001b[0m_python_apply_general\u001b[0m\u001b[0;34m(\u001b[0m\u001b[0mself\u001b[0m\u001b[0;34m,\u001b[0m \u001b[0mf\u001b[0m\u001b[0;34m)\u001b[0m\u001b[0;34m:\u001b[0m\u001b[0;34m\u001b[0m\u001b[0m\n",
      "\u001b[0;32m/usr/local/lib/python3.6/site-packages/pandas/core/groupby.py\u001b[0m in \u001b[0;36m_python_apply_general\u001b[0;34m(self, f)\u001b[0m\n\u001b[1;32m    718\u001b[0m     \u001b[0;32mdef\u001b[0m \u001b[0m_python_apply_general\u001b[0m\u001b[0;34m(\u001b[0m\u001b[0mself\u001b[0m\u001b[0;34m,\u001b[0m \u001b[0mf\u001b[0m\u001b[0;34m)\u001b[0m\u001b[0;34m:\u001b[0m\u001b[0;34m\u001b[0m\u001b[0m\n\u001b[1;32m    719\u001b[0m         keys, values, mutated = self.grouper.apply(f, self._selected_obj,\n\u001b[0;32m--> 720\u001b[0;31m                                                    self.axis)\n\u001b[0m\u001b[1;32m    721\u001b[0m \u001b[0;34m\u001b[0m\u001b[0m\n\u001b[1;32m    722\u001b[0m         return self._wrap_applied_output(\n",
      "\u001b[0;32m/usr/local/lib/python3.6/site-packages/pandas/core/groupby.py\u001b[0m in \u001b[0;36mapply\u001b[0;34m(self, f, data, axis)\u001b[0m\n\u001b[1;32m   1800\u001b[0m             \u001b[0;31m# group might be modified\u001b[0m\u001b[0;34m\u001b[0m\u001b[0;34m\u001b[0m\u001b[0m\n\u001b[1;32m   1801\u001b[0m             \u001b[0mgroup_axes\u001b[0m \u001b[0;34m=\u001b[0m \u001b[0m_get_axes\u001b[0m\u001b[0;34m(\u001b[0m\u001b[0mgroup\u001b[0m\u001b[0;34m)\u001b[0m\u001b[0;34m\u001b[0m\u001b[0m\n\u001b[0;32m-> 1802\u001b[0;31m             \u001b[0mres\u001b[0m \u001b[0;34m=\u001b[0m \u001b[0mf\u001b[0m\u001b[0;34m(\u001b[0m\u001b[0mgroup\u001b[0m\u001b[0;34m)\u001b[0m\u001b[0;34m\u001b[0m\u001b[0m\n\u001b[0m\u001b[1;32m   1803\u001b[0m             \u001b[0;32mif\u001b[0m \u001b[0;32mnot\u001b[0m \u001b[0m_is_indexed_like\u001b[0m\u001b[0;34m(\u001b[0m\u001b[0mres\u001b[0m\u001b[0;34m,\u001b[0m \u001b[0mgroup_axes\u001b[0m\u001b[0;34m)\u001b[0m\u001b[0;34m:\u001b[0m\u001b[0;34m\u001b[0m\u001b[0m\n\u001b[1;32m   1804\u001b[0m                 \u001b[0mmutated\u001b[0m \u001b[0;34m=\u001b[0m \u001b[0;32mTrue\u001b[0m\u001b[0;34m\u001b[0m\u001b[0m\n",
      "\u001b[0;32m/usr/local/lib/python3.6/site-packages/localgraphclustering/ncpplots.py\u001b[0m in \u001b[0;36m<lambda>\u001b[0;34m(x)\u001b[0m\n\u001b[1;32m     16\u001b[0m \u001b[0;34m\u001b[0m\u001b[0m\n\u001b[1;32m     17\u001b[0m \u001b[0;32mdef\u001b[0m \u001b[0mncp_min_feature_by_group\u001b[0m\u001b[0;34m(\u001b[0m\u001b[0mdf\u001b[0m\u001b[0;34m,\u001b[0m \u001b[0mfeature\u001b[0m\u001b[0;34m,\u001b[0m \u001b[0mgroup\u001b[0m\u001b[0;34m)\u001b[0m\u001b[0;34m:\u001b[0m\u001b[0;34m\u001b[0m\u001b[0m\n\u001b[0;32m---> 18\u001b[0;31m     \u001b[0;32mreturn\u001b[0m \u001b[0mdf\u001b[0m\u001b[0;34m.\u001b[0m\u001b[0mgroupby\u001b[0m\u001b[0;34m(\u001b[0m\u001b[0mgroup\u001b[0m\u001b[0;34m)\u001b[0m\u001b[0;34m.\u001b[0m\u001b[0mapply\u001b[0m\u001b[0;34m(\u001b[0m\u001b[0;32mlambda\u001b[0m \u001b[0mx\u001b[0m\u001b[0;34m:\u001b[0m \u001b[0mncp_min\u001b[0m\u001b[0;34m(\u001b[0m\u001b[0mx\u001b[0m\u001b[0;34m,\u001b[0m \u001b[0mfeature\u001b[0m\u001b[0;34m)\u001b[0m\u001b[0;34m)\u001b[0m\u001b[0;34m\u001b[0m\u001b[0m\n\u001b[0m\u001b[1;32m     19\u001b[0m \u001b[0;34m\u001b[0m\u001b[0m\n\u001b[1;32m     20\u001b[0m \u001b[0;32mclass\u001b[0m \u001b[0mNCPPlots\u001b[0m\u001b[0;34m:\u001b[0m\u001b[0;34m\u001b[0m\u001b[0m\n",
      "\u001b[0;32m/usr/local/lib/python3.6/site-packages/localgraphclustering/ncpplots.py\u001b[0m in \u001b[0;36mncp_min\u001b[0;34m(grp, feature)\u001b[0m\n\u001b[1;32m     11\u001b[0m \u001b[0;32mdef\u001b[0m \u001b[0mncp_min\u001b[0m\u001b[0;34m(\u001b[0m\u001b[0mgrp\u001b[0m\u001b[0;34m,\u001b[0m \u001b[0mfeature\u001b[0m\u001b[0;34m)\u001b[0m\u001b[0;34m:\u001b[0m\u001b[0;34m\u001b[0m\u001b[0m\n\u001b[1;32m     12\u001b[0m     \u001b[0mminj\u001b[0m \u001b[0;34m=\u001b[0m \u001b[0mgrp\u001b[0m\u001b[0;34m[\u001b[0m\u001b[0mfeature\u001b[0m\u001b[0;34m]\u001b[0m\u001b[0;34m.\u001b[0m\u001b[0midxmin\u001b[0m\u001b[0;34m(\u001b[0m\u001b[0;34m)\u001b[0m\u001b[0;34m\u001b[0m\u001b[0m\n\u001b[0;32m---> 13\u001b[0;31m     \u001b[0mresult\u001b[0m \u001b[0;34m=\u001b[0m \u001b[0mgrp\u001b[0m\u001b[0;34m.\u001b[0m\u001b[0mloc\u001b[0m\u001b[0;34m[\u001b[0m\u001b[0mminj\u001b[0m\u001b[0;34m]\u001b[0m\u001b[0;34m\u001b[0m\u001b[0m\n\u001b[0m\u001b[1;32m     14\u001b[0m     \u001b[0mresult\u001b[0m\u001b[0;34m[\u001b[0m\u001b[0;34m\"best\"\u001b[0m\u001b[0;34m]\u001b[0m \u001b[0;34m=\u001b[0m \u001b[0mminj\u001b[0m\u001b[0;34m\u001b[0m\u001b[0m\n\u001b[1;32m     15\u001b[0m     \u001b[0;32mreturn\u001b[0m \u001b[0mresult\u001b[0m\u001b[0;34m\u001b[0m\u001b[0m\n",
      "\u001b[0;32m/usr/local/lib/python3.6/site-packages/pandas/core/indexing.py\u001b[0m in \u001b[0;36m__getitem__\u001b[0;34m(self, key)\u001b[0m\n\u001b[1;32m   1326\u001b[0m         \u001b[0;32melse\u001b[0m\u001b[0;34m:\u001b[0m\u001b[0;34m\u001b[0m\u001b[0m\n\u001b[1;32m   1327\u001b[0m             \u001b[0mkey\u001b[0m \u001b[0;34m=\u001b[0m \u001b[0mcom\u001b[0m\u001b[0;34m.\u001b[0m\u001b[0m_apply_if_callable\u001b[0m\u001b[0;34m(\u001b[0m\u001b[0mkey\u001b[0m\u001b[0;34m,\u001b[0m \u001b[0mself\u001b[0m\u001b[0;34m.\u001b[0m\u001b[0mobj\u001b[0m\u001b[0;34m)\u001b[0m\u001b[0;34m\u001b[0m\u001b[0m\n\u001b[0;32m-> 1328\u001b[0;31m             \u001b[0;32mreturn\u001b[0m \u001b[0mself\u001b[0m\u001b[0;34m.\u001b[0m\u001b[0m_getitem_axis\u001b[0m\u001b[0;34m(\u001b[0m\u001b[0mkey\u001b[0m\u001b[0;34m,\u001b[0m \u001b[0maxis\u001b[0m\u001b[0;34m=\u001b[0m\u001b[0;36m0\u001b[0m\u001b[0;34m)\u001b[0m\u001b[0;34m\u001b[0m\u001b[0m\n\u001b[0m\u001b[1;32m   1329\u001b[0m \u001b[0;34m\u001b[0m\u001b[0m\n\u001b[1;32m   1330\u001b[0m     \u001b[0;32mdef\u001b[0m \u001b[0m_is_scalar_access\u001b[0m\u001b[0;34m(\u001b[0m\u001b[0mself\u001b[0m\u001b[0;34m,\u001b[0m \u001b[0mkey\u001b[0m\u001b[0;34m)\u001b[0m\u001b[0;34m:\u001b[0m\u001b[0;34m\u001b[0m\u001b[0m\n",
      "\u001b[0;32m/usr/local/lib/python3.6/site-packages/pandas/core/indexing.py\u001b[0m in \u001b[0;36m_getitem_axis\u001b[0;34m(self, key, axis)\u001b[0m\n\u001b[1;32m   1549\u001b[0m \u001b[0;34m\u001b[0m\u001b[0m\n\u001b[1;32m   1550\u001b[0m         \u001b[0;31m# fall thru to straight lookup\u001b[0m\u001b[0;34m\u001b[0m\u001b[0;34m\u001b[0m\u001b[0m\n\u001b[0;32m-> 1551\u001b[0;31m         \u001b[0mself\u001b[0m\u001b[0;34m.\u001b[0m\u001b[0m_has_valid_type\u001b[0m\u001b[0;34m(\u001b[0m\u001b[0mkey\u001b[0m\u001b[0;34m,\u001b[0m \u001b[0maxis\u001b[0m\u001b[0;34m)\u001b[0m\u001b[0;34m\u001b[0m\u001b[0m\n\u001b[0m\u001b[1;32m   1552\u001b[0m         \u001b[0;32mreturn\u001b[0m \u001b[0mself\u001b[0m\u001b[0;34m.\u001b[0m\u001b[0m_get_label\u001b[0m\u001b[0;34m(\u001b[0m\u001b[0mkey\u001b[0m\u001b[0;34m,\u001b[0m \u001b[0maxis\u001b[0m\u001b[0;34m=\u001b[0m\u001b[0maxis\u001b[0m\u001b[0;34m)\u001b[0m\u001b[0;34m\u001b[0m\u001b[0m\n\u001b[1;32m   1553\u001b[0m \u001b[0;34m\u001b[0m\u001b[0m\n",
      "\u001b[0;32m/usr/local/lib/python3.6/site-packages/pandas/core/indexing.py\u001b[0m in \u001b[0;36m_has_valid_type\u001b[0;34m(self, key, axis)\u001b[0m\n\u001b[1;32m   1430\u001b[0m \u001b[0;34m\u001b[0m\u001b[0m\n\u001b[1;32m   1431\u001b[0m             \u001b[0;32mtry\u001b[0m\u001b[0;34m:\u001b[0m\u001b[0;34m\u001b[0m\u001b[0m\n\u001b[0;32m-> 1432\u001b[0;31m                 \u001b[0mkey\u001b[0m \u001b[0;34m=\u001b[0m \u001b[0mself\u001b[0m\u001b[0;34m.\u001b[0m\u001b[0m_convert_scalar_indexer\u001b[0m\u001b[0;34m(\u001b[0m\u001b[0mkey\u001b[0m\u001b[0;34m,\u001b[0m \u001b[0maxis\u001b[0m\u001b[0;34m)\u001b[0m\u001b[0;34m\u001b[0m\u001b[0m\n\u001b[0m\u001b[1;32m   1433\u001b[0m                 \u001b[0;32mif\u001b[0m \u001b[0;32mnot\u001b[0m \u001b[0max\u001b[0m\u001b[0;34m.\u001b[0m\u001b[0mcontains\u001b[0m\u001b[0;34m(\u001b[0m\u001b[0mkey\u001b[0m\u001b[0;34m)\u001b[0m\u001b[0;34m:\u001b[0m\u001b[0;34m\u001b[0m\u001b[0m\n\u001b[1;32m   1434\u001b[0m                     \u001b[0merror\u001b[0m\u001b[0;34m(\u001b[0m\u001b[0;34m)\u001b[0m\u001b[0;34m\u001b[0m\u001b[0m\n",
      "\u001b[0;32m/usr/local/lib/python3.6/site-packages/pandas/core/indexing.py\u001b[0m in \u001b[0;36m_convert_scalar_indexer\u001b[0;34m(self, key, axis)\u001b[0m\n\u001b[1;32m    234\u001b[0m         \u001b[0max\u001b[0m \u001b[0;34m=\u001b[0m \u001b[0mself\u001b[0m\u001b[0;34m.\u001b[0m\u001b[0mobj\u001b[0m\u001b[0;34m.\u001b[0m\u001b[0m_get_axis\u001b[0m\u001b[0;34m(\u001b[0m\u001b[0mmin\u001b[0m\u001b[0;34m(\u001b[0m\u001b[0maxis\u001b[0m\u001b[0;34m,\u001b[0m \u001b[0mself\u001b[0m\u001b[0;34m.\u001b[0m\u001b[0mndim\u001b[0m \u001b[0;34m-\u001b[0m \u001b[0;36m1\u001b[0m\u001b[0;34m)\u001b[0m\u001b[0;34m)\u001b[0m\u001b[0;34m\u001b[0m\u001b[0m\n\u001b[1;32m    235\u001b[0m         \u001b[0;31m# a scalar\u001b[0m\u001b[0;34m\u001b[0m\u001b[0;34m\u001b[0m\u001b[0m\n\u001b[0;32m--> 236\u001b[0;31m         \u001b[0;32mreturn\u001b[0m \u001b[0max\u001b[0m\u001b[0;34m.\u001b[0m\u001b[0m_convert_scalar_indexer\u001b[0m\u001b[0;34m(\u001b[0m\u001b[0mkey\u001b[0m\u001b[0;34m,\u001b[0m \u001b[0mkind\u001b[0m\u001b[0;34m=\u001b[0m\u001b[0mself\u001b[0m\u001b[0;34m.\u001b[0m\u001b[0mname\u001b[0m\u001b[0;34m)\u001b[0m\u001b[0;34m\u001b[0m\u001b[0m\n\u001b[0m\u001b[1;32m    237\u001b[0m \u001b[0;34m\u001b[0m\u001b[0m\n\u001b[1;32m    238\u001b[0m     \u001b[0;32mdef\u001b[0m \u001b[0m_convert_slice_indexer\u001b[0m\u001b[0;34m(\u001b[0m\u001b[0mself\u001b[0m\u001b[0;34m,\u001b[0m \u001b[0mkey\u001b[0m\u001b[0;34m,\u001b[0m \u001b[0maxis\u001b[0m\u001b[0;34m)\u001b[0m\u001b[0;34m:\u001b[0m\u001b[0;34m\u001b[0m\u001b[0m\n",
      "\u001b[0;32m/usr/local/lib/python3.6/site-packages/pandas/core/indexes/numeric.py\u001b[0m in \u001b[0;36m_convert_scalar_indexer\u001b[0;34m(self, key, kind)\u001b[0m\n\u001b[1;32m    140\u001b[0m             \u001b[0mkey\u001b[0m \u001b[0;34m=\u001b[0m \u001b[0mself\u001b[0m\u001b[0;34m.\u001b[0m\u001b[0m_maybe_cast_indexer\u001b[0m\u001b[0;34m(\u001b[0m\u001b[0mkey\u001b[0m\u001b[0;34m)\u001b[0m\u001b[0;34m\u001b[0m\u001b[0m\n\u001b[1;32m    141\u001b[0m         return (super(Int64Index, self)\n\u001b[0;32m--> 142\u001b[0;31m                 ._convert_scalar_indexer(key, kind=kind))\n\u001b[0m\u001b[1;32m    143\u001b[0m \u001b[0;34m\u001b[0m\u001b[0m\n\u001b[1;32m    144\u001b[0m     \u001b[0;32mdef\u001b[0m \u001b[0m_wrap_joined_index\u001b[0m\u001b[0;34m(\u001b[0m\u001b[0mself\u001b[0m\u001b[0;34m,\u001b[0m \u001b[0mjoined\u001b[0m\u001b[0;34m,\u001b[0m \u001b[0mother\u001b[0m\u001b[0;34m)\u001b[0m\u001b[0;34m:\u001b[0m\u001b[0;34m\u001b[0m\u001b[0m\n",
      "\u001b[0;32m/usr/local/lib/python3.6/site-packages/pandas/core/indexes/base.py\u001b[0m in \u001b[0;36m_convert_scalar_indexer\u001b[0;34m(self, key, kind)\u001b[0m\n\u001b[1;32m   1329\u001b[0m                                               \u001b[0;34m'unicode'\u001b[0m\u001b[0;34m,\u001b[0m\u001b[0;34m\u001b[0m\u001b[0m\n\u001b[1;32m   1330\u001b[0m                                               'mixed']:\n\u001b[0;32m-> 1331\u001b[0;31m                     \u001b[0;32mreturn\u001b[0m \u001b[0mself\u001b[0m\u001b[0;34m.\u001b[0m\u001b[0m_invalid_indexer\u001b[0m\u001b[0;34m(\u001b[0m\u001b[0;34m'label'\u001b[0m\u001b[0;34m,\u001b[0m \u001b[0mkey\u001b[0m\u001b[0;34m)\u001b[0m\u001b[0;34m\u001b[0m\u001b[0m\n\u001b[0m\u001b[1;32m   1332\u001b[0m \u001b[0;34m\u001b[0m\u001b[0m\n\u001b[1;32m   1333\u001b[0m             \u001b[0;32melif\u001b[0m \u001b[0mkind\u001b[0m \u001b[0;32min\u001b[0m \u001b[0;34m[\u001b[0m\u001b[0;34m'loc'\u001b[0m\u001b[0;34m]\u001b[0m \u001b[0;32mand\u001b[0m \u001b[0mis_integer\u001b[0m\u001b[0;34m(\u001b[0m\u001b[0mkey\u001b[0m\u001b[0;34m)\u001b[0m\u001b[0;34m:\u001b[0m\u001b[0;34m\u001b[0m\u001b[0m\n",
      "\u001b[0;32m/usr/local/lib/python3.6/site-packages/pandas/core/indexes/base.py\u001b[0m in \u001b[0;36m_invalid_indexer\u001b[0;34m(self, form, key)\u001b[0m\n\u001b[1;32m   1517\u001b[0m                         \"indexers [{key}] of {kind}\".format(\n\u001b[1;32m   1518\u001b[0m                             \u001b[0mform\u001b[0m\u001b[0;34m=\u001b[0m\u001b[0mform\u001b[0m\u001b[0;34m,\u001b[0m \u001b[0mklass\u001b[0m\u001b[0;34m=\u001b[0m\u001b[0mtype\u001b[0m\u001b[0;34m(\u001b[0m\u001b[0mself\u001b[0m\u001b[0;34m)\u001b[0m\u001b[0;34m,\u001b[0m \u001b[0mkey\u001b[0m\u001b[0;34m=\u001b[0m\u001b[0mkey\u001b[0m\u001b[0;34m,\u001b[0m\u001b[0;34m\u001b[0m\u001b[0m\n\u001b[0;32m-> 1519\u001b[0;31m                             kind=type(key)))\n\u001b[0m\u001b[1;32m   1520\u001b[0m \u001b[0;34m\u001b[0m\u001b[0m\n\u001b[1;32m   1521\u001b[0m     \u001b[0;32mdef\u001b[0m \u001b[0mget_duplicates\u001b[0m\u001b[0;34m(\u001b[0m\u001b[0mself\u001b[0m\u001b[0;34m)\u001b[0m\u001b[0;34m:\u001b[0m\u001b[0;34m\u001b[0m\u001b[0m\n",
      "\u001b[0;31mTypeError\u001b[0m: cannot do label indexing on <class 'pandas.core.indexes.numeric.Int64Index'> with these indexers [nan] of <class 'float'>"
     ]
    }
   ],
   "source": [
    "G = graph_class_local.GraphLocal()\n",
    "G.read_graph(\"./datasets/neuro-fmri-01.edges\",\"edgelist\", \" \")\n",
    "ncp_instance = ncp.Ncp()\n",
    "df = ncp_instance.produce(G,\"mqi\")\n",
    "ncp_plots = ncpplots.NCPPlots(df)\n",
    "#plot conductance vs size\n",
    "ncp_plots.cond_by_size()\n",
    "#plot conductance vs volume\n",
    "ncp_plots.cond_by_vol()\n",
    "#plot isoperimetry vs size\n",
    "ncp_plots.isop_by_size()"
   ]
  },
  {
   "cell_type": "markdown",
   "metadata": {
    "deletable": true,
    "editable": true
   },
   "source": [
    "# L1reg Network Community Profile"
   ]
  },
  {
   "cell_type": "code",
   "execution_count": 40,
   "metadata": {
    "collapsed": false,
    "deletable": true,
    "editable": true
   },
   "outputs": [
    {
     "name": "stdout",
     "output_type": "stream",
     "text": [
      "The following nodes have no outgoing edges: [   0    1    2 ..., 6401 6463 6471] \n",
      "\n",
      "These nodes are stored in the your_graph_object._dangling.\n",
      "To avoid numerical difficulties we connect each dangling node to another randomly chosen node.\n"
     ]
    },
    {
     "name": "stderr",
     "output_type": "stream",
     "text": [
      "/usr/local/lib/python3.6/site-packages/scipy/sparse/compressed.py:774: SparseEfficiencyWarning: Changing the sparsity structure of a csr_matrix is expensive. lil_matrix is more efficient.\n",
      "  SparseEfficiencyWarning)\n"
     ]
    },
    {
     "name": "stdout",
     "output_type": "stream",
     "text": [
      "There are  1  connected components in the graph\n"
     ]
    },
    {
     "name": "stderr",
     "output_type": "stream",
     "text": [
      "Exception in thread Thread-35:\n",
      "Traceback (most recent call last):\n",
      "  File \"/usr/local/Cellar/python3/3.6.3/Frameworks/Python.framework/Versions/3.6/lib/python3.6/threading.py\", line 916, in _bootstrap_inner\n",
      "    self.run()\n",
      "  File \"/usr/local/Cellar/python3/3.6.3/Frameworks/Python.framework/Versions/3.6/lib/python3.6/threading.py\", line 864, in run\n",
      "    self._target(*self._args, **self._kwargs)\n",
      "  File \"/usr/local/lib/python3.6/site-packages/localgraphclustering/NCPAlgo.py\", line 103, in ncp_node_worker\n",
      "    ncpdata.results.extend(ncp_experiment(ncpdata, R, func, method_stats))\n",
      "  File \"/usr/local/lib/python3.6/site-packages/localgraphclustering/NCPAlgo.py\", line 81, in ncp_experiment\n",
      "    Sets = func(ncpdata.graph, R)\n",
      "  File \"/usr/local/lib/python3.6/site-packages/localgraphclustering/ncp.py\", line 103, in <lambda>\n",
      "    ncp.default_method = lambda G,R: l1reg_wrapper(G,R,epsilon=epsilon)\n",
      "  File \"/usr/local/lib/python3.6/site-packages/localgraphclustering/NCPAlgo.py\", line 61, in l1reg_wrapper\n",
      "    output_sc_fast = sc_fast.produce([G],p=output_l1reg_fast[0])\n",
      "  File \"/usr/local/lib/python3.6/site-packages/localgraphclustering/sweepCut_fast.py\", line 75, in produce\n",
      "    input.adjacency_matrix.data, nnz_idx, nnz_ct, sc_p, 1 - do_sort)\n",
      "  File \"/usr/local/lib/python3.6/site-packages/localgraphclustering/sweepcut_cpp.py\", line 78, in sweepcut_cpp\n",
      "    actual_results[:]=[results[i] for i in range(actual_length)]\n",
      "  File \"/usr/local/lib/python3.6/site-packages/localgraphclustering/sweepcut_cpp.py\", line 78, in <listcomp>\n",
      "    actual_results[:]=[results[i] for i in range(actual_length)]\n",
      "IndexError: index 0 is out of bounds for axis 0 with size 0\n",
      "\n",
      "Exception in thread Thread-33:\n",
      "Traceback (most recent call last):\n",
      "  File \"/usr/local/Cellar/python3/3.6.3/Frameworks/Python.framework/Versions/3.6/lib/python3.6/threading.py\", line 916, in _bootstrap_inner\n",
      "    self.run()\n",
      "  File \"/usr/local/Cellar/python3/3.6.3/Frameworks/Python.framework/Versions/3.6/lib/python3.6/threading.py\", line 864, in run\n",
      "    self._target(*self._args, **self._kwargs)\n",
      "  File \"/usr/local/lib/python3.6/site-packages/localgraphclustering/NCPAlgo.py\", line 103, in ncp_node_worker\n",
      "    ncpdata.results.extend(ncp_experiment(ncpdata, R, func, method_stats))\n",
      "  File \"/usr/local/lib/python3.6/site-packages/localgraphclustering/NCPAlgo.py\", line 81, in ncp_experiment\n",
      "    Sets = func(ncpdata.graph, R)\n",
      "  File \"/usr/local/lib/python3.6/site-packages/localgraphclustering/ncp.py\", line 103, in <lambda>\n",
      "    ncp.default_method = lambda G,R: l1reg_wrapper(G,R,epsilon=epsilon)\n",
      "  File \"/usr/local/lib/python3.6/site-packages/localgraphclustering/NCPAlgo.py\", line 61, in l1reg_wrapper\n",
      "    output_sc_fast = sc_fast.produce([G],p=output_l1reg_fast[0])\n",
      "  File \"/usr/local/lib/python3.6/site-packages/localgraphclustering/sweepCut_fast.py\", line 75, in produce\n",
      "    input.adjacency_matrix.data, nnz_idx, nnz_ct, sc_p, 1 - do_sort)\n",
      "  File \"/usr/local/lib/python3.6/site-packages/localgraphclustering/sweepcut_cpp.py\", line 78, in sweepcut_cpp\n",
      "    actual_results[:]=[results[i] for i in range(actual_length)]\n",
      "  File \"/usr/local/lib/python3.6/site-packages/localgraphclustering/sweepcut_cpp.py\", line 78, in <listcomp>\n",
      "    actual_results[:]=[results[i] for i in range(actual_length)]\n",
      "IndexError: index 0 is out of bounds for axis 0 with size 0\n",
      "\n",
      "Exception in thread Thread-34:\n",
      "Traceback (most recent call last):\n",
      "  File \"/usr/local/Cellar/python3/3.6.3/Frameworks/Python.framework/Versions/3.6/lib/python3.6/threading.py\", line 916, in _bootstrap_inner\n",
      "    self.run()\n",
      "  File \"/usr/local/Cellar/python3/3.6.3/Frameworks/Python.framework/Versions/3.6/lib/python3.6/threading.py\", line 864, in run\n",
      "    self._target(*self._args, **self._kwargs)\n",
      "  File \"/usr/local/lib/python3.6/site-packages/localgraphclustering/NCPAlgo.py\", line 103, in ncp_node_worker\n",
      "    ncpdata.results.extend(ncp_experiment(ncpdata, R, func, method_stats))\n",
      "  File \"/usr/local/lib/python3.6/site-packages/localgraphclustering/NCPAlgo.py\", line 81, in ncp_experiment\n",
      "    Sets = func(ncpdata.graph, R)\n",
      "  File \"/usr/local/lib/python3.6/site-packages/localgraphclustering/ncp.py\", line 103, in <lambda>\n",
      "    ncp.default_method = lambda G,R: l1reg_wrapper(G,R,epsilon=epsilon)\n",
      "  File \"/usr/local/lib/python3.6/site-packages/localgraphclustering/NCPAlgo.py\", line 61, in l1reg_wrapper\n",
      "    output_sc_fast = sc_fast.produce([G],p=output_l1reg_fast[0])\n",
      "  File \"/usr/local/lib/python3.6/site-packages/localgraphclustering/sweepCut_fast.py\", line 75, in produce\n",
      "    input.adjacency_matrix.data, nnz_idx, nnz_ct, sc_p, 1 - do_sort)\n",
      "  File \"/usr/local/lib/python3.6/site-packages/localgraphclustering/sweepcut_cpp.py\", line 78, in sweepcut_cpp\n",
      "    actual_results[:]=[results[i] for i in range(actual_length)]\n",
      "  File \"/usr/local/lib/python3.6/site-packages/localgraphclustering/sweepcut_cpp.py\", line 78, in <listcomp>\n",
      "    actual_results[:]=[results[i] for i in range(actual_length)]\n",
      "IndexError: index 0 is out of bounds for axis 0 with size 0\n",
      "\n",
      "Exception in thread Thread-32:\n",
      "Traceback (most recent call last):\n",
      "  File \"/usr/local/Cellar/python3/3.6.3/Frameworks/Python.framework/Versions/3.6/lib/python3.6/threading.py\", line 916, in _bootstrap_inner\n",
      "    self.run()\n",
      "  File \"/usr/local/Cellar/python3/3.6.3/Frameworks/Python.framework/Versions/3.6/lib/python3.6/threading.py\", line 864, in run\n",
      "    self._target(*self._args, **self._kwargs)\n",
      "  File \"/usr/local/lib/python3.6/site-packages/localgraphclustering/NCPAlgo.py\", line 103, in ncp_node_worker\n",
      "    ncpdata.results.extend(ncp_experiment(ncpdata, R, func, method_stats))\n",
      "  File \"/usr/local/lib/python3.6/site-packages/localgraphclustering/NCPAlgo.py\", line 81, in ncp_experiment\n",
      "    Sets = func(ncpdata.graph, R)\n",
      "  File \"/usr/local/lib/python3.6/site-packages/localgraphclustering/ncp.py\", line 103, in <lambda>\n",
      "    ncp.default_method = lambda G,R: l1reg_wrapper(G,R,epsilon=epsilon)\n",
      "  File \"/usr/local/lib/python3.6/site-packages/localgraphclustering/NCPAlgo.py\", line 61, in l1reg_wrapper\n",
      "    output_sc_fast = sc_fast.produce([G],p=output_l1reg_fast[0])\n",
      "  File \"/usr/local/lib/python3.6/site-packages/localgraphclustering/sweepCut_fast.py\", line 75, in produce\n",
      "    input.adjacency_matrix.data, nnz_idx, nnz_ct, sc_p, 1 - do_sort)\n",
      "  File \"/usr/local/lib/python3.6/site-packages/localgraphclustering/sweepcut_cpp.py\", line 78, in sweepcut_cpp\n",
      "    actual_results[:]=[results[i] for i in range(actual_length)]\n",
      "  File \"/usr/local/lib/python3.6/site-packages/localgraphclustering/sweepcut_cpp.py\", line 78, in <listcomp>\n",
      "    actual_results[:]=[results[i] for i in range(actual_length)]\n",
      "IndexError: index 0 is out of bounds for axis 0 with size 0\n",
      "\n"
     ]
    },
    {
     "data": {
      "image/png": "[encoded data removed]",
      "text/plain": [
       "<matplotlib.figure.Figure at 0x10c36e4e0>"
      ]
     },
     "metadata": {},
     "output_type": "display_data"
    },
    {
     "data": {
      "image/png": "[encoded data removed]",
      "text/plain": [
       "<matplotlib.figure.Figure at 0x10f454c50>"
      ]
     },
     "metadata": {},
     "output_type": "display_data"
    },
    {
     "data": {
      "image/png": "[encoded data removed]",
      "text/plain": [
       "<matplotlib.figure.Figure at 0x10c72def0>"
      ]
     },
     "metadata": {},
     "output_type": "display_data"
    },
    {
     "data": {
      "image/png": "[encoded data removed]",
      "text/plain": [
       "<matplotlib.figure.Figure at 0x126c3e278>"
      ]
     },
     "metadata": {},
     "output_type": "display_data"
    }
   ],
   "source": [
    "G = graph_class_local.GraphLocal()\n",
    "G.read_graph(\"./datasets/neuro-fmri-01.edges\",\"edgelist\", \" \")\n",
    "ncp_instance = ncp.Ncp()\n",
    "df = ncp_instance.produce(G,\"l1reg\")\n",
    "ncp_plots = ncpplots.NCPPlots(df)\n",
    "#plot conductance vs size\n",
    "ncp_plots.cond_by_size()\n",
    "#plot conductance vs volume\n",
    "ncp_plots.cond_by_vol()\n",
    "#plot isoperimetry vs size\n",
    "ncp_plots.isop_by_size()"
   ]
  },
  {
   "cell_type": "code",
   "execution_count": null,
   "metadata": {
    "collapsed": true,
    "deletable": true,
    "editable": true
   },
   "outputs": [],
   "source": []
  },
  {
   "cell_type": "code",
   "execution_count": null,
   "metadata": {
    "collapsed": false,
    "deletable": true,
    "editable": true
   },
   "outputs": [],
   "source": []
  },
  {
   "cell_type": "code",
   "execution_count": null,
   "metadata": {
    "collapsed": false,
    "deletable": true,
    "editable": true
   },
   "outputs": [],
   "source": []
  },
  {
   "cell_type": "code",
   "execution_count": null,
   "metadata": {
    "collapsed": false,
    "deletable": true,
    "editable": true
   },
   "outputs": [],
   "source": []
  },
  {
   "cell_type": "code",
   "execution_count": null,
   "metadata": {
    "collapsed": true,
    "deletable": true,
    "editable": true
   },
   "outputs": [],
   "source": []
  },
  {
   "cell_type": "code",
   "execution_count": null,
   "metadata": {
    "collapsed": true,
    "deletable": true,
    "editable": true
   },
   "outputs": [],
   "source": []
  },
  {
   "cell_type": "code",
   "execution_count": null,
   "metadata": {
    "collapsed": false,
    "deletable": true,
    "editable": true
   },
   "outputs": [],
   "source": []
  },
  {
   "cell_type": "code",
   "execution_count": null,
   "metadata": {
    "collapsed": true,
    "deletable": true,
    "editable": true
   },
   "outputs": [],
   "source": []
  }
 ],
 "metadata": {
  "kernelspec": {
   "display_name": "Python 3",
   "language": "python",
   "name": "python3"
  },
  "language_info": {
   "codemirror_mode": {
    "name": "ipython",
    "version": 3
   },
   "file_extension": ".py",
   "mimetype": "text/x-python",
   "name": "python",
   "nbconvert_exporter": "python",
   "pygments_lexer": "ipython3",
   "version": "3.6.3"
  }
 },
 "nbformat": 4,
 "nbformat_minor": 1
}
