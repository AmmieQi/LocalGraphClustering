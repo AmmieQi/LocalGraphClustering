{
 "cells": [
  {
   "cell_type": "code",
   "execution_count": 1,
   "metadata": {
    "collapsed": false,
    "deletable": true,
    "editable": true
   },
   "outputs": [],
   "source": [
    "# Load local and global algorithms\n",
    "from localgraphclustering.graph import * # Loads graph class.\n",
    "from localgraphclustering.localCluster import * # Loads localCluster class\n",
    "from localgraphclustering.sweepCut import * # Loads SweepCut class.\n",
    "from localgraphclustering.multiclass_label_prediction import * # Loads the multi class label prediction primitive.\n",
    "from localgraphclustering.eig2_nL import *\n",
    "\n",
    "\n",
    "# Load standard python APIs\n",
    "import time"
   ]
  },
  {
   "cell_type": "markdown",
   "metadata": {
    "collapsed": false,
    "deletable": true,
    "editable": true
   },
   "source": [
    "# How to use the graph class and it primitives"
   ]
  },
  {
   "cell_type": "code",
   "execution_count": 2,
   "metadata": {
    "collapsed": false,
    "deletable": true,
    "editable": true,
    "scrolled": false
   },
   "outputs": [
    {
     "name": "stdout",
     "output_type": "stream",
     "text": [
      "Help on method __init__ in module localgraphclustering.graph:\n",
      "\n",
      "__init__(self) unbound localgraphclustering.graph.graph method\n",
      "    CLASS VARIABLES\n",
      "    ---------------\n",
      "    \n",
      "    1) A: sparse row format matirx\n",
      "          Adjacency matrix\n",
      "    \n",
      "    2) d: floating point numpy vector \n",
      "          Degrees vector\n",
      "    \n",
      "    3) dn: floating point numpy vector \n",
      "           Component-wise reciprocal of degrees vector\n",
      "    \n",
      "    4) d_sqrt: floating point numpy vector\n",
      "               Component-wise square root of degrees vector\n",
      "    \n",
      "    5) dn_sqrt: floating point numpy vector \n",
      "                Component-wise reciprocal of sqaure root degrees vector\n",
      "    \n",
      "    6) vol_G: floating point scalar \n",
      "              Volume of graph\n",
      "    \n",
      "    7) dangling: interger numpy array\n",
      "                 Nodes with zero edges\n",
      "    \n",
      "    8) components: list of sets \n",
      "                   Each set contains the indices of a connected component of the graph\n",
      "    \n",
      "    9) number_of_components: integer\n",
      "                             Number of connected components of the graph\n",
      "    \n",
      "    10) bicomponents: list of sets  \n",
      "                      Each set contains the indices of a biconnected component of the graph\n",
      "    \n",
      "    11) number_of_bicomponents: integer\n",
      "                                Number of connected components of the graph\n",
      "    \n",
      "    12) conductance_vs_vol: list of dictionaries\n",
      "                            The length of the list is the number of connected components of the given graph.\n",
      "                            Each element of the list is a dictionary where keys are volumes of clusters and \n",
      "                            the values are conductance. It can be used to plot the conductance vs volume NCP.\n",
      "    \n",
      "    13) conductance_vs_size: list of dictionaries\n",
      "                             The length of the list is the number of connected components of the given graph.\n",
      "                             Each element of the list is a dictionary where keys are sizes of clusters and \n",
      "                             the values are conductance. It can be used to plot the conductance vs volume NCP.    \n",
      "    \n",
      "    14) component_conductance_vs_vol: dictionary\n",
      "                                      A dictionary where keys are volumes of clusters and \n",
      "                                      the values are conductance. It can be used to plot the conductance vs volume NCP.\n",
      "    \n",
      "    15) component_conductance_vs_size: dictionary\n",
      "                                       A dictionary where keys are sizes of clusters and \n",
      "                                       the values are conductance. It can be used to plot the conductance vs volume NCP.\n",
      "    \n",
      "    16) biconnected_conductance_vs_vol: List of dictionaries\n",
      "                                        The length of the list is the number of connected components of the given graph.\n",
      "                                        Each element of the list is a dictionary where keys are volumes of clusters and \n",
      "                                        the values are conductance. It can be used to plot the conductance vs volume NCP.\n",
      "    \n",
      "    17) biconnected_conductance_vs_size: List of dictionaries\n",
      "                                         The length of the list is the number of connected components of the given graph.\n",
      "                                         Each element of the list is a dictionary where keys are sizes of clusters and \n",
      "                                         the values are conductance. It can be used to plot the conductance vs volume NCP.\n",
      "    \n",
      "    18) core_numbers: dictionary\n",
      "                      Core number for each vertex\n",
      "\n"
     ]
    }
   ],
   "source": [
    "# Check documentation for variables in the graph class\n",
    "help(graph.__init__)"
   ]
  },
  {
   "cell_type": "code",
   "execution_count": 3,
   "metadata": {
    "collapsed": false,
    "deletable": true,
    "editable": true
   },
   "outputs": [
    {
     "name": "stdout",
     "output_type": "stream",
     "text": [
      "Help on method read_graph in module localgraphclustering.graph:\n",
      "\n",
      "read_graph(self, filename, separator) unbound localgraphclustering.graph.graph method\n",
      "    DESCRIPTION\n",
      "    -----------\n",
      "    \n",
      "    Reads the graph from an edgelist and initialize the adjecancy matrix which is stored variable g.A,\n",
      "    where g is graph object.\n",
      "    \n",
      "    Call help(graph.__init__) to get the documentation for the variables of this class.\n",
      "\n"
     ]
    }
   ],
   "source": [
    "# Example on how to check documentation for a primitive in the graph class.\n",
    "help(graph.read_graph)"
   ]
  },
  {
   "cell_type": "code",
   "execution_count": 4,
   "metadata": {
    "collapsed": false,
    "deletable": true,
    "editable": true
   },
   "outputs": [
    {
     "data": {
      "text/plain": [
       "{'__doc__': None,\n",
       " '__init__': <function localgraphclustering.graph.__init__>,\n",
       " '__module__': 'localgraphclustering.graph',\n",
       " 'biconnected_components': <function localgraphclustering.graph.biconnected_components>,\n",
       " 'biconnected_ncp': <function localgraphclustering.graph.biconnected_ncp>,\n",
       " 'compute_statistics': <function localgraphclustering.graph.compute_statistics>,\n",
       " 'connected_components': <function localgraphclustering.graph.connected_components>,\n",
       " 'core_number': <function localgraphclustering.graph.core_number>,\n",
       " 'is_disconnected': <function localgraphclustering.graph.is_disconnected>,\n",
       " 'ncp': <function localgraphclustering.graph.ncp>,\n",
       " 'ncp_one_component': <function localgraphclustering.graph.ncp_one_component>,\n",
       " 'plot_biconnected_ncp': <function localgraphclustering.graph.plot_biconnected_ncp>,\n",
       " 'plot_ncp': <function localgraphclustering.graph.plot_ncp>,\n",
       " 'plot_one_component_ncp': <function localgraphclustering.graph.plot_one_component_ncp>,\n",
       " 'read_graph': <function localgraphclustering.graph.read_graph>}"
      ]
     },
     "execution_count": 4,
     "metadata": {},
     "output_type": "execute_result"
    }
   ],
   "source": [
    "# To get the names of other primitives from the graph class run\n",
    "graph.__dict__"
   ]
  },
  {
   "cell_type": "code",
   "execution_count": 5,
   "metadata": {
    "collapsed": false,
    "deletable": true,
    "editable": true
   },
   "outputs": [],
   "source": [
    "# Define graph object\n",
    "g = graph()"
   ]
  },
  {
   "cell_type": "code",
   "execution_count": 6,
   "metadata": {
    "collapsed": false,
    "deletable": true,
    "editable": true
   },
   "outputs": [
    {
     "name": "stdout",
     "output_type": "stream",
     "text": [
      "('The following nodes have no outgoing edges:', array([ 699,  976,  981, 1280, 1415, 1543, 1664, 2020, 2355, 2652, 2862,\n",
      "       2916, 3397, 3516, 3831, 3970, 4118, 4601, 4615, 4809, 4828, 4881,\n",
      "       4946]), '\\n')\n",
      "These nodes are stored in the your_graph_object.dangling.\n",
      "To avoid numerical difficulties we connect each dangling node to another randomly chosen node.\n"
     ]
    }
   ],
   "source": [
    "# Read graph from edgelist file.\n",
    "g.read_graph('JohnsHopkins.edgelist','\\t')"
   ]
  },
  {
   "cell_type": "code",
   "execution_count": 7,
   "metadata": {
    "collapsed": false,
    "deletable": true,
    "editable": true
   },
   "outputs": [
    {
     "name": "stdout",
     "output_type": "stream",
     "text": [
      "('There are ', 1, ' connected components in the graph')\n",
      "The graph is not a disconnected graph.\n"
     ]
    }
   ],
   "source": [
    "# Check if graph is disconnected.\n",
    "is_disconnected = g.is_disconnected()"
   ]
  },
  {
   "cell_type": "code",
   "execution_count": 8,
   "metadata": {
    "collapsed": false,
    "deletable": true,
    "editable": true
   },
   "outputs": [
    {
     "name": "stdout",
     "output_type": "stream",
     "text": [
      "('There are ', 1, ' connected components in the graph')\n"
     ]
    }
   ],
   "source": [
    "# Find all connected components of a graph and store them\n",
    "# as a list of sets in g.components. \n",
    "# This functions calls networkx.\n",
    "g.connected_components()"
   ]
  },
  {
   "cell_type": "code",
   "execution_count": 9,
   "metadata": {
    "collapsed": false,
    "deletable": true,
    "editable": true,
    "scrolled": true
   },
   "outputs": [],
   "source": [
    "# Find all biconnected components of graph and store them\n",
    "# as a list of sets in g.bicomponents.\n",
    "# This functions calls networkx.\n",
    "g.biconnected_components()"
   ]
  },
  {
   "cell_type": "code",
   "execution_count": 10,
   "metadata": {
    "collapsed": false,
    "deletable": true,
    "editable": true
   },
   "outputs": [],
   "source": [
    "# Find the core number for each node and store them in a\n",
    "# a dictionary keyed by node to the core number. You can access this by g.core_numbers.\n",
    "# This functions calls networkx.\n",
    "g.core_number()"
   ]
  },
  {
   "cell_type": "markdown",
   "metadata": {
    "collapsed": false,
    "deletable": true,
    "editable": true
   },
   "source": [
    "# How to use the localCluster class and its primitives"
   ]
  },
  {
   "cell_type": "code",
   "execution_count": 11,
   "metadata": {
    "collapsed": false,
    "deletable": true,
    "editable": true
   },
   "outputs": [
    {
     "name": "stdout",
     "output_type": "stream",
     "text": [
      "Help on method __init__ in module localgraphclustering.localCluster:\n",
      "\n",
      "__init__(self) unbound localgraphclustering.localCluster.localCluster method\n",
      "    CLASS VARIABLES \n",
      "    ---------------\n",
      "    \n",
      "    1) node_embedding_acl: numpy array, float\n",
      "                           1D node embedding for each node of the graph when using ACL primitive.\n",
      "    \n",
      "    2) best_cluster_acl: list\n",
      "                         A list of nodes that correspond to the cluster with the best \n",
      "                         conductance that was found by ACL primitive.\n",
      "    \n",
      "    3) best_conductance_acl: float\n",
      "                             Conductance value that corresponds to the cluster with the best \n",
      "                             conductance that was found by ACL primitive.\n",
      "    \n",
      "    4) sweep_profile_acl: list of objects\n",
      "                          A two dimensional list of objects. For example,\n",
      "                          sweep_profile[0] contains a numpy array with all conductances for all\n",
      "                          clusters that were calculated by sweep_cut.\n",
      "                          sweep_profile[1] is a multidimensional list that contains the indices\n",
      "                          of all clusters that were calculated by sweep_cut. For example,\n",
      "                          sweep_profile[1,5] is a list that contains the indices of the 5th cluster\n",
      "                          that was calculated by sweep_cut. The set of indices in sweep_profile[1][5] also correspond \n",
      "                          to conductance in sweep_profile[0][5]. The number of clusters is unknwon apriori \n",
      "                          and depends on the data and that parameter setting of ACL primitive.  \n",
      "    \n",
      "    5) node_embedding_ista: numpy array, float\n",
      "                            Similar to node_embedding_acl but using ISTA primitive.\n",
      "    \n",
      "    6) best_cluster_ista: list\n",
      "                          Similar to best_cluster_ista but using ISTA primitive.\n",
      "    \n",
      "    7) best_conductance_ista: float\n",
      "                              Similar to best_conductance_ista but using ISTA primitive.\n",
      "    \n",
      "    8) sweep_profile_ista: list of objects\n",
      "                           Similar to sweep_profile_ista but using ISTA primitive. \n",
      "    \n",
      "    9) node_embedding_fista: numpy array, float\n",
      "                             Similar to node_embedding_fista but using FISTA primitive.\n",
      "    \n",
      "    10) best_cluster_fista: list\n",
      "                            Similar to best_cluster_fista but using FISTA primitive.\n",
      "    \n",
      "    11) best_conductance_fista: float\n",
      "                                Similar to best_conductance_fista but using FISTA primitive.\n",
      "    \n",
      "    12) sweep_profile_fista: list of objects\n",
      "                             Similar to sweep_profile_fista but using FISTA primitive. \n",
      "    \n",
      "    13) node_embedding_nibble: numpy array, float\n",
      "                               Similar to node_embedding_nibble but using PageRank Nibble primitive.\n",
      "    \n",
      "    14) best_cluster_nibble: list\n",
      "                             Similar to best_cluster_nibble but using PageRank Nibble primitive.\n",
      "    \n",
      "    15) best_conductance_nibble: float\n",
      "                                 Similar to best_conductance_nibble but using PageRank Nibble primitive.\n",
      "    \n",
      "    16) sweep_profile_nibble: list of objects\n",
      "                              Similar to sweep_profile_nibble but using PageRank Nibble primitive. \n",
      "    \n",
      "    17) volume_profile_nibble: list of objects\n",
      "                               A two dimensional list of objects which stores information about clusters\n",
      "                               which have volume larger than the input vol and les than 2/3 of the volume\n",
      "                               of the whole graph. For example, volume_profile[0] contains a list \n",
      "                               with all conductances for all clusters that were calculated by sweep_cut and \n",
      "                               also satisfy the previous volume constraint.\n",
      "                               volume_profile[1] is a multidimensional list that contains the indices\n",
      "                               of all clusters that were calculated by sweep_cut and also satisfy the previous \n",
      "                               volume constraint. For example, volume_profile[1][5] is a list that contains the \n",
      "                               indices of the 5th cluster that was calculated by sweep_cut and also satisfies \n",
      "                               the previous volume constraint. The set of indices in volume_profile[1][5] also correspond \n",
      "                               to conductance in volume_profile[0][5]. The number of clusters is unknwon apriori and \n",
      "                               depends on the data and that parameter setting of PageRank Nibble primitive.\n",
      "\n"
     ]
    }
   ],
   "source": [
    "# Check documentation for variables in the graph class\n",
    "help(localCluster.__init__)"
   ]
  },
  {
   "cell_type": "code",
   "execution_count": 12,
   "metadata": {
    "collapsed": false,
    "deletable": true,
    "editable": true
   },
   "outputs": [
    {
     "name": "stdout",
     "output_type": "stream",
     "text": [
      "Help on method fista in module localgraphclustering.localCluster:\n",
      "\n",
      "fista(self, ref_node, g, alpha=0.15, rho=1e-05, epsilon=1e-06, max_iter=10000, vol_G=-1, max_time=100, cpp=True) unbound localgraphclustering.localCluster.localCluster method\n",
      "    DESCRIPTION\n",
      "    -----------\n",
      "    \n",
      "    Fast Iterative Soft Thresholding Algorithm (FISTA). This algorithm solves the l1-regularized\n",
      "    personalized PageRank problem using an accelerated version of ISTA. It rounds the solution \n",
      "    using sweep cut.\n",
      "    \n",
      "    The l1-regularized personalized PageRank problem is defined as\n",
      "    \n",
      "    min rho*||p||_1 + <c,p> + <p,Q*p>\n",
      "    \n",
      "    where p is the PageRank vector, ||p||_1 is the l1-norm of p, rho is the regularization parameter \n",
      "    of the l1-norm, c is the right hand side of the personalized PageRank linear system and Q is the \n",
      "    symmetrized personalized PageRank matrix.    \n",
      "    \n",
      "    For details regarding ISTA please refer to: \n",
      "    K. Fountoulakis, F. Roosta-Khorasani, J. Shun, X. Cheng and M. Mahoney. Variational \n",
      "    Perspective on Local Graph Clustering. arXiv:1602.01886, 2017.\n",
      "    arXiv link:https://arxiv.org/abs/1602.01886 \n",
      "    \n",
      "    PARAMETERS (mandatory)\n",
      "    ----------------------\n",
      "    \n",
      "    ref_node: integer\n",
      "              The reference node, i.e., node of interest around which\n",
      "              we are looking for a target cluster.\n",
      "    \n",
      "    g: graph object\n",
      "    \n",
      "    PARAMETERS (optional)\n",
      "    ---------------------\n",
      "    \n",
      "    alpha: float, double\n",
      "           default == 0.15\n",
      "           Teleportation parameter of the personalized PageRank linear system.\n",
      "           The smaller the more global the personalized PageRank vector is.\n",
      "    \n",
      "    rho:   float, double\n",
      "           defaul == 1.0e-5\n",
      "           Regularization parameter for the l1-norm of the model.\n",
      "    \n",
      "    For details of these parameters please refer to: K. Fountoulakis, F. Roosta-Khorasani, \n",
      "    J. Shun, X. Cheng and M. Mahoney. Variational Perspective on Local Graph Clustering. arXiv:1602.01886, 2017\n",
      "    arXiv link:https://arxiv.org/abs/1602.01886 \n",
      "    \n",
      "    epsilon: float, double\n",
      "             default == 1.0e-6\n",
      "             Tolerance for FISTA for solving the l1-regularized personalized PageRank problem.\n",
      "    \n",
      "    max_iter: integer\n",
      "              default = 10000\n",
      "              Maximum number of iterations of FISTA.\n",
      "    \n",
      "    cpp: boolean\n",
      "         default = True\n",
      "         Use the faster C++ version of FISTA or not.\n",
      "    \n",
      "    RETURNS\n",
      "    -------\n",
      "    \n",
      "    The output can be accessed from localCluster object that calls this primitive.\n",
      "    \n",
      "    If cpp = False then the output is:\n",
      "    \n",
      "        node_embedding_fista: numpy array, float\n",
      "                              Approximate personalized PageRank vector\n",
      "    \n",
      "        best_cluster_fista: list\n",
      "                            A list of nodes that correspond to the cluster with the best \n",
      "                            conductance that was found by FISTA.\n",
      "    \n",
      "        best_conductance:  float, double\n",
      "                           Conductance value that corresponds to the cluster with the best \n",
      "                           conductance that was found by FISTA.\n",
      "    \n",
      "        sweep_profile_fista: list of objects\n",
      "                             A two dimensional list of objects. For example,\n",
      "                             sweep_profile[0] contains a numpy array with all conductances for all\n",
      "                             clusters that were calculated by sweep_cut.\n",
      "                             sweep_profile[1] is a multidimensional list that contains the indices\n",
      "                             of all clusters that were calculated by sweep_cut. For example,\n",
      "                             sweep_profile[1,5] is a list that contains the indices of the 5th cluster\n",
      "                             that was calculated by sweep_cut. The set of indices in sweep_profile[1][5] also correspond \n",
      "                             to conductance in sweep_profile[0][5]. The number of clusters is unknwon apriori \n",
      "                             and depends on the data and that parameter setting of FISTA.\n",
      "    \n",
      "    If cpp = True then the output is:\n",
      "    \n",
      "        node_embedding_fista: numpy array, float\n",
      "                              Approximate personalized PageRank vector\n",
      "    \n",
      "        best_cluster_fista: list\n",
      "                            A list of nodes that correspond to the cluster with the best \n",
      "                            conductance that was found by FISTA.\n",
      "    \n",
      "        best_conductance_fista: float, double\n",
      "                                Conductance value that corresponds to the cluster with the best \n",
      "                                conductance that was found by FISTA.\n",
      "\n"
     ]
    }
   ],
   "source": [
    "# Example on how to check documentation for a primitive in the localCluster class.\n",
    "help(localCluster.fista)"
   ]
  },
  {
   "cell_type": "code",
   "execution_count": 13,
   "metadata": {
    "collapsed": false,
    "deletable": true,
    "editable": true
   },
   "outputs": [
    {
     "data": {
      "text/plain": [
       "{'__doc__': None,\n",
       " '__init__': <function localgraphclustering.localCluster.__init__>,\n",
       " '__module__': 'localgraphclustering.localCluster',\n",
       " 'acl': <function localgraphclustering.localCluster.acl>,\n",
       " 'fista': <function localgraphclustering.localCluster.fista>,\n",
       " 'ista': <function localgraphclustering.localCluster.ista>,\n",
       " 'page_rank_nibble': <function localgraphclustering.localCluster.page_rank_nibble>}"
      ]
     },
     "execution_count": 13,
     "metadata": {},
     "output_type": "execute_result"
    }
   ],
   "source": [
    "# To get the names of other primitives from the localCluster class \n",
    "localCluster.__dict__"
   ]
  },
  {
   "cell_type": "code",
   "execution_count": 14,
   "metadata": {
    "collapsed": false,
    "deletable": true,
    "editable": true
   },
   "outputs": [],
   "source": [
    "# Define localCluster object\n",
    "lc = localCluster()"
   ]
  },
  {
   "cell_type": "code",
   "execution_count": 15,
   "metadata": {
    "collapsed": false,
    "deletable": true,
    "editable": true
   },
   "outputs": [
    {
     "name": "stdout",
     "output_type": "stream",
     "text": [
      "('Time:', 3.5358099937438965)\n"
     ]
    }
   ],
   "source": [
    "# First example of local graph clustering.\n",
    "# Example for ISTA, for documentation about this function call help(localCluster.ista)\n",
    "\n",
    "# This is the reference node for local graph clustering.\n",
    "ref_nodes = 3215\n",
    "\n",
    "start = time.time()\n",
    "\n",
    "# This line calls ISTA for local graph clustering.\n",
    "# To check to documentation for the input and output of this function call \n",
    "# help(localCluster.ista)\n",
    "lc.ista(ref_nodes, g, alpha = 1.8e-1, rho = 2.0e-7, epsilon = 1.0e-2, max_iter = 10000, max_time = 10)\n",
    "\n",
    "end = time.time()\n",
    "print(\"Time:\", end - start)"
   ]
  },
  {
   "cell_type": "code",
   "execution_count": 16,
   "metadata": {
    "collapsed": false,
    "deletable": true,
    "editable": true
   },
   "outputs": [
    {
     "name": "stdout",
     "output_type": "stream",
     "text": [
      "('Time (Python version):', 3.8842530250549316)\n"
     ]
    }
   ],
   "source": [
    "# Second example of local graph clustering\n",
    "# Example for FISTA, for documentation about this function call help(localCluster.fista)\n",
    "# This is the fastest algorithm for local graph clustering for this API. \n",
    "# This function has been implemented in Python and C++ with Python Wrapper.\n",
    "# The C++ version requires compilation, for details see HOWTO.txt file.\n",
    "\n",
    "# This is the reference node for local graph clustering.\n",
    "ref_nodes = 3215\n",
    "\n",
    "# Do not use C++ version of FISTA.\n",
    "cpp = False\n",
    "\n",
    "start = time.time()\n",
    "\n",
    "# This line calls the Python version of FISTA for local graph clustering.\n",
    "# To check to documentation for the input and output of this function call \n",
    "# help(localCluster.fista)\n",
    "lc.fista(ref_nodes, g, alpha = 1.8e-1, rho = 2.0e-7, epsilon = 1.0e-8, max_iter = 10000, max_time = 10, cpp = cpp)\n",
    "\n",
    "end = time.time()\n",
    "print(\"Time (Python version):\", end - start)"
   ]
  },
  {
   "cell_type": "code",
   "execution_count": 17,
   "metadata": {
    "collapsed": false,
    "deletable": true,
    "editable": true
   },
   "outputs": [
    {
     "name": "stdout",
     "output_type": "stream",
     "text": [
      "('Time (C++ version):', 0.12478804588317871)\n"
     ]
    }
   ],
   "source": [
    "# This is the reference node for local graph clustering.\n",
    "ref_nodes = 3215\n",
    "\n",
    "# Use C++ version of FISTA.\n",
    "cpp = True\n",
    "\n",
    "start = time.time()\n",
    "\n",
    "# This line calls the C++ version of FISTA for local graph clustering.\n",
    "# To check to documentation for the input and output of this function call \n",
    "# help(localCluster.fista)\n",
    "lc.fista(ref_nodes, g, alpha = 1.8e-1, rho = 2.0e-7, epsilon = 1.0e-8, max_iter = 10000, max_time = 10, cpp = cpp)  \n",
    "    \n",
    "end = time.time()\n",
    "print(\"Time (C++ version):\", end - start)"
   ]
  },
  {
   "cell_type": "code",
   "execution_count": 18,
   "metadata": {
    "collapsed": false,
    "deletable": true,
    "editable": true
   },
   "outputs": [
    {
     "name": "stdout",
     "output_type": "stream",
     "text": [
      "ACL: Maximum running time reached\n",
      "('Time:', 13.517570972442627)\n"
     ]
    }
   ],
   "source": [
    "# Third example for local graph clustering. \n",
    "# Example for ACL, for documentation about this function call help(localCluster.acl)\n",
    "\n",
    "# This is the reference node for local graph clustering.\n",
    "ref_nodes = 3215\n",
    "\n",
    "start = time.time()\n",
    "\n",
    "# This line calls ACL for local graph clustering.\n",
    "# To check to documentation for the input and output of this function call \n",
    "# help(localCluster.acl)\n",
    "lc.acl(ref_nodes, g, alpha = 1.8e-2, rho = 2.0e-7, max_iter = 100000, max_time = 10)\n",
    "\n",
    "end = time.time()\n",
    "print(\"Time:\", end - start)"
   ]
  },
  {
   "cell_type": "code",
   "execution_count": 19,
   "metadata": {
    "collapsed": false,
    "deletable": true,
    "editable": true
   },
   "outputs": [
    {
     "name": "stdout",
     "output_type": "stream",
     "text": [
      "('Time:', 7.298495054244995)\n"
     ]
    }
   ],
   "source": [
    "# Forth example for local graph clustering.\n",
    "# This method requires only the volume of the target cluster to run. \n",
    "# Therefore, if the user has knowledge of the volume of the target cluster it might be\n",
    "# best and more intuitive to use the method PageRank Nibble.\n",
    "# For documentation about this function call help(localCluster.page_rank_nibble)\n",
    "\n",
    "# This is the reference node for local graph clustering.\n",
    "ref_nodes = 3215\n",
    "\n",
    "# This is the volume of the target cluster\n",
    "vol = 10000\n",
    "\n",
    "# Do not use C++ version of PageRank Nibble.\n",
    "cpp = False\n",
    "\n",
    "start = time.time()\n",
    "\n",
    "# This line calls PageRank Nibble for local graph clustering.\n",
    "# To check to documentation for the input and output of this function call \n",
    "# help(localCluster.page_rank_nibble)\n",
    "lc.page_rank_nibble(g, ref_nodes, vol, phi = 0.5, algorithm = 'fista', epsilon = 1.0e-8, max_iter = 1000, max_time = 100, cpp = cpp)\n",
    "\n",
    "end = time.time()\n",
    "print(\"Time:\", end - start)"
   ]
  },
  {
   "cell_type": "code",
   "execution_count": 20,
   "metadata": {
    "collapsed": false,
    "deletable": true,
    "editable": true
   },
   "outputs": [
    {
     "name": "stdout",
     "output_type": "stream",
     "text": [
      "('Time:', 1.5598411560058594)\n"
     ]
    }
   ],
   "source": [
    "# This is the reference node for local graph clustering.\n",
    "ref_nodes = 3215\n",
    "\n",
    "# This is the volume of the target cluster\n",
    "vol = 10000\n",
    "\n",
    "# Use C++ version of PageRank Nibble.\n",
    "cpp = True\n",
    "\n",
    "start = time.time()\n",
    "\n",
    "# This line calls PageRank Nibble for local graph clustering.\n",
    "# To check to documentation for the input and output of this function call \n",
    "# help(localCluster.page_rank_nibble)\n",
    "lc.page_rank_nibble(g, ref_nodes, vol, phi = 0.5, algorithm = 'fista', epsilon = 1.0e-8, max_iter = 1000, max_time = 100, cpp = cpp)\n",
    "\n",
    "end = time.time()\n",
    "print(\"Time:\", end - start)"
   ]
  },
  {
   "cell_type": "markdown",
   "metadata": {
    "collapsed": false,
    "deletable": true,
    "editable": true
   },
   "source": [
    "# How to use the multi class label prediction primitive"
   ]
  },
  {
   "cell_type": "code",
   "execution_count": 21,
   "metadata": {
    "collapsed": false,
    "deletable": true,
    "editable": true
   },
   "outputs": [
    {
     "name": "stdout",
     "output_type": "stream",
     "text": [
      "('Time:', 41.066733837127686)\n"
     ]
    }
   ],
   "source": [
    "# List of nodes around which we want to find labels\n",
    "labels = [[1,10,300],[3215],[1002,2500,540]]\n",
    "\n",
    "# Use C++ version of FISTA.\n",
    "cpp = True\n",
    "\n",
    "start = time.time()\n",
    "\n",
    "# This function predicts labels for unlabelled nodes. For details refer to:\n",
    "# D. Gleich and M. Mahoney. Variational \n",
    "# Using Local Spectral Methods to Robustify Graph-Based Learning Algorithms. SIGKDD 2015.\n",
    "# https://www.stat.berkeley.edu/~mmahoney/pubs/robustifying-kdd15.pdf\n",
    "# To check to documentation for the input and output of this function call \n",
    "# help(multiclass_label_prediction)\n",
    "classes, ranks, diffusions = multiclass_label_prediction(labels, g, alpha = 1.0e-1, rho = 1.0e-14, epsilon = 1.0e-8, max_iter = 10000, max_time = 100, cpp = cpp)\n",
    "\n",
    "end = time.time()\n",
    "print(\"Time:\", end - start)"
   ]
  },
  {
   "cell_type": "markdown",
   "metadata": {
    "collapsed": false,
    "deletable": true,
    "editable": true
   },
   "source": [
    "# How to use the Network Community Profile primitives"
   ]
  },
  {
   "cell_type": "code",
   "execution_count": 22,
   "metadata": {
    "collapsed": false,
    "deletable": true,
    "editable": true
   },
   "outputs": [],
   "source": [
    "# Example for NCP for connected components. For documentation call help(graph.ncp)"
   ]
  },
  {
   "cell_type": "code",
   "execution_count": 23,
   "metadata": {
    "collapsed": false,
    "deletable": true,
    "editable": true
   },
   "outputs": [
    {
     "name": "stdout",
     "output_type": "stream",
     "text": [
      "('There are ', 1, ' connected components in the graph')\n",
      "('Time:', 1005.5452539920807)\n"
     ]
    }
   ],
   "source": [
    "# Ratio of nodes from each graph component that will be used for calculation of NCP.\n",
    "# In this case 0.5 times the number of nodes of each connected component will be used.\n",
    "ratio = 1\n",
    "\n",
    "# Use C++ version of PageRank Nibble.\n",
    "cpp = True\n",
    "\n",
    "start = time.time()\n",
    "\n",
    "# This line calls the NCP function for all connected components.\n",
    "# To check to documentation for the input and output of this function call \n",
    "# help(graph.ncp)\n",
    "g.ncp(ratio, algorithm = 'fista', epsilon = 1.0e-4, max_iter = 1000, max_time_ncp = 1000, max_time_algorithm = 10, cpp = cpp)\n",
    "\n",
    "end = time.time()\n",
    "print(\"Time:\", end - start)"
   ]
  },
  {
   "cell_type": "code",
   "execution_count": 24,
   "metadata": {
    "collapsed": false,
    "deletable": true,
    "editable": true
   },
   "outputs": [],
   "source": [
    "# Plot NCPs"
   ]
  },
  {
   "cell_type": "code",
   "execution_count": 25,
   "metadata": {
    "collapsed": false,
    "deletable": true,
    "editable": true
   },
   "outputs": [
    {
     "data": {
      "image/png": "[encoded data removed]",
      "text/plain": [
       "<matplotlib.figure.Figure at 0x110bd8650>"
      ]
     },
     "metadata": {},
     "output_type": "display_data"
    },
    {
     "data": {
      "image/png": "[encoded data removed]",
      "text/plain": [
       "<matplotlib.figure.Figure at 0x112739ed0>"
      ]
     },
     "metadata": {},
     "output_type": "display_data"
    },
    {
     "name": "stdout",
     "output_type": "stream",
     "text": [
      "('Time:', 0.3895418643951416)\n"
     ]
    }
   ],
   "source": [
    "start = time.time()\n",
    "\n",
    "g.plot_ncp()\n",
    "\n",
    "end = time.time()\n",
    "print(\"Time:\", end - start)"
   ]
  },
  {
   "cell_type": "code",
   "execution_count": 26,
   "metadata": {
    "collapsed": false,
    "deletable": true,
    "editable": true
   },
   "outputs": [],
   "source": [
    "# Example for NCP for biconnected components. For documentation call help(graph.biconnected_ncp)"
   ]
  },
  {
   "cell_type": "code",
   "execution_count": 27,
   "metadata": {
    "collapsed": false,
    "deletable": true,
    "editable": true
   },
   "outputs": [
    {
     "ename": "KeyboardInterrupt",
     "evalue": "",
     "output_type": "error",
     "traceback": [
      "\u001b[0;31m---------------------------------------------------------------------------\u001b[0m",
      "\u001b[0;31mKeyboardInterrupt\u001b[0m                         Traceback (most recent call last)",
      "\u001b[0;32m<ipython-input-27-f4cba693e52e>\u001b[0m in \u001b[0;36m<module>\u001b[0;34m()\u001b[0m\n\u001b[1;32m     11\u001b[0m \u001b[0;31m# To check to documentation for the input and output of this function call\u001b[0m\u001b[0;34m\u001b[0m\u001b[0;34m\u001b[0m\u001b[0m\n\u001b[1;32m     12\u001b[0m \u001b[0;31m# help(graph.biconnected_ncp)\u001b[0m\u001b[0;34m\u001b[0m\u001b[0;34m\u001b[0m\u001b[0m\n\u001b[0;32m---> 13\u001b[0;31m \u001b[0mg\u001b[0m\u001b[0;34m.\u001b[0m\u001b[0mbiconnected_ncp\u001b[0m\u001b[0;34m(\u001b[0m\u001b[0mratio\u001b[0m\u001b[0;34m,\u001b[0m \u001b[0malgorithm\u001b[0m \u001b[0;34m=\u001b[0m \u001b[0;34m'fista'\u001b[0m\u001b[0;34m,\u001b[0m \u001b[0mepsilon\u001b[0m \u001b[0;34m=\u001b[0m \u001b[0;36m1.0e-4\u001b[0m\u001b[0;34m,\u001b[0m \u001b[0mmax_iter\u001b[0m \u001b[0;34m=\u001b[0m \u001b[0;36m1000\u001b[0m\u001b[0;34m,\u001b[0m \u001b[0mmax_time_ncp\u001b[0m \u001b[0;34m=\u001b[0m \u001b[0;36m1000\u001b[0m\u001b[0;34m,\u001b[0m \u001b[0mmax_time_algorithm\u001b[0m \u001b[0;34m=\u001b[0m \u001b[0;36m10\u001b[0m\u001b[0;34m,\u001b[0m \u001b[0mcpp\u001b[0m \u001b[0;34m=\u001b[0m \u001b[0mcpp\u001b[0m\u001b[0;34m)\u001b[0m\u001b[0;34m\u001b[0m\u001b[0m\n\u001b[0m\u001b[1;32m     14\u001b[0m \u001b[0;34m\u001b[0m\u001b[0m\n\u001b[1;32m     15\u001b[0m \u001b[0mend\u001b[0m \u001b[0;34m=\u001b[0m \u001b[0mtime\u001b[0m\u001b[0;34m.\u001b[0m\u001b[0mtime\u001b[0m\u001b[0;34m(\u001b[0m\u001b[0;34m)\u001b[0m\u001b[0;34m\u001b[0m\u001b[0m\n",
      "\u001b[0;32m/usr/local/lib/python2.7/site-packages/localgraphclustering/graph.pyc\u001b[0m in \u001b[0;36mbiconnected_ncp\u001b[0;34m(self, ratio, algorithm, epsilon, max_iter, max_time_ncp, max_time_algorithm, cpp)\u001b[0m\n\u001b[1;32m    646\u001b[0m                                 \u001b[0mlc\u001b[0m\u001b[0;34m.\u001b[0m\u001b[0mfista\u001b[0m\u001b[0;34m(\u001b[0m\u001b[0mnode\u001b[0m\u001b[0;34m,\u001b[0m \u001b[0mg_copy\u001b[0m\u001b[0;34m,\u001b[0m \u001b[0malpha\u001b[0m \u001b[0;34m=\u001b[0m \u001b[0malpha\u001b[0m\u001b[0;34m,\u001b[0m \u001b[0mrho\u001b[0m \u001b[0;34m=\u001b[0m \u001b[0mrho\u001b[0m\u001b[0;34m,\u001b[0m \u001b[0mepsilon\u001b[0m \u001b[0;34m=\u001b[0m \u001b[0mepsilon\u001b[0m\u001b[0;34m,\u001b[0m \u001b[0mmax_iter\u001b[0m \u001b[0;34m=\u001b[0m \u001b[0mmax_iter\u001b[0m\u001b[0;34m,\u001b[0m \u001b[0mmax_time\u001b[0m \u001b[0;34m=\u001b[0m \u001b[0mmax_time_algorithm\u001b[0m\u001b[0;34m,\u001b[0m \u001b[0mcpp\u001b[0m \u001b[0;34m=\u001b[0m \u001b[0mcpp\u001b[0m\u001b[0;34m)\u001b[0m\u001b[0;34m\u001b[0m\u001b[0m\n\u001b[1;32m    647\u001b[0m                             \u001b[0;32melse\u001b[0m\u001b[0;34m:\u001b[0m\u001b[0;34m\u001b[0m\u001b[0m\n\u001b[0;32m--> 648\u001b[0;31m                                 \u001b[0mlc\u001b[0m\u001b[0;34m.\u001b[0m\u001b[0mfista\u001b[0m\u001b[0;34m(\u001b[0m\u001b[0mnode\u001b[0m\u001b[0;34m,\u001b[0m \u001b[0mg_copy\u001b[0m\u001b[0;34m,\u001b[0m \u001b[0malpha\u001b[0m \u001b[0;34m=\u001b[0m \u001b[0malpha\u001b[0m\u001b[0;34m,\u001b[0m \u001b[0mrho\u001b[0m \u001b[0;34m=\u001b[0m \u001b[0mrho\u001b[0m\u001b[0;34m,\u001b[0m \u001b[0mepsilon\u001b[0m \u001b[0;34m=\u001b[0m \u001b[0mepsilon\u001b[0m\u001b[0;34m,\u001b[0m \u001b[0mmax_iter\u001b[0m \u001b[0;34m=\u001b[0m \u001b[0mmax_iter\u001b[0m\u001b[0;34m,\u001b[0m \u001b[0mmax_time\u001b[0m \u001b[0;34m=\u001b[0m \u001b[0mmax_time_algorithm\u001b[0m\u001b[0;34m,\u001b[0m \u001b[0mcpp\u001b[0m \u001b[0;34m=\u001b[0m \u001b[0mcpp\u001b[0m\u001b[0;34m)\u001b[0m\u001b[0;34m\u001b[0m\u001b[0m\n\u001b[0m\u001b[1;32m    649\u001b[0m \u001b[0;34m\u001b[0m\u001b[0m\n\u001b[1;32m    650\u001b[0m                             \u001b[0mS_l1pr\u001b[0m \u001b[0;34m=\u001b[0m \u001b[0mlc\u001b[0m\u001b[0;34m.\u001b[0m\u001b[0mbest_cluster_fista\u001b[0m\u001b[0;34m\u001b[0m\u001b[0m\n",
      "\u001b[0;32m/usr/local/lib/python2.7/site-packages/localgraphclustering/localCluster.pyc\u001b[0m in \u001b[0;36mfista\u001b[0;34m(self, ref_node, g, alpha, rho, epsilon, max_iter, vol_G, max_time, cpp)\u001b[0m\n\u001b[1;32m    395\u001b[0m             \u001b[0mn\u001b[0m \u001b[0;34m=\u001b[0m \u001b[0mg\u001b[0m\u001b[0;34m.\u001b[0m\u001b[0mA\u001b[0m\u001b[0;34m.\u001b[0m\u001b[0mshape\u001b[0m\u001b[0;34m[\u001b[0m\u001b[0;36m0\u001b[0m\u001b[0;34m]\u001b[0m\u001b[0;34m\u001b[0m\u001b[0m\n\u001b[1;32m    396\u001b[0m \u001b[0;34m\u001b[0m\u001b[0m\n\u001b[0;32m--> 397\u001b[0;31m             \u001b[0msweep\u001b[0m\u001b[0;34m.\u001b[0m\u001b[0msweep_cut_cpp\u001b[0m\u001b[0;34m(\u001b[0m\u001b[0mself\u001b[0m\u001b[0;34m.\u001b[0m\u001b[0mnode_embedding_fista\u001b[0m\u001b[0;34m,\u001b[0m\u001b[0mg\u001b[0m\u001b[0;34m)\u001b[0m\u001b[0;34m\u001b[0m\u001b[0m\n\u001b[0m\u001b[1;32m    398\u001b[0m \u001b[0;34m\u001b[0m\u001b[0m\n\u001b[1;32m    399\u001b[0m             \u001b[0mself\u001b[0m\u001b[0;34m.\u001b[0m\u001b[0mbest_cluster_fista\u001b[0m \u001b[0;34m=\u001b[0m \u001b[0msweep\u001b[0m\u001b[0;34m.\u001b[0m\u001b[0mbest_cluster\u001b[0m\u001b[0;34m\u001b[0m\u001b[0m\n",
      "\u001b[0;32m/usr/local/lib/python2.7/site-packages/localgraphclustering/sweepCut.pyc\u001b[0m in \u001b[0;36msweep_cut_cpp\u001b[0;34m(self, p, g, do_sort, vol_user)\u001b[0m\n\u001b[1;32m    142\u001b[0m             \u001b[0msc_p\u001b[0m\u001b[0;34m[\u001b[0m\u001b[0mi\u001b[0m\u001b[0;34m]\u001b[0m \u001b[0;34m=\u001b[0m \u001b[0mp\u001b[0m\u001b[0;34m[\u001b[0m\u001b[0mnnz_idx\u001b[0m\u001b[0;34m[\u001b[0m\u001b[0mi\u001b[0m\u001b[0;34m]\u001b[0m\u001b[0;34m]\u001b[0m\u001b[0;34m\u001b[0m\u001b[0m\n\u001b[1;32m    143\u001b[0m \u001b[0;34m\u001b[0m\u001b[0m\n\u001b[0;32m--> 144\u001b[0;31m         \u001b[0;34m(\u001b[0m\u001b[0mactual_length\u001b[0m\u001b[0;34m,\u001b[0m\u001b[0mbestclus\u001b[0m\u001b[0;34m,\u001b[0m\u001b[0mself\u001b[0m\u001b[0;34m.\u001b[0m\u001b[0mbest_conductance\u001b[0m\u001b[0;34m)\u001b[0m \u001b[0;34m=\u001b[0m \u001b[0msweepcut_cpp\u001b[0m\u001b[0;34m(\u001b[0m\u001b[0mn\u001b[0m\u001b[0;34m,\u001b[0m \u001b[0muint_indptr\u001b[0m\u001b[0;34m,\u001b[0m \u001b[0muint_indices\u001b[0m\u001b[0;34m,\u001b[0m \u001b[0mg\u001b[0m\u001b[0;34m.\u001b[0m\u001b[0mA\u001b[0m\u001b[0;34m.\u001b[0m\u001b[0mdata\u001b[0m\u001b[0;34m,\u001b[0m \u001b[0mnnz_idx\u001b[0m\u001b[0;34m,\u001b[0m \u001b[0mnnz_ct\u001b[0m\u001b[0;34m,\u001b[0m \u001b[0msc_p\u001b[0m\u001b[0;34m,\u001b[0m \u001b[0;36m1\u001b[0m \u001b[0;34m-\u001b[0m \u001b[0mdo_sort\u001b[0m\u001b[0;34m)\u001b[0m\u001b[0;34m\u001b[0m\u001b[0m\n\u001b[0m\u001b[1;32m    145\u001b[0m \u001b[0;34m\u001b[0m\u001b[0m\n\u001b[1;32m    146\u001b[0m         \u001b[0mself\u001b[0m\u001b[0;34m.\u001b[0m\u001b[0mbest_cluster\u001b[0m \u001b[0;34m=\u001b[0m \u001b[0mbestclus\u001b[0m\u001b[0;34m.\u001b[0m\u001b[0mtolist\u001b[0m\u001b[0;34m(\u001b[0m\u001b[0;34m)\u001b[0m\u001b[0;34m\u001b[0m\u001b[0m\n",
      "\u001b[0;32m/usr/local/lib/python2.7/site-packages/localgraphclustering/sweepcut_cpp.pyc\u001b[0m in \u001b[0;36msweepcut_cpp\u001b[0;34m(n, ai, aj, a, ids, num, values, flag, degrees)\u001b[0m\n\u001b[1;32m     28\u001b[0m \u001b[0;32mdef\u001b[0m \u001b[0msweepcut_cpp\u001b[0m\u001b[0;34m(\u001b[0m\u001b[0mn\u001b[0m\u001b[0;34m,\u001b[0m\u001b[0mai\u001b[0m\u001b[0;34m,\u001b[0m\u001b[0maj\u001b[0m\u001b[0;34m,\u001b[0m\u001b[0ma\u001b[0m\u001b[0;34m,\u001b[0m\u001b[0mids\u001b[0m\u001b[0;34m,\u001b[0m\u001b[0mnum\u001b[0m\u001b[0;34m,\u001b[0m\u001b[0mvalues\u001b[0m\u001b[0;34m,\u001b[0m\u001b[0mflag\u001b[0m\u001b[0;34m,\u001b[0m\u001b[0mdegrees\u001b[0m \u001b[0;34m=\u001b[0m \u001b[0mNone\u001b[0m\u001b[0;34m)\u001b[0m\u001b[0;34m:\u001b[0m\u001b[0;34m\u001b[0m\u001b[0m\n\u001b[1;32m     29\u001b[0m \u001b[0;34m\u001b[0m\u001b[0m\n\u001b[0;32m---> 30\u001b[0;31m     \u001b[0;32mif\u001b[0m \u001b[0mplatform\u001b[0m\u001b[0;34m.\u001b[0m\u001b[0marchitecture\u001b[0m\u001b[0;34m(\u001b[0m\u001b[0;34m)\u001b[0m \u001b[0;34m==\u001b[0m \u001b[0;34m(\u001b[0m\u001b[0;34m'64bit'\u001b[0m\u001b[0;34m,\u001b[0m \u001b[0;34m''\u001b[0m\u001b[0;34m)\u001b[0m\u001b[0;34m:\u001b[0m\u001b[0;34m\u001b[0m\u001b[0m\n\u001b[0m\u001b[1;32m     31\u001b[0m         \u001b[0mfloat_type\u001b[0m \u001b[0;34m=\u001b[0m \u001b[0mnp\u001b[0m\u001b[0;34m.\u001b[0m\u001b[0mfloat64\u001b[0m\u001b[0;34m\u001b[0m\u001b[0m\n\u001b[1;32m     32\u001b[0m     \u001b[0;32melse\u001b[0m\u001b[0;34m:\u001b[0m\u001b[0;34m\u001b[0m\u001b[0m\n",
      "\u001b[0;32m/usr/local/Cellar/python/2.7.13/Frameworks/Python.framework/Versions/2.7/lib/python2.7/platform.pyc\u001b[0m in \u001b[0;36marchitecture\u001b[0;34m(executable, bits, linkage)\u001b[0m\n\u001b[1;32m   1064\u001b[0m     \u001b[0;31m# Get data from the 'file' system command\u001b[0m\u001b[0;34m\u001b[0m\u001b[0;34m\u001b[0m\u001b[0m\n\u001b[1;32m   1065\u001b[0m     \u001b[0;32mif\u001b[0m \u001b[0mexecutable\u001b[0m\u001b[0;34m:\u001b[0m\u001b[0;34m\u001b[0m\u001b[0m\n\u001b[0;32m-> 1066\u001b[0;31m         \u001b[0moutput\u001b[0m \u001b[0;34m=\u001b[0m \u001b[0m_syscmd_file\u001b[0m\u001b[0;34m(\u001b[0m\u001b[0mexecutable\u001b[0m\u001b[0;34m,\u001b[0m \u001b[0;34m''\u001b[0m\u001b[0;34m)\u001b[0m\u001b[0;34m\u001b[0m\u001b[0m\n\u001b[0m\u001b[1;32m   1067\u001b[0m     \u001b[0;32melse\u001b[0m\u001b[0;34m:\u001b[0m\u001b[0;34m\u001b[0m\u001b[0m\n\u001b[1;32m   1068\u001b[0m         \u001b[0moutput\u001b[0m \u001b[0;34m=\u001b[0m \u001b[0;34m''\u001b[0m\u001b[0;34m\u001b[0m\u001b[0m\n",
      "\u001b[0;32m/usr/local/Cellar/python/2.7.13/Frameworks/Python.framework/Versions/2.7/lib/python2.7/platform.pyc\u001b[0m in \u001b[0;36m_syscmd_file\u001b[0;34m(target, default)\u001b[0m\n\u001b[1;32m   1007\u001b[0m     \u001b[0;32mtry\u001b[0m\u001b[0;34m:\u001b[0m\u001b[0;34m\u001b[0m\u001b[0m\n\u001b[1;32m   1008\u001b[0m         proc = subprocess.Popen(['file', target],\n\u001b[0;32m-> 1009\u001b[0;31m                 stdout=subprocess.PIPE, stderr=subprocess.STDOUT)\n\u001b[0m\u001b[1;32m   1010\u001b[0m \u001b[0;34m\u001b[0m\u001b[0m\n\u001b[1;32m   1011\u001b[0m     \u001b[0;32mexcept\u001b[0m \u001b[0;34m(\u001b[0m\u001b[0mAttributeError\u001b[0m\u001b[0;34m,\u001b[0m\u001b[0mos\u001b[0m\u001b[0;34m.\u001b[0m\u001b[0merror\u001b[0m\u001b[0;34m)\u001b[0m\u001b[0;34m:\u001b[0m\u001b[0;34m\u001b[0m\u001b[0m\n",
      "\u001b[0;32m/usr/local/Cellar/python/2.7.13/Frameworks/Python.framework/Versions/2.7/lib/python2.7/subprocess.pyc\u001b[0m in \u001b[0;36m__init__\u001b[0;34m(self, args, bufsize, executable, stdin, stdout, stderr, preexec_fn, close_fds, shell, cwd, env, universal_newlines, startupinfo, creationflags)\u001b[0m\n\u001b[1;32m    388\u001b[0m                                 \u001b[0mp2cread\u001b[0m\u001b[0;34m,\u001b[0m \u001b[0mp2cwrite\u001b[0m\u001b[0;34m,\u001b[0m\u001b[0;34m\u001b[0m\u001b[0m\n\u001b[1;32m    389\u001b[0m                                 \u001b[0mc2pread\u001b[0m\u001b[0;34m,\u001b[0m \u001b[0mc2pwrite\u001b[0m\u001b[0;34m,\u001b[0m\u001b[0;34m\u001b[0m\u001b[0m\n\u001b[0;32m--> 390\u001b[0;31m                                 errread, errwrite)\n\u001b[0m\u001b[1;32m    391\u001b[0m         \u001b[0;32mexcept\u001b[0m \u001b[0mException\u001b[0m\u001b[0;34m:\u001b[0m\u001b[0;34m\u001b[0m\u001b[0m\n\u001b[1;32m    392\u001b[0m             \u001b[0;31m# Preserve original exception in case os.close raises.\u001b[0m\u001b[0;34m\u001b[0m\u001b[0;34m\u001b[0m\u001b[0m\n",
      "\u001b[0;32m/usr/local/Cellar/python/2.7.13/Frameworks/Python.framework/Versions/2.7/lib/python2.7/subprocess.pyc\u001b[0m in \u001b[0;36m_execute_child\u001b[0;34m(self, args, executable, preexec_fn, close_fds, cwd, env, universal_newlines, startupinfo, creationflags, shell, to_close, p2cread, p2cwrite, c2pread, c2pwrite, errread, errwrite)\u001b[0m\n\u001b[1;32m    998\u001b[0m \u001b[0;34m\u001b[0m\u001b[0m\n\u001b[1;32m    999\u001b[0m                 \u001b[0;31m# Wait for exec to fail or succeed; possibly raising exception\u001b[0m\u001b[0;34m\u001b[0m\u001b[0;34m\u001b[0m\u001b[0m\n\u001b[0;32m-> 1000\u001b[0;31m                 \u001b[0mdata\u001b[0m \u001b[0;34m=\u001b[0m \u001b[0m_eintr_retry_call\u001b[0m\u001b[0;34m(\u001b[0m\u001b[0mos\u001b[0m\u001b[0;34m.\u001b[0m\u001b[0mread\u001b[0m\u001b[0;34m,\u001b[0m \u001b[0merrpipe_read\u001b[0m\u001b[0;34m,\u001b[0m \u001b[0;36m1048576\u001b[0m\u001b[0;34m)\u001b[0m\u001b[0;34m\u001b[0m\u001b[0m\n\u001b[0m\u001b[1;32m   1001\u001b[0m                 \u001b[0mpickle_bits\u001b[0m \u001b[0;34m=\u001b[0m \u001b[0;34m[\u001b[0m\u001b[0;34m]\u001b[0m\u001b[0;34m\u001b[0m\u001b[0m\n\u001b[1;32m   1002\u001b[0m                 \u001b[0;32mwhile\u001b[0m \u001b[0mdata\u001b[0m\u001b[0;34m:\u001b[0m\u001b[0;34m\u001b[0m\u001b[0m\n",
      "\u001b[0;32m/usr/local/Cellar/python/2.7.13/Frameworks/Python.framework/Versions/2.7/lib/python2.7/subprocess.pyc\u001b[0m in \u001b[0;36m_eintr_retry_call\u001b[0;34m(func, *args)\u001b[0m\n\u001b[1;32m    119\u001b[0m     \u001b[0;32mwhile\u001b[0m \u001b[0mTrue\u001b[0m\u001b[0;34m:\u001b[0m\u001b[0;34m\u001b[0m\u001b[0m\n\u001b[1;32m    120\u001b[0m         \u001b[0;32mtry\u001b[0m\u001b[0;34m:\u001b[0m\u001b[0;34m\u001b[0m\u001b[0m\n\u001b[0;32m--> 121\u001b[0;31m             \u001b[0;32mreturn\u001b[0m \u001b[0mfunc\u001b[0m\u001b[0;34m(\u001b[0m\u001b[0;34m*\u001b[0m\u001b[0margs\u001b[0m\u001b[0;34m)\u001b[0m\u001b[0;34m\u001b[0m\u001b[0m\n\u001b[0m\u001b[1;32m    122\u001b[0m         \u001b[0;32mexcept\u001b[0m \u001b[0;34m(\u001b[0m\u001b[0mOSError\u001b[0m\u001b[0;34m,\u001b[0m \u001b[0mIOError\u001b[0m\u001b[0;34m)\u001b[0m \u001b[0;32mas\u001b[0m \u001b[0me\u001b[0m\u001b[0;34m:\u001b[0m\u001b[0;34m\u001b[0m\u001b[0m\n\u001b[1;32m    123\u001b[0m             \u001b[0;32mif\u001b[0m \u001b[0me\u001b[0m\u001b[0;34m.\u001b[0m\u001b[0merrno\u001b[0m \u001b[0;34m==\u001b[0m \u001b[0merrno\u001b[0m\u001b[0;34m.\u001b[0m\u001b[0mEINTR\u001b[0m\u001b[0;34m:\u001b[0m\u001b[0;34m\u001b[0m\u001b[0m\n",
      "\u001b[0;31mKeyboardInterrupt\u001b[0m: "
     ]
    }
   ],
   "source": [
    "# Ratio of nodes from each graph component that will be used for calculation of NCP.\n",
    "# In this case 0.5 times the number of nodes of each connected component will be used.\n",
    "ratio = 0.9\n",
    "\n",
    "# Use C++ version of PageRank Nibble.\n",
    "cpp = True\n",
    "\n",
    "start = time.time()\n",
    "\n",
    "# This line calls the NCP function for all biconnected components.\n",
    "# To check to documentation for the input and output of this function call \n",
    "# help(graph.biconnected_ncp)\n",
    "g.biconnected_ncp(ratio, algorithm = 'fista', epsilon = 1.0e-4, max_iter = 1000, max_time_ncp = 1000, max_time_algorithm = 10, cpp = cpp)\n",
    "\n",
    "end = time.time()\n",
    "print(\"Time:\", end - start)"
   ]
  },
  {
   "cell_type": "code",
   "execution_count": null,
   "metadata": {
    "collapsed": false,
    "deletable": true,
    "editable": true
   },
   "outputs": [],
   "source": [
    "# Plot NCPs for biconnected components"
   ]
  },
  {
   "cell_type": "code",
   "execution_count": null,
   "metadata": {
    "collapsed": false,
    "deletable": true,
    "editable": true
   },
   "outputs": [],
   "source": [
    "start = time.time()\n",
    "\n",
    "g.plot_biconnected_ncp()\n",
    "\n",
    "end = time.time()\n",
    "print(\"Time:\", end - start)"
   ]
  },
  {
   "cell_type": "code",
   "execution_count": null,
   "metadata": {
    "collapsed": false,
    "deletable": true,
    "editable": true
   },
   "outputs": [],
   "source": [
    "# Example for NCP for a given component (list of nodes). For documentation call help(graph.ncp_one_component)"
   ]
  },
  {
   "cell_type": "code",
   "execution_count": null,
   "metadata": {
    "collapsed": false,
    "deletable": true,
    "editable": true
   },
   "outputs": [],
   "source": [
    "# Ratio of nodes from each graph component that will be used for calculation of NCP.\n",
    "# In this case 0.5 times the number of nodes of each connected component will be used.\n",
    "ratio = 1\n",
    "\n",
    "# Use C++ version of PageRank Nibble.\n",
    "cpp = True\n",
    "\n",
    "start = time.time()\n",
    "\n",
    "# This line calls the NCP function for a given connected component.\n",
    "# To check to documentation for the input and output of this function call \n",
    "# help(graph.ncp_one_component)\n",
    "g.ncp_one_component(ratio, g.components[0], algorithm = 'fista', epsilon = 1.0e-4, max_iter = 1000, max_time_ncp = 1000, max_time_algorithm = 10, cpp = cpp)\n",
    "\n",
    "end = time.time()\n",
    "print(\"Time:\", end - start)"
   ]
  },
  {
   "cell_type": "code",
   "execution_count": null,
   "metadata": {
    "collapsed": false,
    "deletable": true,
    "editable": true
   },
   "outputs": [],
   "source": [
    "# Plot NCP for given connected components"
   ]
  },
  {
   "cell_type": "code",
   "execution_count": null,
   "metadata": {
    "collapsed": false,
    "deletable": true,
    "editable": true
   },
   "outputs": [],
   "source": [
    "start = time.time()\n",
    "\n",
    "g.plot_one_component_ncp()\n",
    "\n",
    "end = time.time()\n",
    "print(\"Time:\", end - start)"
   ]
  },
  {
   "cell_type": "markdown",
   "metadata": {
    "collapsed": false,
    "deletable": true,
    "editable": true
   },
   "source": [
    "# How to use the sweepCut class and its primitives "
   ]
  },
  {
   "cell_type": "code",
   "execution_count": 28,
   "metadata": {
    "collapsed": false,
    "deletable": true,
    "editable": true
   },
   "outputs": [
    {
     "name": "stdout",
     "output_type": "stream",
     "text": [
      "Help on method __init__ in module localgraphclustering.sweepCut:\n",
      "\n",
      "__init__(self) unbound localgraphclustering.sweepCut.sweepCut method\n",
      "    CLASS VARIABLES\n",
      "    ---------------\n",
      "    \n",
      "    1) best_cluster: list\n",
      "                     Stores indices of the best clusters found by the last called rounding procedure.\n",
      "    \n",
      "    2) best_conductance: float, double\n",
      "                         Stores the value of the best conductance found by the last called rounding procedure.\n",
      "    \n",
      "    3) sweep_profile: list of objects\n",
      "                      A two dimensional list of objects. For example,\n",
      "                      sweep_profile[0] contains a numpy array with all conductances for all\n",
      "                      clusters that were calculated by the last called rounding procedure.\n",
      "                      sweep_profile[1] is a multidimensional list that contains the indices\n",
      "                      of all clusters that were calculated by the rounding procedure. For example,\n",
      "                      sweep_profile[1,5] is a list that contains the indices of the 5th cluster\n",
      "                      that was calculated by the rounding procedure. \n",
      "                      The set of indices in sweep_profile[1][5] also correspond \n",
      "                      to conductance in sweep_profile[0][5].\n",
      "    \n",
      "    4) sweep_profile: list of objects\n",
      "                      A two dimensional list of objects. For example,\n",
      "                      sweep_profile[0] contains a numpy array with all conductances for all\n",
      "                      clusters that were calculated by the last called rounding procedure.\n",
      "                      sweep_profile[1] is a multidimensional list that contains the indices\n",
      "                      of all clusters that were calculated by the rounding procedure. For example,\n",
      "                      sweep_profile[1,5] is a list that contains the indices of the 5th cluster\n",
      "                      that was calculated by the rounding procedure. \n",
      "                      The set of indices in sweep_profile[1][5] also correspond \n",
      "                      to conductance in sweep_profile[0][5].\n",
      "    \n",
      "    4) volume_profile: list of objects\n",
      "                       A two dimensional list of objects. For example,\n",
      "                       sweep_profile[0] contains a numpy array with all conductances for all\n",
      "                       clusters that were calculated by the last called rounding procedure and also have \n",
      "                       volume less than or equal to the input parameter vol_user.\n",
      "                       sweep_profile[1] is a multidimensional list that contains the indices\n",
      "                       of all clusters that were calculated by the rounding procedure and also have \n",
      "                       volume less than or equal to the input parameter vol_user.\n",
      "\n"
     ]
    }
   ],
   "source": [
    "# Check documentation for variables in the sweepCut class\n",
    "help(sweepCut.__init__)"
   ]
  },
  {
   "cell_type": "code",
   "execution_count": 29,
   "metadata": {
    "collapsed": false,
    "deletable": true,
    "editable": true
   },
   "outputs": [
    {
     "name": "stdout",
     "output_type": "stream",
     "text": [
      "Help on method sweep_cut_cpp in module localgraphclustering.sweepCut:\n",
      "\n",
      "sweep_cut_cpp(self, p, g, do_sort=1, vol_user=0) unbound localgraphclustering.sweepCut.sweepCut method\n",
      "    DESCRIPTION\n",
      "    -----------\n",
      "    \n",
      "    Computes a cluster using sweep cut and conductance as a criterion. \n",
      "    It initializes variables g.best_cluster, g.best_conductance.\n",
      "    This method is a wrapper for the C++ rounding procedure. \n",
      "    \n",
      "    Call help(SweepCut.__init__) to get the documentation for the variables of this class. \n",
      "    \n",
      "    PARAMETERS \n",
      "    ----------\n",
      "    \n",
      "    p: numpy array\n",
      "       A vector that is used to perform rounding.\n",
      "    \n",
      "    g: graph object   \n",
      "    \n",
      "    do_sort: binary \n",
      "             default = 1 \n",
      "             If do_sort is equal to 1 then vector p is sorted in descending order first.\n",
      "             If do_sort is equal to 0 then vector p is not sorted.\n",
      "    \n",
      "    vol_user: float\n",
      "              Upper bound on volume for clusters added in variable volume_profile.\n",
      "              See documentation for variable volume_profile for details.\n",
      "\n"
     ]
    }
   ],
   "source": [
    "# Example on how to check documentation for a function in the sweepCut class.\n",
    "help(sweepCut.sweep_cut_cpp)"
   ]
  },
  {
   "cell_type": "code",
   "execution_count": 30,
   "metadata": {
    "collapsed": false,
    "deletable": true,
    "editable": true
   },
   "outputs": [
    {
     "data": {
      "text/plain": [
       "{'__doc__': None,\n",
       " '__init__': <function localgraphclustering.sweepCut.__init__>,\n",
       " '__module__': 'localgraphclustering.sweepCut',\n",
       " 'sweep_cut_cpp': <function localgraphclustering.sweepCut.sweep_cut_cpp>,\n",
       " 'sweep_general': <function localgraphclustering.sweepCut.sweep_general>,\n",
       " 'sweep_normalized': <function localgraphclustering.sweepCut.sweep_normalized>}"
      ]
     },
     "execution_count": 30,
     "metadata": {},
     "output_type": "execute_result"
    }
   ],
   "source": [
    "# To get the names of other functions from the sweepCut class run\n",
    "sweepCut.__dict__"
   ]
  },
  {
   "cell_type": "code",
   "execution_count": 31,
   "metadata": {
    "collapsed": false,
    "deletable": true,
    "editable": true
   },
   "outputs": [],
   "source": [
    "# Define graph object\n",
    "sweep_object = sweepCut()"
   ]
  },
  {
   "cell_type": "code",
   "execution_count": 32,
   "metadata": {
    "collapsed": false,
    "deletable": true,
    "editable": true
   },
   "outputs": [
    {
     "name": "stdout",
     "output_type": "stream",
     "text": [
      "('Time:', 2.6837730407714844)\n"
     ]
    }
   ],
   "source": [
    "# First example on using the Python version of SweepCut.\n",
    "start = time.time()\n",
    "\n",
    "sweep_object.sweep_normalized(lc.node_embedding_fista,g)\n",
    "\n",
    "end = time.time()\n",
    "print(\"Time:\", end - start)"
   ]
  },
  {
   "cell_type": "code",
   "execution_count": 33,
   "metadata": {
    "collapsed": false,
    "deletable": true,
    "editable": true
   },
   "outputs": [
    {
     "name": "stdout",
     "output_type": "stream",
     "text": [
      "('Time:', 0.042594194412231445)\n"
     ]
    }
   ],
   "source": [
    "# Second example on using the C++ version of SweepCut\n",
    "start = time.time()\n",
    "\n",
    "sweep_object.sweep_cut_cpp(lc.node_embedding_fista,g) \n",
    "\n",
    "end = time.time()\n",
    "print(\"Time:\", end - start)"
   ]
  },
  {
   "cell_type": "code",
   "execution_count": 34,
   "metadata": {
    "collapsed": false,
    "deletable": true,
    "editable": true
   },
   "outputs": [
    {
     "ename": "IndexError",
     "evalue": "invalid index to scalar variable.",
     "output_type": "error",
     "traceback": [
      "\u001b[0;31m---------------------------------------------------------------------------\u001b[0m",
      "\u001b[0;31mIndexError\u001b[0m                                Traceback (most recent call last)",
      "\u001b[0;32m<ipython-input-34-72f13ec2ee0f>\u001b[0m in \u001b[0;36m<module>\u001b[0;34m()\u001b[0m\n\u001b[1;32m      2\u001b[0m \u001b[0mstart\u001b[0m \u001b[0;34m=\u001b[0m \u001b[0mtime\u001b[0m\u001b[0;34m.\u001b[0m\u001b[0mtime\u001b[0m\u001b[0;34m(\u001b[0m\u001b[0;34m)\u001b[0m\u001b[0;34m\u001b[0m\u001b[0m\n\u001b[1;32m      3\u001b[0m \u001b[0;34m\u001b[0m\u001b[0m\n\u001b[0;32m----> 4\u001b[0;31m \u001b[0msweep_object\u001b[0m\u001b[0;34m.\u001b[0m\u001b[0msweep_general\u001b[0m\u001b[0;34m(\u001b[0m\u001b[0mlc\u001b[0m\u001b[0;34m.\u001b[0m\u001b[0mnode_embedding_fista\u001b[0m\u001b[0;34m,\u001b[0m\u001b[0mg\u001b[0m\u001b[0;34m)\u001b[0m\u001b[0;34m\u001b[0m\u001b[0m\n\u001b[0m\u001b[1;32m      5\u001b[0m \u001b[0;34m\u001b[0m\u001b[0m\n\u001b[1;32m      6\u001b[0m \u001b[0mend\u001b[0m \u001b[0;34m=\u001b[0m \u001b[0mtime\u001b[0m\u001b[0;34m.\u001b[0m\u001b[0mtime\u001b[0m\u001b[0;34m(\u001b[0m\u001b[0;34m)\u001b[0m\u001b[0;34m\u001b[0m\u001b[0m\n",
      "\u001b[0;32m/usr/local/lib/python2.7/site-packages/localgraphclustering/sweepCut.pyc\u001b[0m in \u001b[0;36msweep_general\u001b[0;34m(self, p, g, vol_user)\u001b[0m\n\u001b[1;32m    209\u001b[0m \u001b[0;34m\u001b[0m\u001b[0m\n\u001b[1;32m    210\u001b[0m             \u001b[0;32mif\u001b[0m \u001b[0mvol_user\u001b[0m \u001b[0;34m<\u001b[0m \u001b[0mvol_sum\u001b[0m \u001b[0;32mand\u001b[0m \u001b[0mvol_sum\u001b[0m \u001b[0;34m<\u001b[0m \u001b[0;36m2\u001b[0m\u001b[0;34m*\u001b[0m\u001b[0mg\u001b[0m\u001b[0;34m.\u001b[0m\u001b[0mvol_G\u001b[0m\u001b[0;34m/\u001b[0m\u001b[0;36m3\u001b[0m\u001b[0;34m:\u001b[0m\u001b[0;34m\u001b[0m\u001b[0m\n\u001b[0;32m--> 211\u001b[0;31m                 \u001b[0mself\u001b[0m\u001b[0;34m.\u001b[0m\u001b[0mvolume_profile\u001b[0m\u001b[0;34m[\u001b[0m\u001b[0;36m0\u001b[0m\u001b[0;34m]\u001b[0m\u001b[0;34m.\u001b[0m\u001b[0mappend\u001b[0m\u001b[0;34m(\u001b[0m\u001b[0mcond\u001b[0m\u001b[0;34m[\u001b[0m\u001b[0;36m0\u001b[0m\u001b[0;34m,\u001b[0m\u001b[0;36m0\u001b[0m\u001b[0;34m]\u001b[0m\u001b[0;34m)\u001b[0m\u001b[0;34m\u001b[0m\u001b[0m\n\u001b[0m\u001b[1;32m    212\u001b[0m                 \u001b[0mself\u001b[0m\u001b[0;34m.\u001b[0m\u001b[0mvolume_profile\u001b[0m\u001b[0;34m[\u001b[0m\u001b[0;36m1\u001b[0m\u001b[0;34m]\u001b[0m\u001b[0;34m.\u001b[0m\u001b[0mappend\u001b[0m\u001b[0;34m(\u001b[0m\u001b[0mcurrent_support\u001b[0m\u001b[0;34m)\u001b[0m\u001b[0;34m\u001b[0m\u001b[0m\n\u001b[1;32m    213\u001b[0m \u001b[0;34m\u001b[0m\u001b[0m\n",
      "\u001b[0;31mIndexError\u001b[0m: invalid index to scalar variable."
     ]
    }
   ],
   "source": [
    "# Third example another Python rounding procedure from SweepCut.\n",
    "start = time.time()\n",
    "\n",
    "sweep_object.sweep_general(lc.node_embedding_fista,g)\n",
    "\n",
    "end = time.time()\n",
    "print(\"Time:\", end - start)"
   ]
  },
  {
   "cell_type": "markdown",
   "metadata": {
    "collapsed": true,
    "deletable": true,
    "editable": true
   },
   "source": [
    "# How to use global clustering method"
   ]
  },
  {
   "cell_type": "code",
   "execution_count": null,
   "metadata": {
    "collapsed": false,
    "deletable": true,
    "editable": true
   },
   "outputs": [],
   "source": [
    "node_embedding, best_cluster, best_conductance, sweep_profile = eig2_nL(g, tol_eigs = 1.0e-6)"
   ]
  },
  {
   "cell_type": "code",
   "execution_count": null,
   "metadata": {
    "collapsed": false,
    "deletable": true,
    "editable": true
   },
   "outputs": [],
   "source": []
  },
  {
   "cell_type": "code",
   "execution_count": null,
   "metadata": {
    "collapsed": false,
    "deletable": true,
    "editable": true
   },
   "outputs": [],
   "source": []
  },
  {
   "cell_type": "code",
   "execution_count": null,
   "metadata": {
    "collapsed": false,
    "deletable": true,
    "editable": true
   },
   "outputs": [],
   "source": []
  },
  {
   "cell_type": "code",
   "execution_count": null,
   "metadata": {
    "collapsed": false,
    "deletable": true,
    "editable": true
   },
   "outputs": [],
   "source": []
  },
  {
   "cell_type": "code",
   "execution_count": null,
   "metadata": {
    "collapsed": false,
    "deletable": true,
    "editable": true
   },
   "outputs": [],
   "source": []
  },
  {
   "cell_type": "code",
   "execution_count": null,
   "metadata": {
    "collapsed": false,
    "deletable": true,
    "editable": true
   },
   "outputs": [],
   "source": []
  },
  {
   "cell_type": "code",
   "execution_count": null,
   "metadata": {
    "collapsed": false,
    "deletable": true,
    "editable": true
   },
   "outputs": [],
   "source": []
  },
  {
   "cell_type": "code",
   "execution_count": null,
   "metadata": {
    "collapsed": true,
    "deletable": true,
    "editable": true
   },
   "outputs": [],
   "source": []
  }
 ],
 "metadata": {
  "kernelspec": {
   "display_name": "Python 2",
   "language": "python",
   "name": "python2"
  },
  "language_info": {
   "codemirror_mode": {
    "name": "ipython",
    "version": 2
   },
   "file_extension": ".py",
   "mimetype": "text/x-python",
   "name": "python",
   "nbconvert_exporter": "python",
   "pygments_lexer": "ipython2",
   "version": "2.7.13"
  }
 },
 "nbformat": 4,
 "nbformat_minor": 0
}
