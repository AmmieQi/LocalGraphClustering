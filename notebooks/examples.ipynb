{
 "cells": [
  {
   "cell_type": "code",
   "execution_count": 1,
   "metadata": {
    "collapsed": false
   },
   "outputs": [],
   "source": [
    "import localgraphclustering as lgc\n",
    "\n",
    "import time\n",
    "import numpy as np"
   ]
  },
  {
   "cell_type": "markdown",
   "metadata": {},
   "source": [
    "# Load graph"
   ]
  },
  {
   "cell_type": "code",
   "execution_count": 2,
   "metadata": {
    "collapsed": false
   },
   "outputs": [
    {
     "name": "stderr",
     "output_type": "stream",
     "text": [
      "/Users/mengliu/Library/Python/3.6/lib/python/site-packages/localgraphclustering/graph_class_local.py:174: UserWarning: Loading a graphml is not efficient, we suggest using an edgelist format for this API.\n",
      "  warnings.warn(\"Loading a graphml is not efficient, we suggest using an edgelist format for this API.\")\n"
     ]
    }
   ],
   "source": [
    "# Read graph. This also supports gml format.\n",
    "g = lgc.graph_class_local('datasets/JohnsHopkins.graphml','graphml')\n",
    "\n",
    "# To get a quick look at the list of methods and attributes for the graph object 'g' you can type 'g.' + tab\n",
    "# and scroll up or down."
   ]
  },
  {
   "cell_type": "markdown",
   "metadata": {},
   "source": [
    "# Nodes embedding via fiedler vector"
   ]
  },
  {
   "cell_type": "code",
   "execution_count": 3,
   "metadata": {
    "collapsed": false
   },
   "outputs": [
    {
     "name": "stdout",
     "output_type": "stream",
     "text": [
      "[-0.00409879  0.02398684 -0.0072242  ... -0.00709655 -0.00057053\n",
      " -0.00553227]\n"
     ]
    }
   ],
   "source": [
    "# Call the global spectral partitioning algorithm.\n",
    "output_sp = lgc.fiedler(g)\n",
    "print(output_sp)"
   ]
  },
  {
   "cell_type": "markdown",
   "metadata": {},
   "source": [
    "# Nodes embedding via PageRank vector"
   ]
  },
  {
   "cell_type": "code",
   "execution_count": 4,
   "metadata": {
    "collapsed": false
   },
   "outputs": [
    {
     "name": "stdout",
     "output_type": "stream",
     "text": [
      "Uses the Andersen Chung and Lang (ACL) Algorithm.\n",
      "[1.09052229e-04 2.55015005e-03 4.59018251e-05 ... 0.00000000e+00\n",
      " 2.15758562e-05 0.00000000e+00]\n",
      "Uses the Andersen Chung and Lang (ACL) Algorithm.\n",
      "[1.09052229e-04 2.55015005e-03 4.59018251e-05 ... 0.00000000e+00\n",
      " 2.15758562e-05 0.00000000e+00]\n",
      "Uses the Fast Iterative Soft Thresholding Algorithm (FISTA).\n",
      "[7.97847291e-05 2.53833203e-03 1.80634411e-05 ... 0.00000000e+00\n",
      " 1.62294161e-05 0.00000000e+00]\n",
      "Uses the Fast Iterative Soft Thresholding Algorithm (FISTA).\n",
      "[7.97847291e-05 2.53833203e-03 1.80634411e-05 ... 0.00000000e+00\n",
      " 1.62294161e-05 0.00000000e+00]\n",
      "Uses the weighted Andersen Chung and Lang (ACL) Algorithm.\n",
      "[0.        0.0018108 0.        ... 0.        0.        0.       ]\n"
     ]
    }
   ],
   "source": [
    "ref_node = [3215]\n",
    "# L1-regularized PageRank solver.\n",
    "output_acl = lgc.approximate_PageRank(g,ref_node)\n",
    "print(output_acl)\n",
    "output_acl = lgc.approximate_PageRank(g,ref_node,cpp = False)\n",
    "print(output_acl)\n",
    "output_l1reg = lgc.approximate_PageRank(g,ref_node,method = \"l1reg\")\n",
    "print(output_l1reg)\n",
    "output_l1reg = lgc.approximate_PageRank(g,ref_node,method = \"l1reg\",cpp = False)\n",
    "print(output_l1reg)\n",
    "output_weighted = lgc.approximate_PageRank_weighted(g,ref_node)\n",
    "print(output_weighted) "
   ]
  },
  {
   "cell_type": "markdown",
   "metadata": {},
   "source": [
    "# Rounding algorithms"
   ]
  },
  {
   "cell_type": "code",
   "execution_count": null,
   "metadata": {
    "collapsed": false
   },
   "outputs": [],
   "source": [
    "output_sc = lgc.sweep_cut(g,output_acl,normalized=False)\n",
    "print(output_sc)\n",
    "output_sc = lgc.sweep_cut(g,output_l1reg,cpp=False)\n",
    "print(output_sc)\n",
    "output_sc = lgc.sweep_cut(g,output_l1reg)\n",
    "print(output_sc)\n",
    "output_sc = lgc.sweep_cut(g,output_l1reg,normalized=False)\n",
    "print(output_sc)"
   ]
  },
  {
   "cell_type": "markdown",
   "metadata": {},
   "source": [
    "# Spectral local graph partitioning methods"
   ]
  },
  {
   "cell_type": "code",
   "execution_count": null,
   "metadata": {
    "collapsed": false
   },
   "outputs": [],
   "source": [
    "ref_node = [3215]\n",
    "\n",
    "# Find a cluster using approximate PageRank.\n",
    "output_pr_clustering = lgc.spectral_clustering(g,ref_node,method=\"acl\",iterations=100000)\n",
    "print(output_pr_clustering)\n",
    "output_pr_clustering = lgc.spectral_clustering(g,ref_node,method=\"l1reg\")\n",
    "print(output_pr_clustering)"
   ]
  },
  {
   "cell_type": "markdown",
   "metadata": {
    "collapsed": false
   },
   "source": [
    "# Flow-based local graph partitioning methods"
   ]
  },
  {
   "cell_type": "code",
   "execution_count": null,
   "metadata": {
    "collapsed": false
   },
   "outputs": [],
   "source": [
    "ref_node = [3215]\n",
    "output_crd = lgc.flow_clustering(g,ref_node,method=\"crd\")\n",
    "print(output_crd)"
   ]
  },
  {
   "cell_type": "code",
   "execution_count": null,
   "metadata": {
    "collapsed": false
   },
   "outputs": [],
   "source": [
    "G = lgc.graph_class_local('datasets/minnesota.edgelist','edgelist',remove_whitespace=True)\n",
    "ref_node = [0,1,2,3,4,5,6,7,8,9,10,11,12,13,14,15,16,17,18,19,20,21,22,23,24,25,26,27,28,29,30,31,32,33,34,35,36,37,38,39,40,41,42,43,44,45,46,47,48,49,50,51,52,53,54,55,56,57,58,59,60,61,62,63,64,65,66,67,68,69,70,71,73,74,75,76,77,78,79,80,81,82,83,84,85,87,88,89,90,91,92,93,94,95,97,98,99,100,102,103,104,105,106,108,112,114,118,119,120,121,122,123,124,125,126,127,128,129,130,131,132,133,134,135,136,137,139,140,141,142,143,144,145,147,148,149,150,151,152,155,157,158,159,160,161,162,164,165,166,168,169,171,172,173,176,177,178,179,180,185,187,188,191,192,195,196,197,201,208,209,210,211,212,215,217,218,219,221,223,225,226,227,228,231,232,244,245,246,247,248,249,253,254,257,261,262,265,269,270,271,272,273,275,276,277,278,279,285,286,287,290,291,299,303,323,327]\n",
    "output_mqi = lgc.flow_clustering(G,ref_node,method=\"mqi\")\n",
    "print(output_mqi)\n",
    "output_sl = lgc.flow_clustering(G,ref_node,method=\"sl\")\n",
    "print(output_sl)"
   ]
  },
  {
   "cell_type": "markdown",
   "metadata": {},
   "source": [
    "# Example for multiclass label prediction"
   ]
  },
  {
   "cell_type": "code",
   "execution_count": null,
   "metadata": {
    "collapsed": false
   },
   "outputs": [],
   "source": [
    "g = lgc.graph_class_local('datasets/JohnsHopkins.graphml','graphml')\n",
    "\n",
    "# List of nodes around which we want to find labels\n",
    "labels = [[1,10,300],[3215],[1002,2500,540]]\n",
    "\n",
    "output_mc=lgc.multiclass_label_prediction(g,labels=labels)"
   ]
  },
  {
   "cell_type": "code",
   "execution_count": null,
   "metadata": {
    "collapsed": false
   },
   "outputs": [],
   "source": [
    "print(output_mc)"
   ]
  },
  {
   "cell_type": "markdown",
   "metadata": {},
   "source": [
    "# Densest subgraph "
   ]
  },
  {
   "cell_type": "code",
   "execution_count": null,
   "metadata": {
    "collapsed": false
   },
   "outputs": [],
   "source": [
    "#How to use densest subgraph method.\n",
    "g = lgc.graph_class_local('datasets/Erdos02-cc.edgelist','edgelist',' ')\n",
    "lgc.densest_subgraph(g)"
   ]
  },
  {
   "cell_type": "markdown",
   "metadata": {},
   "source": [
    "# Network Community Profile"
   ]
  },
  {
   "cell_type": "code",
   "execution_count": null,
   "metadata": {
    "collapsed": false
   },
   "outputs": [],
   "source": [
    "G = lgc.graph_class_local(\"datasets/neuro-fmri-01.edges\",\"edgelist\", \" \")\n",
    "ncp_instance = lgc.NCPData(G)"
   ]
  },
  {
   "cell_type": "markdown",
   "metadata": {},
   "source": [
    "## NCP with CRD"
   ]
  },
  {
   "cell_type": "code",
   "execution_count": null,
   "metadata": {
    "collapsed": false
   },
   "outputs": [],
   "source": [
    "df = ncp_instance.crd(ratio=0.5,w=10,U=10,h=1000)\n",
    "ncp_plots = lgc.NCPPlots(df)\n",
    "#plot conductance vs size\n",
    "ncp_plots.cond_by_size()\n",
    "#plot conductance vs volume\n",
    "ncp_plots.cond_by_vol()\n",
    "#plot isoperimetry vs size\n",
    "ncp_plots.isop_by_size()"
   ]
  },
  {
   "cell_type": "markdown",
   "metadata": {},
   "source": [
    "## NCP with MQI"
   ]
  },
  {
   "cell_type": "code",
   "execution_count": null,
   "metadata": {
    "collapsed": false
   },
   "outputs": [],
   "source": [
    "df = ncp_instance.mqi(ratio=0.5)\n",
    "ncp_plots = lgc.NCPPlots(df)\n",
    "#plot conductance vs size\n",
    "ncp_plots.cond_by_size()\n",
    "#plot conductance vs volume\n",
    "ncp_plots.cond_by_vol()\n",
    "#plot isoperimetry vs size\n",
    "ncp_plots.isop_by_size()"
   ]
  },
  {
   "cell_type": "markdown",
   "metadata": {},
   "source": [
    "## NCP with l1reg"
   ]
  },
  {
   "cell_type": "code",
   "execution_count": null,
   "metadata": {
    "collapsed": false
   },
   "outputs": [],
   "source": [
    "df = ncp_instance.l1reg(ratio=0.5)\n",
    "ncp_plots = lgc.NCPPlots(df)\n",
    "#plot conductance vs size\n",
    "ncp_plots.cond_by_size()\n",
    "#plot conductance vs volume\n",
    "ncp_plots.cond_by_vol()\n",
    "#plot isoperimetry vs size\n",
    "ncp_plots.isop_by_size()"
   ]
  },
  {
   "cell_type": "code",
   "execution_count": null,
   "metadata": {
    "collapsed": true
   },
   "outputs": [],
   "source": []
  }
 ],
 "metadata": {
  "kernelspec": {
   "display_name": "Python 3",
   "language": "python",
   "name": "python3"
  },
  "language_info": {
   "codemirror_mode": {
    "name": "ipython",
    "version": 3
   },
   "file_extension": ".py",
   "mimetype": "text/x-python",
   "name": "python",
   "nbconvert_exporter": "python",
   "pygments_lexer": "ipython3",
   "version": "3.6.4"
  }
 },
 "nbformat": 4,
 "nbformat_minor": 2
}
