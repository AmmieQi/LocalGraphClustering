{
 "cells": [
  {
   "cell_type": "code",
   "execution_count": 1,
   "metadata": {},
   "outputs": [],
   "source": [
    "import scipy as sp\n",
    "import numpy as np\n",
    "import time\n",
    "\n",
    "try:\n",
    "    from localgraphclustering import *\n",
    "except:\n",
    "    # when the package is not installed, import the local version instead. \n",
    "    # the notebook must be placed in the original \"notebooks/\" folder\n",
    "    sys.path.append(\"../\")\n",
    "    from localgraphclustering import * \n",
    "\n",
    "import time"
   ]
  },
  {
   "cell_type": "markdown",
   "metadata": {},
   "source": [
    "## Load data"
   ]
  },
  {
   "cell_type": "code",
   "execution_count": 2,
   "metadata": {},
   "outputs": [],
   "source": [
    "g = GraphLocal('./datasets/BlogCatalog-dataset/data/edges2.txt','edgelist',' ')\n",
    "\n",
    "# import scipy as sp\n",
    "\n",
    "# I = sp.sparse.csr_matrix(0.005*np.ones((n,n)))\n",
    "\n",
    "# g.adjacency_matrix = g.adjacency_matrix + I"
   ]
  },
  {
   "cell_type": "markdown",
   "metadata": {},
   "source": [
    "## Example on how to find all clusters in graph using local graph clustering"
   ]
  },
  {
   "cell_type": "code",
   "execution_count": 126,
   "metadata": {},
   "outputs": [
    {
     "name": "stdout",
     "output_type": "stream",
     "text": [
      "48.19090414047241\n"
     ]
    }
   ],
   "source": [
    "from sklearn.metrics import pairwise_distances\n",
    "\n",
    "start = time.time()\n",
    "# Compute the embeddings X and the pairwise distance matrix Z.\n",
    "embeddings = compute_all_embeddings(g,rho_list=[1.0e-5,1.0e-1],alpha_list=[1.0e-1,2.0e-1],nsamples_from_rho=1,nsamples_from_alpha=1,njobs=6,normalized_objective=False,normalize=False)\n",
    "# Z = pairwise_distances(X, metric='l2', n_jobs=1)\n",
    "end = time.time()\n",
    "print(end - start)"
   ]
  },
  {
   "cell_type": "code",
   "execution_count": 128,
   "metadata": {},
   "outputs": [],
   "source": [
    "embeddings_local = normalize_embeddings(g,embeddings, norm_type = 2)\n",
    "# start = time.time()\n",
    "# # Find the clusters\n",
    "# labels = compute_clusters_given_distance(nclusters=39,Z=Z)\n",
    "# end = time.time()\n",
    "# print(end - start)"
   ]
  },
  {
   "cell_type": "code",
   "execution_count": 135,
   "metadata": {},
   "outputs": [],
   "source": [
    "from scipy.sparse.linalg import svds\n",
    "u, s, vt = svds(embeddings_local, 200, which = 'LM')"
   ]
  },
  {
   "cell_type": "code",
   "execution_count": 136,
   "metadata": {},
   "outputs": [],
   "source": [
    "groups = np.loadtxt('./datasets/BlogCatalog-dataset/data/group-edges.txt', dtype = 'int',delimiter=',') - 1\n",
    "\n",
    "Y = np.zeros((g._num_vertices,39))\n",
    "\n",
    "for data in groups:\n",
    "    idx1 = data[0]\n",
    "    idx2 = data[1]\n",
    "    Y[idx1,idx2] = 1"
   ]
  },
  {
   "cell_type": "code",
   "execution_count": null,
   "metadata": {},
   "outputs": [],
   "source": []
  },
  {
   "cell_type": "code",
   "execution_count": 137,
   "metadata": {},
   "outputs": [],
   "source": [
    "# edgelist = np.loadtxt('./datasets/BlogCatalog-dataset/data/edges.txt', dtype = 'int',delimiter=',') - 1\n",
    "# np.savetxt(\"./datasets/BlogCatalog-dataset/data/edges2.txt\", edgelist, newline=\"\\n\", fmt='%d')"
   ]
  },
  {
   "cell_type": "code",
   "execution_count": 141,
   "metadata": {},
   "outputs": [],
   "source": [
    "X_train = u[0:int(g._num_vertices/8)]\n",
    "X_test  = u[int(g._num_vertices/8):]\n",
    "Y_train = Y[0:int(g._num_vertices/8)]\n",
    "Y_test  = Y[int(g._num_vertices/8):]"
   ]
  },
  {
   "cell_type": "code",
   "execution_count": 143,
   "metadata": {},
   "outputs": [
    {
     "name": "stdout",
     "output_type": "stream",
     "text": [
      "Automatically created module for IPython interactive environment\n"
     ]
    },
    {
     "name": "stderr",
     "output_type": "stream",
     "text": [
      "/usr/local/lib/python3.7/site-packages/sklearn/multiclass.py:76: UserWarning:\n",
      "\n",
      "Label not 37 is present in all training examples.\n",
      "\n"
     ]
    }
   ],
   "source": [
    "    print(__doc__)\n",
    "\n",
    "    import numpy as np\n",
    "    import matplotlib.pyplot as plt\n",
    "\n",
    "    from sklearn.datasets import make_multilabel_classification\n",
    "    from sklearn.multiclass import OneVsRestClassifier\n",
    "    from sklearn.svm import SVC\n",
    "    from sklearn.decomposition import PCA\n",
    "    from sklearn.cross_decomposition import CCA\n",
    "    from sklearn.metrics import accuracy_score\n",
    "\n",
    "#     classif = OneVsRestClassifier(SVC(kernel='linear'))\n",
    "#     classif.fit(X, Y)\n",
    "    \n",
    "    labels = OneVsRestClassifier(SVC(kernel='linear',C=10000,gamma='auto',shrinking=True,tol=1.0e-3,decision_function_shape='ovr',probability=False)).fit(X_train, Y_train).predict(X_test) \n",
    "    \n",
    "    "
   ]
  },
  {
   "cell_type": "code",
   "execution_count": 144,
   "metadata": {},
   "outputs": [
    {
     "name": "stderr",
     "output_type": "stream",
     "text": [
      "/usr/local/lib/python3.7/site-packages/sklearn/metrics/classification.py:1145: UndefinedMetricWarning:\n",
      "\n",
      "F-score is ill-defined and being set to 0.0 in labels with no true samples.\n",
      "\n"
     ]
    },
    {
     "data": {
      "text/plain": [
       "0.12416113295852664"
      ]
     },
     "execution_count": 144,
     "metadata": {},
     "output_type": "execute_result"
    }
   ],
   "source": [
    "from sklearn.metrics import accuracy_score, f1_score, precision_score, recall_score, classification_report, confusion_matrix\n",
    "\n",
    "f1_score(labels, Y_test, average=\"macro\")"
   ]
  },
  {
   "cell_type": "code",
   "execution_count": null,
   "metadata": {},
   "outputs": [],
   "source": []
  },
  {
   "cell_type": "code",
   "execution_count": null,
   "metadata": {},
   "outputs": [],
   "source": []
  },
  {
   "cell_type": "code",
   "execution_count": 28,
   "metadata": {},
   "outputs": [],
   "source": [
    "# n = g._num_vertices\n",
    "# from sklearn.cluster import spectral_clustering as spclustering\n",
    "# start = time.time()\n",
    "# labels_spclustering = list(spclustering(g.adjacency_matrix.toarray() + 0.0005*np.ones((n,n)) , n_clusters=39, eigen_solver='arpack'))\n",
    "# end = time.time()\n",
    "# print(end - start)\n",
    "# # for data in groups:\n",
    "# #     idx1 = data[0]\n",
    "# #     idx2 = data[1]\n",
    "# #     group_member[idx1,idx2] = 1\n",
    "# labels_spclustering = np.array(labels_spclustering, dtype=int)\n",
    "\n",
    "# # groups_global = np.zeros((g._num_vertices,40))\n",
    "# # for i in range(g._num_vertices):\n",
    "# #     groups_global[i,labels_spclustering[i]] = 1"
   ]
  },
  {
   "cell_type": "code",
   "execution_count": null,
   "metadata": {},
   "outputs": [],
   "source": []
  },
  {
   "cell_type": "code",
   "execution_count": null,
   "metadata": {},
   "outputs": [],
   "source": []
  },
  {
   "cell_type": "code",
   "execution_count": null,
   "metadata": {},
   "outputs": [],
   "source": []
  },
  {
   "cell_type": "code",
   "execution_count": null,
   "metadata": {},
   "outputs": [],
   "source": []
  },
  {
   "cell_type": "markdown",
   "metadata": {},
   "source": [
    "## Global spectral"
   ]
  },
  {
   "cell_type": "code",
   "execution_count": 57,
   "metadata": {},
   "outputs": [],
   "source": [
    "from sklearn.manifold import spectral_embedding as spembedding\n",
    "n = g._num_vertices\n",
    "embeddings_global = spembedding(g.adjacency_matrix, n_components=2, eigen_solver='arpack', norm_laplacian=True, drop_first=True)"
   ]
  },
  {
   "cell_type": "code",
   "execution_count": 58,
   "metadata": {},
   "outputs": [
    {
     "data": {
      "text/plain": [
       "(10312, 2)"
      ]
     },
     "execution_count": 58,
     "metadata": {},
     "output_type": "execute_result"
    }
   ],
   "source": [
    "embeddings_global.shape"
   ]
  },
  {
   "cell_type": "code",
   "execution_count": null,
   "metadata": {},
   "outputs": [],
   "source": []
  },
  {
   "cell_type": "code",
   "execution_count": 59,
   "metadata": {},
   "outputs": [],
   "source": [
    "groups = np.loadtxt('./datasets/BlogCatalog-dataset/data/group-edges.txt', dtype = 'int',delimiter=',') - 1\n",
    "\n",
    "Y = np.zeros((g._num_vertices,39))\n",
    "\n",
    "for data in groups:\n",
    "    idx1 = data[0]\n",
    "    idx2 = data[1]\n",
    "    Y[idx1,idx2] = 1"
   ]
  },
  {
   "cell_type": "code",
   "execution_count": null,
   "metadata": {},
   "outputs": [],
   "source": []
  },
  {
   "cell_type": "code",
   "execution_count": null,
   "metadata": {},
   "outputs": [],
   "source": []
  },
  {
   "cell_type": "code",
   "execution_count": null,
   "metadata": {},
   "outputs": [],
   "source": []
  },
  {
   "cell_type": "code",
   "execution_count": null,
   "metadata": {},
   "outputs": [],
   "source": []
  },
  {
   "cell_type": "code",
   "execution_count": null,
   "metadata": {},
   "outputs": [],
   "source": []
  },
  {
   "cell_type": "code",
   "execution_count": 60,
   "metadata": {},
   "outputs": [],
   "source": [
    "X_train = embeddings_global[0:int(g._num_vertices/8)]\n",
    "X_test  = embeddings_global[int(g._num_vertices/8):]\n",
    "Y_train = Y[0:int(g._num_vertices/8)]\n",
    "Y_test  = Y[int(g._num_vertices/8):]"
   ]
  },
  {
   "cell_type": "code",
   "execution_count": 61,
   "metadata": {},
   "outputs": [
    {
     "name": "stdout",
     "output_type": "stream",
     "text": [
      "Automatically created module for IPython interactive environment\n"
     ]
    },
    {
     "name": "stderr",
     "output_type": "stream",
     "text": [
      "/usr/local/lib/python3.7/site-packages/sklearn/multiclass.py:76: UserWarning:\n",
      "\n",
      "Label not 37 is present in all training examples.\n",
      "\n"
     ]
    }
   ],
   "source": [
    "    print(__doc__)\n",
    "\n",
    "    import numpy as np\n",
    "    import matplotlib.pyplot as plt\n",
    "\n",
    "    from sklearn.datasets import make_multilabel_classification\n",
    "    from sklearn.multiclass import OneVsRestClassifier\n",
    "    from sklearn.svm import SVC\n",
    "    from sklearn.decomposition import PCA\n",
    "    from sklearn.cross_decomposition import CCA\n",
    "    from sklearn.metrics import accuracy_score\n",
    "\n",
    "#     classif = OneVsRestClassifier(SVC(kernel='linear'))\n",
    "#     classif.fit(X, Y)\n",
    "    \n",
    "    labels = OneVsRestClassifier(SVC(kernel='linear',C=10,gamma='auto',shrinking=False,tol=1.0e-3)).fit(X_train, Y_train).predict(X_test) \n",
    "    \n",
    "    "
   ]
  },
  {
   "cell_type": "code",
   "execution_count": null,
   "metadata": {},
   "outputs": [],
   "source": []
  },
  {
   "cell_type": "code",
   "execution_count": null,
   "metadata": {},
   "outputs": [],
   "source": []
  },
  {
   "cell_type": "code",
   "execution_count": 62,
   "metadata": {},
   "outputs": [
    {
     "name": "stderr",
     "output_type": "stream",
     "text": [
      "/usr/local/lib/python3.7/site-packages/sklearn/metrics/classification.py:1145: UndefinedMetricWarning:\n",
      "\n",
      "F-score is ill-defined and being set to 0.0 in labels with no true samples.\n",
      "\n"
     ]
    },
    {
     "data": {
      "text/plain": [
       "0.0"
      ]
     },
     "execution_count": 62,
     "metadata": {},
     "output_type": "execute_result"
    }
   ],
   "source": [
    "from sklearn.metrics import accuracy_score, f1_score, precision_score, recall_score, classification_report, confusion_matrix\n",
    "\n",
    "f1_score(labels, Y_test, average=\"macro\")"
   ]
  },
  {
   "cell_type": "markdown",
   "metadata": {},
   "source": [
    "## Node2vec"
   ]
  },
  {
   "cell_type": "code",
   "execution_count": 27,
   "metadata": {},
   "outputs": [],
   "source": [
    "node2vec = np.loadtxt('/Users/kimonfountoulakis/Downloads/snap-master/examples/node2vec/emb/blog.emb', dtype = 'float',delimiter=' ')"
   ]
  },
  {
   "cell_type": "code",
   "execution_count": 28,
   "metadata": {},
   "outputs": [],
   "source": [
    "groups = np.loadtxt('./datasets/BlogCatalog-dataset/data/group-edges.txt', dtype = 'int',delimiter=',') - 1\n",
    "\n",
    "Y = np.zeros((g._num_vertices,39))\n",
    "\n",
    "for data in groups:\n",
    "    idx1 = data[0]\n",
    "    idx2 = data[1]\n",
    "    Y[idx1,idx2] = 1\n",
    "        \n",
    "sorted_idx = np.argsort(node2vec[:,0])\n",
    "node2vec_emb = node2vec[sorted_idx,:][:, 1: ]\n",
    "    \n",
    "X_train = node2vec_emb[0:int(g._num_vertices/8)]\n",
    "X_test  = node2vec_emb[int(g._num_vertices/8):]\n",
    "Y_train = Y[0:int(g._num_vertices/8)]\n",
    "Y_test  = Y[int(g._num_vertices/8):]"
   ]
  },
  {
   "cell_type": "code",
   "execution_count": 29,
   "metadata": {},
   "outputs": [
    {
     "name": "stdout",
     "output_type": "stream",
     "text": [
      "Automatically created module for IPython interactive environment\n"
     ]
    },
    {
     "name": "stderr",
     "output_type": "stream",
     "text": [
      "/usr/local/lib/python3.7/site-packages/sklearn/multiclass.py:76: UserWarning:\n",
      "\n",
      "Label not 37 is present in all training examples.\n",
      "\n"
     ]
    }
   ],
   "source": [
    "    print(__doc__)\n",
    "\n",
    "    import numpy as np\n",
    "    import matplotlib.pyplot as plt\n",
    "\n",
    "    from sklearn.datasets import make_multilabel_classification\n",
    "    from sklearn.multiclass import OneVsRestClassifier\n",
    "    from sklearn.svm import SVC\n",
    "    from sklearn.decomposition import PCA\n",
    "    from sklearn.cross_decomposition import CCA\n",
    "    from sklearn.metrics import accuracy_score\n",
    "\n",
    "#     classif = OneVsRestClassifier(SVC(kernel='linear'))\n",
    "#     classif.fit(X, Y)\n",
    "        \n",
    "    labels = OneVsRestClassifier(SVC(kernel='linear',C=10,gamma='auto',shrinking=False,tol=1.0e-3)).fit(X_train, Y_train).predict(X_test) \n",
    "    \n",
    "    "
   ]
  },
  {
   "cell_type": "code",
   "execution_count": null,
   "metadata": {},
   "outputs": [],
   "source": []
  },
  {
   "cell_type": "code",
   "execution_count": 30,
   "metadata": {},
   "outputs": [
    {
     "name": "stderr",
     "output_type": "stream",
     "text": [
      "/usr/local/lib/python3.7/site-packages/sklearn/metrics/classification.py:1145: UndefinedMetricWarning:\n",
      "\n",
      "F-score is ill-defined and being set to 0.0 in labels with no true samples.\n",
      "\n"
     ]
    },
    {
     "data": {
      "text/plain": [
       "0.15814244984588974"
      ]
     },
     "execution_count": 30,
     "metadata": {},
     "output_type": "execute_result"
    }
   ],
   "source": [
    "from sklearn.metrics import accuracy_score, f1_score, precision_score, recall_score, classification_report, confusion_matrix\n",
    "\n",
    "f1_score(labels, Y_test, average=\"macro\")"
   ]
  },
  {
   "cell_type": "code",
   "execution_count": null,
   "metadata": {},
   "outputs": [],
   "source": []
  },
  {
   "cell_type": "code",
   "execution_count": null,
   "metadata": {},
   "outputs": [],
   "source": []
  },
  {
   "cell_type": "code",
   "execution_count": null,
   "metadata": {},
   "outputs": [],
   "source": []
  },
  {
   "cell_type": "code",
   "execution_count": null,
   "metadata": {},
   "outputs": [],
   "source": []
  },
  {
   "cell_type": "code",
   "execution_count": null,
   "metadata": {},
   "outputs": [],
   "source": []
  },
  {
   "cell_type": "code",
   "execution_count": null,
   "metadata": {},
   "outputs": [],
   "source": []
  },
  {
   "cell_type": "code",
   "execution_count": null,
   "metadata": {},
   "outputs": [],
   "source": []
  },
  {
   "cell_type": "code",
   "execution_count": null,
   "metadata": {},
   "outputs": [],
   "source": []
  },
  {
   "cell_type": "code",
   "execution_count": null,
   "metadata": {},
   "outputs": [],
   "source": []
  },
  {
   "cell_type": "code",
   "execution_count": null,
   "metadata": {},
   "outputs": [],
   "source": []
  }
 ],
 "metadata": {
  "kernelspec": {
   "display_name": "Python 3",
   "language": "python",
   "name": "python3"
  },
  "language_info": {
   "codemirror_mode": {
    "name": "ipython",
    "version": 3
   },
   "file_extension": ".py",
   "mimetype": "text/x-python",
   "name": "python",
   "nbconvert_exporter": "python",
   "pygments_lexer": "ipython3",
   "version": "3.7.3"
  }
 },
 "nbformat": 4,
 "nbformat_minor": 2
}
