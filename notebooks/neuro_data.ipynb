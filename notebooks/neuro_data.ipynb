{
 "cells": [
  {
   "cell_type": "code",
   "execution_count": 4,
   "metadata": {},
   "outputs": [],
   "source": [
    "import matplotlib.pyplot as plt\n",
    "import scipy as sp\n",
    "import numpy as np\n",
    "import time\n",
    "import networkx as nx\n",
    "\n",
    "try:\n",
    "    from localgraphclustering import *\n",
    "except:\n",
    "    # when the package is not installed, import the local version instead. \n",
    "    # the notebook must be placed in the original \"notebooks/\" folder\n",
    "    sys.path.append(\"../\")\n",
    "    from localgraphclustering import *\n",
    "\n",
    "import warnings\n",
    "warnings.filterwarnings('ignore')\n",
    "\n",
    "from os import listdir\n",
    "from os.path import isfile, join\n",
    "mypath_sz = '/Users/kimonfountoulakis/Downloads/sz/'\n",
    "mypath_hc = '/Users/kimonfountoulakis/Downloads/hc/'\n",
    "\n",
    "onlyfiles_sz = [f for f in listdir(mypath_sz) if isfile(join(mypath_sz, f))]\n",
    "onlyfiles_hc = [f for f in listdir(mypath_hc) if isfile(join(mypath_hc, f))]"
   ]
  },
  {
   "cell_type": "markdown",
   "metadata": {},
   "source": [
    "## Generate plots for Sz "
   ]
  },
  {
   "cell_type": "code",
   "execution_count": null,
   "metadata": {
    "scrolled": false
   },
   "outputs": [],
   "source": [
    "for data in onlyfiles_sz:\n",
    "\n",
    "    full_path = mypath_sz + data\n",
    "\n",
    "    A_mp = np.loadtxt(open(full_path, \"rb\"), delimiter=\",\", skiprows=0)\n",
    "    A_mp_copy1 = A_mp.copy()\n",
    "    A_mp_copy2 = A_mp.copy()\n",
    "\n",
    "    A_mp_copy1[A_mp_copy1 < 0] = 0\n",
    "    A_mp = sp.sparse.csr_matrix(A_mp_copy1)\n",
    "    \n",
    "    g = GraphLocal()\n",
    "    g.from_sparse_adjacency(A_mp)\n",
    "    \n",
    "    g.is_disconnected()\n",
    "    \n",
    "    # Use networkx only for visualization\n",
    "    g_nx = nx.from_scipy_sparse_matrix(A_mp)\n",
    "    pos_nx = nx.spring_layout(g_nx)\n",
    "    pos = []\n",
    "    \n",
    "    for key, value in pos_nx.items():\n",
    "        pos.append(value)\n",
    "\n",
    "    ncp_instance = NCPData(g,store_output_clusters=False,do_largest_component=True)\n",
    "    ncp_instance.approxPageRank(ratio=1,nthreads=6,method = \"l1reg-rand\",normalize=True,normalized_objective=True)\n",
    "\n",
    "    print(\" \")\n",
    "    print('Visualization of positive part')\n",
    "    drawing = g.draw(pos,nodecolor='black',figsize=(10,10),nodesize=150,edgealpha=0.05)\n",
    "    \n",
    "    drawing.show()\n",
    "    \n",
    "    print(\" \")\n",
    "    print(\"Sz, subject: \", data, ' positive part')\n",
    "\n",
    "#     p = NCPPlots(ncp_instance)\n",
    "#     p.cond_by_size_itrv();\n",
    "\n",
    "    ncp_plots = NCPPlots(ncp_instance,method_name = \"l1reg-rand\")\n",
    "    #plot conductance vs size\n",
    "#     fig, ax, _ = ncp_plots.cond_by_size()\n",
    "#     plt.show()\n",
    "    #plot conductance vs volume\n",
    "    fig, ax, _ = ncp_plots.cond_by_vol()\n",
    "    plt.show()\n",
    "#     #plot isoperimetry vs size\n",
    "#     fig, ax, _ = ncp_plots.isop_by_size()\n",
    "#     plt.show()\n",
    "\n",
    "    A_mp_copy2[A_mp_copy2 > 0] = 0\n",
    "    A_mp_copy2 = -A_mp_copy2\n",
    "    A_mp = sp.sparse.csr_matrix(A_mp_copy2)\n",
    "\n",
    "    g = GraphLocal()\n",
    "    g.from_sparse_adjacency(A_mp)\n",
    "    \n",
    "    g = GraphLocal()\n",
    "    g.from_sparse_adjacency(A_mp)\n",
    "    \n",
    "    g.is_disconnected()\n",
    "    \n",
    "    # Use networkx only for visualization\n",
    "    g_nx = nx.from_scipy_sparse_matrix(A_mp)\n",
    "    pos_nx = nx.spring_layout(g_nx)\n",
    "    pos = []\n",
    "    \n",
    "    for key, value in pos_nx.items():\n",
    "        pos.append(value)\n",
    "\n",
    "    ncp_instance = NCPData(g,store_output_clusters=False,do_largest_component=False)\n",
    "    ncp_instance.approxPageRank(ratio=1,nthreads=6,method = \"l1reg-rand\",normalize=True,normalized_objective=True)\n",
    "\n",
    "    print(\" \")\n",
    "    print('Visualization of positive part')\n",
    "    drawing = g.draw(pos,nodecolor='black',figsize=(10,10),nodesize=150,edgealpha=0.05)\n",
    "    \n",
    "    drawing.show()\n",
    "    \n",
    "    print(\" \")\n",
    "    print(\"Sz, subject: \", data, ' negative part')\n",
    "\n",
    "#     p = NCPPlots(ncp_instance)\n",
    "#     p.cond_by_size_itrv();\n",
    "\n",
    "    ncp_plots = NCPPlots(ncp_instance,method_name = \"l1reg-rand\")\n",
    "    #plot conductance vs size\n",
    "#     fig, ax, _ = ncp_plots.cond_by_size()\n",
    "#     plt.show()\n",
    "    #plot conductance vs volume\n",
    "    fig, ax, _ = ncp_plots.cond_by_vol()\n",
    "    plt.show()\n",
    "#     #plot isoperimetry vs size\n",
    "#     fig, ax, _ = ncp_plots.isop_by_size()\n",
    "#     plt.show()"
   ]
  },
  {
   "cell_type": "markdown",
   "metadata": {},
   "source": [
    "## Generate plots for Hc"
   ]
  },
  {
   "cell_type": "code",
   "execution_count": null,
   "metadata": {
    "scrolled": false
   },
   "outputs": [],
   "source": [
    " data in onlyfiles_hc:\n",
    "\n",
    "    full_path = mypath_hc + data\n",
    "\n",
    "    A_mp = np.loadtxt(open(full_path, \"rb\"), delimiter=\",\", skiprows=0)\n",
    "    A_mp_copy1 = A_mp.copy()\n",
    "    A_mp_copy2 = A_mp.copy()\n",
    "\n",
    "    A_mp_copy1[A_mp_copy1 < 0] = 0\n",
    "    A_mp = sp.sparse.csr_matrix(A_mp_copy1)\n",
    "    \n",
    "    g = GraphLocal()\n",
    "    g.from_sparse_adjacency(A_mp)\n",
    "    \n",
    "    g.is_disconnected()\n",
    "    \n",
    "    # Use networkx only for visualization\n",
    "    g_nx = nx.from_scipy_sparse_matrix(A_mp)\n",
    "    pos_nx = nx.spring_layout(g_nx)\n",
    "    pos = []\n",
    "    \n",
    "    for key, value in pos_nx.items():\n",
    "        pos.append(value)\n",
    "\n",
    "    ncp_instance = NCPData(g,store_output_clusters=False,do_largest_component=True)\n",
    "    ncp_instance.approxPageRank(ratio=1,nthreads=6,method = \"l1reg-rand\",normalize=True,normalized_objective=True)\n",
    "\n",
    "    print(\" \")\n",
    "    print('Visualization of positive part')\n",
    "    drawing = g.draw(pos,nodecolor='black',figsize=(10,10),nodesize=150,edgealpha=0.05)\n",
    "    \n",
    "    drawing.show()\n",
    "    \n",
    "    print(\" \")\n",
    "    print(\"Sz, subject: \", data, ' positive part')\n",
    "\n",
    "#     p = NCPPlots(ncp_instance)\n",
    "#     p.cond_by_size_itrv();\n",
    "\n",
    "    ncp_plots = NCPPlots(ncp_instance,method_name = \"l1reg-rand\")\n",
    "    #plot conductance vs size\n",
    "#     fig, ax, _ = ncp_plots.cond_by_size()\n",
    "#     plt.show()\n",
    "    #plot conductance vs volume\n",
    "    fig, ax, _ = ncp_plots.cond_by_vol()\n",
    "    plt.show()\n",
    "#     #plot isoperimetry vs size\n",
    "#     fig, ax, _ = ncp_plots.isop_by_size()\n",
    "#     plt.show()\n",
    "\n",
    "    A_mp_copy2[A_mp_copy2 > 0] = 0\n",
    "    A_mp_copy2 = -A_mp_copy2\n",
    "    A_mp = sp.sparse.csr_matrix(A_mp_copy2)\n",
    "\n",
    "    g = GraphLocal()\n",
    "    g.from_sparse_adjacency(A_mp)\n",
    "    \n",
    "    g = GraphLocal()\n",
    "    g.from_sparse_adjacency(A_mp)\n",
    "    \n",
    "    g.is_disconnected()\n",
    "    \n",
    "    # Use networkx only for visualization\n",
    "    g_nx = nx.from_scipy_sparse_matrix(A_mp)\n",
    "    pos_nx = nx.spring_layout(g_nx)\n",
    "    pos = []\n",
    "    \n",
    "    for key, value in pos_nx.items():\n",
    "        pos.append(value)\n",
    "\n",
    "    ncp_instance = NCPData(g,store_output_clusters=False,do_largest_component=False)\n",
    "    ncp_instance.approxPageRank(ratio=1,nthreads=6,method = \"l1reg-rand\",normalize=True,normalized_objective=True)\n",
    "\n",
    "    print(\" \")\n",
    "    print('Visualization of positive part')\n",
    "    drawing = g.draw(pos,nodecolor='black',figsize=(10,10),nodesize=150,edgealpha=0.05)\n",
    "    \n",
    "    drawing.show()\n",
    "    \n",
    "    print(\" \")\n",
    "    print(\"Sz, subject: \", data, ' negative part')\n",
    "\n",
    "#     p = NCPPlots(ncp_instance)\n",
    "#     p.cond_by_size_itrv();\n",
    "\n",
    "    ncp_plots = NCPPlots(ncp_instance,method_name = \"l1reg-rand\")\n",
    "    #plot conductance vs size\n",
    "#     fig, ax, _ = ncp_plots.cond_by_size()\n",
    "#     plt.show()\n",
    "    #plot conductance vs volume\n",
    "    fig, ax, _ = ncp_plots.cond_by_vol()\n",
    "    plt.show()\n",
    "#     #plot isoperimetry vs size\n",
    "#     fig, ax, _ = ncp_plots.isop_by_size()\n",
    "#     plt.show()"
   ]
  },
  {
   "cell_type": "code",
   "execution_count": null,
   "metadata": {},
   "outputs": [],
   "source": []
  },
  {
   "cell_type": "code",
   "execution_count": null,
   "metadata": {},
   "outputs": [],
   "source": []
  },
  {
   "cell_type": "code",
   "execution_count": null,
   "metadata": {},
   "outputs": [],
   "source": []
  },
  {
   "cell_type": "code",
   "execution_count": null,
   "metadata": {
    "scrolled": false
   },
   "outputs": [],
   "source": []
  },
  {
   "cell_type": "code",
   "execution_count": null,
   "metadata": {},
   "outputs": [],
   "source": []
  },
  {
   "cell_type": "code",
   "execution_count": null,
   "metadata": {},
   "outputs": [],
   "source": []
  },
  {
   "cell_type": "code",
   "execution_count": null,
   "metadata": {},
   "outputs": [],
   "source": []
  },
  {
   "cell_type": "code",
   "execution_count": null,
   "metadata": {
    "scrolled": true
   },
   "outputs": [],
   "source": []
  },
  {
   "cell_type": "code",
   "execution_count": null,
   "metadata": {},
   "outputs": [],
   "source": []
  },
  {
   "cell_type": "code",
   "execution_count": null,
   "metadata": {},
   "outputs": [],
   "source": []
  },
  {
   "cell_type": "code",
   "execution_count": null,
   "metadata": {},
   "outputs": [],
   "source": []
  },
  {
   "cell_type": "code",
   "execution_count": null,
   "metadata": {},
   "outputs": [],
   "source": []
  },
  {
   "cell_type": "code",
   "execution_count": null,
   "metadata": {},
   "outputs": [],
   "source": []
  },
  {
   "cell_type": "code",
   "execution_count": null,
   "metadata": {},
   "outputs": [],
   "source": []
  },
  {
   "cell_type": "code",
   "execution_count": null,
   "metadata": {},
   "outputs": [],
   "source": []
  },
  {
   "cell_type": "code",
   "execution_count": null,
   "metadata": {},
   "outputs": [],
   "source": []
  },
  {
   "cell_type": "code",
   "execution_count": null,
   "metadata": {},
   "outputs": [],
   "source": []
  },
  {
   "cell_type": "code",
   "execution_count": null,
   "metadata": {},
   "outputs": [],
   "source": []
  },
  {
   "cell_type": "code",
   "execution_count": null,
   "metadata": {},
   "outputs": [],
   "source": []
  },
  {
   "cell_type": "code",
   "execution_count": null,
   "metadata": {},
   "outputs": [],
   "source": []
  },
  {
   "cell_type": "code",
   "execution_count": null,
   "metadata": {},
   "outputs": [],
   "source": []
  },
  {
   "cell_type": "code",
   "execution_count": null,
   "metadata": {},
   "outputs": [],
   "source": []
  },
  {
   "cell_type": "code",
   "execution_count": null,
   "metadata": {},
   "outputs": [],
   "source": []
  },
  {
   "cell_type": "code",
   "execution_count": null,
   "metadata": {},
   "outputs": [],
   "source": []
  },
  {
   "cell_type": "code",
   "execution_count": null,
   "metadata": {},
   "outputs": [],
   "source": []
  },
  {
   "cell_type": "code",
   "execution_count": null,
   "metadata": {},
   "outputs": [],
   "source": []
  },
  {
   "cell_type": "code",
   "execution_count": null,
   "metadata": {},
   "outputs": [],
   "source": []
  },
  {
   "cell_type": "code",
   "execution_count": null,
   "metadata": {},
   "outputs": [],
   "source": []
  },
  {
   "cell_type": "code",
   "execution_count": null,
   "metadata": {},
   "outputs": [],
   "source": []
  },
  {
   "cell_type": "code",
   "execution_count": null,
   "metadata": {},
   "outputs": [],
   "source": []
  },
  {
   "cell_type": "code",
   "execution_count": null,
   "metadata": {},
   "outputs": [],
   "source": []
  },
  {
   "cell_type": "code",
   "execution_count": null,
   "metadata": {
    "scrolled": false
   },
   "outputs": [],
   "source": []
  },
  {
   "cell_type": "code",
   "execution_count": null,
   "metadata": {},
   "outputs": [],
   "source": []
  },
  {
   "cell_type": "code",
   "execution_count": null,
   "metadata": {},
   "outputs": [],
   "source": []
  },
  {
   "cell_type": "code",
   "execution_count": null,
   "metadata": {
    "scrolled": false
   },
   "outputs": [],
   "source": []
  },
  {
   "cell_type": "code",
   "execution_count": null,
   "metadata": {
    "scrolled": false
   },
   "outputs": [],
   "source": []
  },
  {
   "cell_type": "code",
   "execution_count": null,
   "metadata": {},
   "outputs": [],
   "source": []
  },
  {
   "cell_type": "code",
   "execution_count": null,
   "metadata": {},
   "outputs": [],
   "source": []
  },
  {
   "cell_type": "code",
   "execution_count": null,
   "metadata": {},
   "outputs": [],
   "source": []
  },
  {
   "cell_type": "code",
   "execution_count": null,
   "metadata": {},
   "outputs": [],
   "source": []
  },
  {
   "cell_type": "code",
   "execution_count": null,
   "metadata": {},
   "outputs": [],
   "source": []
  },
  {
   "cell_type": "code",
   "execution_count": null,
   "metadata": {},
   "outputs": [],
   "source": []
  },
  {
   "cell_type": "code",
   "execution_count": null,
   "metadata": {},
   "outputs": [],
   "source": []
  },
  {
   "cell_type": "code",
   "execution_count": null,
   "metadata": {},
   "outputs": [],
   "source": []
  },
  {
   "cell_type": "code",
   "execution_count": null,
   "metadata": {},
   "outputs": [],
   "source": []
  },
  {
   "cell_type": "code",
   "execution_count": null,
   "metadata": {},
   "outputs": [],
   "source": []
  },
  {
   "cell_type": "code",
   "execution_count": null,
   "metadata": {},
   "outputs": [],
   "source": []
  },
  {
   "cell_type": "code",
   "execution_count": null,
   "metadata": {},
   "outputs": [],
   "source": []
  },
  {
   "cell_type": "code",
   "execution_count": null,
   "metadata": {},
   "outputs": [],
   "source": []
  },
  {
   "cell_type": "code",
   "execution_count": null,
   "metadata": {},
   "outputs": [],
   "source": []
  },
  {
   "cell_type": "code",
   "execution_count": null,
   "metadata": {},
   "outputs": [],
   "source": []
  },
  {
   "cell_type": "code",
   "execution_count": null,
   "metadata": {},
   "outputs": [],
   "source": []
  },
  {
   "cell_type": "code",
   "execution_count": null,
   "metadata": {},
   "outputs": [],
   "source": []
  },
  {
   "cell_type": "code",
   "execution_count": null,
   "metadata": {},
   "outputs": [],
   "source": []
  },
  {
   "cell_type": "code",
   "execution_count": null,
   "metadata": {},
   "outputs": [],
   "source": []
  },
  {
   "cell_type": "code",
   "execution_count": null,
   "metadata": {},
   "outputs": [],
   "source": []
  },
  {
   "cell_type": "code",
   "execution_count": null,
   "metadata": {},
   "outputs": [],
   "source": []
  },
  {
   "cell_type": "code",
   "execution_count": null,
   "metadata": {},
   "outputs": [],
   "source": []
  },
  {
   "cell_type": "code",
   "execution_count": null,
   "metadata": {},
   "outputs": [],
   "source": []
  },
  {
   "cell_type": "code",
   "execution_count": null,
   "metadata": {},
   "outputs": [],
   "source": []
  },
  {
   "cell_type": "code",
   "execution_count": null,
   "metadata": {},
   "outputs": [],
   "source": []
  },
  {
   "cell_type": "code",
   "execution_count": null,
   "metadata": {},
   "outputs": [],
   "source": []
  },
  {
   "cell_type": "code",
   "execution_count": null,
   "metadata": {},
   "outputs": [],
   "source": []
  },
  {
   "cell_type": "code",
   "execution_count": null,
   "metadata": {},
   "outputs": [],
   "source": []
  },
  {
   "cell_type": "code",
   "execution_count": null,
   "metadata": {},
   "outputs": [],
   "source": []
  },
  {
   "cell_type": "code",
   "execution_count": null,
   "metadata": {},
   "outputs": [],
   "source": []
  },
  {
   "cell_type": "code",
   "execution_count": null,
   "metadata": {},
   "outputs": [],
   "source": []
  },
  {
   "cell_type": "code",
   "execution_count": null,
   "metadata": {},
   "outputs": [],
   "source": []
  },
  {
   "cell_type": "code",
   "execution_count": null,
   "metadata": {},
   "outputs": [],
   "source": []
  },
  {
   "cell_type": "code",
   "execution_count": null,
   "metadata": {},
   "outputs": [],
   "source": []
  },
  {
   "cell_type": "code",
   "execution_count": null,
   "metadata": {},
   "outputs": [],
   "source": []
  },
  {
   "cell_type": "code",
   "execution_count": null,
   "metadata": {},
   "outputs": [],
   "source": []
  },
  {
   "cell_type": "code",
   "execution_count": null,
   "metadata": {},
   "outputs": [],
   "source": []
  },
  {
   "cell_type": "code",
   "execution_count": null,
   "metadata": {},
   "outputs": [],
   "source": []
  }
 ],
 "metadata": {
  "kernelspec": {
   "display_name": "Python 3",
   "language": "python",
   "name": "python3"
  },
  "language_info": {
   "codemirror_mode": {
    "name": "ipython",
    "version": 3
   },
   "file_extension": ".py",
   "mimetype": "text/x-python",
   "name": "python",
   "nbconvert_exporter": "python",
   "pygments_lexer": "ipython3",
   "version": "3.7.3"
  }
 },
 "nbformat": 4,
 "nbformat_minor": 2
}
