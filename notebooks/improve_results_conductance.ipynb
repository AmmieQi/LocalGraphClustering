{
 "cells": [
  {
   "cell_type": "code",
   "execution_count": 1,
   "metadata": {},
   "outputs": [],
   "source": [
    "import localgraphclustering as lgc\n",
    "import numpy as np\n",
    "\n",
    "import matplotlib.pyplot as plt\n",
    "\n",
    "\n",
    "import sys, traceback\n",
    "import os\n",
    "sys.path.insert(0, os.path.join(\"..\", \"LocalGraphClustering\", \"notebooks\"))\n",
    "import helper\n",
    "import pickle\n",
    "np.random.seed(seed=123)"
   ]
  },
  {
   "cell_type": "code",
   "execution_count": 2,
   "metadata": {},
   "outputs": [
    {
     "data": {
      "text/plain": [
       "['senate',\n",
       " 'Erdos02',\n",
       " 'JohnsHopkins',\n",
       " 'Colgate88',\n",
       " 'usroads',\n",
       " 'ppi_mips',\n",
       " 'ASTRAL',\n",
       " 'sfld',\n",
       " 'find_V',\n",
       " 'ppi-homo',\n",
       " 'neuro-fmri-01',\n",
       " 'ca-GrQc',\n",
       " 'dolphins',\n",
       " 'disconnected']"
      ]
     },
     "execution_count": 2,
     "metadata": {},
     "output_type": "execute_result"
    }
   ],
   "source": [
    "helper.lgc_graphlist"
   ]
  },
  {
   "cell_type": "code",
   "execution_count": 3,
   "metadata": {
    "scrolled": true
   },
   "outputs": [],
   "source": [
    "def run_improve(g, gname, method, methodname, delta, nthreads=1, timeout=1000):\n",
    "    ratio = 1.0\n",
    "    if g._num_vertices > 1000000:\n",
    "        ratio = 0.05\n",
    "    elif g._num_vertices > 100000:\n",
    "        ratio = 0.1    \n",
    "    elif g._num_vertices > 10000:\n",
    "        ratio = 0.4        \n",
    "    elif g._num_vertices > 7500:\n",
    "        ratio = 0.6\n",
    "    elif g._num_vertices > 5000:\n",
    "        ratio = 0.8\n",
    "    ratio=0.00005\n",
    "    print(\"ratio: \", ratio)\n",
    "    ncp = lgc.NCPData(g,store_output_clusters=True)\n",
    "    ncp.approxPageRank(ratio=ratio,nthreads=nthreads,localmins=False,neighborhoods=False,random_neighborhoods=False)\n",
    "    sets = [st[\"output_cluster\"] for st in ncp.results]\n",
    "    print(\"Make an NCP object for Improve Algo\")\n",
    "    ncp2 = lgc.NCPData(g)\n",
    "    print(\"Going into improve mode\")\n",
    "    try:\n",
    "        output = ncp2.refine(sets, method=method, methodname=methodname, nthreads=nthreads, timeout=timeout, **{\"delta\": delta})\n",
    "    except Exception as E:\n",
    "        print(\"Exception in user code:\")\n",
    "        print('-'*60)\n",
    "        traceback.print_exc(file=sys.stdout)\n",
    "        print('-'*60)\n",
    "    fig = lgc.NCPPlots(ncp2).mqi_input_output_cond_plot()[0]\n",
    "    fig.axes[0].set_title(gname + \" \" + methodname+\"-NCP\")\n",
    "    fig.savefig(\"figures/\" + method + \"-ncp-\"+gname+\".pdf\", bbox_inches=\"tight\", figsize=(100,100))\n",
    "    plt.show()\n",
    "    pickle.dump(ncp, open('results/' + \"mqi\" + \"-ncp-\"+ \"ppi-homo\" + '.pickle', 'wb'))\n",
    "    pickle.dump(ncp2, open('results/' + \"mqi\" + \"-ncp2-\"+ \"ppi-homo\" + '.pickle', 'wb'))"
   ]
  },
  {
   "cell_type": "code",
   "execution_count": null,
   "metadata": {},
   "outputs": [
    {
     "name": "stdout",
     "output_type": "stream",
     "text": [
      "ratio:  5e-05\n",
      "There are  1  connected components in the graph\n",
      "f2:  None\n",
      "Mpikes?\n",
      "Run target to get the rval. Workid:  0\n",
      "target:  <function _ncp_node_worker at 0x11df1b2f0>\n",
      "Finished running\n",
      "f2:  None\n",
      "Mpikes?\n",
      "Run target to get the rval. Workid:  0\n",
      "target:  <function _ncp_node_worker at 0x11df1b2f0>\n",
      "Finished running\n",
      "f2:  None\n",
      "Mpikes?\n",
      "Run target to get the rval. Workid:  0\n",
      "target:  <function _ncp_neighborhood_worker at 0x11df1b378>\n",
      "Finished running\n",
      "f2:  None\n",
      "Mpikes?\n",
      "Run target to get the rval. Workid:  0\n",
      "target:  <function _ncp_neighborhood_worker at 0x11df1b378>\n",
      "Finished running\n",
      "Make an NCP object for Improve Algo\n",
      "There are  1  connected components in the graph\n",
      "Going into improve mode\n",
      "Set func:  MQI\n",
      "f2:  None\n",
      "Mpikes?\n",
      "Run samples\n",
      "Run target to get the rval. Workid:  0\n",
      "target:  <function _ncp_set_worker at 0x11df1b400>\n",
      "About to run MQI_cpp\n",
      "vtype,itype,uint32,uint32\n",
      "<_FuncPtr object at 0x11d1168e0>\n",
      "n  8887  nR  3546  ai  [    0    55    79 ... 65406 65413 65416]  aj  [  47  220  223 ... 2844 5281 5554]  R  [   0    2    3 ... 8188 8190 8191]  len(R) 3546\n"
     ]
    }
   ],
   "source": [
    "## This is a test\n",
    "\n",
    "for gname in [\"ppi-homo\"]:\n",
    "    g = helper.lgc_data(gname)\n",
    "    g.discard_weights()\n",
    "    run_improve(g, gname=gname, method=\"mqi\", methodname=\"MQI\", delta=0.3, timeout=100000000)"
   ]
  },
  {
   "cell_type": "markdown",
   "metadata": {},
   "source": [
    "## Generate improve plots for MQI"
   ]
  },
  {
   "cell_type": "code",
   "execution_count": null,
   "metadata": {
    "scrolled": true
   },
   "outputs": [],
   "source": [
    "for gname in helper.lgc_graphlist:\n",
    "    print(\"Name: \", gname)\n",
    "    g = helper.lgc_data(gname)\n",
    "    g.discard_weights()\n",
    "    run_improve(g, gname=gname, method=\"mqi\", methodname=\"MQI\", delta=0.3, timeout=100000000)"
   ]
  },
  {
   "cell_type": "code",
   "execution_count": null,
   "metadata": {},
   "outputs": [],
   "source": [
    "Python(71405,0x115c265c0) malloc: Incorrect checksum for freed object 0x7f89aca13fd8: probably modified after being freed.\n",
    "Corrupt value: 0xbb00001703\n",
    "Python(71417,0x11231e5c0) malloc: Incorrect checksum for freed object 0x7fb9ec3e2618: probably modified after being freed.\n",
    "Corrupt value: 0xbb00001703"
   ]
  },
  {
   "cell_type": "markdown",
   "metadata": {},
   "source": [
    "## Generate improve plots for MQI for large-scale datasets"
   ]
  },
  {
   "cell_type": "code",
   "execution_count": null,
   "metadata": {},
   "outputs": [
    {
     "name": "stdout",
     "output_type": "stream",
     "text": [
      "pokec /Users/kimonfountoulakis/Downloads/soc-pokec-relationships.edgelist\n",
      "ratio:  5e-05\n",
      "There are  2  connected components in the graph\n"
     ]
    },
    {
     "name": "stderr",
     "output_type": "stream",
     "text": [
      "/usr/local/lib/python3.7/site-packages/localgraphclustering/GraphLocal.py:552: UserWarning:\n",
      "\n",
      "The graph has multiple (2) components, using the largest with 1632803 / 1632804 nodes\n",
      "\n"
     ]
    },
    {
     "name": "stdout",
     "output_type": "stream",
     "text": [
      "Make an NCP object for Improve Algo\n",
      "There are  2  connected components in the graph\n"
     ]
    }
   ],
   "source": [
    "mygraphs = {#'orkut':'/Users/kimonfountoulakis/Downloads/com-orkut.ungraph.edgelist',\n",
    "            'pokec':'/Users/kimonfountoulakis/Downloads/soc-pokec-relationships.edgelist'\n",
    "            #'livejournal':'/Users/kimonfountoulakis/Downloads/soc-LiveJournal1.edgelist',\n",
    "            #'email-Enron':'/Users/kimonfountoulakis/Downloads/Email-Enron.edgelist'\n",
    "           }\n",
    "\n",
    "for (gname,gfile) in mygraphs.items():\n",
    "    print(gname, gfile)\n",
    "    sep = ' '\n",
    "    if isinstance(gfile, tuple):\n",
    "        sep = gfile[1]\n",
    "        gfile = gfile[0]\n",
    "    g = lgc.GraphLocal(os.path.join(\"..\", \"data\", gfile),'edgelist', \"\t\")\n",
    "    g.discard_weights()\n",
    "    run_improve(g, gname=gname, method=\"mqi\", methodname=\"MQI\", delta=100, timeout=100000000)"
   ]
  },
  {
   "cell_type": "code",
   "execution_count": null,
   "metadata": {},
   "outputs": [],
   "source": []
  },
  {
   "cell_type": "code",
   "execution_count": null,
   "metadata": {},
   "outputs": [],
   "source": [
    "## This is a test for SimpleLocal\n",
    "\n",
    "for gname in [\"ppi-homo\"]:\n",
    "    g = helper.lgc_data(gname)\n",
    "    g.discard_weights()\n",
    "    run_improve(g, gname=gname, method=\"sl\", methodname=\"SimpleLocal\", delta=0.3, timeout=10)"
   ]
  },
  {
   "cell_type": "markdown",
   "metadata": {},
   "source": [
    "## Generate improve plots for SimpleLocal with delta = 0.3"
   ]
  },
  {
   "cell_type": "code",
   "execution_count": null,
   "metadata": {},
   "outputs": [],
   "source": [
    "for gname in helper.lgc_graphlist:\n",
    "    print(\"Name: \", gname)\n",
    "    g = helper.lgc_data(gname)\n",
    "    g.discard_weights()\n",
    "    run_improve(g, gname=gname, method=\"sl\", methodname=\"SimpleLocal\", delta=0.3, timeout=100000000)"
   ]
  },
  {
   "cell_type": "markdown",
   "metadata": {},
   "source": [
    "## Generate improve plots for SimpleLocal for large-scale datasets with delta = 0.3"
   ]
  },
  {
   "cell_type": "code",
   "execution_count": null,
   "metadata": {},
   "outputs": [],
   "source": [
    "mygraphs = {#'orkut':'/Users/kimonfountoulakis/Downloads/com-orkut.ungraph.edgelist',\n",
    "            'pokec':'/Users/kimonfountoulakis/Downloads/soc-pokec-relationships.edgelist',\n",
    "            'livejournal':'/Users/kimonfountoulakis/Downloads/soc-LiveJournal1.edgelist',\n",
    "            'email-Enron':'/Users/kimonfountoulakis/Downloads/Email-Enron.edgelist'\n",
    "           }\n",
    "\n",
    "for (gname,gfile) in mygraphs.items():\n",
    "    print(gname, gfile)\n",
    "    sep = ' '\n",
    "    if isinstance(gfile, tuple):\n",
    "        sep = gfile[1]\n",
    "        gfile = gfile[0]\n",
    "    g = lgc.GraphLocal(os.path.join(\"..\", \"data\", gfile),'edgelist', \"\t\")\n",
    "    g.discard_weights()\n",
    "    #run_improve(g, gname=gname, method=\"sl\", methodname=\"SimpleLocal\", delta=0.3, timeout=100000000)"
   ]
  },
  {
   "cell_type": "markdown",
   "metadata": {},
   "source": [
    "## Generate improve plots for SimpleLocal with delta = 0.6"
   ]
  },
  {
   "cell_type": "code",
   "execution_count": null,
   "metadata": {},
   "outputs": [],
   "source": [
    "for gname in helper.lgc_graphlist:\n",
    "    print(\"Name: \", gname)\n",
    "    g = helper.lgc_data(gname)\n",
    "    g.discard_weights()\n",
    "    run_improve(g, gname=gname, method=\"sl\", methodname=\"SimpleLocal\", delta=0.6, timeout=100000000)"
   ]
  },
  {
   "cell_type": "markdown",
   "metadata": {},
   "source": [
    "## Generate improve plots for SimpleLocal for large-scale datasets with delta = 0.6"
   ]
  },
  {
   "cell_type": "code",
   "execution_count": null,
   "metadata": {},
   "outputs": [],
   "source": [
    "mygraphs = {'orkut':'/Users/kimonfountoulakis/Downloads/com-orkut.ungraph.edgelist',\n",
    "            'pokec':'/Users/kimonfountoulakis/Downloads/soc-pokec-relationships.edgelist',\n",
    "            'livejournal':'/Users/kimonfountoulakis/Downloads/soc-LiveJournal1.edgelist',\n",
    "            'email-Enron':'/Users/kimonfountoulakis/Downloads/Email-Enron.edgelist'\n",
    "           }\n",
    "\n",
    "for (gname,gfile) in mygraphs.items():\n",
    "    print(gname, gfile)\n",
    "    sep = ' '\n",
    "    if isinstance(gfile, tuple):\n",
    "        sep = gfile[1]\n",
    "        gfile = gfile[0]\n",
    "    g = lgc.GraphLocal(os.path.join(\"..\", \"data\", gfile),'edgelist', \"\t\")\n",
    "    g.discard_weights()\n",
    "    run_improve(g, gname=gname, method=\"sl\", methodname=\"SimpleLocal\", delta=0.6, timeout=100000000)"
   ]
  },
  {
   "cell_type": "markdown",
   "metadata": {},
   "source": [
    "## Generate improve plots for SimpleLocal with delta = 0.9"
   ]
  },
  {
   "cell_type": "code",
   "execution_count": null,
   "metadata": {},
   "outputs": [],
   "source": [
    "for gname in helper.lgc_graphlist:\n",
    "    print(\"Name: \", gname)\n",
    "    g = helper.lgc_data(gname)\n",
    "    g.discard_weights()\n",
    "    run_improve(g, gname=gname, method=\"sl\", methodname=\"SimpleLocal\", delta=0.9, timeout=100000000)"
   ]
  },
  {
   "cell_type": "markdown",
   "metadata": {},
   "source": [
    "## Generate improve plots for SimpleLocal for large-scale datasets with delta = 0.9"
   ]
  },
  {
   "cell_type": "code",
   "execution_count": null,
   "metadata": {},
   "outputs": [],
   "source": [
    "mygraphs = {'orkut':'/Users/kimonfountoulakis/Downloads/com-orkut.ungraph.edgelist',\n",
    "            'pokec':'/Users/kimonfountoulakis/Downloads/soc-pokec-relationships.edgelist',\n",
    "            'livejournal':'/Users/kimonfountoulakis/Downloads/soc-LiveJournal1.edgelist',\n",
    "            'email-Enron':'/Users/kimonfountoulakis/Downloads/Email-Enron.edgelist'\n",
    "           }\n",
    "\n",
    "for (gname,gfile) in mygraphs.items():\n",
    "    print(gname, gfile)\n",
    "    sep = ' '\n",
    "    if isinstance(gfile, tuple):\n",
    "        sep = gfile[1]\n",
    "        gfile = gfile[0]\n",
    "    g = lgc.GraphLocal(os.path.join(\"..\", \"data\", gfile),'edgelist', \"\t\")\n",
    "    g.discard_weights()\n",
    "    #run_improve(g, gname=gname, method=\"sl\", methodname=\"SimpleLocal\", delta=0.9, timeout=100000000)"
   ]
  },
  {
   "cell_type": "code",
   "execution_count": null,
   "metadata": {},
   "outputs": [],
   "source": []
  },
  {
   "cell_type": "code",
   "execution_count": null,
   "metadata": {},
   "outputs": [],
   "source": []
  },
  {
   "cell_type": "code",
   "execution_count": null,
   "metadata": {},
   "outputs": [],
   "source": []
  },
  {
   "cell_type": "code",
   "execution_count": null,
   "metadata": {},
   "outputs": [],
   "source": []
  },
  {
   "cell_type": "code",
   "execution_count": null,
   "metadata": {},
   "outputs": [],
   "source": []
  },
  {
   "cell_type": "code",
   "execution_count": null,
   "metadata": {},
   "outputs": [],
   "source": []
  },
  {
   "cell_type": "code",
   "execution_count": null,
   "metadata": {},
   "outputs": [],
   "source": []
  },
  {
   "cell_type": "code",
   "execution_count": null,
   "metadata": {},
   "outputs": [],
   "source": []
  },
  {
   "cell_type": "code",
   "execution_count": null,
   "metadata": {},
   "outputs": [],
   "source": []
  },
  {
   "cell_type": "code",
   "execution_count": null,
   "metadata": {},
   "outputs": [],
   "source": [
    "from typing import *\n",
    "import localgraphclustering as lgc\n",
    "import numpy as np\n",
    "\n",
    "import matplotlib.pyplot as plt\n",
    "import functools\n",
    "\n",
    "import sys\n",
    "import os\n",
    "sys.path.insert(0, os.path.join(\"..\", \"LocalGraphClustering\", \"notebooks\"))\n",
    "import helper\n",
    "\n",
    "NTHREADS=1\n",
    "NITER=1000000000\n",
    "\n",
    "def run_refine_ncp(gname, gfile):\n",
    "    ncp = lgc.NCPData(g).approxPageRank(localmins=False,neighborhoods=False,random_neighborhoods=False,nthreads=NTHREADS, ratio=0.0005)\n",
    "    sets = [ncp.output_set(i)[0] for i in range(len(ncp.results))]\n",
    "    ncpR = lgc.NCPData(g)\n",
    "    ncpR.add_set_samples(sets, \n",
    "                         method=lgc.partialfunc(lgc.flow_clustering, method=\"mqi\"),\n",
    "                         nthreads=NTHREADS)\n",
    "    return ncp, ncpR\n",
    "    \n",
    "mygraphs = {#'digits-1234-3':'digits-1234-3.edges', \n",
    "            #'neurosynth':'neurosynth-meta.edges.gz',\n",
    "            #'wiki-cats':'wiki-cats.edges', \n",
    "            'pokec':'/Users/kimonfountoulakis/Downloads/soc-pokec-relationships.edgelist',\n",
    "            #'livejournal':'soc-LiveJournal-scc.edges.gz',\n",
    "            #'astro-spectra':('lawlor-spectra-k32.edgelist.gz','\\t'),\n",
    "            #'email-Enron':'email-Enron.edges.gz',\n",
    "            #'netscience':'netscience-cc.edges'\n",
    "           }\n",
    "\n",
    "for (gname,gfile) in mygraphs.items():\n",
    "    print(gname, gfile)\n",
    "    sep = ' '\n",
    "    if isinstance(gfile, tuple):\n",
    "        sep = gfile[1]\n",
    "        gfile = gfile[0]\n",
    "    g = lgc.GraphLocal(os.path.join(\"..\", \"data\", gfile),\n",
    "                                 'edgelist', \"\t\")\n",
    "    g.discard_weights()\n",
    "    \n",
    "    ncp, ncpR = run_refine_ncp(g, gname)"
   ]
  },
  {
   "cell_type": "code",
   "execution_count": null,
   "metadata": {},
   "outputs": [],
   "source": []
  },
  {
   "cell_type": "code",
   "execution_count": null,
   "metadata": {},
   "outputs": [],
   "source": []
  },
  {
   "cell_type": "code",
   "execution_count": null,
   "metadata": {},
   "outputs": [],
   "source": []
  },
  {
   "cell_type": "code",
   "execution_count": null,
   "metadata": {},
   "outputs": [],
   "source": []
  },
  {
   "cell_type": "code",
   "execution_count": null,
   "metadata": {},
   "outputs": [],
   "source": [
    "import networkx as nx"
   ]
  },
  {
   "cell_type": "code",
   "execution_count": null,
   "metadata": {},
   "outputs": [],
   "source": []
  },
  {
   "cell_type": "code",
   "execution_count": null,
   "metadata": {},
   "outputs": [],
   "source": [
    "gnx = nx.read_edgelist('/Users/kimonfountoulakis/Downloads/Email-Enron.edgelist')"
   ]
  },
  {
   "cell_type": "code",
   "execution_count": null,
   "metadata": {},
   "outputs": [],
   "source": [
    "nx.write_graphml(gnx, '/Users/kimonfountoulakis/Downloads/Email-Enron.graphml')"
   ]
  },
  {
   "cell_type": "code",
   "execution_count": null,
   "metadata": {},
   "outputs": [],
   "source": []
  },
  {
   "cell_type": "code",
   "execution_count": null,
   "metadata": {},
   "outputs": [],
   "source": []
  },
  {
   "cell_type": "code",
   "execution_count": null,
   "metadata": {},
   "outputs": [],
   "source": []
  },
  {
   "cell_type": "code",
   "execution_count": null,
   "metadata": {},
   "outputs": [],
   "source": []
  },
  {
   "cell_type": "code",
   "execution_count": null,
   "metadata": {},
   "outputs": [],
   "source": []
  }
 ],
 "metadata": {
  "kernelspec": {
   "display_name": "Python 3",
   "language": "python",
   "name": "python3"
  },
  "language_info": {
   "codemirror_mode": {
    "name": "ipython",
    "version": 3
   },
   "file_extension": ".py",
   "mimetype": "text/x-python",
   "name": "python",
   "nbconvert_exporter": "python",
   "pygments_lexer": "ipython3",
   "version": "3.7.1"
  }
 },
 "nbformat": 4,
 "nbformat_minor": 1
}
