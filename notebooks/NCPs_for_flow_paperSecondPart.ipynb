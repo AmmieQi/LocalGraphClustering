{
 "cells": [
  {
   "cell_type": "code",
   "execution_count": 1,
   "metadata": {},
   "outputs": [],
   "source": [
    "import sys,os\n",
    "\n",
    "data_path = os.getcwd()\n",
    "\n",
    "try:\n",
    "    import localgraphclustering as lgc\n",
    "except:\n",
    "    # when the package is not installed, import the local version instead. \n",
    "    # the notebook must be placed in the original \"notebooks/\" folder\n",
    "    sys.path.append(\"../\")\n",
    "    import localgraphclustering as lgc\n",
    "    \n",
    "import pickle\n",
    "import csv"
   ]
  },
  {
   "cell_type": "code",
   "execution_count": 2,
   "metadata": {},
   "outputs": [],
   "source": [
    "import time\n",
    "import numpy as np\n",
    "\n",
    "import matplotlib.pyplot as plt\n",
    "\n",
    "# Import the graph_tool module for visualization.\n",
    "from graph_tool.all import * \n",
    "\n",
    "import statistics as stat_\n",
    "\n",
    "# The following code is for random generation of colors.\n",
    "# See here: https://stackoverflow.com/questions/14720331/how-to-generate-random-colors-in-matplotlib\n",
    "def rand_cmap(nlabels, type='bright', first_color_black=True, last_color_black=False, verbose=True):\n",
    "    \"\"\"\n",
    "    Creates a random colormap to be used together with matplotlib. Useful for segmentation tasks\n",
    "    :param nlabels: Number of labels (size of colormap)\n",
    "    :param type: 'bright' for strong colors, 'soft' for pastel colors\n",
    "    :param first_color_black: Option to use first color as black, True or False\n",
    "    :param last_color_black: Option to use last color as black, True or False\n",
    "    :param verbose: Prints the number of labels and shows the colormap. True or False\n",
    "    :return: colormap for matplotlib\n",
    "    \"\"\"\n",
    "    from matplotlib.colors import LinearSegmentedColormap\n",
    "    import colorsys\n",
    "    import numpy as np\n",
    "\n",
    "    np.random.seed(seed=10)\n",
    "    np.random.RandomState(seed=10)\n",
    "\n",
    "    if type not in ('bright', 'soft'):\n",
    "        print ('Please choose \"bright\" or \"soft\" for type')\n",
    "        return\n",
    "\n",
    "    if verbose:\n",
    "        print('Number of labels: ' + str(nlabels))\n",
    "\n",
    "    # Generate color map for bright colors, based on hsv\n",
    "    if type == 'bright':\n",
    "        randHSVcolors = [(np.random.uniform(low=0.0, high=1),\n",
    "                          np.random.uniform(low=0.2, high=1),\n",
    "                          np.random.uniform(low=0.9, high=1)) for i in range(nlabels)]\n",
    "\n",
    "        # Convert HSV list to RGB\n",
    "        randRGBcolors = []\n",
    "        for HSVcolor in randHSVcolors:\n",
    "            randRGBcolors.append(colorsys.hsv_to_rgb(HSVcolor[0], HSVcolor[1], HSVcolor[2]))\n",
    "\n",
    "        if first_color_black:\n",
    "            randRGBcolors[0] = [0, 0, 0]\n",
    "\n",
    "        if last_color_black:\n",
    "            randRGBcolors[-1] = [0, 0, 0]\n",
    "\n",
    "        random_colormap = LinearSegmentedColormap.from_list('new_map', randRGBcolors, N=nlabels)\n",
    "\n",
    "    # Generate soft pastel colors, by limiting the RGB spectrum\n",
    "    if type == 'soft':\n",
    "        low = 0.6\n",
    "        high = 0.95\n",
    "        randRGBcolors = [(np.random.uniform(low=low, high=high),\n",
    "                          np.random.uniform(low=low, high=high),\n",
    "                          np.random.uniform(low=low, high=high)) for i in range(nlabels)]\n",
    "\n",
    "        if first_color_black:\n",
    "            randRGBcolors[0] = [0, 0, 0]\n",
    "\n",
    "        if last_color_black:\n",
    "            randRGBcolors[-1] = [0, 0, 0]\n",
    "        random_colormap = LinearSegmentedColormap.from_list('new_map', randRGBcolors, N=nlabels)\n",
    "\n",
    "    # Display colorbar\n",
    "    if verbose:\n",
    "        from matplotlib import colors, colorbar\n",
    "        from matplotlib import pyplot as plt\n",
    "        fig, ax = plt.subplots(1, 1, figsize=(15, 0.5))\n",
    "\n",
    "        bounds = np.linspace(0, nlabels, nlabels + 1)\n",
    "        norm = colors.BoundaryNorm(bounds, nlabels)\n",
    "\n",
    "        cb = colorbar.ColorbarBase(ax, cmap=random_colormap, norm=norm, spacing='proportional', ticks=None,\n",
    "                                   boundaries=bounds, format='%1i', orientation=u'horizontal')\n",
    "\n",
    "    return random_colormap"
   ]
  },
  {
   "cell_type": "markdown",
   "metadata": {},
   "source": [
    "# Load graph"
   ]
  },
  {
   "cell_type": "code",
   "execution_count": 3,
   "metadata": {},
   "outputs": [
    {
     "name": "stderr",
     "output_type": "stream",
     "text": [
      "/usr/local/lib/python3.7/site-packages/localgraphclustering/GraphLocal.py:217: UserWarning:\n",
      "\n",
      "Loading a graphml is not efficient, we suggest using an edgelist format for this API.\n",
      "\n"
     ]
    }
   ],
   "source": [
    "# Read graph. This also supports gml format.\n",
    "#g = lgc.GraphLocal(os.path.join(data_path,'datasets/JohnsHopkins.graphml'),'graphml')\n",
    "g = lgc.GraphLocal('./datasets/ppi_mips.graphml','graphml',' ')\n",
    "# To get a quick look at the list of methods and attributes for the graph object 'g' you can type 'g.' + tab\n",
    "# and scroll up or down.\n",
    "g.discard_weights()\n",
    "\n",
    "vol_G = g.vol_G"
   ]
  },
  {
   "cell_type": "markdown",
   "metadata": {},
   "source": [
    "## Load graph using GraphTool. We do this to handle some meta-data which LocalGraphClustering is not handling yet."
   ]
  },
  {
   "cell_type": "code",
   "execution_count": 4,
   "metadata": {},
   "outputs": [],
   "source": [
    "g_gtool = load_graph('datasets/ppi_mips.graphml')\n",
    "remove_self_loops(g_gtool)\n",
    "\n",
    "n = g_gtool.num_vertices()"
   ]
  },
  {
   "cell_type": "markdown",
   "metadata": {},
   "source": [
    "## Load coordinates for graph layout"
   ]
  },
  {
   "cell_type": "code",
   "execution_count": 5,
   "metadata": {},
   "outputs": [],
   "source": [
    "# Load pre-computed coordinates for nodes.\n",
    "ld_coord = np.loadtxt('./datasets/ppi_mips_coordinates.xy', dtype = 'str')\n",
    "\n",
    "temp = []\n",
    "for i in ld_coord:\n",
    "    temp.append(i[0])\n",
    "\n",
    "idxs = dict(zip(temp, range(len(temp)))) \n",
    "\n",
    "pos = g_gtool.new_vertex_property(\"vector<double>\")\n",
    "for i in ld_coord:\n",
    "    pos[idxs[i[0]]] = i[1:3]"
   ]
  },
  {
   "cell_type": "markdown",
   "metadata": {},
   "source": [
    "## Load and filter ground truth clusters. This part takes a while to run. The results are saved in results/"
   ]
  },
  {
   "cell_type": "code",
   "execution_count": 6,
   "metadata": {},
   "outputs": [
    {
     "name": "stdout",
     "output_type": "stream",
     "text": [
      "Reached\n",
      "Number of feature 0 Feature value  2.0  gap  [0.99978071]  volume:  431.0  size: 18 conductance:  0.2900232018561485\n",
      "Reached\n",
      "Number of feature 0 Feature value  28.0  gap  [0.99989145]  volume:  1253.0  size: 33 conductance:  0.15722266560255388\n",
      "Reached\n",
      "Number of feature 0 Feature value  77.0  gap  [0.99992007]  volume:  703.0  size: 22 conductance:  0.34281650071123754\n",
      "Reached\n",
      "Number of feature 0 Feature value  80.0  gap  [0.99254188]  volume:  120.0  size: 11 conductance:  0.08333333333333333\n",
      "Reached\n",
      "Number of feature 0 Feature value  82.0  gap  [0.99905485]  volume:  1023.0  size: 32 conductance:  0.030303030303030304\n",
      "Reached\n",
      "Number of feature 0 Feature value  83.0  gap  [0.88073807]  volume:  106.0  size: 9 conductance:  0.32075471698113206\n",
      "Reached\n",
      "Number of feature 0 Feature value  87.0  gap  [0.99586883]  volume:  224.0  size: 15 conductance:  0.0625\n",
      "Reached\n",
      "Number of feature 0 Feature value  99.0  gap  [0.99927466]  volume:  103.0  size: 8 conductance:  0.4563106796116505\n",
      "Reached\n",
      "Number of feature 0 Feature value  103.0  gap  [1.]  volume:  1372.0  size: 28 conductance:  0.4489795918367347\n",
      "Reached\n",
      "Number of feature 0 Feature value  108.0  gap  [0.99979642]  volume:  474.0  size: 19 conductance:  0.27848101265822783\n",
      "Reached\n",
      "Number of feature 0 Feature value  111.0  gap  [0.99709347]  volume:  323.0  size: 18 conductance:  0.05263157894736842\n",
      "Reached\n",
      "Number of feature 0 Feature value  117.0  gap  [0.99925214]  volume:  599.0  size: 24 conductance:  0.07846410684474124\n",
      "Reached\n",
      "Number of feature 0 Feature value  127.0  gap  [0.99989151]  volume:  1014.0  size: 29 conductance:  0.1992110453648915\n",
      "Reached\n",
      "Number of feature 0 Feature value  128.0  gap  [0.90150495]  volume:  192.0  size: 11 conductance:  0.4270833333333333\n",
      "Reached\n",
      "Number of feature 0 Feature value  129.0  gap  [0.99586883]  volume:  224.0  size: 15 conductance:  0.0625\n",
      "Reached\n",
      "Number of feature 0 Feature value  164.0  gap  [0.99586883]  volume:  224.0  size: 15 conductance:  0.0625\n",
      "Reached\n",
      "Number of feature 0 Feature value  183.0  gap  [0.99528449]  volume:  195.0  size: 14 conductance:  0.06666666666666667\n",
      "Reached\n",
      "Number of feature 0 Feature value  202.0  gap  [0.99984949]  volume:  6560.0  size: 81 conductance:  0.012195121951219513\n",
      "Reached\n",
      "Number of feature 0 Feature value  208.0  gap  [0.9996977]  volume:  3248.0  size: 57 conductance:  0.017241379310344827\n",
      "Reached\n",
      "Number of feature 0 Feature value  211.0  gap  [0.93788161]  volume:  203.0  size: 12 conductance:  0.3497536945812808\n",
      "Reached\n",
      "Number of feature 0 Feature value  219.0  gap  [0.99254188]  volume:  120.0  size: 11 conductance:  0.08333333333333333\n"
     ]
    }
   ],
   "source": [
    "g_v_prop = g_gtool.vertex_properties\n",
    "groups = np.loadtxt('./datasets/ppi_mips.class', dtype = 'float')\n",
    "feature_list = [groups]\n",
    "\n",
    "number_feature = 0\n",
    "\n",
    "ref_nodes = []\n",
    "info_ref_nodes = []\n",
    "\n",
    "for kk in feature_list:\n",
    "    \n",
    "    feature = kk\n",
    "\n",
    "    for ff in list(set(feature)):\n",
    "        \n",
    "        if ff == 0:\n",
    "            continue\n",
    "\n",
    "        feature_array = np.zeros(n)\n",
    "        feature_ff_nodes = []\n",
    "        for i in range(n):\n",
    "            feature_array[i] = feature[i]\n",
    "            if feature_array[i] == ff:\n",
    "                feature_ff_nodes.append(i)\n",
    "\n",
    "        g_ff = g_gtool.copy()\n",
    "\n",
    "        del_list_ff = list(set(range(n)) - set(feature_ff_nodes))\n",
    "\n",
    "        for v in reversed(sorted(del_list_ff)):\n",
    "            g_ff.remove_vertex(v)   \n",
    "\n",
    "        n_ff = g_ff.num_vertices() \n",
    "\n",
    "        comp_ff,hist_ff=label_components(g_ff)\n",
    "\n",
    "        feature_ff_nodes_largest_component = []\n",
    "        for i in range(n_ff):\n",
    "            if comp_ff[i] == 0:\n",
    "                feature_ff_nodes_largest_component.append(feature_ff_nodes[i])    \n",
    "\n",
    "        vol_ff = sum(g.d[feature_ff_nodes_largest_component])\n",
    "        \n",
    "        if vol_ff < 100:\n",
    "            continue\n",
    "            \n",
    "        cond_ff = g.compute_conductance(feature_ff_nodes_largest_component,cpp=True)\n",
    "        \n",
    "        if cond_ff > 0.47:\n",
    "            continue\n",
    "            \n",
    "        print(\"Reached\")\n",
    "        eig_ff, lambda_ff = lgc.fiedler_local(g, feature_ff_nodes_largest_component)\n",
    "        lambda_ff = np.real(lambda_ff)\n",
    "        gap_ff = lambda_ff/cond_ff\n",
    "        \n",
    "        print(\"Number of feature\", number_feature, \"Feature value \", ff, \" gap \",gap_ff, \" volume: \", vol_ff, \" size:\", len(feature_ff_nodes_largest_component), \"conductance: \", cond_ff)\n",
    "        \n",
    "        if gap_ff >= 0.5 and vol_ff >= 100:\n",
    "            ref_nodes.append(feature_ff_nodes_largest_component)\n",
    "            info_ref_nodes.append([number_feature,ff])\n",
    "            np.save('results/ref_nodes_ppi_mips', ref_nodes) \n",
    "            np.save('results/info_ref_nodes_ppi_mips', info_ref_nodes) \n",
    "        \n",
    "    number_feature += 1"
   ]
  },
  {
   "cell_type": "code",
   "execution_count": 7,
   "metadata": {},
   "outputs": [],
   "source": [
    "ref_nodes = np.load('results/ref_nodes_ppi_mips.npy') \n",
    "info_ref_nodes = np.load('results/info_ref_nodes_ppi_mips.npy') "
   ]
  },
  {
   "cell_type": "code",
   "execution_count": 8,
   "metadata": {},
   "outputs": [
    {
     "data": {
      "text/plain": [
       "<PropertyMap object with key type 'Vertex' and value type 'vector<double>', for Graph 0x13ce040f0, at 0x13cdf7fd0>"
      ]
     },
     "execution_count": 8,
     "metadata": {},
     "output_type": "execute_result"
    }
   ],
   "source": [
    "temp = np.zeros(n)\n",
    "temp = temp + 3\n",
    "\n",
    "temp2 = np.zeros(n, dtype=int)\n",
    "\n",
    "counter = 0\n",
    "\n",
    "for i in ref_nodes:\n",
    "    \n",
    "    temp[i] = 6\n",
    "    \n",
    "    for j in i:\n",
    "        temp2[j] = int(info_ref_nodes[counter,1])\n",
    "    counter += 1\n",
    "\n",
    "node_size = g_gtool.new_vertex_property(\"double\",temp)\n",
    "\n",
    "node_colours = g_gtool.new_vertex_property(\"vector<double>\")\n",
    "\n",
    "c_map = rand_cmap(n, type='bright', first_color_black=False, last_color_black=False, verbose=False)\n",
    "\n",
    "for i in range(n):\n",
    "    node_colours[i] = [0,0,0]\n",
    "\n",
    "counter = 0\n",
    "\n",
    "for i in ref_nodes:\n",
    "    \n",
    "    for j in i:\n",
    "        node_colours[j] = c_map(int(info_ref_nodes[counter,1]))\n",
    "    counter += 1\n",
    "\n",
    "#def get_cmap(n, name='hsv'):\n",
    "#    '''Returns a function that maps each index in 0, 1, ..., n-1 to a distinct \n",
    "#    RGB color; the keyword argument name must be a standard mpl colormap name.'''\n",
    "#    return plt.cm.get_cmap(name, n)\n",
    "\n",
    "#c_map = get_cmap(g_gtool.num_vertices())\n",
    "\n",
    "#c_map = rand_cmap(n, type='bright', first_color_black=True, last_color_black=False, verbose=True)\n",
    "\n",
    "graph_draw(g_gtool, pos, output_size=(1000, 500),\n",
    "           vertex_size=node_size, \n",
    "           vertex_fill_color=node_colours, \n",
    "           vorder=node_size,\n",
    "           edge_pen_width=1,\n",
    "           edge_color = [0.0, 0, 0, 0.05],\n",
    "           output='figures/ppi_mips_selected.png'\n",
    "          )"
   ]
  },
  {
   "cell_type": "code",
   "execution_count": 9,
   "metadata": {},
   "outputs": [
    {
     "name": "stdout",
     "output_type": "stream",
     "text": [
      "Running ppimips\n",
      "There are  1  connected components in the graph\n",
      "approxPageRank:ncpapr_acl:    0.3 neighborhoods\n",
      "approxPageRank:ncpapr_acl:    1.5 localmin rho=1.0e-05\n",
      "approxPageRank:ncpapr_acl:    1.8 localmin rho=1.0e-04\n",
      "approxPageRank:ncpapr_acl:   55.7 random_node rho=1.0e-05\n",
      "approxPageRank:ncpapr_acl:   62.9 random_node rho=1.0e-04\n",
      "approxPageRank:ncpapr_acl:  116.4 random_neighborhood rho=1.0e-05\n",
      "approxPageRank:ncpapr_acl:  130.2 random_neighborhood rho=1.0e-04\n"
     ]
    },
    {
     "data": {
      "text/html": [
       "<script type=\"text/javascript\">window.PlotlyConfig = {MathJaxConfig: 'local'};</script><script type=\"text/javascript\">if (window.MathJax) {MathJax.Hub.Config({SVG: {font: \"STIX-Web\"}});}</script><script>requirejs.config({paths: { 'plotly': ['https://cdn.plot.ly/plotly-latest.min']},});if(!window._Plotly) {require(['plotly'],function(plotly) {window._Plotly=plotly;});}</script>"
      ],
      "text/vnd.plotly.v1+html": [
       "<script type=\"text/javascript\">window.PlotlyConfig = {MathJaxConfig: 'local'};</script><script type=\"text/javascript\">if (window.MathJax) {MathJax.Hub.Config({SVG: {font: \"STIX-Web\"}});}</script><script>requirejs.config({paths: { 'plotly': ['https://cdn.plot.ly/plotly-latest.min']},});if(!window._Plotly) {require(['plotly'],function(plotly) {window._Plotly=plotly;});}</script>"
      ]
     },
     "metadata": {},
     "output_type": "display_data"
    },
    {
     "name": "stderr",
     "output_type": "stream",
     "text": [
      "'c' argument looks like a single numeric RGB or RGBA sequence, which should be avoided as value-mapping will have precedence in case its length matches with 'x' & 'y'.  Please use a 2-D array with a single row if you really want to specify the same RGB or RGBA value for all points.\n",
      "'c' argument looks like a single numeric RGB or RGBA sequence, which should be avoided as value-mapping will have precedence in case its length matches with 'x' & 'y'.  Please use a 2-D array with a single row if you really want to specify the same RGB or RGBA value for all points.\n",
      "'c' argument looks like a single numeric RGB or RGBA sequence, which should be avoided as value-mapping will have precedence in case its length matches with 'x' & 'y'.  Please use a 2-D array with a single row if you really want to specify the same RGB or RGBA value for all points.\n",
      "'c' argument looks like a single numeric RGB or RGBA sequence, which should be avoided as value-mapping will have precedence in case its length matches with 'x' & 'y'.  Please use a 2-D array with a single row if you really want to specify the same RGB or RGBA value for all points.\n",
      "'c' argument looks like a single numeric RGB or RGBA sequence, which should be avoided as value-mapping will have precedence in case its length matches with 'x' & 'y'.  Please use a 2-D array with a single row if you really want to specify the same RGB or RGBA value for all points.\n",
      "'c' argument looks like a single numeric RGB or RGBA sequence, which should be avoided as value-mapping will have precedence in case its length matches with 'x' & 'y'.  Please use a 2-D array with a single row if you really want to specify the same RGB or RGBA value for all points.\n",
      "'c' argument looks like a single numeric RGB or RGBA sequence, which should be avoided as value-mapping will have precedence in case its length matches with 'x' & 'y'.  Please use a 2-D array with a single row if you really want to specify the same RGB or RGBA value for all points.\n",
      "'c' argument looks like a single numeric RGB or RGBA sequence, which should be avoided as value-mapping will have precedence in case its length matches with 'x' & 'y'.  Please use a 2-D array with a single row if you really want to specify the same RGB or RGBA value for all points.\n",
      "'c' argument looks like a single numeric RGB or RGBA sequence, which should be avoided as value-mapping will have precedence in case its length matches with 'x' & 'y'.  Please use a 2-D array with a single row if you really want to specify the same RGB or RGBA value for all points.\n",
      "'c' argument looks like a single numeric RGB or RGBA sequence, which should be avoided as value-mapping will have precedence in case its length matches with 'x' & 'y'.  Please use a 2-D array with a single row if you really want to specify the same RGB or RGBA value for all points.\n",
      "'c' argument looks like a single numeric RGB or RGBA sequence, which should be avoided as value-mapping will have precedence in case its length matches with 'x' & 'y'.  Please use a 2-D array with a single row if you really want to specify the same RGB or RGBA value for all points.\n",
      "'c' argument looks like a single numeric RGB or RGBA sequence, which should be avoided as value-mapping will have precedence in case its length matches with 'x' & 'y'.  Please use a 2-D array with a single row if you really want to specify the same RGB or RGBA value for all points.\n",
      "'c' argument looks like a single numeric RGB or RGBA sequence, which should be avoided as value-mapping will have precedence in case its length matches with 'x' & 'y'.  Please use a 2-D array with a single row if you really want to specify the same RGB or RGBA value for all points.\n",
      "'c' argument looks like a single numeric RGB or RGBA sequence, which should be avoided as value-mapping will have precedence in case its length matches with 'x' & 'y'.  Please use a 2-D array with a single row if you really want to specify the same RGB or RGBA value for all points.\n",
      "'c' argument looks like a single numeric RGB or RGBA sequence, which should be avoided as value-mapping will have precedence in case its length matches with 'x' & 'y'.  Please use a 2-D array with a single row if you really want to specify the same RGB or RGBA value for all points.\n",
      "'c' argument looks like a single numeric RGB or RGBA sequence, which should be avoided as value-mapping will have precedence in case its length matches with 'x' & 'y'.  Please use a 2-D array with a single row if you really want to specify the same RGB or RGBA value for all points.\n",
      "'c' argument looks like a single numeric RGB or RGBA sequence, which should be avoided as value-mapping will have precedence in case its length matches with 'x' & 'y'.  Please use a 2-D array with a single row if you really want to specify the same RGB or RGBA value for all points.\n",
      "'c' argument looks like a single numeric RGB or RGBA sequence, which should be avoided as value-mapping will have precedence in case its length matches with 'x' & 'y'.  Please use a 2-D array with a single row if you really want to specify the same RGB or RGBA value for all points.\n",
      "'c' argument looks like a single numeric RGB or RGBA sequence, which should be avoided as value-mapping will have precedence in case its length matches with 'x' & 'y'.  Please use a 2-D array with a single row if you really want to specify the same RGB or RGBA value for all points.\n",
      "'c' argument looks like a single numeric RGB or RGBA sequence, which should be avoided as value-mapping will have precedence in case its length matches with 'x' & 'y'.  Please use a 2-D array with a single row if you really want to specify the same RGB or RGBA value for all points.\n",
      "'c' argument looks like a single numeric RGB or RGBA sequence, which should be avoided as value-mapping will have precedence in case its length matches with 'x' & 'y'.  Please use a 2-D array with a single row if you really want to specify the same RGB or RGBA value for all points.\n"
     ]
    },
    {
     "data": {
      "image/png": "[encoded data removed]",
      "text/plain": [
       "<Figure size 432x288 with 1 Axes>"
      ]
     },
     "metadata": {
      "needs_background": "light"
     },
     "output_type": "display_data"
    },
    {
     "data": {
      "image/png": "[encoded data removed]",
      "text/plain": [
       "<Figure size 432x288 with 1 Axes>"
      ]
     },
     "metadata": {
      "needs_background": "light"
     },
     "output_type": "display_data"
    },
    {
     "data": {
      "image/png": "[encoded data removed]",
      "text/plain": [
       "<Figure size 432x288 with 1 Axes>"
      ]
     },
     "metadata": {
      "needs_background": "light"
     },
     "output_type": "display_data"
    }
   ],
   "source": [
    "print(\"Running ppimips\")\n",
    "\n",
    "ncp_instance = lgc.NCPData(g)\n",
    "ncp_instance.approxPageRank(ratio=1,timeout=5000000,nthreads=24)\n",
    "ncp_instance.add_set_samples_without_method(ref_nodes)\n",
    "\n",
    "ncp_plots = lgc.NCPPlots(ncp_instance,method_name = \"\")\n",
    "#plot conductance vs size\n",
    "fig, ax, min_tuples = ncp_plots.cond_by_size()\n",
    "counter = 0\n",
    "for cluster in ref_nodes:\n",
    "    ax.scatter([len(cluster)], [g.compute_conductance(cluster,cpp=True)], c=c_map(int(info_ref_nodes[counter,1])), s=250, marker='D')\n",
    "    counter += 1\n",
    "plt.savefig('figures/cond_card_ppimips.png', bbox_inches='tight')\n",
    "plt.show()\n",
    "#plot conductance vs volume\n",
    "fig, ax, min_tuples = ncp_plots.cond_by_vol()\n",
    "plt.savefig('figures/cond_vol_ppimips.png', bbox_inches='tight')\n",
    "plt.show()\n",
    "#plot isoperimetry vs size\n",
    "fig, ax, min_tuples = ncp_plots.isop_by_size()\n",
    "plt.savefig('figures/expand_card_ppimips.png', bbox_inches='tight')\n",
    "plt.show()\n",
    "\n",
    "pickle.dump(ncp_instance, open('results/ncp-ppimips.pickle', 'wb'))"
   ]
  },
  {
   "cell_type": "code",
   "execution_count": 10,
   "metadata": {},
   "outputs": [
    {
     "name": "stderr",
     "output_type": "stream",
     "text": [
      "/usr/local/lib/python3.7/site-packages/localgraphclustering/GraphLocal.py:217: UserWarning:\n",
      "\n",
      "Loading a graphml is not efficient, we suggest using an edgelist format for this API.\n",
      "\n"
     ]
    }
   ],
   "source": [
    "# Read graph. This also supports gml format.\n",
    "#g = lgc.GraphLocal(os.path.join(data_path,'datasets/JohnsHopkins.graphml'),'graphml')\n",
    "g = lgc.GraphLocal('./datasets/sfld_brown_et_al_amidohydrolases_protein_similarities_for_beh.graphml','graphml',' ')\n",
    "# To get a quick look at the list of methods and attributes for the graph object 'g' you can type 'g.' + tab\n",
    "# and scroll up or down.\n",
    "\n",
    "vol_G = g.vol_G"
   ]
  },
  {
   "cell_type": "code",
   "execution_count": 11,
   "metadata": {},
   "outputs": [],
   "source": [
    "g_gtool = load_graph('datasets/sfld_brown_et_al_amidohydrolases_protein_similarities_for_beh.graphml')\n",
    "remove_self_loops(g_gtool)\n",
    "\n",
    "n = g_gtool.num_vertices()"
   ]
  },
  {
   "cell_type": "code",
   "execution_count": 12,
   "metadata": {},
   "outputs": [],
   "source": [
    "# Load pre-computed coordinates for nodes.\n",
    "ld_coord = np.loadtxt('./datasets/sfld_brown_et_al_amidohydrolases_protein_similarities_for_beh_coordinates.xy', dtype = 'str')\n",
    "\n",
    "temp = []\n",
    "for i in ld_coord:\n",
    "    temp.append(i[0])\n",
    "\n",
    "idxs = dict(zip(temp, range(len(temp)))) \n",
    "\n",
    "pos = g_gtool.new_vertex_property(\"vector<double>\")\n",
    "for i in ld_coord:\n",
    "    pos[idxs[i[0]]] = i[1:3]"
   ]
  },
  {
   "cell_type": "code",
   "execution_count": 13,
   "metadata": {},
   "outputs": [
    {
     "name": "stdout",
     "output_type": "stream",
     "text": [
      "Reached\n",
      "Number of feature 0 Feature value  22.0  gap  [0.91796738]  volume:  16209.0  size: 100 conductance:  0.42254370102471367\n"
     ]
    }
   ],
   "source": [
    "g_v_prop = g_gtool.vertex_properties\n",
    "groups = np.loadtxt('./datasets/sfld_brown_et_al_amidohydrolases_protein_similarities_for_beh.class', dtype = 'float')\n",
    "feature_list = [groups]\n",
    "\n",
    "number_feature = 0\n",
    "\n",
    "ref_nodes = []\n",
    "info_ref_nodes = []\n",
    "\n",
    "for kk in feature_list:\n",
    "    \n",
    "    feature = kk\n",
    "\n",
    "    for ff in list(set(feature)):\n",
    "        \n",
    "        if ff == 0:\n",
    "            continue\n",
    "\n",
    "        feature_array = np.zeros(n)\n",
    "        feature_ff_nodes = []\n",
    "        for i in range(n):\n",
    "            feature_array[i] = feature[i]\n",
    "            if feature_array[i] == ff:\n",
    "                feature_ff_nodes.append(i)\n",
    "\n",
    "        g_ff = g_gtool.copy()\n",
    "\n",
    "        del_list_ff = list(set(range(n)) - set(feature_ff_nodes))\n",
    "\n",
    "        for v in reversed(sorted(del_list_ff)):\n",
    "            g_ff.remove_vertex(v)   \n",
    "\n",
    "        n_ff = g_ff.num_vertices() \n",
    "\n",
    "        comp_ff,hist_ff=label_components(g_ff)\n",
    "\n",
    "        feature_ff_nodes_largest_component = []\n",
    "        for i in range(n_ff):\n",
    "            if comp_ff[i] == 0:\n",
    "                feature_ff_nodes_largest_component.append(feature_ff_nodes[i])    \n",
    "\n",
    "        vol_ff = sum(g.d[feature_ff_nodes_largest_component])\n",
    "        \n",
    "        if vol_ff < 100:\n",
    "            continue\n",
    "            \n",
    "        #temp = np.zeros(n)\n",
    "        #temp[feature_ff_nodes_largest_component] = 1\n",
    "        \n",
    "        #cut_ff = vol_ff - (g.adjacency_matrix.dot(temp).transpose()).dot(temp)\n",
    "        #cond_ff = cut_ff/min(vol_ff,vol_G - vol_ff)\n",
    "        cond_ff = g.compute_conductance(feature_ff_nodes_largest_component,cpp=True)\n",
    "        \n",
    "        if cond_ff > 0.47:\n",
    "            continue\n",
    "            \n",
    "        print(\"Reached\")\n",
    "        eig_ff, lambda_ff = lgc.fiedler_local(g, feature_ff_nodes_largest_component)\n",
    "        lambda_ff = np.real(lambda_ff)\n",
    "        gap_ff = lambda_ff/cond_ff\n",
    "        \n",
    "        print(\"Number of feature\", number_feature, \"Feature value \", ff, \" gap \",gap_ff, \" volume: \", vol_ff, \" size:\", len(feature_ff_nodes_largest_component), \"conductance: \", cond_ff)\n",
    "        \n",
    "        if gap_ff >= 0.5 and vol_ff >= 100:\n",
    "            ref_nodes.append(feature_ff_nodes_largest_component)\n",
    "            info_ref_nodes.append([number_feature,ff])\n",
    "            np.save('results/ref_nodes_sfld', ref_nodes) \n",
    "            np.save('results/info_ref_nodes_sfld', info_ref_nodes) \n",
    "        \n",
    "    number_feature += 1"
   ]
  },
  {
   "cell_type": "code",
   "execution_count": 14,
   "metadata": {},
   "outputs": [],
   "source": [
    "ref_nodes = np.load('results/ref_nodes_sfld.npy') \n",
    "info_ref_nodes = np.load('results/info_ref_nodes_sfld.npy') "
   ]
  },
  {
   "cell_type": "code",
   "execution_count": 15,
   "metadata": {},
   "outputs": [
    {
     "data": {
      "text/plain": [
       "<PropertyMap object with key type 'Vertex' and value type 'vector<double>', for Graph 0x1427db3c8, at 0x1427c9ac8>"
      ]
     },
     "execution_count": 15,
     "metadata": {},
     "output_type": "execute_result"
    }
   ],
   "source": [
    "temp = np.zeros(n)\n",
    "temp = temp + 3\n",
    "\n",
    "temp2 = np.zeros(n, dtype=int)\n",
    "\n",
    "counter = 0\n",
    "\n",
    "for i in ref_nodes:\n",
    "    \n",
    "    temp[i] = 6\n",
    "    \n",
    "    for j in i:\n",
    "        temp2[j] = int(info_ref_nodes[counter,1])\n",
    "    counter += 1\n",
    "\n",
    "node_size = g_gtool.new_vertex_property(\"double\",temp)\n",
    "\n",
    "temp = [\"black\" for x in range(g._num_vertices)]\n",
    "\n",
    "for i in ref_nodes[0]:\n",
    "    temp[i] = \"red\"\n",
    "\n",
    "node_colours = g_gtool.new_vertex_property(\"string\",temp)\n",
    "\n",
    "#def get_cmap(n, name='hsv'):\n",
    "#    '''Returns a function that maps each index in 0, 1, ..., n-1 to a distinct \n",
    "#    RGB color; the keyword argument name must be a standard mpl colormap name.'''\n",
    "#    return plt.cm.get_cmap(name, n)\n",
    "\n",
    "#c_map = get_cmap(g_gtool.num_vertices())\n",
    "\n",
    "#c_map = rand_cmap(n, type='bright', first_color_black=True, last_color_black=False, verbose=True)\n",
    "\n",
    "graph_draw(g_gtool, pos, output_size=(1000, 500),\n",
    "           vertex_size=node_size, \n",
    "           vertex_fill_color=node_colours, \n",
    "           vorder=node_size,\n",
    "           edge_pen_width=1,\n",
    "           edge_color = [0.0, 0, 0, 0.02],\n",
    "           #vcmap = c_map\n",
    "           output='figures/sfld_selected.png'\n",
    "          )"
   ]
  },
  {
   "cell_type": "code",
   "execution_count": 16,
   "metadata": {},
   "outputs": [
    {
     "name": "stdout",
     "output_type": "stream",
     "text": [
      "Running sfld\n",
      "There are  1  connected components in the graph\n"
     ]
    },
    {
     "data": {
      "text/html": [
       "<script type=\"text/javascript\">window.PlotlyConfig = {MathJaxConfig: 'local'};</script><script type=\"text/javascript\">if (window.MathJax) {MathJax.Hub.Config({SVG: {font: \"STIX-Web\"}});}</script><script>requirejs.config({paths: { 'plotly': ['https://cdn.plot.ly/plotly-latest.min']},});if(!window._Plotly) {require(['plotly'],function(plotly) {window._Plotly=plotly;});}</script>"
      ],
      "text/vnd.plotly.v1+html": [
       "<script type=\"text/javascript\">window.PlotlyConfig = {MathJaxConfig: 'local'};</script><script type=\"text/javascript\">if (window.MathJax) {MathJax.Hub.Config({SVG: {font: \"STIX-Web\"}});}</script><script>requirejs.config({paths: { 'plotly': ['https://cdn.plot.ly/plotly-latest.min']},});if(!window._Plotly) {require(['plotly'],function(plotly) {window._Plotly=plotly;});}</script>"
      ]
     },
     "metadata": {},
     "output_type": "display_data"
    },
    {
     "data": {
      "image/png": "[encoded data removed]",
      "text/plain": [
       "<Figure size 432x288 with 1 Axes>"
      ]
     },
     "metadata": {
      "needs_background": "light"
     },
     "output_type": "display_data"
    },
    {
     "data": {
      "image/png": "[encoded data removed]",
      "text/plain": [
       "<Figure size 432x288 with 1 Axes>"
      ]
     },
     "metadata": {
      "needs_background": "light"
     },
     "output_type": "display_data"
    },
    {
     "data": {
      "image/png": "[encoded data removed]",
      "text/plain": [
       "<Figure size 432x288 with 1 Axes>"
      ]
     },
     "metadata": {
      "needs_background": "light"
     },
     "output_type": "display_data"
    }
   ],
   "source": [
    "print(\"Running sfld\")\n",
    "\n",
    "ncp_instance = lgc.NCPData(g)\n",
    "ncp_instance.approxPageRank(ratio=1,timeout=5000000,nthreads=12)\n",
    "ncp_instance.add_set_samples_without_method(ref_nodes)\n",
    "\n",
    "ncp_plots = lgc.NCPPlots(ncp_instance,method_name = \"\")\n",
    "#plot conductance vs size\n",
    "fig, ax, min_tuples = ncp_plots.cond_by_size()\n",
    "counter = 0\n",
    "for cluster in ref_nodes:\n",
    "    ax.scatter([len(cluster)], [g.compute_conductance(cluster,cpp=True)], c=\"red\", s=250, marker='D')\n",
    "    counter += 1\n",
    "plt.savefig('figures/cond_card_sfld.png', bbox_inches='tight')\n",
    "plt.show()\n",
    "#plot conductance vs volume\n",
    "fig, ax, min_tuples = ncp_plots.cond_by_vol()\n",
    "plt.savefig('figures/cond_vol_sfld.png', bbox_inches='tight')\n",
    "plt.show()\n",
    "#plot isoperimetry vs size\n",
    "fig, ax, min_tuples = ncp_plots.isop_by_size()\n",
    "plt.savefig('figures/expand_card_sfld.png', bbox_inches='tight')\n",
    "plt.show()\n",
    "\n",
    "pickle.dump(ncp_instance, open('results/ncp-sfld.pickle', 'wb'))"
   ]
  },
  {
   "cell_type": "code",
   "execution_count": 17,
   "metadata": {},
   "outputs": [
    {
     "name": "stderr",
     "output_type": "stream",
     "text": [
      "/usr/local/lib/python3.7/site-packages/localgraphclustering/GraphLocal.py:217: UserWarning:\n",
      "\n",
      "Loading a graphml is not efficient, we suggest using an edgelist format for this API.\n",
      "\n"
     ]
    }
   ],
   "source": [
    "# Read graph. This also supports gml format.\n",
    "#g = lgc.GraphLocal(os.path.join(data_path,'datasets/JohnsHopkins.graphml'),'graphml')\n",
    "g = lgc.GraphLocal(os.path.join(data_path,'datasets/JohnsHopkins.graphml'),'graphml')\n",
    "# To get a quick look at the list of methods and attributes for the graph object 'g' you can type 'g.' + tab\n",
    "# and scroll up or down.\n",
    "\n",
    "vol_G = g.vol_G"
   ]
  },
  {
   "cell_type": "code",
   "execution_count": 18,
   "metadata": {},
   "outputs": [],
   "source": [
    "g_gtool = load_graph('datasets/JohnsHopkins.graphml')\n",
    "remove_self_loops(g_gtool)\n",
    "\n",
    "n = g_gtool.num_vertices()"
   ]
  },
  {
   "cell_type": "code",
   "execution_count": null,
   "metadata": {},
   "outputs": [],
   "source": [
    "# Load pre-computed coordinates for nodes.\n",
    "ld_coord = np.loadtxt('./datasets/JohnHopkins_coord.xy', dtype = 'Float64')\n",
    "idx = np.argsort(ld_coord[:,0])\n",
    "\n",
    "pos = g_gtool.new_vertex_property(\"vector<double>\")\n",
    "for i in range(g_gtool.num_vertices()):\n",
    "    pos[i] = ld_coord[idx[i],1:3]"
   ]
  },
  {
   "cell_type": "code",
   "execution_count": null,
   "metadata": {},
   "outputs": [],
   "source": [
    "g_v_prop = g_gtool.vertex_properties\n",
    "#feature_list = [g_v_prop.secondMajor,g_v_prop.highSchool,g_v_prop.gender,g_v_prop.dorm,g_v_prop.majorIndex,g_v_prop.year]\n",
    "feature_list = [g_v_prop.dorm,g_v_prop.majorIndex,g_v_prop.year]\n",
    "\n",
    "number_feature = 0\n",
    "\n",
    "ref_nodes = []\n",
    "info_ref_nodes = []\n",
    "\n",
    "for kk in feature_list:\n",
    "    \n",
    "    feature = kk\n",
    "\n",
    "    for ff in list(set(feature.a)):\n",
    "        \n",
    "        if ff == 0:\n",
    "            continue\n",
    "\n",
    "        feature_array = np.zeros(n)\n",
    "        feature_ff_nodes = []\n",
    "        for i in range(n):\n",
    "            feature_array[i] = feature[i]\n",
    "            if feature_array[i] == ff:\n",
    "                feature_ff_nodes.append(i)\n",
    "\n",
    "        g_ff = g_gtool.copy()\n",
    "\n",
    "        del_list_ff = list(set(range(n)) - set(feature_ff_nodes))\n",
    "\n",
    "        for v in reversed(sorted(del_list_ff)):\n",
    "            g_ff.remove_vertex(v)   \n",
    "\n",
    "        n_ff = g_ff.num_vertices() \n",
    "\n",
    "        comp_ff,hist_ff=label_components(g_ff)\n",
    "\n",
    "        feature_ff_nodes_largest_component = []\n",
    "        for i in range(n_ff):\n",
    "            if comp_ff[i] == 0:\n",
    "                feature_ff_nodes_largest_component.append(feature_ff_nodes[i])    \n",
    "\n",
    "        vol_ff = sum(g.d[feature_ff_nodes_largest_component])\n",
    "        \n",
    "        if vol_ff < 1000:\n",
    "            continue\n",
    "            \n",
    "        #temp = np.zeros(n)\n",
    "        #temp[feature_ff_nodes_largest_component] = 1\n",
    "        \n",
    "        #cut_ff = vol_ff - (g.adjacency_matrix.dot(temp).transpose()).dot(temp)\n",
    "        #cond_ff = cut_ff/min(vol_ff,vol_G - vol_ff)\n",
    "        cond_ff = g.compute_conductance(feature_ff_nodes_largest_component,cpp=True)\n",
    "        \n",
    "        if cond_ff > 0.47:\n",
    "            continue\n",
    "            \n",
    "        print(\"Reached\")\n",
    "        eig_ff, lambda_ff = lgc.fiedler_local(g, feature_ff_nodes_largest_component)\n",
    "        lambda_ff = np.real(lambda_ff)\n",
    "        gap_ff = lambda_ff/cond_ff\n",
    "        \n",
    "        print(\"Number of feature\", number_feature, \"Feature value \", ff, \" gap \",gap_ff, \" volume: \", vol_ff, \" size:\", len(feature_ff_nodes_largest_component), \"conductance: \", cond_ff)\n",
    "        \n",
    "        if gap_ff >= 0.5 and vol_ff >= 100:\n",
    "            ref_nodes.append(feature_ff_nodes_largest_component)\n",
    "            info_ref_nodes.append([number_feature,ff])\n",
    "            np.save('results/ref_nodes_JH', ref_nodes) \n",
    "            np.save('results/info_ref_nodes_JH', info_ref_nodes) \n",
    "        \n",
    "    number_feature += 1"
   ]
  },
  {
   "cell_type": "code",
   "execution_count": null,
   "metadata": {},
   "outputs": [],
   "source": [
    "ref_nodes = np.load('results/ref_nodes_JH.npy') \n",
    "info_ref_nodes = np.load('results/info_ref_nodes_JH.npy') "
   ]
  },
  {
   "cell_type": "code",
   "execution_count": null,
   "metadata": {},
   "outputs": [],
   "source": [
    "# Load pre-computed coordinates for nodes.\n",
    "ld_coord = np.loadtxt('./datasets/JohnHopkins_coord.xy', dtype = 'Float64')\n",
    "idx = np.argsort(ld_coord[:,0])\n",
    "\n",
    "pos = g_gtool.new_vertex_property(\"vector<double>\")\n",
    "for i in range(g._num_vertices):\n",
    "    pos[i] = ld_coord[idx[i],1:3]\n",
    "    \n",
    "temp = [\"black\" for x in range(g._num_vertices)]\n",
    "\n",
    "for i in ref_nodes[0]:\n",
    "    temp[i] = \"orange\"\n",
    "for i in ref_nodes[1]:\n",
    "    temp[i] = \"blue\"\n",
    "for i in ref_nodes[2]:\n",
    "    temp[i] = \"red\"\n",
    "\n",
    "node_colours = g_gtool.new_vertex_property(\"string\",temp)\n",
    "\n",
    "node_text = g_gtool.new_vertex_property(\"string\")\n",
    "node_order = g_gtool.new_vertex_property(\"int\")\n",
    "node_text_offset = g_gtool.new_vertex_property(\"vector<double>\")\n",
    "node_text_color = g_gtool.new_vertex_property(\"string\")\n",
    "\n",
    "for i in range(g._num_vertices):\n",
    "    node_text_color[i] = \"black\"\n",
    "\n",
    "node_text[4069] = \"Students of year 2009\"\n",
    "node_order[4069] = 10\n",
    "node_text_offset[4069] = [0,0]#[-0.5,23]\n",
    "node_text_color[4069]=\"red\"\n",
    "\n",
    "node_text[1453] = \"Students with major index 217\"\n",
    "node_order[1453] = 10\n",
    "node_text_offset[1453] = [-0.5,15]\n",
    "node_text_color[1453]=\"orange\"\n",
    "\n",
    "node_text[4633] = \"Students of year 2008\"\n",
    "node_order[4633] = 10\n",
    "node_text_offset[4633] = [0,0]#[-0.5,23]\n",
    "node_text_color[4633]=\"blue\"\n",
    "\n",
    "# Plot solutions for rounded eigenvector\n",
    "graph_draw(g_gtool, pos, output_size=(1000, 500),\n",
    "           vertex_size=3,\n",
    "           vertex_fill_color=node_colours,\n",
    "           edge_pen_width=0.1,\n",
    "           edge_color = [0.0, 0, 0, 0.05],\n",
    "           vorder=node_order,\n",
    "           vertex_text=node_text,\n",
    "           vertex_text_position=1,\n",
    "           vertex_font_size=20,\n",
    "           vertex_text_offset=node_text_offset,\n",
    "           vertex_text_color=node_text_color,\n",
    "           output='figures/JohnsHopkins_selected_features.png'\n",
    "          )"
   ]
  },
  {
   "cell_type": "code",
   "execution_count": null,
   "metadata": {},
   "outputs": [],
   "source": [
    "print(\"Running JohnsHopkins\")\n",
    "\n",
    "ncp_instance = lgc.NCPData(g)\n",
    "ncp_instance.approxPageRank(ratio=0.8,timeout=5000000,nthreads=12)\n",
    "ncp_instance.add_set_samples_without_method(ref_nodes)\n",
    "\n",
    "ncp_plots = lgc.NCPPlots(ncp_instance,method_name = \"\")\n",
    "#plot conductance vs size\n",
    "fig, ax, min_tuples = ncp_plots.cond_by_size()\n",
    "ax.scatter([len(ref_nodes[0])], [g.compute_conductance(ref_nodes[0],cpp=True)], c=\"orange\", s=250, marker='D')\n",
    "ax.scatter([len(ref_nodes[1])], [g.compute_conductance(ref_nodes[1],cpp=True)], c=\"blue\", s=250, marker='D')\n",
    "ax.scatter([len(ref_nodes[2])], [g.compute_conductance(ref_nodes[2],cpp=True)], c=\"red\", s=250, marker='D')\n",
    "plt.savefig('figures/cond_card_johns.png', bbox_inches='tight')\n",
    "plt.show()\n",
    "#plot conductance vs volume\n",
    "fig, ax, min_tuples = ncp_plots.cond_by_vol()\n",
    "plt.savefig('figures/cond_vol_johns.png', bbox_inches='tight')\n",
    "plt.show()\n",
    "#plot isoperimetry vs size\n",
    "fig, ax, min_tuples = ncp_plots.isop_by_size()\n",
    "plt.savefig('figures/expand_card_johns.png', bbox_inches='tight')\n",
    "plt.show()\n",
    "\n",
    "pickle.dump(ncp_instance, open('results/ncp-johns.pickle', 'wb'))"
   ]
  },
  {
   "cell_type": "code",
   "execution_count": null,
   "metadata": {},
   "outputs": [],
   "source": [
    "# Read graph. This also supports gml format.\n",
    "#g = lgc.GraphLocal(os.path.join(data_path,'datasets/JohnsHopkins.graphml'),'graphml')\n",
    "g = lgc.GraphLocal(os.path.join(data_path,'datasets/Colgate88_reduced.graphml'),'graphml')\n",
    "# To get a quick look at the list of methods and attributes for the graph object 'g' you can type 'g.' + tab\n",
    "# and scroll up or down.\n",
    "\n",
    "vol_G = g.vol_G"
   ]
  },
  {
   "cell_type": "code",
   "execution_count": null,
   "metadata": {},
   "outputs": [],
   "source": [
    "g_gtool = load_graph('datasets/Colgate88_reduced.graphml')\n",
    "remove_self_loops(g_gtool)\n",
    "\n",
    "n = g_gtool.num_vertices()"
   ]
  },
  {
   "cell_type": "code",
   "execution_count": null,
   "metadata": {},
   "outputs": [],
   "source": [
    "# Load pre-computed coordinates for nodes.\n",
    "g_v_prop = g_gtool.vertex_properties\n",
    "xx = g_v_prop.x\n",
    "yy = g_v_prop.y\n",
    "\n",
    "pos = g_gtool.new_vertex_property(\"vector<double>\")\n",
    "for i in range(n):\n",
    "    pos[i] = [xx[i],yy[i]]"
   ]
  },
  {
   "cell_type": "code",
   "execution_count": null,
   "metadata": {},
   "outputs": [],
   "source": [
    "g_v_prop = g_gtool.vertex_properties\n",
    "#feature_list = [g_v_prop.secondMajor,g_v_prop.highSchool,g_v_prop.gender,g_v_prop.dorm,g_v_prop.majorIndex,g_v_prop.year]\n",
    "feature_list = [g_v_prop.dorm,g_v_prop.majorIndex,g_v_prop.year]\n",
    "\n",
    "number_feature = 0\n",
    "\n",
    "ref_nodes = []\n",
    "info_ref_nodes = []\n",
    "\n",
    "for kk in feature_list:\n",
    "    \n",
    "    feature = kk\n",
    "\n",
    "    for ff in list(set(feature.a)):\n",
    "        \n",
    "        if ff == 0:\n",
    "            continue\n",
    "\n",
    "        feature_array = np.zeros(n)\n",
    "        feature_ff_nodes = []\n",
    "        for i in range(n):\n",
    "            feature_array[i] = feature[i]\n",
    "            if feature_array[i] == ff:\n",
    "                feature_ff_nodes.append(i)\n",
    "\n",
    "        g_ff = g_gtool.copy()\n",
    "\n",
    "        del_list_ff = list(set(range(n)) - set(feature_ff_nodes))\n",
    "\n",
    "        for v in reversed(sorted(del_list_ff)):\n",
    "            g_ff.remove_vertex(v)   \n",
    "\n",
    "        n_ff = g_ff.num_vertices() \n",
    "\n",
    "        comp_ff,hist_ff=label_components(g_ff)\n",
    "\n",
    "        feature_ff_nodes_largest_component = []\n",
    "        for i in range(n_ff):\n",
    "            if comp_ff[i] == 0:\n",
    "                feature_ff_nodes_largest_component.append(feature_ff_nodes[i])    \n",
    "\n",
    "        vol_ff = sum(g.d[feature_ff_nodes_largest_component])\n",
    "        \n",
    "        if vol_ff < 100:\n",
    "            continue\n",
    "            \n",
    "        #temp = np.zeros(n)\n",
    "        #temp[feature_ff_nodes_largest_component] = 1\n",
    "        \n",
    "        #cut_ff = vol_ff - (g.adjacency_matrix.dot(temp).transpose()).dot(temp)\n",
    "        #cond_ff = cut_ff/min(vol_ff,vol_G - vol_ff)\n",
    "        cond_ff = g.compute_conductance(feature_ff_nodes_largest_component,cpp=True)\n",
    "        \n",
    "        if cond_ff > 0.47:\n",
    "            continue\n",
    "            \n",
    "        print(\"Reached\")\n",
    "        eig_ff, lambda_ff = lgc.fiedler_local(g, feature_ff_nodes_largest_component)\n",
    "        lambda_ff = np.real(lambda_ff)\n",
    "        gap_ff = lambda_ff/cond_ff\n",
    "        \n",
    "        print(\"Number of feature\", number_feature, \"Feature value \", ff, \" gap \",gap_ff, \" volume: \", vol_ff, \" size:\", len(feature_ff_nodes_largest_component), \"conductance: \", cond_ff)\n",
    "        \n",
    "        if gap_ff >= 0.5 and vol_ff >= 100:\n",
    "            ref_nodes.append(feature_ff_nodes_largest_component)\n",
    "            info_ref_nodes.append([number_feature,ff])\n",
    "            np.save('results/ref_nodes_Colgate88', ref_nodes) \n",
    "            np.save('results/info_ref_nodes_Colgate88', info_ref_nodes) \n",
    "        \n",
    "    number_feature += 1"
   ]
  },
  {
   "cell_type": "code",
   "execution_count": null,
   "metadata": {},
   "outputs": [],
   "source": [
    "ref_nodes = np.load('results/ref_nodes_Colgate88.npy') \n",
    "info_ref_nodes = np.load('results/info_ref_nodes_Colgate88.npy') "
   ]
  },
  {
   "cell_type": "code",
   "execution_count": null,
   "metadata": {},
   "outputs": [],
   "source": [
    "# Load pre-computed coordinates for nodes.\n",
    "g_v_prop = g_gtool.vertex_properties\n",
    "xx = g_v_prop.x\n",
    "yy = g_v_prop.y\n",
    "\n",
    "pos = g_gtool.new_vertex_property(\"vector<double>\")\n",
    "for i in range(g_gtool.num_vertices()):\n",
    "    pos[i] = [xx[i],yy[i]]\n",
    "    \n",
    "temp = [\"black\" for x in range(g._num_vertices)]\n",
    "\n",
    "#for i in ref_nodes[0]:\n",
    "#    temp[i] = \"green\"\n",
    "for i in ref_nodes[1]:\n",
    "    temp[i] = \"blue\"\n",
    "for i in ref_nodes[2]:\n",
    "    temp[i] = \"orange\"\n",
    "for i in ref_nodes[3]:\n",
    "    temp[i] = \"red\"\n",
    "\n",
    "node_colours = g_gtool.new_vertex_property(\"string\",temp)\n",
    "\n",
    "node_text = g_gtool.new_vertex_property(\"string\")\n",
    "node_order = g_gtool.new_vertex_property(\"int\")\n",
    "node_text_offset = g_gtool.new_vertex_property(\"vector<double>\")\n",
    "node_text_color = g_gtool.new_vertex_property(\"string\")\n",
    "node_text_position = g_gtool.new_vertex_property(\"int\")\n",
    "\n",
    "for i in range(g._num_vertices):\n",
    "    node_text_color[i] = \"black\"\n",
    "\n",
    "node_text[2651] = \"Students of year 2008\"\n",
    "node_order[2651] = 10\n",
    "node_text_offset[2651] = [-1,-30]\n",
    "node_text_color[2651] = \"orange\"\n",
    "node_text_position[2651] = 1.57\n",
    "\n",
    "node_text[2115] = \"Students of year 2009\"\n",
    "node_order[2115] = 10\n",
    "node_text_offset[2115] = [2,13]\n",
    "node_text_color[2115] = \"red\"\n",
    "node_text_position[2115] = 1\n",
    "\n",
    "node_text[2905] = \"Students of year 2007\"\n",
    "node_order[2905] = 10\n",
    "node_text_offset[2905] = [-0.5,23]\n",
    "node_text_color[2905] = \"blue\"\n",
    "node_text_position[2905] = 1\n",
    "\n",
    "#node_text[230] = \"Students of year 2006\"\n",
    "#node_order[230] = 10\n",
    "#node_text_offset[230] = [-0.5,15]\n",
    "#node_text_color[230] = \"green\"\n",
    "#node_text_position[230] = 1\n",
    "\n",
    "# Plot solutions for rounded eigenvector\n",
    "graph_draw(g_gtool, pos, output_size=(1000, 500),\n",
    "           vertex_size=3,\n",
    "           vertex_fill_color=node_colours,\n",
    "           edge_pen_width=0.1,\n",
    "           edge_color = [0.0, 0, 0, 0.05],\n",
    "           vorder=node_order,\n",
    "           vertex_text=node_text,\n",
    "           vertex_text_position=node_text_position,\n",
    "           vertex_font_size=20,\n",
    "           vertex_text_offset=node_text_offset,\n",
    "           vertex_text_color=node_text_color,\n",
    "           output='figures/colgate_selected_features.png')"
   ]
  },
  {
   "cell_type": "code",
   "execution_count": null,
   "metadata": {},
   "outputs": [],
   "source": [
    "print(\"Running Colgate\")\n",
    "\n",
    "ncp_instance = lgc.NCPData(g)\n",
    "ncp_instance.approxPageRank(ratio=0.8,timeout=5000000,nthreads=12)\n",
    "ncp_instance.add_set_samples_without_method(ref_nodes)\n",
    "\n",
    "ncp_plots = lgc.NCPPlots(ncp_instance,method_name = \"\")\n",
    "#plot conductance vs size\n",
    "fig, ax, min_tuples = ncp_plots.cond_by_size()\n",
    "ax.scatter([len(ref_nodes[0])], [g.compute_conductance(ref_nodes[0],cpp=True)], c=\"orange\", s=250, marker='D')\n",
    "ax.scatter([len(ref_nodes[1])], [g.compute_conductance(ref_nodes[1],cpp=True)], c=\"blue\", s=250, marker='D')\n",
    "ax.scatter([len(ref_nodes[2])], [g.compute_conductance(ref_nodes[2],cpp=True)], c=\"red\", s=250, marker='D')\n",
    "plt.savefig('figures/cond_card_colgate.png', bbox_inches='tight')\n",
    "plt.show()\n",
    "#plot conductance vs volume\n",
    "fig, ax, min_tuples = ncp_plots.cond_by_vol()\n",
    "plt.savefig('figures/cond_vol_colgate.png', bbox_inches='tight')\n",
    "plt.show()\n",
    "#plot isoperimetry vs size\n",
    "fig, ax, min_tuples = ncp_plots.isop_by_size()\n",
    "plt.savefig('figures/expand_card_colgate.png', bbox_inches='tight')\n",
    "plt.show()\n",
    "\n",
    "pickle.dump(ncp_instance, open('results/ncp-colgate.pickle', 'wb'))"
   ]
  },
  {
   "cell_type": "code",
   "execution_count": null,
   "metadata": {},
   "outputs": [],
   "source": []
  },
  {
   "cell_type": "code",
   "execution_count": null,
   "metadata": {},
   "outputs": [],
   "source": []
  },
  {
   "cell_type": "code",
   "execution_count": null,
   "metadata": {},
   "outputs": [],
   "source": []
  },
  {
   "cell_type": "code",
   "execution_count": null,
   "metadata": {},
   "outputs": [],
   "source": []
  },
  {
   "cell_type": "code",
   "execution_count": null,
   "metadata": {},
   "outputs": [],
   "source": []
  },
  {
   "cell_type": "code",
   "execution_count": null,
   "metadata": {},
   "outputs": [],
   "source": []
  },
  {
   "cell_type": "code",
   "execution_count": null,
   "metadata": {},
   "outputs": [],
   "source": []
  },
  {
   "cell_type": "code",
   "execution_count": null,
   "metadata": {},
   "outputs": [],
   "source": []
  },
  {
   "cell_type": "code",
   "execution_count": null,
   "metadata": {},
   "outputs": [],
   "source": []
  },
  {
   "cell_type": "code",
   "execution_count": null,
   "metadata": {},
   "outputs": [],
   "source": []
  },
  {
   "cell_type": "code",
   "execution_count": null,
   "metadata": {},
   "outputs": [],
   "source": []
  },
  {
   "cell_type": "code",
   "execution_count": null,
   "metadata": {},
   "outputs": [],
   "source": []
  },
  {
   "cell_type": "code",
   "execution_count": null,
   "metadata": {},
   "outputs": [],
   "source": []
  },
  {
   "cell_type": "code",
   "execution_count": null,
   "metadata": {},
   "outputs": [],
   "source": []
  },
  {
   "cell_type": "code",
   "execution_count": null,
   "metadata": {},
   "outputs": [],
   "source": []
  },
  {
   "cell_type": "code",
   "execution_count": null,
   "metadata": {},
   "outputs": [],
   "source": []
  },
  {
   "cell_type": "code",
   "execution_count": null,
   "metadata": {},
   "outputs": [],
   "source": []
  },
  {
   "cell_type": "code",
   "execution_count": null,
   "metadata": {},
   "outputs": [],
   "source": []
  },
  {
   "cell_type": "code",
   "execution_count": null,
   "metadata": {},
   "outputs": [],
   "source": []
  },
  {
   "cell_type": "code",
   "execution_count": null,
   "metadata": {},
   "outputs": [],
   "source": []
  },
  {
   "cell_type": "code",
   "execution_count": null,
   "metadata": {},
   "outputs": [],
   "source": []
  },
  {
   "cell_type": "code",
   "execution_count": null,
   "metadata": {},
   "outputs": [],
   "source": []
  }
 ],
 "metadata": {
  "kernelspec": {
   "display_name": "Python 3",
   "language": "python",
   "name": "python3"
  },
  "language_info": {
   "codemirror_mode": {
    "name": "ipython",
    "version": 3
   },
   "file_extension": ".py",
   "mimetype": "text/x-python",
   "name": "python",
   "nbconvert_exporter": "python",
   "pygments_lexer": "ipython3",
   "version": "3.7.1"
  }
 },
 "nbformat": 4,
 "nbformat_minor": 2
}
